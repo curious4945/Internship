{
 "cells": [
  {
   "cell_type": "markdown",
   "id": "d119b8da",
   "metadata": {},
   "source": [
    "# Selenium scrapping"
   ]
  },
  {
   "cell_type": "code",
   "execution_count": 1,
   "id": "c5a5aa68",
   "metadata": {},
   "outputs": [
    {
     "name": "stdout",
     "output_type": "stream",
     "text": [
      "Requirement already satisfied: selenium in c:\\users\\user\\anaconda3\\lib\\site-packages (4.1.0)\n",
      "Requirement already satisfied: trio-websocket~=0.9 in c:\\users\\user\\anaconda3\\lib\\site-packages (from selenium) (0.9.2)\n",
      "Requirement already satisfied: trio~=0.17 in c:\\users\\user\\anaconda3\\lib\\site-packages (from selenium) (0.19.0)\n",
      "Requirement already satisfied: urllib3[secure]~=1.26 in c:\\users\\user\\anaconda3\\lib\\site-packages (from selenium) (1.26.4)\n",
      "Requirement already satisfied: attrs>=19.2.0 in c:\\users\\user\\anaconda3\\lib\\site-packages (from trio~=0.17->selenium) (20.3.0)\n",
      "Requirement already satisfied: sniffio in c:\\users\\user\\anaconda3\\lib\\site-packages (from trio~=0.17->selenium) (1.2.0)\n",
      "Requirement already satisfied: cffi>=1.14 in c:\\users\\user\\anaconda3\\lib\\site-packages (from trio~=0.17->selenium) (1.14.5)\n",
      "Requirement already satisfied: async-generator>=1.9 in c:\\users\\user\\anaconda3\\lib\\site-packages (from trio~=0.17->selenium) (1.10)\n",
      "Requirement already satisfied: idna in c:\\users\\user\\anaconda3\\lib\\site-packages (from trio~=0.17->selenium) (2.10)\n",
      "Requirement already satisfied: outcome in c:\\users\\user\\anaconda3\\lib\\site-packages (from trio~=0.17->selenium) (1.1.0)\n",
      "Requirement already satisfied: sortedcontainers in c:\\users\\user\\anaconda3\\lib\\site-packages (from trio~=0.17->selenium) (2.3.0)\n",
      "Requirement already satisfied: pycparser in c:\\users\\user\\anaconda3\\lib\\site-packages (from cffi>=1.14->trio~=0.17->selenium) (2.20)\n",
      "Requirement already satisfied: wsproto>=0.14 in c:\\users\\user\\anaconda3\\lib\\site-packages (from trio-websocket~=0.9->selenium) (1.0.0)\n",
      "Requirement already satisfied: certifi in c:\\users\\user\\anaconda3\\lib\\site-packages (from urllib3[secure]~=1.26->selenium) (2020.12.5)\n",
      "Requirement already satisfied: pyOpenSSL>=0.14 in c:\\users\\user\\anaconda3\\lib\\site-packages (from urllib3[secure]~=1.26->selenium) (20.0.1)\n",
      "Requirement already satisfied: cryptography>=1.3.4 in c:\\users\\user\\anaconda3\\lib\\site-packages (from urllib3[secure]~=1.26->selenium) (3.4.7)\n",
      "Requirement already satisfied: six>=1.5.2 in c:\\users\\user\\anaconda3\\lib\\site-packages (from pyOpenSSL>=0.14->urllib3[secure]~=1.26->selenium) (1.15.0)\n",
      "Requirement already satisfied: h11<1,>=0.9.0 in c:\\users\\user\\anaconda3\\lib\\site-packages (from wsproto>=0.14->trio-websocket~=0.9->selenium) (0.13.0)\n"
     ]
    }
   ],
   "source": [
    "!pip install selenium"
   ]
  },
  {
   "cell_type": "code",
   "execution_count": 1,
   "id": "98382917",
   "metadata": {},
   "outputs": [],
   "source": [
    "#lets import all the necessary libraries\n",
    "import selenium\n",
    "from selenium import webdriver\n",
    "import pandas as pd\n",
    "import warnings\n",
    "warnings.filterwarnings('ignore')"
   ]
  },
  {
   "cell_type": "markdown",
   "id": "311cf858",
   "metadata": {},
   "source": [
    "# 1. “Data Analyst” Job position in “Bangalore” "
   ]
  },
  {
   "cell_type": "code",
   "execution_count": 77,
   "id": "1d6ef878",
   "metadata": {},
   "outputs": [],
   "source": [
    "driver=webdriver.Chrome(r'C:\\Users\\USER\\Downloads\\chromedriver_win32\\chromedriver.exe') #mehod 1"
   ]
  },
  {
   "cell_type": "code",
   "execution_count": 78,
   "id": "6a7f108d",
   "metadata": {},
   "outputs": [],
   "source": [
    "url ='https://www.naukri.com/' # scraping first 10 jobs\n",
    "driver.get(url)"
   ]
  },
  {
   "cell_type": "code",
   "execution_count": 79,
   "id": "75931a48",
   "metadata": {},
   "outputs": [
    {
     "data": {
      "text/plain": [
       "<selenium.webdriver.remote.webelement.WebElement (session=\"7cc5f94bef6bee891069d645a0f93354\", element=\"a1eb069a-12b3-4aba-92df-2e0ec46ea7de\")>"
      ]
     },
     "execution_count": 79,
     "metadata": {},
     "output_type": "execute_result"
    }
   ],
   "source": [
    "search_job=driver.find_element_by_class_name(\"suggestor-input \")\n",
    "search_job"
   ]
  },
  {
   "cell_type": "code",
   "execution_count": 80,
   "id": "8f19f563",
   "metadata": {},
   "outputs": [],
   "source": [
    "search_job.send_keys('Data Analyst')"
   ]
  },
  {
   "cell_type": "code",
   "execution_count": 81,
   "id": "8bab4aa4",
   "metadata": {},
   "outputs": [
    {
     "data": {
      "text/plain": [
       "<selenium.webdriver.remote.webelement.WebElement (session=\"7cc5f94bef6bee891069d645a0f93354\", element=\"f7dfd050-5a7d-489c-8bf4-e7312db79e18\")>"
      ]
     },
     "execution_count": 81,
     "metadata": {},
     "output_type": "execute_result"
    }
   ],
   "source": [
    "search_loc=driver.find_element_by_xpath('/html/body/div/div[2]/div[3]/div/div/div[3]/div/div/div/input')\n",
    "search_loc"
   ]
  },
  {
   "cell_type": "code",
   "execution_count": 82,
   "id": "9362a935",
   "metadata": {},
   "outputs": [],
   "source": [
    "search_loc.send_keys('Bangalore')"
   ]
  },
  {
   "cell_type": "code",
   "execution_count": 83,
   "id": "63173065",
   "metadata": {},
   "outputs": [
    {
     "data": {
      "text/plain": [
       "<selenium.webdriver.remote.webelement.WebElement (session=\"7cc5f94bef6bee891069d645a0f93354\", element=\"7c091fcb-c74f-4217-9de6-fadbba486ffc\")>"
      ]
     },
     "execution_count": 83,
     "metadata": {},
     "output_type": "execute_result"
    }
   ],
   "source": [
    "search_btn=driver.find_element_by_xpath('/html/body/div/div[2]/div[3]/div/div/div[6]')\n",
    "search_btn"
   ]
  },
  {
   "cell_type": "code",
   "execution_count": 84,
   "id": "e836b0f3",
   "metadata": {},
   "outputs": [],
   "source": [
    "search_btn.click()"
   ]
  },
  {
   "cell_type": "code",
   "execution_count": 86,
   "id": "d156523b",
   "metadata": {},
   "outputs": [
    {
     "data": {
      "text/plain": [
       "<selenium.webdriver.remote.webelement.WebElement (session=\"7cc5f94bef6bee891069d645a0f93354\", element=\"526bfe18-232f-40c0-a78a-6d6c1aa2eb77\")>"
      ]
     },
     "execution_count": 86,
     "metadata": {},
     "output_type": "execute_result"
    }
   ],
   "source": [
    "salary_check=driver.find_element_by_xpath('/html/body/div/div[3]/div[2]/section[1]/div[2]/div[4]/div[2]/div[2]/label/i')\n",
    "salary_check"
   ]
  },
  {
   "cell_type": "code",
   "execution_count": 87,
   "id": "0e42ac5a",
   "metadata": {},
   "outputs": [],
   "source": [
    "salary_check.click()"
   ]
  },
  {
   "cell_type": "code",
   "execution_count": 88,
   "id": "ef0124db",
   "metadata": {},
   "outputs": [
    {
     "data": {
      "text/plain": [
       "20"
      ]
     },
     "execution_count": 88,
     "metadata": {},
     "output_type": "execute_result"
    }
   ],
   "source": [
    "title_tags=driver.find_elements_by_xpath('//a[@class=\"title fw500 ellipsis\"]') #always remember the differnce btw element and elements\n",
    "len(title_tags)"
   ]
  },
  {
   "cell_type": "code",
   "execution_count": 97,
   "id": "8b63fc9c",
   "metadata": {},
   "outputs": [
    {
     "data": {
      "text/plain": [
       "10"
      ]
     },
     "execution_count": 97,
     "metadata": {},
     "output_type": "execute_result"
    }
   ],
   "source": [
    "job_titles=[] #using for loop to get all the data\n",
    "\n",
    "for i in title_tags:\n",
    "    job_titles.append(i.text)\n",
    "    job_titles=job_titles[0:10]\n",
    "    \n",
    "    \n",
    "len(job_titles)    "
   ]
  },
  {
   "cell_type": "code",
   "execution_count": 98,
   "id": "357573ad",
   "metadata": {},
   "outputs": [
    {
     "data": {
      "text/plain": [
       "['Senior Data Analyst',\n",
       " 'Data Analyst',\n",
       " 'Data Analyst',\n",
       " 'Pipeline/Piping Data Analyst Trainee',\n",
       " 'Data Analyst',\n",
       " 'Data Analyst',\n",
       " 'Data Analyst/Business Analyst',\n",
       " 'Data Analyst',\n",
       " 'Hiring For Data Analyst (SQL & Scala) || Coforge',\n",
       " 'Sr. Data Analyst']"
      ]
     },
     "execution_count": 98,
     "metadata": {},
     "output_type": "execute_result"
    }
   ],
   "source": [
    "job_titles"
   ]
  },
  {
   "cell_type": "code",
   "execution_count": 91,
   "id": "fb0f0c5b",
   "metadata": {},
   "outputs": [
    {
     "data": {
      "text/plain": [
       "20"
      ]
     },
     "execution_count": 91,
     "metadata": {},
     "output_type": "execute_result"
    }
   ],
   "source": [
    "#extracting the company names\n",
    "company_names=driver.find_elements_by_xpath('//*[@class=\"subTitle ellipsis fleft\"]')\n",
    "len(company_names)"
   ]
  },
  {
   "cell_type": "code",
   "execution_count": 92,
   "id": "e16d6724",
   "metadata": {},
   "outputs": [
    {
     "data": {
      "text/plain": [
       "[<selenium.webdriver.remote.webelement.WebElement (session=\"7cc5f94bef6bee891069d645a0f93354\", element=\"98f21829-bd4c-4978-af2e-7da7c321f2c9\")>,\n",
       " <selenium.webdriver.remote.webelement.WebElement (session=\"7cc5f94bef6bee891069d645a0f93354\", element=\"5e24bebc-d14e-47aa-8721-6e7db67da8df\")>,\n",
       " <selenium.webdriver.remote.webelement.WebElement (session=\"7cc5f94bef6bee891069d645a0f93354\", element=\"ab486d33-6e30-44ba-a846-31a6e39d6c3b\")>,\n",
       " <selenium.webdriver.remote.webelement.WebElement (session=\"7cc5f94bef6bee891069d645a0f93354\", element=\"4f143a01-3206-4f37-a328-f666cc3d88f6\")>,\n",
       " <selenium.webdriver.remote.webelement.WebElement (session=\"7cc5f94bef6bee891069d645a0f93354\", element=\"1199bed5-8d4a-4a73-b40a-763bc7b07eba\")>,\n",
       " <selenium.webdriver.remote.webelement.WebElement (session=\"7cc5f94bef6bee891069d645a0f93354\", element=\"8cd5adf9-6efb-4424-b6dc-b109abbc30d2\")>,\n",
       " <selenium.webdriver.remote.webelement.WebElement (session=\"7cc5f94bef6bee891069d645a0f93354\", element=\"4e6d603c-f727-43ff-9fa3-55247a6c8d82\")>,\n",
       " <selenium.webdriver.remote.webelement.WebElement (session=\"7cc5f94bef6bee891069d645a0f93354\", element=\"5778d94f-df46-4d19-a05f-a37ec97156ee\")>,\n",
       " <selenium.webdriver.remote.webelement.WebElement (session=\"7cc5f94bef6bee891069d645a0f93354\", element=\"b9d1b6ff-bd93-49d9-8fd0-208c0637d543\")>,\n",
       " <selenium.webdriver.remote.webelement.WebElement (session=\"7cc5f94bef6bee891069d645a0f93354\", element=\"3c7dc1ab-9e76-4bd1-be76-3eb48546781b\")>,\n",
       " <selenium.webdriver.remote.webelement.WebElement (session=\"7cc5f94bef6bee891069d645a0f93354\", element=\"26380cdd-d989-40dc-9d07-10f2ac6e79af\")>,\n",
       " <selenium.webdriver.remote.webelement.WebElement (session=\"7cc5f94bef6bee891069d645a0f93354\", element=\"af5e6ce6-4338-4da7-bde3-dfd2427cd6b0\")>,\n",
       " <selenium.webdriver.remote.webelement.WebElement (session=\"7cc5f94bef6bee891069d645a0f93354\", element=\"0a836415-9e41-4350-bdb2-4502e280054b\")>,\n",
       " <selenium.webdriver.remote.webelement.WebElement (session=\"7cc5f94bef6bee891069d645a0f93354\", element=\"7d6184b7-2686-4816-bf0c-450089d27daf\")>,\n",
       " <selenium.webdriver.remote.webelement.WebElement (session=\"7cc5f94bef6bee891069d645a0f93354\", element=\"335da9d3-a312-4a63-abcb-0cf1d28e56c7\")>,\n",
       " <selenium.webdriver.remote.webelement.WebElement (session=\"7cc5f94bef6bee891069d645a0f93354\", element=\"b0c1b4c2-1e96-440e-b396-491e7e868a5c\")>,\n",
       " <selenium.webdriver.remote.webelement.WebElement (session=\"7cc5f94bef6bee891069d645a0f93354\", element=\"b2e8dc79-4db9-4300-a3d3-d61e04ff95f3\")>,\n",
       " <selenium.webdriver.remote.webelement.WebElement (session=\"7cc5f94bef6bee891069d645a0f93354\", element=\"75eb1d22-0b84-4b6f-8937-5e1ead9e1947\")>,\n",
       " <selenium.webdriver.remote.webelement.WebElement (session=\"7cc5f94bef6bee891069d645a0f93354\", element=\"8abc5884-5d03-44a9-b6e0-34fefea5ccb5\")>,\n",
       " <selenium.webdriver.remote.webelement.WebElement (session=\"7cc5f94bef6bee891069d645a0f93354\", element=\"6c26e712-6602-4572-83f8-ccca460d0e21\")>]"
      ]
     },
     "execution_count": 92,
     "metadata": {},
     "output_type": "execute_result"
    }
   ],
   "source": [
    "company_names"
   ]
  },
  {
   "cell_type": "code",
   "execution_count": 94,
   "id": "18c213ee",
   "metadata": {},
   "outputs": [
    {
     "data": {
      "text/plain": [
       "10"
      ]
     },
     "execution_count": 94,
     "metadata": {},
     "output_type": "execute_result"
    }
   ],
   "source": [
    "company_titles=[]\n",
    "\n",
    "for i in company_names:\n",
    "    company_titles.append(i.text)\n",
    "    company_titles=company_titles[0:10]\n",
    "len(company_titles)    "
   ]
  },
  {
   "cell_type": "code",
   "execution_count": 95,
   "id": "8d9f06aa",
   "metadata": {},
   "outputs": [
    {
     "data": {
      "text/plain": [
       "['Flipkart',\n",
       " 'Aldius Consulting Services Pvt Ltd (Paramantra)',\n",
       " 'National Entrepreneurship',\n",
       " 'TIMS SOLUTIONS PRIVATE LIMITED',\n",
       " 'Insure Pro 2.0',\n",
       " 'BERKMEER INDIA PRIVATE LIMITED',\n",
       " 'CBRE India',\n",
       " 'HotelHub',\n",
       " 'Coforge',\n",
       " 'Born Commerce']"
      ]
     },
     "execution_count": 95,
     "metadata": {},
     "output_type": "execute_result"
    }
   ],
   "source": [
    "company_titles"
   ]
  },
  {
   "cell_type": "code",
   "execution_count": 100,
   "id": "ebbedc1e",
   "metadata": {},
   "outputs": [
    {
     "data": {
      "text/plain": [
       "20"
      ]
     },
     "execution_count": 100,
     "metadata": {},
     "output_type": "execute_result"
    }
   ],
   "source": [
    "exp=driver.find_elements_by_xpath('//*[contains(@title,\" Yrs\")]')\n",
    "len(exp)"
   ]
  },
  {
   "cell_type": "code",
   "execution_count": 101,
   "id": "e704eda5",
   "metadata": {},
   "outputs": [
    {
     "data": {
      "text/plain": [
       "10"
      ]
     },
     "execution_count": 101,
     "metadata": {},
     "output_type": "execute_result"
    }
   ],
   "source": [
    "experience=[]\n",
    "for i in exp:\n",
    "    experience.append(i.text)\n",
    "    experience=experience[0:10]\n",
    "len(experience)    \n"
   ]
  },
  {
   "cell_type": "code",
   "execution_count": 102,
   "id": "c0c0858d",
   "metadata": {},
   "outputs": [
    {
     "data": {
      "text/plain": [
       "['4-6 Yrs',\n",
       " '0-2 Yrs',\n",
       " '3-7 Yrs',\n",
       " '0-4 Yrs',\n",
       " '0-2 Yrs',\n",
       " '0-2 Yrs',\n",
       " '3-7 Yrs',\n",
       " '3-5 Yrs',\n",
       " '4-8 Yrs',\n",
       " '5-10 Yrs']"
      ]
     },
     "execution_count": 102,
     "metadata": {},
     "output_type": "execute_result"
    }
   ],
   "source": [
    "experience"
   ]
  },
  {
   "cell_type": "code",
   "execution_count": 103,
   "id": "ce4dc5f8",
   "metadata": {},
   "outputs": [
    {
     "data": {
      "text/plain": [
       "20"
      ]
     },
     "execution_count": 103,
     "metadata": {},
     "output_type": "execute_result"
    }
   ],
   "source": [
    "location_tags=driver.find_elements_by_xpath('//li[@class=\"fleft grey-text br2 placeHolderLi location\"]')\n",
    "len(location_tags)"
   ]
  },
  {
   "cell_type": "code",
   "execution_count": 104,
   "id": "0a246e53",
   "metadata": {},
   "outputs": [
    {
     "data": {
      "text/plain": [
       "['Bangalore/Bengaluru',\n",
       " 'Bangalore/Bengaluru',\n",
       " 'Mumbai, Pune, Bangalore/Bengaluru',\n",
       " 'Bangalore/Bengaluru',\n",
       " 'Bangalore/Bengaluru(HSR Layout +7)',\n",
       " 'Bangalore/Bengaluru',\n",
       " 'Bangalore/Bengaluru',\n",
       " 'Panaji/Panjim, Bangalore/Bengaluru\\n(WFH during Covid)',\n",
       " 'Mumbai, Bangalore/Bengaluru, Greater Noida\\n(WFH during Covid)',\n",
       " 'Bangalore/Bengaluru']"
      ]
     },
     "execution_count": 104,
     "metadata": {},
     "output_type": "execute_result"
    }
   ],
   "source": [
    "locations=[]\n",
    "for i in location_tags:\n",
    "    locations.append(i.text)\n",
    "    locations=locations[0:10]\n",
    "locations    "
   ]
  },
  {
   "cell_type": "code",
   "execution_count": 106,
   "id": "def49fd8",
   "metadata": {},
   "outputs": [
    {
     "data": {
      "text/plain": [
       "(10, 10, 10, 10)"
      ]
     },
     "execution_count": 106,
     "metadata": {},
     "output_type": "execute_result"
    }
   ],
   "source": [
    "len(job_titles),len(company_titles),len(experience),len(locations)"
   ]
  },
  {
   "cell_type": "code",
   "execution_count": 105,
   "id": "b76aa458",
   "metadata": {},
   "outputs": [
    {
     "data": {
      "text/html": [
       "<div>\n",
       "<style scoped>\n",
       "    .dataframe tbody tr th:only-of-type {\n",
       "        vertical-align: middle;\n",
       "    }\n",
       "\n",
       "    .dataframe tbody tr th {\n",
       "        vertical-align: top;\n",
       "    }\n",
       "\n",
       "    .dataframe thead th {\n",
       "        text-align: right;\n",
       "    }\n",
       "</style>\n",
       "<table border=\"1\" class=\"dataframe\">\n",
       "  <thead>\n",
       "    <tr style=\"text-align: right;\">\n",
       "      <th></th>\n",
       "      <th>Job-titles</th>\n",
       "      <th>Companies</th>\n",
       "      <th>Experience</th>\n",
       "      <th>Location</th>\n",
       "    </tr>\n",
       "  </thead>\n",
       "  <tbody>\n",
       "    <tr>\n",
       "      <th>0</th>\n",
       "      <td>Senior Data Analyst</td>\n",
       "      <td>Flipkart</td>\n",
       "      <td>4-6 Yrs</td>\n",
       "      <td>Bangalore/Bengaluru</td>\n",
       "    </tr>\n",
       "    <tr>\n",
       "      <th>1</th>\n",
       "      <td>Data Analyst</td>\n",
       "      <td>Aldius Consulting Services Pvt Ltd (Paramantra)</td>\n",
       "      <td>0-2 Yrs</td>\n",
       "      <td>Bangalore/Bengaluru</td>\n",
       "    </tr>\n",
       "    <tr>\n",
       "      <th>2</th>\n",
       "      <td>Data Analyst</td>\n",
       "      <td>National Entrepreneurship</td>\n",
       "      <td>3-7 Yrs</td>\n",
       "      <td>Mumbai, Pune, Bangalore/Bengaluru</td>\n",
       "    </tr>\n",
       "    <tr>\n",
       "      <th>3</th>\n",
       "      <td>Pipeline/Piping Data Analyst Trainee</td>\n",
       "      <td>TIMS SOLUTIONS PRIVATE LIMITED</td>\n",
       "      <td>0-4 Yrs</td>\n",
       "      <td>Bangalore/Bengaluru</td>\n",
       "    </tr>\n",
       "    <tr>\n",
       "      <th>4</th>\n",
       "      <td>Data Analyst</td>\n",
       "      <td>Insure Pro 2.0</td>\n",
       "      <td>0-2 Yrs</td>\n",
       "      <td>Bangalore/Bengaluru(HSR Layout +7)</td>\n",
       "    </tr>\n",
       "    <tr>\n",
       "      <th>5</th>\n",
       "      <td>Data Analyst</td>\n",
       "      <td>BERKMEER INDIA PRIVATE LIMITED</td>\n",
       "      <td>0-2 Yrs</td>\n",
       "      <td>Bangalore/Bengaluru</td>\n",
       "    </tr>\n",
       "    <tr>\n",
       "      <th>6</th>\n",
       "      <td>Data Analyst/Business Analyst</td>\n",
       "      <td>CBRE India</td>\n",
       "      <td>3-7 Yrs</td>\n",
       "      <td>Bangalore/Bengaluru</td>\n",
       "    </tr>\n",
       "    <tr>\n",
       "      <th>7</th>\n",
       "      <td>Data Analyst</td>\n",
       "      <td>HotelHub</td>\n",
       "      <td>3-5 Yrs</td>\n",
       "      <td>Panaji/Panjim, Bangalore/Bengaluru\\n(WFH durin...</td>\n",
       "    </tr>\n",
       "    <tr>\n",
       "      <th>8</th>\n",
       "      <td>Hiring For Data Analyst (SQL &amp; Scala) || Coforge</td>\n",
       "      <td>Coforge</td>\n",
       "      <td>4-8 Yrs</td>\n",
       "      <td>Mumbai, Bangalore/Bengaluru, Greater Noida\\n(W...</td>\n",
       "    </tr>\n",
       "    <tr>\n",
       "      <th>9</th>\n",
       "      <td>Sr. Data Analyst</td>\n",
       "      <td>Born Commerce</td>\n",
       "      <td>5-10 Yrs</td>\n",
       "      <td>Bangalore/Bengaluru</td>\n",
       "    </tr>\n",
       "  </tbody>\n",
       "</table>\n",
       "</div>"
      ],
      "text/plain": [
       "                                         Job-titles  \\\n",
       "0                               Senior Data Analyst   \n",
       "1                                      Data Analyst   \n",
       "2                                      Data Analyst   \n",
       "3              Pipeline/Piping Data Analyst Trainee   \n",
       "4                                      Data Analyst   \n",
       "5                                      Data Analyst   \n",
       "6                     Data Analyst/Business Analyst   \n",
       "7                                      Data Analyst   \n",
       "8  Hiring For Data Analyst (SQL & Scala) || Coforge   \n",
       "9                                  Sr. Data Analyst   \n",
       "\n",
       "                                         Companies Experience  \\\n",
       "0                                         Flipkart    4-6 Yrs   \n",
       "1  Aldius Consulting Services Pvt Ltd (Paramantra)    0-2 Yrs   \n",
       "2                        National Entrepreneurship    3-7 Yrs   \n",
       "3                   TIMS SOLUTIONS PRIVATE LIMITED    0-4 Yrs   \n",
       "4                                   Insure Pro 2.0    0-2 Yrs   \n",
       "5                   BERKMEER INDIA PRIVATE LIMITED    0-2 Yrs   \n",
       "6                                       CBRE India    3-7 Yrs   \n",
       "7                                         HotelHub    3-5 Yrs   \n",
       "8                                          Coforge    4-8 Yrs   \n",
       "9                                    Born Commerce   5-10 Yrs   \n",
       "\n",
       "                                            Location  \n",
       "0                                Bangalore/Bengaluru  \n",
       "1                                Bangalore/Bengaluru  \n",
       "2                  Mumbai, Pune, Bangalore/Bengaluru  \n",
       "3                                Bangalore/Bengaluru  \n",
       "4                 Bangalore/Bengaluru(HSR Layout +7)  \n",
       "5                                Bangalore/Bengaluru  \n",
       "6                                Bangalore/Bengaluru  \n",
       "7  Panaji/Panjim, Bangalore/Bengaluru\\n(WFH durin...  \n",
       "8  Mumbai, Bangalore/Bengaluru, Greater Noida\\n(W...  \n",
       "9                                Bangalore/Bengaluru  "
      ]
     },
     "execution_count": 105,
     "metadata": {},
     "output_type": "execute_result"
    }
   ],
   "source": [
    "df=pd.DataFrame({'Job-titles':job_titles,'Companies':company_titles,'Experience':experience,'Location':locations})\n",
    "df"
   ]
  },
  {
   "cell_type": "code",
   "execution_count": null,
   "id": "f229e4d7",
   "metadata": {},
   "outputs": [],
   "source": []
  },
  {
   "cell_type": "code",
   "execution_count": null,
   "id": "ae751399",
   "metadata": {},
   "outputs": [],
   "source": []
  },
  {
   "cell_type": "markdown",
   "id": "83eb63e8",
   "metadata": {},
   "source": [
    "# 2. “Data Scientist” Job position in “Bangalore” location. "
   ]
  },
  {
   "cell_type": "code",
   "execution_count": 40,
   "id": "667aeaf0",
   "metadata": {},
   "outputs": [],
   "source": [
    "driver1=webdriver.Chrome('chromedriver.exe') #as we have already imported all the libraries we directly go with driver "
   ]
  },
  {
   "cell_type": "code",
   "execution_count": 41,
   "id": "5ca69a1d",
   "metadata": {},
   "outputs": [],
   "source": [
    "url1='https://www.naukri.com/'\n",
    "driver1.get(url1)"
   ]
  },
  {
   "cell_type": "code",
   "execution_count": 42,
   "id": "8dc23595",
   "metadata": {},
   "outputs": [
    {
     "data": {
      "text/plain": [
       "<selenium.webdriver.remote.webelement.WebElement (session=\"ff6de4a10f7d6c67ccac908dabd4a6fe\", element=\"14194605-e137-45ef-becc-0ec3f51b2eb1\")>"
      ]
     },
     "execution_count": 42,
     "metadata": {},
     "output_type": "execute_result"
    }
   ],
   "source": [
    "srch_job1=driver1.find_element_by_class_name('suggestor-input ')\n",
    "srch_job1"
   ]
  },
  {
   "cell_type": "code",
   "execution_count": 43,
   "id": "566189cd",
   "metadata": {},
   "outputs": [],
   "source": [
    "srch_job1.send_keys('Data Scientist')"
   ]
  },
  {
   "cell_type": "code",
   "execution_count": 44,
   "id": "f90223ec",
   "metadata": {},
   "outputs": [],
   "source": [
    "loc_job1=driver1.find_element_by_xpath('/html/body/div/div[2]/div[3]/div/div/div[3]/div/div/div/input')"
   ]
  },
  {
   "cell_type": "code",
   "execution_count": 45,
   "id": "a05f0124",
   "metadata": {},
   "outputs": [],
   "source": [
    "loc_job1.send_keys('Banglore')"
   ]
  },
  {
   "cell_type": "code",
   "execution_count": 46,
   "id": "f9538173",
   "metadata": {},
   "outputs": [],
   "source": [
    "srch_btn1=driver1.find_element_by_class_name(\"qsbSubmit\")\n",
    "srch_btn1.click()"
   ]
  },
  {
   "cell_type": "code",
   "execution_count": 49,
   "id": "ac04231a",
   "metadata": {},
   "outputs": [
    {
     "data": {
      "text/plain": [
       "[<selenium.webdriver.remote.webelement.WebElement (session=\"ff6de4a10f7d6c67ccac908dabd4a6fe\", element=\"7eb1699f-59b9-462b-abe0-3bd9e0bb816d\")>,\n",
       " <selenium.webdriver.remote.webelement.WebElement (session=\"ff6de4a10f7d6c67ccac908dabd4a6fe\", element=\"1f611dfa-054c-44d0-8263-73e8a4df8723\")>,\n",
       " <selenium.webdriver.remote.webelement.WebElement (session=\"ff6de4a10f7d6c67ccac908dabd4a6fe\", element=\"21fcebaf-0b97-42ef-98c7-38347f9cf842\")>,\n",
       " <selenium.webdriver.remote.webelement.WebElement (session=\"ff6de4a10f7d6c67ccac908dabd4a6fe\", element=\"b33d415b-bc96-499b-bf02-d8a5c0dcff4f\")>,\n",
       " <selenium.webdriver.remote.webelement.WebElement (session=\"ff6de4a10f7d6c67ccac908dabd4a6fe\", element=\"af321180-09b7-4797-bec8-d150fec476a8\")>,\n",
       " <selenium.webdriver.remote.webelement.WebElement (session=\"ff6de4a10f7d6c67ccac908dabd4a6fe\", element=\"b5598147-ccab-4e2b-af6e-e82a2699f25f\")>,\n",
       " <selenium.webdriver.remote.webelement.WebElement (session=\"ff6de4a10f7d6c67ccac908dabd4a6fe\", element=\"d0aab36c-5e08-486c-9bbe-08e1e75966fd\")>,\n",
       " <selenium.webdriver.remote.webelement.WebElement (session=\"ff6de4a10f7d6c67ccac908dabd4a6fe\", element=\"bfb218a9-0804-4506-8d72-5bb41fd8dedb\")>,\n",
       " <selenium.webdriver.remote.webelement.WebElement (session=\"ff6de4a10f7d6c67ccac908dabd4a6fe\", element=\"de619a2f-b44e-4831-95fe-48a1340cf053\")>,\n",
       " <selenium.webdriver.remote.webelement.WebElement (session=\"ff6de4a10f7d6c67ccac908dabd4a6fe\", element=\"d175b34e-f459-4723-a318-2093e6e6c5b1\")>,\n",
       " <selenium.webdriver.remote.webelement.WebElement (session=\"ff6de4a10f7d6c67ccac908dabd4a6fe\", element=\"ac8a189a-de4c-40e7-9275-e0c970eb1f75\")>,\n",
       " <selenium.webdriver.remote.webelement.WebElement (session=\"ff6de4a10f7d6c67ccac908dabd4a6fe\", element=\"b8163f94-fe8d-4ec3-9a98-47c307c2fa35\")>,\n",
       " <selenium.webdriver.remote.webelement.WebElement (session=\"ff6de4a10f7d6c67ccac908dabd4a6fe\", element=\"bfbf2072-e485-4269-b5b1-9623c12a0495\")>,\n",
       " <selenium.webdriver.remote.webelement.WebElement (session=\"ff6de4a10f7d6c67ccac908dabd4a6fe\", element=\"92dc3662-0d93-4ca5-8873-080cffb31978\")>,\n",
       " <selenium.webdriver.remote.webelement.WebElement (session=\"ff6de4a10f7d6c67ccac908dabd4a6fe\", element=\"334df80d-fd5d-4f33-82de-a39bfbad3615\")>,\n",
       " <selenium.webdriver.remote.webelement.WebElement (session=\"ff6de4a10f7d6c67ccac908dabd4a6fe\", element=\"9f97e797-7f30-4e48-8eff-e0a0e5dd65fb\")>,\n",
       " <selenium.webdriver.remote.webelement.WebElement (session=\"ff6de4a10f7d6c67ccac908dabd4a6fe\", element=\"3ecaf219-a7cc-47f7-b30f-8b510e4805c4\")>,\n",
       " <selenium.webdriver.remote.webelement.WebElement (session=\"ff6de4a10f7d6c67ccac908dabd4a6fe\", element=\"1e7cb0c4-7587-4caa-8dc7-f217dbaddfd5\")>,\n",
       " <selenium.webdriver.remote.webelement.WebElement (session=\"ff6de4a10f7d6c67ccac908dabd4a6fe\", element=\"3359b727-2024-4f47-8eca-11f2fbba4a90\")>,\n",
       " <selenium.webdriver.remote.webelement.WebElement (session=\"ff6de4a10f7d6c67ccac908dabd4a6fe\", element=\"b868b801-1da8-4082-b966-c673648f6fdb\")>]"
      ]
     },
     "execution_count": 49,
     "metadata": {},
     "output_type": "execute_result"
    }
   ],
   "source": [
    "job_tags1=driver1.find_elements_by_xpath('//a[@class=\"title fw500 ellipsis\"]')\n",
    "job_tags1"
   ]
  },
  {
   "cell_type": "code",
   "execution_count": 50,
   "id": "5a23b34f",
   "metadata": {},
   "outputs": [
    {
     "data": {
      "text/plain": [
       "20"
      ]
     },
     "execution_count": 50,
     "metadata": {},
     "output_type": "execute_result"
    }
   ],
   "source": [
    "len(job_tags1)"
   ]
  },
  {
   "cell_type": "code",
   "execution_count": 51,
   "id": "77aae230",
   "metadata": {},
   "outputs": [
    {
     "data": {
      "text/plain": [
       "['Global Tax Automation & Operations - Data Scientist Senior Analyst',\n",
       " 'Louis Dreyfus Company Looking For Data Scientist',\n",
       " 'Data Scientist: Artificial Intelligence',\n",
       " 'Data Scientist: Artificial Intelligence',\n",
       " 'Senior Data Scientist/Data Scientist',\n",
       " 'Senior Data Scientist - Research',\n",
       " 'Senior Data Scientist (Marketplace)',\n",
       " 'Senior Data Scientist',\n",
       " 'Data Scientist - Lead / Architect - Looking For Early Joiners - Wipro',\n",
       " 'Lead Data Scientist - Machine Learning/ Data Mining']"
      ]
     },
     "execution_count": 51,
     "metadata": {},
     "output_type": "execute_result"
    }
   ],
   "source": [
    "job_header1=[]\n",
    "for i in job_tags1:\n",
    "    job_header1.append(i.text)\n",
    "    job_header1=job_header1[0:10]\n",
    "job_header1   "
   ]
  },
  {
   "cell_type": "code",
   "execution_count": 52,
   "id": "735fe463",
   "metadata": {},
   "outputs": [],
   "source": [
    "job_loc=driver1.find_elements_by_xpath('//li[@class=\"fleft grey-text br2 placeHolderLi location\"]')"
   ]
  },
  {
   "cell_type": "code",
   "execution_count": 53,
   "id": "dc53f441",
   "metadata": {},
   "outputs": [
    {
     "data": {
      "text/plain": [
       "[<selenium.webdriver.remote.webelement.WebElement (session=\"ff6de4a10f7d6c67ccac908dabd4a6fe\", element=\"89d52663-5877-45df-874b-b9251dccd2b4\")>,\n",
       " <selenium.webdriver.remote.webelement.WebElement (session=\"ff6de4a10f7d6c67ccac908dabd4a6fe\", element=\"2d153b59-8c45-4a1e-8b2d-5aa9fa7d92be\")>,\n",
       " <selenium.webdriver.remote.webelement.WebElement (session=\"ff6de4a10f7d6c67ccac908dabd4a6fe\", element=\"7bcf8e04-08c3-4b96-a4d9-a50fcd6fa0a3\")>,\n",
       " <selenium.webdriver.remote.webelement.WebElement (session=\"ff6de4a10f7d6c67ccac908dabd4a6fe\", element=\"1ac2829f-d3b1-472f-9c2e-620b9cfe4223\")>,\n",
       " <selenium.webdriver.remote.webelement.WebElement (session=\"ff6de4a10f7d6c67ccac908dabd4a6fe\", element=\"a1ed6949-0902-4f58-90f0-b5a71a9576b0\")>,\n",
       " <selenium.webdriver.remote.webelement.WebElement (session=\"ff6de4a10f7d6c67ccac908dabd4a6fe\", element=\"a27ad79a-3f09-41ec-a282-a929548f49a5\")>,\n",
       " <selenium.webdriver.remote.webelement.WebElement (session=\"ff6de4a10f7d6c67ccac908dabd4a6fe\", element=\"56813e89-e79f-438a-8001-fe7d9c5bdad9\")>,\n",
       " <selenium.webdriver.remote.webelement.WebElement (session=\"ff6de4a10f7d6c67ccac908dabd4a6fe\", element=\"17e4d63a-bf56-47d9-b1c1-9959e8cbabcd\")>,\n",
       " <selenium.webdriver.remote.webelement.WebElement (session=\"ff6de4a10f7d6c67ccac908dabd4a6fe\", element=\"537e4cff-ef7f-4450-87d7-01aa9a554cd2\")>,\n",
       " <selenium.webdriver.remote.webelement.WebElement (session=\"ff6de4a10f7d6c67ccac908dabd4a6fe\", element=\"a328e7cc-13ee-4a25-8913-598c29bdbb0e\")>,\n",
       " <selenium.webdriver.remote.webelement.WebElement (session=\"ff6de4a10f7d6c67ccac908dabd4a6fe\", element=\"b0263080-d399-43db-90d7-6f2c23d1f0b7\")>,\n",
       " <selenium.webdriver.remote.webelement.WebElement (session=\"ff6de4a10f7d6c67ccac908dabd4a6fe\", element=\"54eaddd6-b361-4f83-8817-fab6abfc1c70\")>,\n",
       " <selenium.webdriver.remote.webelement.WebElement (session=\"ff6de4a10f7d6c67ccac908dabd4a6fe\", element=\"877f47c1-64b5-4bbb-8c14-44ef3ce435a8\")>,\n",
       " <selenium.webdriver.remote.webelement.WebElement (session=\"ff6de4a10f7d6c67ccac908dabd4a6fe\", element=\"fea9ff79-b6f0-4ed4-9167-ab8e914c9c01\")>,\n",
       " <selenium.webdriver.remote.webelement.WebElement (session=\"ff6de4a10f7d6c67ccac908dabd4a6fe\", element=\"6f9b421f-d124-41ff-8d7f-f51f54136b7f\")>,\n",
       " <selenium.webdriver.remote.webelement.WebElement (session=\"ff6de4a10f7d6c67ccac908dabd4a6fe\", element=\"6b090da4-0cc9-4783-adaf-da71f2a0e875\")>,\n",
       " <selenium.webdriver.remote.webelement.WebElement (session=\"ff6de4a10f7d6c67ccac908dabd4a6fe\", element=\"e9af4555-6298-4c1b-9de1-2f00b4c7f8fd\")>,\n",
       " <selenium.webdriver.remote.webelement.WebElement (session=\"ff6de4a10f7d6c67ccac908dabd4a6fe\", element=\"505027e0-ee11-46c3-b9b5-78f802c05406\")>,\n",
       " <selenium.webdriver.remote.webelement.WebElement (session=\"ff6de4a10f7d6c67ccac908dabd4a6fe\", element=\"c047a27a-4aff-4513-867c-53e66ff16fda\")>,\n",
       " <selenium.webdriver.remote.webelement.WebElement (session=\"ff6de4a10f7d6c67ccac908dabd4a6fe\", element=\"726d4f13-694f-4d0a-b62a-7c7899318594\")>]"
      ]
     },
     "execution_count": 53,
     "metadata": {},
     "output_type": "execute_result"
    }
   ],
   "source": [
    "job_loc"
   ]
  },
  {
   "cell_type": "code",
   "execution_count": 55,
   "id": "067b2a73",
   "metadata": {},
   "outputs": [
    {
     "data": {
      "text/plain": [
       "['Bangalore/Bengaluru',\n",
       " 'Bangalore/Bengaluru',\n",
       " 'Bangalore/Bengaluru',\n",
       " 'Bangalore/Bengaluru',\n",
       " 'Gurgaon/Gurugram, Chennai, Bangalore/Bengaluru',\n",
       " 'Bangalore/Bengaluru',\n",
       " 'Bangalore/Bengaluru',\n",
       " 'Bangalore/Bengaluru',\n",
       " 'Hyderabad/Secunderabad, Pune, Chennai, Bangalore/Bengaluru',\n",
       " 'Bangalore/Bengaluru']"
      ]
     },
     "execution_count": 55,
     "metadata": {},
     "output_type": "execute_result"
    }
   ],
   "source": [
    "job_location1=[]\n",
    "for i in job_loc:\n",
    "    job_location1.append(i.text)\n",
    "    job_location1=job_location1[0:10]\n",
    "job_location1 "
   ]
  },
  {
   "cell_type": "code",
   "execution_count": 56,
   "id": "935a6fb8",
   "metadata": {},
   "outputs": [],
   "source": [
    "company1=driver1.find_elements_by_xpath('//a[@class=\"subTitle ellipsis fleft\"]')"
   ]
  },
  {
   "cell_type": "code",
   "execution_count": 57,
   "id": "ab2cfec8",
   "metadata": {},
   "outputs": [
    {
     "data": {
      "text/plain": [
       "[<selenium.webdriver.remote.webelement.WebElement (session=\"ff6de4a10f7d6c67ccac908dabd4a6fe\", element=\"599ff2e6-4736-40a6-8763-589ae480a2ba\")>,\n",
       " <selenium.webdriver.remote.webelement.WebElement (session=\"ff6de4a10f7d6c67ccac908dabd4a6fe\", element=\"9dae4001-2c83-40f1-8d22-ac2232f79f77\")>,\n",
       " <selenium.webdriver.remote.webelement.WebElement (session=\"ff6de4a10f7d6c67ccac908dabd4a6fe\", element=\"b723a4a1-472e-4947-9551-d5ac37e55c80\")>,\n",
       " <selenium.webdriver.remote.webelement.WebElement (session=\"ff6de4a10f7d6c67ccac908dabd4a6fe\", element=\"371fbbec-ba69-4cb9-9e93-cdd3bac9ea83\")>,\n",
       " <selenium.webdriver.remote.webelement.WebElement (session=\"ff6de4a10f7d6c67ccac908dabd4a6fe\", element=\"8c4452ff-d4a1-4753-9d6a-cd4b2ce123e8\")>,\n",
       " <selenium.webdriver.remote.webelement.WebElement (session=\"ff6de4a10f7d6c67ccac908dabd4a6fe\", element=\"57c5058f-3959-4c99-b5cb-600828bc2382\")>,\n",
       " <selenium.webdriver.remote.webelement.WebElement (session=\"ff6de4a10f7d6c67ccac908dabd4a6fe\", element=\"b049f598-cb99-41ab-871c-1a554fc91872\")>,\n",
       " <selenium.webdriver.remote.webelement.WebElement (session=\"ff6de4a10f7d6c67ccac908dabd4a6fe\", element=\"b9635302-e2c2-4a4a-a829-e6089cb0d527\")>,\n",
       " <selenium.webdriver.remote.webelement.WebElement (session=\"ff6de4a10f7d6c67ccac908dabd4a6fe\", element=\"37a9d053-994f-4b9b-994c-29ff03a728c1\")>,\n",
       " <selenium.webdriver.remote.webelement.WebElement (session=\"ff6de4a10f7d6c67ccac908dabd4a6fe\", element=\"4e4fb0ff-ea44-4d91-bef4-8cfd60b646da\")>,\n",
       " <selenium.webdriver.remote.webelement.WebElement (session=\"ff6de4a10f7d6c67ccac908dabd4a6fe\", element=\"1dd9e706-f0e0-48c8-96cd-b279aeedbc2a\")>,\n",
       " <selenium.webdriver.remote.webelement.WebElement (session=\"ff6de4a10f7d6c67ccac908dabd4a6fe\", element=\"898f52e5-afe6-4a95-b6eb-590136ebd7c7\")>,\n",
       " <selenium.webdriver.remote.webelement.WebElement (session=\"ff6de4a10f7d6c67ccac908dabd4a6fe\", element=\"8f00e285-54e5-4acc-ad8b-d3d2a63ea45d\")>,\n",
       " <selenium.webdriver.remote.webelement.WebElement (session=\"ff6de4a10f7d6c67ccac908dabd4a6fe\", element=\"ed4864d7-dad8-4723-9afd-248cebe98783\")>,\n",
       " <selenium.webdriver.remote.webelement.WebElement (session=\"ff6de4a10f7d6c67ccac908dabd4a6fe\", element=\"2d33b85c-1067-478b-9dae-40da6de5b66f\")>,\n",
       " <selenium.webdriver.remote.webelement.WebElement (session=\"ff6de4a10f7d6c67ccac908dabd4a6fe\", element=\"306257fc-e2d4-4372-b9e6-1f05f9e29bb0\")>,\n",
       " <selenium.webdriver.remote.webelement.WebElement (session=\"ff6de4a10f7d6c67ccac908dabd4a6fe\", element=\"cf42fc89-94a4-4c3b-a127-867b9f838754\")>,\n",
       " <selenium.webdriver.remote.webelement.WebElement (session=\"ff6de4a10f7d6c67ccac908dabd4a6fe\", element=\"dc713e86-a1a7-445b-bbf4-ff2f5390a9ca\")>,\n",
       " <selenium.webdriver.remote.webelement.WebElement (session=\"ff6de4a10f7d6c67ccac908dabd4a6fe\", element=\"6cc6c8a8-4928-4fc9-a878-216f770ede10\")>,\n",
       " <selenium.webdriver.remote.webelement.WebElement (session=\"ff6de4a10f7d6c67ccac908dabd4a6fe\", element=\"869b65d7-8cf7-483b-905e-a4715ac13a5f\")>]"
      ]
     },
     "execution_count": 57,
     "metadata": {},
     "output_type": "execute_result"
    }
   ],
   "source": [
    "company1"
   ]
  },
  {
   "cell_type": "code",
   "execution_count": 58,
   "id": "5106a8cd",
   "metadata": {},
   "outputs": [
    {
     "data": {
      "text/plain": [
       "['Dell',\n",
       " 'Louis Dreyfus Commodities',\n",
       " 'IBM',\n",
       " 'IBM',\n",
       " 'Tredence Analytics Solutions Private Limited',\n",
       " 'Gojek',\n",
       " 'Walmart',\n",
       " 'Walmart',\n",
       " 'Wipro',\n",
       " 'Wrackle Technologies Pvt Ltd']"
      ]
     },
     "execution_count": 58,
     "metadata": {},
     "output_type": "execute_result"
    }
   ],
   "source": [
    "company_1=[]\n",
    "for i in company1:\n",
    "    company_1.append(i.text)\n",
    "    company_1=company_1[0:10]\n",
    "company_1"
   ]
  },
  {
   "cell_type": "code",
   "execution_count": 89,
   "id": "b1798dd1",
   "metadata": {},
   "outputs": [
    {
     "name": "stdout",
     "output_type": "stream",
     "text": [
      "10 10 10\n"
     ]
    }
   ],
   "source": [
    "print(len(job_header1),len(job_location1),len(company_1)) # as we can see we have successfully got the first 10 listings"
   ]
  },
  {
   "cell_type": "code",
   "execution_count": 59,
   "id": "12c46224",
   "metadata": {},
   "outputs": [],
   "source": [
    "df=pd.DataFrame({'Job-Title':job_header1,'Job-Location':job_location1,'Company-Name':company_1})"
   ]
  },
  {
   "cell_type": "code",
   "execution_count": 60,
   "id": "c0bc02fe",
   "metadata": {},
   "outputs": [
    {
     "data": {
      "text/html": [
       "<div>\n",
       "<style scoped>\n",
       "    .dataframe tbody tr th:only-of-type {\n",
       "        vertical-align: middle;\n",
       "    }\n",
       "\n",
       "    .dataframe tbody tr th {\n",
       "        vertical-align: top;\n",
       "    }\n",
       "\n",
       "    .dataframe thead th {\n",
       "        text-align: right;\n",
       "    }\n",
       "</style>\n",
       "<table border=\"1\" class=\"dataframe\">\n",
       "  <thead>\n",
       "    <tr style=\"text-align: right;\">\n",
       "      <th></th>\n",
       "      <th>Job-Title</th>\n",
       "      <th>Job-Location</th>\n",
       "      <th>Company-Name</th>\n",
       "    </tr>\n",
       "  </thead>\n",
       "  <tbody>\n",
       "    <tr>\n",
       "      <th>0</th>\n",
       "      <td>Global Tax Automation &amp; Operations - Data Scie...</td>\n",
       "      <td>Bangalore/Bengaluru</td>\n",
       "      <td>Dell</td>\n",
       "    </tr>\n",
       "    <tr>\n",
       "      <th>1</th>\n",
       "      <td>Louis Dreyfus Company Looking For Data Scientist</td>\n",
       "      <td>Bangalore/Bengaluru</td>\n",
       "      <td>Louis Dreyfus Commodities</td>\n",
       "    </tr>\n",
       "    <tr>\n",
       "      <th>2</th>\n",
       "      <td>Data Scientist: Artificial Intelligence</td>\n",
       "      <td>Bangalore/Bengaluru</td>\n",
       "      <td>IBM</td>\n",
       "    </tr>\n",
       "    <tr>\n",
       "      <th>3</th>\n",
       "      <td>Data Scientist: Artificial Intelligence</td>\n",
       "      <td>Bangalore/Bengaluru</td>\n",
       "      <td>IBM</td>\n",
       "    </tr>\n",
       "    <tr>\n",
       "      <th>4</th>\n",
       "      <td>Senior Data Scientist/Data Scientist</td>\n",
       "      <td>Gurgaon/Gurugram, Chennai, Bangalore/Bengaluru</td>\n",
       "      <td>Tredence Analytics Solutions Private Limited</td>\n",
       "    </tr>\n",
       "    <tr>\n",
       "      <th>5</th>\n",
       "      <td>Senior Data Scientist - Research</td>\n",
       "      <td>Bangalore/Bengaluru</td>\n",
       "      <td>Gojek</td>\n",
       "    </tr>\n",
       "    <tr>\n",
       "      <th>6</th>\n",
       "      <td>Senior Data Scientist (Marketplace)</td>\n",
       "      <td>Bangalore/Bengaluru</td>\n",
       "      <td>Walmart</td>\n",
       "    </tr>\n",
       "    <tr>\n",
       "      <th>7</th>\n",
       "      <td>Senior Data Scientist</td>\n",
       "      <td>Bangalore/Bengaluru</td>\n",
       "      <td>Walmart</td>\n",
       "    </tr>\n",
       "    <tr>\n",
       "      <th>8</th>\n",
       "      <td>Data Scientist - Lead / Architect - Looking Fo...</td>\n",
       "      <td>Hyderabad/Secunderabad, Pune, Chennai, Bangalo...</td>\n",
       "      <td>Wipro</td>\n",
       "    </tr>\n",
       "    <tr>\n",
       "      <th>9</th>\n",
       "      <td>Lead Data Scientist - Machine Learning/ Data M...</td>\n",
       "      <td>Bangalore/Bengaluru</td>\n",
       "      <td>Wrackle Technologies Pvt Ltd</td>\n",
       "    </tr>\n",
       "  </tbody>\n",
       "</table>\n",
       "</div>"
      ],
      "text/plain": [
       "                                           Job-Title  \\\n",
       "0  Global Tax Automation & Operations - Data Scie...   \n",
       "1   Louis Dreyfus Company Looking For Data Scientist   \n",
       "2            Data Scientist: Artificial Intelligence   \n",
       "3            Data Scientist: Artificial Intelligence   \n",
       "4               Senior Data Scientist/Data Scientist   \n",
       "5                   Senior Data Scientist - Research   \n",
       "6                Senior Data Scientist (Marketplace)   \n",
       "7                              Senior Data Scientist   \n",
       "8  Data Scientist - Lead / Architect - Looking Fo...   \n",
       "9  Lead Data Scientist - Machine Learning/ Data M...   \n",
       "\n",
       "                                        Job-Location  \\\n",
       "0                                Bangalore/Bengaluru   \n",
       "1                                Bangalore/Bengaluru   \n",
       "2                                Bangalore/Bengaluru   \n",
       "3                                Bangalore/Bengaluru   \n",
       "4     Gurgaon/Gurugram, Chennai, Bangalore/Bengaluru   \n",
       "5                                Bangalore/Bengaluru   \n",
       "6                                Bangalore/Bengaluru   \n",
       "7                                Bangalore/Bengaluru   \n",
       "8  Hyderabad/Secunderabad, Pune, Chennai, Bangalo...   \n",
       "9                                Bangalore/Bengaluru   \n",
       "\n",
       "                                   Company-Name  \n",
       "0                                          Dell  \n",
       "1                     Louis Dreyfus Commodities  \n",
       "2                                           IBM  \n",
       "3                                           IBM  \n",
       "4  Tredence Analytics Solutions Private Limited  \n",
       "5                                         Gojek  \n",
       "6                                       Walmart  \n",
       "7                                       Walmart  \n",
       "8                                         Wipro  \n",
       "9                  Wrackle Technologies Pvt Ltd  "
      ]
     },
     "execution_count": 60,
     "metadata": {},
     "output_type": "execute_result"
    }
   ],
   "source": [
    "df"
   ]
  },
  {
   "cell_type": "code",
   "execution_count": null,
   "id": "c9a0585d",
   "metadata": {},
   "outputs": [],
   "source": []
  },
  {
   "cell_type": "code",
   "execution_count": null,
   "id": "d0f3174e",
   "metadata": {},
   "outputs": [],
   "source": []
  },
  {
   "cell_type": "markdown",
   "id": "92c1c6cf",
   "metadata": {},
   "source": [
    "# 3. Data Scientist for Delhi/NCR"
   ]
  },
  {
   "cell_type": "code",
   "execution_count": 61,
   "id": "cc62893d",
   "metadata": {},
   "outputs": [],
   "source": [
    "driver2=webdriver.Chrome('chromedriver.exe')#as we have already imported all the libraries we directly go with driver"
   ]
  },
  {
   "cell_type": "code",
   "execution_count": 62,
   "id": "e5ff51c4",
   "metadata": {},
   "outputs": [],
   "source": [
    "url_2='https://www.naukri.com/'\n",
    "driver2.get(url_2)"
   ]
  },
  {
   "cell_type": "code",
   "execution_count": 64,
   "id": "5d246a63",
   "metadata": {},
   "outputs": [
    {
     "data": {
      "text/plain": [
       "<selenium.webdriver.remote.webelement.WebElement (session=\"8e84952c95fa9eb0f5e653a673b1a349\", element=\"a08482c8-7e01-4fdb-af9a-0fa80795f596\")>"
      ]
     },
     "execution_count": 64,
     "metadata": {},
     "output_type": "execute_result"
    }
   ],
   "source": [
    "srch_job2=driver2.find_element_by_class_name('suggestor-input')\n",
    "srch_job2"
   ]
  },
  {
   "cell_type": "code",
   "execution_count": 65,
   "id": "140a4524",
   "metadata": {},
   "outputs": [],
   "source": [
    "srch_job2.send_keys('Data Scientist')"
   ]
  },
  {
   "cell_type": "code",
   "execution_count": 66,
   "id": "62cac660",
   "metadata": {},
   "outputs": [
    {
     "data": {
      "text/plain": [
       "<selenium.webdriver.remote.webelement.WebElement (session=\"8e84952c95fa9eb0f5e653a673b1a349\", element=\"57ca56fb-dc7c-413a-b535-a1d8c927811c\")>"
      ]
     },
     "execution_count": 66,
     "metadata": {},
     "output_type": "execute_result"
    }
   ],
   "source": [
    "loc_job2=driver2.find_element_by_xpath('/html/body/div/div[2]/div[3]/div/div/div[3]/div/div/div/input')\n",
    "loc_job2"
   ]
  },
  {
   "cell_type": "code",
   "execution_count": 67,
   "id": "eca698c6",
   "metadata": {},
   "outputs": [],
   "source": [
    "loc_job2.send_keys('Delhi/NCR')"
   ]
  },
  {
   "cell_type": "code",
   "execution_count": 69,
   "id": "ab92a85c",
   "metadata": {},
   "outputs": [],
   "source": [
    "srch_btn=driver2.find_element_by_class_name(\"qsbSubmit\")\n",
    "srch_btn.click()"
   ]
  },
  {
   "cell_type": "code",
   "execution_count": 71,
   "id": "faeeb399",
   "metadata": {},
   "outputs": [
    {
     "data": {
      "text/plain": [
       "[<selenium.webdriver.remote.webelement.WebElement (session=\"8e84952c95fa9eb0f5e653a673b1a349\", element=\"4b5d748a-1d2d-4db1-ac75-584fb7fc2694\")>,\n",
       " <selenium.webdriver.remote.webelement.WebElement (session=\"8e84952c95fa9eb0f5e653a673b1a349\", element=\"90f62141-90f7-4937-bb51-77917657a98a\")>,\n",
       " <selenium.webdriver.remote.webelement.WebElement (session=\"8e84952c95fa9eb0f5e653a673b1a349\", element=\"d2f5845f-dc69-4095-bfed-9fbe90cf8e99\")>,\n",
       " <selenium.webdriver.remote.webelement.WebElement (session=\"8e84952c95fa9eb0f5e653a673b1a349\", element=\"c8d30ca6-9a42-4537-a78e-e9d1a914c99c\")>,\n",
       " <selenium.webdriver.remote.webelement.WebElement (session=\"8e84952c95fa9eb0f5e653a673b1a349\", element=\"76d92c8e-29e2-421a-bb0b-c8b13d15bf71\")>,\n",
       " <selenium.webdriver.remote.webelement.WebElement (session=\"8e84952c95fa9eb0f5e653a673b1a349\", element=\"adf0102d-0778-4c32-9ed2-04fe1ba344eb\")>,\n",
       " <selenium.webdriver.remote.webelement.WebElement (session=\"8e84952c95fa9eb0f5e653a673b1a349\", element=\"6e2c49f9-9ae7-4448-b777-6fb96be4afe8\")>,\n",
       " <selenium.webdriver.remote.webelement.WebElement (session=\"8e84952c95fa9eb0f5e653a673b1a349\", element=\"a5d194ae-cbd4-4abf-ab6d-fdb3a00682a6\")>,\n",
       " <selenium.webdriver.remote.webelement.WebElement (session=\"8e84952c95fa9eb0f5e653a673b1a349\", element=\"8aa1f60c-acf7-439c-8ead-43dd76f10391\")>,\n",
       " <selenium.webdriver.remote.webelement.WebElement (session=\"8e84952c95fa9eb0f5e653a673b1a349\", element=\"182799bd-d9d0-45a0-aa14-20c775aa184d\")>,\n",
       " <selenium.webdriver.remote.webelement.WebElement (session=\"8e84952c95fa9eb0f5e653a673b1a349\", element=\"b4305b66-2bf1-4504-996d-643e27006b19\")>,\n",
       " <selenium.webdriver.remote.webelement.WebElement (session=\"8e84952c95fa9eb0f5e653a673b1a349\", element=\"fb0cf785-e81d-4dbf-bca0-01146d4b39cd\")>,\n",
       " <selenium.webdriver.remote.webelement.WebElement (session=\"8e84952c95fa9eb0f5e653a673b1a349\", element=\"a2dbf14e-04d4-46e9-8ab5-fc597472e499\")>,\n",
       " <selenium.webdriver.remote.webelement.WebElement (session=\"8e84952c95fa9eb0f5e653a673b1a349\", element=\"080f2c48-1c01-4fd9-8b45-d9295c798a59\")>,\n",
       " <selenium.webdriver.remote.webelement.WebElement (session=\"8e84952c95fa9eb0f5e653a673b1a349\", element=\"6bbb88ac-c4d2-4118-8bed-d59deff6c377\")>,\n",
       " <selenium.webdriver.remote.webelement.WebElement (session=\"8e84952c95fa9eb0f5e653a673b1a349\", element=\"454718da-01d6-4cbd-a86a-10c2346b1bda\")>,\n",
       " <selenium.webdriver.remote.webelement.WebElement (session=\"8e84952c95fa9eb0f5e653a673b1a349\", element=\"23cacb0e-8e9b-4f68-8770-249075268ebf\")>,\n",
       " <selenium.webdriver.remote.webelement.WebElement (session=\"8e84952c95fa9eb0f5e653a673b1a349\", element=\"76e47c87-e84c-46b0-b30a-cb67346c09d6\")>,\n",
       " <selenium.webdriver.remote.webelement.WebElement (session=\"8e84952c95fa9eb0f5e653a673b1a349\", element=\"2c1cc26f-4097-45f2-83c8-e6fd01c1ec9d\")>,\n",
       " <selenium.webdriver.remote.webelement.WebElement (session=\"8e84952c95fa9eb0f5e653a673b1a349\", element=\"1375a463-1165-41ec-92ad-7516f9ad1aaf\")>]"
      ]
     },
     "execution_count": 71,
     "metadata": {},
     "output_type": "execute_result"
    }
   ],
   "source": [
    "job_tags2=driver2.find_elements_by_xpath('//a[@class=\"title fw500 ellipsis\"]')\n",
    "job_tags2"
   ]
  },
  {
   "cell_type": "code",
   "execution_count": 73,
   "id": "b723d9f1",
   "metadata": {},
   "outputs": [
    {
     "data": {
      "text/plain": [
       "['Hiring -Data Analyst, Business Analyst, MIS Analyst -3rd Party Payroll',\n",
       " 'Data Analyst',\n",
       " 'Data Analyst',\n",
       " 'Global Tax Automation & Operations - Data Scientist Senior Analyst',\n",
       " 'Pipeline/Piping Data Analyst Trainee',\n",
       " 'Data Analyst',\n",
       " 'Data Analyst',\n",
       " 'Data Analyst',\n",
       " 'Data Analyst',\n",
       " 'Data Analyst']"
      ]
     },
     "execution_count": 73,
     "metadata": {},
     "output_type": "execute_result"
    }
   ],
   "source": [
    "job_titles1=[] #indexing for first 10 outputs\n",
    "for i in job_tags2:\n",
    "    job_titles1.append(i.text)\n",
    "    job_titles1=job_titles[0:10]\n",
    "job_titles1    "
   ]
  },
  {
   "cell_type": "code",
   "execution_count": 74,
   "id": "eccab504",
   "metadata": {},
   "outputs": [
    {
     "data": {
      "text/plain": [
       "[<selenium.webdriver.remote.webelement.WebElement (session=\"8e84952c95fa9eb0f5e653a673b1a349\", element=\"3d97f057-7c44-400e-9f2c-311169e5064b\")>,\n",
       " <selenium.webdriver.remote.webelement.WebElement (session=\"8e84952c95fa9eb0f5e653a673b1a349\", element=\"37fae3d3-f0ea-45ab-ab87-7bf98e82b800\")>,\n",
       " <selenium.webdriver.remote.webelement.WebElement (session=\"8e84952c95fa9eb0f5e653a673b1a349\", element=\"ec634ccd-9488-441f-aa8d-22508260041d\")>,\n",
       " <selenium.webdriver.remote.webelement.WebElement (session=\"8e84952c95fa9eb0f5e653a673b1a349\", element=\"6974b9f2-d18f-4965-ae48-b4cd8ecd9705\")>,\n",
       " <selenium.webdriver.remote.webelement.WebElement (session=\"8e84952c95fa9eb0f5e653a673b1a349\", element=\"382b9963-4b2e-4317-a40a-048df9185d4f\")>,\n",
       " <selenium.webdriver.remote.webelement.WebElement (session=\"8e84952c95fa9eb0f5e653a673b1a349\", element=\"4ad2def0-c47a-4f90-9203-b7b1cffc7359\")>,\n",
       " <selenium.webdriver.remote.webelement.WebElement (session=\"8e84952c95fa9eb0f5e653a673b1a349\", element=\"90a82e9d-2fe2-4ed6-a173-32e504770201\")>,\n",
       " <selenium.webdriver.remote.webelement.WebElement (session=\"8e84952c95fa9eb0f5e653a673b1a349\", element=\"27c6f014-7df3-480d-94f2-b3d45a82e9df\")>,\n",
       " <selenium.webdriver.remote.webelement.WebElement (session=\"8e84952c95fa9eb0f5e653a673b1a349\", element=\"b5b685ae-4477-4dfa-9a92-f044692882c3\")>,\n",
       " <selenium.webdriver.remote.webelement.WebElement (session=\"8e84952c95fa9eb0f5e653a673b1a349\", element=\"ecd147a8-5125-4bfc-a9bd-e797bd501ce3\")>,\n",
       " <selenium.webdriver.remote.webelement.WebElement (session=\"8e84952c95fa9eb0f5e653a673b1a349\", element=\"bce93c09-5fa3-4dda-94e9-a94e17d076f5\")>,\n",
       " <selenium.webdriver.remote.webelement.WebElement (session=\"8e84952c95fa9eb0f5e653a673b1a349\", element=\"cefd1193-4cc8-4aac-8d27-c4cc4221201c\")>,\n",
       " <selenium.webdriver.remote.webelement.WebElement (session=\"8e84952c95fa9eb0f5e653a673b1a349\", element=\"0eae2cb5-016c-4459-8c29-5b96c6a822a6\")>,\n",
       " <selenium.webdriver.remote.webelement.WebElement (session=\"8e84952c95fa9eb0f5e653a673b1a349\", element=\"60874709-b5b5-4fc4-b756-3600c3c89b99\")>,\n",
       " <selenium.webdriver.remote.webelement.WebElement (session=\"8e84952c95fa9eb0f5e653a673b1a349\", element=\"fedd2ed9-677e-42ad-ac0c-c9a1c3d1493b\")>,\n",
       " <selenium.webdriver.remote.webelement.WebElement (session=\"8e84952c95fa9eb0f5e653a673b1a349\", element=\"59e05aa6-a189-4f6b-80b9-bbe8ec5ddcfc\")>,\n",
       " <selenium.webdriver.remote.webelement.WebElement (session=\"8e84952c95fa9eb0f5e653a673b1a349\", element=\"d583e0fc-f17e-4ecc-af13-4f85a3ea93a7\")>,\n",
       " <selenium.webdriver.remote.webelement.WebElement (session=\"8e84952c95fa9eb0f5e653a673b1a349\", element=\"8f6e2fd3-734e-440c-a370-133c077a7e9c\")>,\n",
       " <selenium.webdriver.remote.webelement.WebElement (session=\"8e84952c95fa9eb0f5e653a673b1a349\", element=\"f6c11f64-a947-49a3-806b-362ba732a536\")>,\n",
       " <selenium.webdriver.remote.webelement.WebElement (session=\"8e84952c95fa9eb0f5e653a673b1a349\", element=\"301535cc-b851-4b51-827e-972123f6f8fc\")>]"
      ]
     },
     "execution_count": 74,
     "metadata": {},
     "output_type": "execute_result"
    }
   ],
   "source": [
    "location2=driver2.find_elements_by_xpath('//li[@class=\"fleft grey-text br2 placeHolderLi location\"]')\n",
    "location2"
   ]
  },
  {
   "cell_type": "code",
   "execution_count": 75,
   "id": "159fc775",
   "metadata": {},
   "outputs": [
    {
     "data": {
      "text/plain": [
       "['Gurgaon/Gurugram, Chennai, Bangalore/Bengaluru',\n",
       " 'Gurgaon/Gurugram',\n",
       " 'Bangalore/Bengaluru, Delhi / NCR, Mumbai (All Areas)\\n(WFH during Covid)',\n",
       " 'Noida, Kota, Mumbai, Chandigarh, Lucknow, Agra, Gurgaon/Gurugram, Jaipur, Bangalore/Bengaluru',\n",
       " 'Hyderabad/Secunderabad, Bangalore/Bengaluru, Delhi / NCR',\n",
       " 'Gurgaon/Gurugram',\n",
       " 'Bangalore/Bengaluru, Delhi / NCR',\n",
       " 'New Delhi',\n",
       " 'Mumbai, Pune, Chennai, Gurgaon/Gurugram, Bangalore/Bengaluru',\n",
       " 'Gurgaon/Gurugram, Bangalore/Bengaluru']"
      ]
     },
     "execution_count": 75,
     "metadata": {},
     "output_type": "execute_result"
    }
   ],
   "source": [
    "loc2=[] #scrapping first 10 outputs\n",
    "for i in location2:\n",
    "    loc2.append(i.text)\n",
    "    loc2=loc2[0:10]\n",
    "loc2    "
   ]
  },
  {
   "cell_type": "code",
   "execution_count": 76,
   "id": "f4ee1527",
   "metadata": {},
   "outputs": [
    {
     "data": {
      "text/plain": [
       "[<selenium.webdriver.remote.webelement.WebElement (session=\"8e84952c95fa9eb0f5e653a673b1a349\", element=\"5e603043-cc44-4273-b6ea-582636f3a663\")>,\n",
       " <selenium.webdriver.remote.webelement.WebElement (session=\"8e84952c95fa9eb0f5e653a673b1a349\", element=\"dbcfeb93-6b72-406d-ab85-7cc6cdc02410\")>,\n",
       " <selenium.webdriver.remote.webelement.WebElement (session=\"8e84952c95fa9eb0f5e653a673b1a349\", element=\"14c72c05-0307-4130-80b1-952a9c0e4b36\")>,\n",
       " <selenium.webdriver.remote.webelement.WebElement (session=\"8e84952c95fa9eb0f5e653a673b1a349\", element=\"3d4ec20f-38f5-4c3d-ab5d-ca1ebb52cf64\")>,\n",
       " <selenium.webdriver.remote.webelement.WebElement (session=\"8e84952c95fa9eb0f5e653a673b1a349\", element=\"1c6c31de-85b5-4387-8b0e-80c79c67115a\")>,\n",
       " <selenium.webdriver.remote.webelement.WebElement (session=\"8e84952c95fa9eb0f5e653a673b1a349\", element=\"a5159b35-93ec-4d3a-a6f1-d4468011d733\")>,\n",
       " <selenium.webdriver.remote.webelement.WebElement (session=\"8e84952c95fa9eb0f5e653a673b1a349\", element=\"4a0b6ffc-3727-45c6-b141-21b8630b0363\")>,\n",
       " <selenium.webdriver.remote.webelement.WebElement (session=\"8e84952c95fa9eb0f5e653a673b1a349\", element=\"14b17e54-09ec-4c20-9837-53bdc7f61bb6\")>,\n",
       " <selenium.webdriver.remote.webelement.WebElement (session=\"8e84952c95fa9eb0f5e653a673b1a349\", element=\"088f47b3-42c0-415b-acd4-a82edcbcae84\")>,\n",
       " <selenium.webdriver.remote.webelement.WebElement (session=\"8e84952c95fa9eb0f5e653a673b1a349\", element=\"44d2ed6b-b1f8-49f9-a911-648c4f22bf9f\")>,\n",
       " <selenium.webdriver.remote.webelement.WebElement (session=\"8e84952c95fa9eb0f5e653a673b1a349\", element=\"f437b4f8-3da8-4045-8097-71aab802a87f\")>,\n",
       " <selenium.webdriver.remote.webelement.WebElement (session=\"8e84952c95fa9eb0f5e653a673b1a349\", element=\"5643513c-5b9a-4a2f-a5d2-2be72d84c0e0\")>,\n",
       " <selenium.webdriver.remote.webelement.WebElement (session=\"8e84952c95fa9eb0f5e653a673b1a349\", element=\"d7bd420b-7f81-47fc-b6ea-c95b48d352a7\")>,\n",
       " <selenium.webdriver.remote.webelement.WebElement (session=\"8e84952c95fa9eb0f5e653a673b1a349\", element=\"20cf8b2a-698e-4435-bed6-b5bfb5b5a815\")>,\n",
       " <selenium.webdriver.remote.webelement.WebElement (session=\"8e84952c95fa9eb0f5e653a673b1a349\", element=\"ed73d00b-94cf-4213-9e0c-fbb316af53de\")>,\n",
       " <selenium.webdriver.remote.webelement.WebElement (session=\"8e84952c95fa9eb0f5e653a673b1a349\", element=\"500598ac-bd23-4fc6-ba31-84f5df9a124b\")>,\n",
       " <selenium.webdriver.remote.webelement.WebElement (session=\"8e84952c95fa9eb0f5e653a673b1a349\", element=\"3c1de0dd-0830-497c-9543-a9d799e40807\")>,\n",
       " <selenium.webdriver.remote.webelement.WebElement (session=\"8e84952c95fa9eb0f5e653a673b1a349\", element=\"126be98d-c0fa-4300-a0dc-082239096cf8\")>,\n",
       " <selenium.webdriver.remote.webelement.WebElement (session=\"8e84952c95fa9eb0f5e653a673b1a349\", element=\"78408d24-3ce8-4e4c-94ab-3da1485611cc\")>,\n",
       " <selenium.webdriver.remote.webelement.WebElement (session=\"8e84952c95fa9eb0f5e653a673b1a349\", element=\"7495ebf2-687b-4ee6-af39-8e28c06fc66e\")>]"
      ]
     },
     "execution_count": 76,
     "metadata": {},
     "output_type": "execute_result"
    }
   ],
   "source": [
    "company2=driver2.find_elements_by_xpath('//a[@class=\"subTitle ellipsis fleft\"]')\n",
    "company2"
   ]
  },
  {
   "cell_type": "code",
   "execution_count": 77,
   "id": "6124f09a",
   "metadata": {},
   "outputs": [
    {
     "data": {
      "text/plain": [
       "['Tredence Analytics Solutions Private Limited',\n",
       " 'ParallelDots',\n",
       " 'TransOrg Solutions Services (P) Ltd.',\n",
       " 'AVE-Promagne',\n",
       " 'Talentify',\n",
       " 'ParallelDots',\n",
       " 'MLAI Digital',\n",
       " 'PubMatic',\n",
       " 'AIM recruits',\n",
       " 'GREAT LAKES E-LEARNING SERVICES PRIVATE LIMITED']"
      ]
     },
     "execution_count": 77,
     "metadata": {},
     "output_type": "execute_result"
    }
   ],
   "source": [
    "comp2=[]\n",
    "for i in company2:\n",
    "    comp2.append(i.text)\n",
    "    comp2=comp2[0:10]\n",
    "comp2 "
   ]
  },
  {
   "cell_type": "code",
   "execution_count": 79,
   "id": "afddca80",
   "metadata": {},
   "outputs": [
    {
     "data": {
      "text/plain": [
       "[<selenium.webdriver.remote.webelement.WebElement (session=\"8e84952c95fa9eb0f5e653a673b1a349\", element=\"54865ad8-0f7a-4050-9afe-ff9aceca8f7a\")>,\n",
       " <selenium.webdriver.remote.webelement.WebElement (session=\"8e84952c95fa9eb0f5e653a673b1a349\", element=\"f7e34c1c-de61-46ec-b5db-0f7e0deae4fd\")>,\n",
       " <selenium.webdriver.remote.webelement.WebElement (session=\"8e84952c95fa9eb0f5e653a673b1a349\", element=\"adad3414-5ab0-417b-ad59-97e1aea0746c\")>,\n",
       " <selenium.webdriver.remote.webelement.WebElement (session=\"8e84952c95fa9eb0f5e653a673b1a349\", element=\"39751327-556c-4d77-affc-884354fb4695\")>,\n",
       " <selenium.webdriver.remote.webelement.WebElement (session=\"8e84952c95fa9eb0f5e653a673b1a349\", element=\"a806fb03-b6da-4f22-bd1e-c3e5c0c12799\")>,\n",
       " <selenium.webdriver.remote.webelement.WebElement (session=\"8e84952c95fa9eb0f5e653a673b1a349\", element=\"a7cbacb4-c92e-4cf2-bbf6-e314fe687f03\")>,\n",
       " <selenium.webdriver.remote.webelement.WebElement (session=\"8e84952c95fa9eb0f5e653a673b1a349\", element=\"f477de9f-065c-4a46-afb6-d7a29f07345f\")>,\n",
       " <selenium.webdriver.remote.webelement.WebElement (session=\"8e84952c95fa9eb0f5e653a673b1a349\", element=\"673494bf-fcb2-4b3f-a7fc-59990a618d69\")>,\n",
       " <selenium.webdriver.remote.webelement.WebElement (session=\"8e84952c95fa9eb0f5e653a673b1a349\", element=\"ee54c25a-b6ae-4236-8a7e-3807369d3cb6\")>,\n",
       " <selenium.webdriver.remote.webelement.WebElement (session=\"8e84952c95fa9eb0f5e653a673b1a349\", element=\"7b91643d-b2d6-48a5-94f6-89b205aab23b\")>,\n",
       " <selenium.webdriver.remote.webelement.WebElement (session=\"8e84952c95fa9eb0f5e653a673b1a349\", element=\"65c68441-95d4-42ac-8c28-b4d2d6689cc5\")>,\n",
       " <selenium.webdriver.remote.webelement.WebElement (session=\"8e84952c95fa9eb0f5e653a673b1a349\", element=\"88cab818-4177-46bd-8a0a-fb69e8e4e6e7\")>,\n",
       " <selenium.webdriver.remote.webelement.WebElement (session=\"8e84952c95fa9eb0f5e653a673b1a349\", element=\"d0256e6d-cf0f-45dc-9bd2-f6306d752b9f\")>,\n",
       " <selenium.webdriver.remote.webelement.WebElement (session=\"8e84952c95fa9eb0f5e653a673b1a349\", element=\"13302fd6-3a8f-45fd-b5ef-ef333d797cd1\")>,\n",
       " <selenium.webdriver.remote.webelement.WebElement (session=\"8e84952c95fa9eb0f5e653a673b1a349\", element=\"e42bbd05-1cbf-4ff3-9d80-37b4a956021b\")>,\n",
       " <selenium.webdriver.remote.webelement.WebElement (session=\"8e84952c95fa9eb0f5e653a673b1a349\", element=\"a44f8538-bc81-40e3-89fa-2db467e78f4e\")>,\n",
       " <selenium.webdriver.remote.webelement.WebElement (session=\"8e84952c95fa9eb0f5e653a673b1a349\", element=\"fb893a19-8097-4cae-a7ad-c3ea184b7b69\")>,\n",
       " <selenium.webdriver.remote.webelement.WebElement (session=\"8e84952c95fa9eb0f5e653a673b1a349\", element=\"5f0d8f90-ce5d-4aaf-a191-384e2c40fb4b\")>,\n",
       " <selenium.webdriver.remote.webelement.WebElement (session=\"8e84952c95fa9eb0f5e653a673b1a349\", element=\"162a4050-8bfe-497d-ac98-8c2fe9ab8ad1\")>,\n",
       " <selenium.webdriver.remote.webelement.WebElement (session=\"8e84952c95fa9eb0f5e653a673b1a349\", element=\"16a8a526-960f-42cd-bc77-a811a5473caf\")>]"
      ]
     },
     "execution_count": 79,
     "metadata": {},
     "output_type": "execute_result"
    }
   ],
   "source": [
    "expirence2=driver2.find_elements_by_xpath('//span[contains(@title,\"Yrs\")]')\n",
    "expirence2"
   ]
  },
  {
   "cell_type": "code",
   "execution_count": 80,
   "id": "316286e8",
   "metadata": {},
   "outputs": [
    {
     "data": {
      "text/plain": [
       "['2-7 Yrs',\n",
       " '0-3 Yrs',\n",
       " '4-9 Yrs',\n",
       " '3-8 Yrs',\n",
       " '0-1 Yrs',\n",
       " '3-8 Yrs',\n",
       " '3-6 Yrs',\n",
       " '3-7 Yrs',\n",
       " '5-7 Yrs',\n",
       " '5-8 Yrs']"
      ]
     },
     "execution_count": 80,
     "metadata": {},
     "output_type": "execute_result"
    }
   ],
   "source": [
    "exp2=[]\n",
    "for i in expirence2:\n",
    "    exp2.append(i.text)\n",
    "    exp2=exp2[0:10]\n",
    "exp2 "
   ]
  },
  {
   "cell_type": "code",
   "execution_count": 87,
   "id": "c6556672",
   "metadata": {},
   "outputs": [
    {
     "name": "stdout",
     "output_type": "stream",
     "text": [
      "10 10 10 10\n"
     ]
    }
   ],
   "source": [
    "print(len(job_titles1),len(loc2),len(comp2),len(exp2)) # as we needed first 10 jobs we have it"
   ]
  },
  {
   "cell_type": "code",
   "execution_count": 82,
   "id": "13521425",
   "metadata": {},
   "outputs": [
    {
     "data": {
      "text/html": [
       "<div>\n",
       "<style scoped>\n",
       "    .dataframe tbody tr th:only-of-type {\n",
       "        vertical-align: middle;\n",
       "    }\n",
       "\n",
       "    .dataframe tbody tr th {\n",
       "        vertical-align: top;\n",
       "    }\n",
       "\n",
       "    .dataframe thead th {\n",
       "        text-align: right;\n",
       "    }\n",
       "</style>\n",
       "<table border=\"1\" class=\"dataframe\">\n",
       "  <thead>\n",
       "    <tr style=\"text-align: right;\">\n",
       "      <th></th>\n",
       "      <th>Job-Title</th>\n",
       "      <th>Job-Location</th>\n",
       "      <th>Company-Name</th>\n",
       "      <th>Expirence-required</th>\n",
       "    </tr>\n",
       "  </thead>\n",
       "  <tbody>\n",
       "    <tr>\n",
       "      <th>0</th>\n",
       "      <td>Hiring -Data Analyst, Business Analyst, MIS An...</td>\n",
       "      <td>Gurgaon/Gurugram, Chennai, Bangalore/Bengaluru</td>\n",
       "      <td>Tredence Analytics Solutions Private Limited</td>\n",
       "      <td>2-7 Yrs</td>\n",
       "    </tr>\n",
       "    <tr>\n",
       "      <th>1</th>\n",
       "      <td>Data Analyst</td>\n",
       "      <td>Gurgaon/Gurugram</td>\n",
       "      <td>ParallelDots</td>\n",
       "      <td>0-3 Yrs</td>\n",
       "    </tr>\n",
       "    <tr>\n",
       "      <th>2</th>\n",
       "      <td>Data Analyst</td>\n",
       "      <td>Bangalore/Bengaluru, Delhi / NCR, Mumbai (All ...</td>\n",
       "      <td>TransOrg Solutions Services (P) Ltd.</td>\n",
       "      <td>4-9 Yrs</td>\n",
       "    </tr>\n",
       "    <tr>\n",
       "      <th>3</th>\n",
       "      <td>Global Tax Automation &amp; Operations - Data Scie...</td>\n",
       "      <td>Noida, Kota, Mumbai, Chandigarh, Lucknow, Agra...</td>\n",
       "      <td>AVE-Promagne</td>\n",
       "      <td>3-8 Yrs</td>\n",
       "    </tr>\n",
       "    <tr>\n",
       "      <th>4</th>\n",
       "      <td>Pipeline/Piping Data Analyst Trainee</td>\n",
       "      <td>Hyderabad/Secunderabad, Bangalore/Bengaluru, D...</td>\n",
       "      <td>Talentify</td>\n",
       "      <td>0-1 Yrs</td>\n",
       "    </tr>\n",
       "    <tr>\n",
       "      <th>5</th>\n",
       "      <td>Data Analyst</td>\n",
       "      <td>Gurgaon/Gurugram</td>\n",
       "      <td>ParallelDots</td>\n",
       "      <td>3-8 Yrs</td>\n",
       "    </tr>\n",
       "    <tr>\n",
       "      <th>6</th>\n",
       "      <td>Data Analyst</td>\n",
       "      <td>Bangalore/Bengaluru, Delhi / NCR</td>\n",
       "      <td>MLAI Digital</td>\n",
       "      <td>3-6 Yrs</td>\n",
       "    </tr>\n",
       "    <tr>\n",
       "      <th>7</th>\n",
       "      <td>Data Analyst</td>\n",
       "      <td>New Delhi</td>\n",
       "      <td>PubMatic</td>\n",
       "      <td>3-7 Yrs</td>\n",
       "    </tr>\n",
       "    <tr>\n",
       "      <th>8</th>\n",
       "      <td>Data Analyst</td>\n",
       "      <td>Mumbai, Pune, Chennai, Gurgaon/Gurugram, Banga...</td>\n",
       "      <td>AIM recruits</td>\n",
       "      <td>5-7 Yrs</td>\n",
       "    </tr>\n",
       "    <tr>\n",
       "      <th>9</th>\n",
       "      <td>Data Analyst</td>\n",
       "      <td>Gurgaon/Gurugram, Bangalore/Bengaluru</td>\n",
       "      <td>GREAT LAKES E-LEARNING SERVICES PRIVATE LIMITED</td>\n",
       "      <td>5-8 Yrs</td>\n",
       "    </tr>\n",
       "  </tbody>\n",
       "</table>\n",
       "</div>"
      ],
      "text/plain": [
       "                                           Job-Title  \\\n",
       "0  Hiring -Data Analyst, Business Analyst, MIS An...   \n",
       "1                                       Data Analyst   \n",
       "2                                       Data Analyst   \n",
       "3  Global Tax Automation & Operations - Data Scie...   \n",
       "4               Pipeline/Piping Data Analyst Trainee   \n",
       "5                                       Data Analyst   \n",
       "6                                       Data Analyst   \n",
       "7                                       Data Analyst   \n",
       "8                                       Data Analyst   \n",
       "9                                       Data Analyst   \n",
       "\n",
       "                                        Job-Location  \\\n",
       "0     Gurgaon/Gurugram, Chennai, Bangalore/Bengaluru   \n",
       "1                                   Gurgaon/Gurugram   \n",
       "2  Bangalore/Bengaluru, Delhi / NCR, Mumbai (All ...   \n",
       "3  Noida, Kota, Mumbai, Chandigarh, Lucknow, Agra...   \n",
       "4  Hyderabad/Secunderabad, Bangalore/Bengaluru, D...   \n",
       "5                                   Gurgaon/Gurugram   \n",
       "6                   Bangalore/Bengaluru, Delhi / NCR   \n",
       "7                                          New Delhi   \n",
       "8  Mumbai, Pune, Chennai, Gurgaon/Gurugram, Banga...   \n",
       "9              Gurgaon/Gurugram, Bangalore/Bengaluru   \n",
       "\n",
       "                                      Company-Name Expirence-required  \n",
       "0     Tredence Analytics Solutions Private Limited            2-7 Yrs  \n",
       "1                                     ParallelDots            0-3 Yrs  \n",
       "2             TransOrg Solutions Services (P) Ltd.            4-9 Yrs  \n",
       "3                                     AVE-Promagne            3-8 Yrs  \n",
       "4                                        Talentify            0-1 Yrs  \n",
       "5                                     ParallelDots            3-8 Yrs  \n",
       "6                                     MLAI Digital            3-6 Yrs  \n",
       "7                                         PubMatic            3-7 Yrs  \n",
       "8                                     AIM recruits            5-7 Yrs  \n",
       "9  GREAT LAKES E-LEARNING SERVICES PRIVATE LIMITED            5-8 Yrs  "
      ]
     },
     "execution_count": 82,
     "metadata": {},
     "output_type": "execute_result"
    }
   ],
   "source": [
    "df=pd.DataFrame({'Job-Title':job_titles1,'Job-Location':loc2,'Company-Name':comp2,'Expirence-required':exp2})\n",
    "df"
   ]
  },
  {
   "cell_type": "code",
   "execution_count": null,
   "id": "8195b45a",
   "metadata": {},
   "outputs": [],
   "source": []
  },
  {
   "cell_type": "code",
   "execution_count": null,
   "id": "c364b76e",
   "metadata": {},
   "outputs": [],
   "source": []
  },
  {
   "cell_type": "markdown",
   "id": "908da673",
   "metadata": {},
   "source": [
    "## 4. Scrape data of first 100 sunglasses listings on flipkart.com"
   ]
  },
  {
   "cell_type": "code",
   "execution_count": 90,
   "id": "f69dbc0f",
   "metadata": {},
   "outputs": [],
   "source": [
    "driver4=webdriver.Chrome('chromedriver.exe')"
   ]
  },
  {
   "cell_type": "code",
   "execution_count": 91,
   "id": "9099774a",
   "metadata": {},
   "outputs": [],
   "source": [
    "url4='https://www.flipkart.com/'\n",
    "driver4.get(url4)"
   ]
  },
  {
   "cell_type": "code",
   "execution_count": 92,
   "id": "9ca29f09",
   "metadata": {},
   "outputs": [],
   "source": [
    "srch_glass=driver4.find_element_by_class_name('_3704LK')"
   ]
  },
  {
   "cell_type": "code",
   "execution_count": 93,
   "id": "6c424afa",
   "metadata": {},
   "outputs": [
    {
     "data": {
      "text/plain": [
       "<selenium.webdriver.remote.webelement.WebElement (session=\"0c506f0753b892f3010b052b6c08879d\", element=\"21541a1f-8b20-4258-b00d-91dca64ac3fa\")>"
      ]
     },
     "execution_count": 93,
     "metadata": {},
     "output_type": "execute_result"
    }
   ],
   "source": [
    "srch_glass"
   ]
  },
  {
   "cell_type": "code",
   "execution_count": 94,
   "id": "8ca528d3",
   "metadata": {},
   "outputs": [],
   "source": [
    "srch_glass.send_keys('sunglasses')"
   ]
  },
  {
   "cell_type": "code",
   "execution_count": 95,
   "id": "5b9aa538",
   "metadata": {},
   "outputs": [],
   "source": [
    "srch_btn4=driver4.find_element_by_class_name(\"L0Z3Pu\")\n",
    "srch_btn4.click()"
   ]
  },
  {
   "cell_type": "code",
   "execution_count": 97,
   "id": "d6217161",
   "metadata": {},
   "outputs": [
    {
     "data": {
      "text/plain": [
       "'ROZZETTA CRAFT'"
      ]
     },
     "execution_count": 97,
     "metadata": {},
     "output_type": "execute_result"
    }
   ],
   "source": [
    "brand_tag=driver4.find_element_by_class_name('_2WkVRV')\n",
    "brand_tag.text"
   ]
  },
  {
   "cell_type": "code",
   "execution_count": 98,
   "id": "b44b8741",
   "metadata": {},
   "outputs": [
    {
     "data": {
      "text/plain": [
       "[<selenium.webdriver.remote.webelement.WebElement (session=\"0c506f0753b892f3010b052b6c08879d\", element=\"359ef8d5-3475-4d37-967e-5339a3ade6b5\")>,\n",
       " <selenium.webdriver.remote.webelement.WebElement (session=\"0c506f0753b892f3010b052b6c08879d\", element=\"c57e6eb4-03b8-420b-8c16-71bf558be8d1\")>,\n",
       " <selenium.webdriver.remote.webelement.WebElement (session=\"0c506f0753b892f3010b052b6c08879d\", element=\"396f7e5c-50b0-4011-a834-f605c2ee17c2\")>,\n",
       " <selenium.webdriver.remote.webelement.WebElement (session=\"0c506f0753b892f3010b052b6c08879d\", element=\"7df53525-63ca-405c-856e-f6ff32cd9b07\")>,\n",
       " <selenium.webdriver.remote.webelement.WebElement (session=\"0c506f0753b892f3010b052b6c08879d\", element=\"2ac2b4e9-a2c3-4fc4-ac75-5f30f1a3001a\")>,\n",
       " <selenium.webdriver.remote.webelement.WebElement (session=\"0c506f0753b892f3010b052b6c08879d\", element=\"91bf8554-c0b5-4de6-a8a7-68e5b951b5a6\")>,\n",
       " <selenium.webdriver.remote.webelement.WebElement (session=\"0c506f0753b892f3010b052b6c08879d\", element=\"43f11b4f-6814-4753-94aa-e479833eacd0\")>,\n",
       " <selenium.webdriver.remote.webelement.WebElement (session=\"0c506f0753b892f3010b052b6c08879d\", element=\"0fc9e4b6-789b-4c5c-bb74-0343346f4ad0\")>,\n",
       " <selenium.webdriver.remote.webelement.WebElement (session=\"0c506f0753b892f3010b052b6c08879d\", element=\"9348b29c-d5f9-4562-a44f-66155c15a7ba\")>,\n",
       " <selenium.webdriver.remote.webelement.WebElement (session=\"0c506f0753b892f3010b052b6c08879d\", element=\"37b966b9-10fd-4156-b742-d6deb4f6a408\")>,\n",
       " <selenium.webdriver.remote.webelement.WebElement (session=\"0c506f0753b892f3010b052b6c08879d\", element=\"494032d3-211d-4757-8763-c68b85db88ec\")>,\n",
       " <selenium.webdriver.remote.webelement.WebElement (session=\"0c506f0753b892f3010b052b6c08879d\", element=\"5dd53836-5260-4fd2-b340-cdb03cca3820\")>,\n",
       " <selenium.webdriver.remote.webelement.WebElement (session=\"0c506f0753b892f3010b052b6c08879d\", element=\"a81a2903-189c-4f16-82fa-f771a1c9e44f\")>,\n",
       " <selenium.webdriver.remote.webelement.WebElement (session=\"0c506f0753b892f3010b052b6c08879d\", element=\"6296d34f-ecab-48ff-a244-ccbb457d7ad3\")>,\n",
       " <selenium.webdriver.remote.webelement.WebElement (session=\"0c506f0753b892f3010b052b6c08879d\", element=\"0ceb0dcf-6322-4470-8a1c-93e5ad7bec3b\")>,\n",
       " <selenium.webdriver.remote.webelement.WebElement (session=\"0c506f0753b892f3010b052b6c08879d\", element=\"8c6e23fb-e184-45b5-94eb-3f7ea3a7c862\")>,\n",
       " <selenium.webdriver.remote.webelement.WebElement (session=\"0c506f0753b892f3010b052b6c08879d\", element=\"b6ef8571-8f90-4622-b037-fcbd867ead97\")>,\n",
       " <selenium.webdriver.remote.webelement.WebElement (session=\"0c506f0753b892f3010b052b6c08879d\", element=\"eb7139ea-37e1-4204-a2a9-55a110539bf0\")>,\n",
       " <selenium.webdriver.remote.webelement.WebElement (session=\"0c506f0753b892f3010b052b6c08879d\", element=\"6d29ae90-dc7e-429a-b55b-f10fdc081565\")>,\n",
       " <selenium.webdriver.remote.webelement.WebElement (session=\"0c506f0753b892f3010b052b6c08879d\", element=\"d9495a96-e7cd-456f-bde5-02eccd34c629\")>,\n",
       " <selenium.webdriver.remote.webelement.WebElement (session=\"0c506f0753b892f3010b052b6c08879d\", element=\"84a0cc03-6d44-423d-a16c-b5a68a196100\")>,\n",
       " <selenium.webdriver.remote.webelement.WebElement (session=\"0c506f0753b892f3010b052b6c08879d\", element=\"81fa5cb6-38dc-40ea-afc2-48be716a1128\")>,\n",
       " <selenium.webdriver.remote.webelement.WebElement (session=\"0c506f0753b892f3010b052b6c08879d\", element=\"1f90dccb-00c4-470c-ae2e-d96aad056465\")>,\n",
       " <selenium.webdriver.remote.webelement.WebElement (session=\"0c506f0753b892f3010b052b6c08879d\", element=\"34e9943b-280c-4e63-a353-0d917d439078\")>,\n",
       " <selenium.webdriver.remote.webelement.WebElement (session=\"0c506f0753b892f3010b052b6c08879d\", element=\"133456dd-3d5a-4d09-ade4-82946c75e5ff\")>,\n",
       " <selenium.webdriver.remote.webelement.WebElement (session=\"0c506f0753b892f3010b052b6c08879d\", element=\"55978e47-d712-46ab-895e-c206eb66963d\")>,\n",
       " <selenium.webdriver.remote.webelement.WebElement (session=\"0c506f0753b892f3010b052b6c08879d\", element=\"3933af23-93fa-422c-b393-b75ffbefc775\")>,\n",
       " <selenium.webdriver.remote.webelement.WebElement (session=\"0c506f0753b892f3010b052b6c08879d\", element=\"78bd5f76-7d7c-4647-a9a1-5dbf74e4e72c\")>,\n",
       " <selenium.webdriver.remote.webelement.WebElement (session=\"0c506f0753b892f3010b052b6c08879d\", element=\"55fe9627-cb35-4a20-8232-7c17afcaceea\")>,\n",
       " <selenium.webdriver.remote.webelement.WebElement (session=\"0c506f0753b892f3010b052b6c08879d\", element=\"d4ba06e5-1c72-43ea-8348-c0a0dd77f70e\")>,\n",
       " <selenium.webdriver.remote.webelement.WebElement (session=\"0c506f0753b892f3010b052b6c08879d\", element=\"2616c1be-3960-49c7-9c47-59132a40f468\")>,\n",
       " <selenium.webdriver.remote.webelement.WebElement (session=\"0c506f0753b892f3010b052b6c08879d\", element=\"52730bce-f9d4-41c5-851e-9deae1e569c4\")>,\n",
       " <selenium.webdriver.remote.webelement.WebElement (session=\"0c506f0753b892f3010b052b6c08879d\", element=\"4e872f47-3f23-4dcf-a678-1fab1193b2cb\")>,\n",
       " <selenium.webdriver.remote.webelement.WebElement (session=\"0c506f0753b892f3010b052b6c08879d\", element=\"ce68a905-4ee8-40d3-8ae7-04d0a02298fc\")>,\n",
       " <selenium.webdriver.remote.webelement.WebElement (session=\"0c506f0753b892f3010b052b6c08879d\", element=\"17d14a35-2bb8-4b4d-9dc7-8a5f7920e194\")>,\n",
       " <selenium.webdriver.remote.webelement.WebElement (session=\"0c506f0753b892f3010b052b6c08879d\", element=\"80cf3cf5-8cef-45f9-bc54-3d9d517bf722\")>,\n",
       " <selenium.webdriver.remote.webelement.WebElement (session=\"0c506f0753b892f3010b052b6c08879d\", element=\"f272ba0b-eddd-4ca5-a761-2956d1cc6a40\")>,\n",
       " <selenium.webdriver.remote.webelement.WebElement (session=\"0c506f0753b892f3010b052b6c08879d\", element=\"bb41286b-079b-4622-9e6b-3411696dd51f\")>,\n",
       " <selenium.webdriver.remote.webelement.WebElement (session=\"0c506f0753b892f3010b052b6c08879d\", element=\"64f5c145-3c5c-4902-9638-bd75e5180e4d\")>,\n",
       " <selenium.webdriver.remote.webelement.WebElement (session=\"0c506f0753b892f3010b052b6c08879d\", element=\"ba0097a3-3de0-435b-b99e-bf837402655d\")>]"
      ]
     },
     "execution_count": 98,
     "metadata": {},
     "output_type": "execute_result"
    }
   ],
   "source": [
    "brand_page=driver4.find_elements_by_xpath('//div[@class=\"_2WkVRV\"]')\n",
    "brand_page"
   ]
  },
  {
   "cell_type": "code",
   "execution_count": 100,
   "id": "423e2730",
   "metadata": {},
   "outputs": [
    {
     "data": {
      "text/plain": [
       "['ROZZETTA CRAFT',\n",
       " 'Singco India',\n",
       " 'Fastrack',\n",
       " 'Elligator',\n",
       " 'SRPM',\n",
       " 'SUNBEE',\n",
       " 'New Specs',\n",
       " 'VINCENT CHASE',\n",
       " 'PIRASO',\n",
       " 'SUNBEE',\n",
       " 'SHAAH COLLECTIONS',\n",
       " 'elegante',\n",
       " 'Fastrack',\n",
       " 'kingsunglasses',\n",
       " 'ROZZETTA CRAFT',\n",
       " 'VINCENT CHASE',\n",
       " 'Johaena',\n",
       " 'PHENOMENAL',\n",
       " 'ROZZETTA CRAFT',\n",
       " 'ROZZETTA CRAFT',\n",
       " 'Elligator',\n",
       " 'Elligator',\n",
       " 'PHENOMENAL',\n",
       " 'ROZZETTA CRAFT',\n",
       " 'Elligator',\n",
       " 'Fastrack',\n",
       " 'SUNBEE',\n",
       " 'VINCENT CHASE',\n",
       " 'PHENOMENAL',\n",
       " 'maxa',\n",
       " 'PIRASO',\n",
       " 'VINCENT CHASE',\n",
       " 'Lee Topper',\n",
       " 'Elligator',\n",
       " 'New Specs',\n",
       " 'ZOSTAL',\n",
       " 'Lee Topper',\n",
       " 'Rich Club',\n",
       " 'PHENOMENAL',\n",
       " 'ROYAL SON']"
      ]
     },
     "execution_count": 100,
     "metadata": {},
     "output_type": "execute_result"
    }
   ],
   "source": [
    "brand_name=[]\n",
    "for i in brand_page:\n",
    "    brand_name.append(i.text)\n",
    "    \n",
    "brand_name    "
   ]
  },
  {
   "cell_type": "code",
   "execution_count": 101,
   "id": "1f367199",
   "metadata": {},
   "outputs": [
    {
     "data": {
      "text/plain": [
       "[<selenium.webdriver.remote.webelement.WebElement (session=\"0c506f0753b892f3010b052b6c08879d\", element=\"65597edc-95e8-4859-9b06-c6572eac0c9c\")>,\n",
       " <selenium.webdriver.remote.webelement.WebElement (session=\"0c506f0753b892f3010b052b6c08879d\", element=\"df0ba8dd-b293-4d5a-93f0-ddcb8b47c5f8\")>,\n",
       " <selenium.webdriver.remote.webelement.WebElement (session=\"0c506f0753b892f3010b052b6c08879d\", element=\"8786cd2e-5333-4029-bd8c-c4ad448bb3f0\")>,\n",
       " <selenium.webdriver.remote.webelement.WebElement (session=\"0c506f0753b892f3010b052b6c08879d\", element=\"dd84179a-5bf5-412b-a806-3c053f91c746\")>,\n",
       " <selenium.webdriver.remote.webelement.WebElement (session=\"0c506f0753b892f3010b052b6c08879d\", element=\"1cf03653-df40-4e4c-8c72-ddef51f465aa\")>,\n",
       " <selenium.webdriver.remote.webelement.WebElement (session=\"0c506f0753b892f3010b052b6c08879d\", element=\"0504d6cc-f554-4bd9-aa44-a3c546bca6da\")>,\n",
       " <selenium.webdriver.remote.webelement.WebElement (session=\"0c506f0753b892f3010b052b6c08879d\", element=\"f0cb60c5-0b3e-4e1f-a615-ef5feb77db22\")>,\n",
       " <selenium.webdriver.remote.webelement.WebElement (session=\"0c506f0753b892f3010b052b6c08879d\", element=\"ecd910d5-1f9c-4a82-8107-7bc998797f13\")>,\n",
       " <selenium.webdriver.remote.webelement.WebElement (session=\"0c506f0753b892f3010b052b6c08879d\", element=\"b1d4dc60-791c-43fd-8bb7-b95e9e692a97\")>,\n",
       " <selenium.webdriver.remote.webelement.WebElement (session=\"0c506f0753b892f3010b052b6c08879d\", element=\"eb0434a6-0c1f-4d3d-85b4-06f1c98a3b79\")>,\n",
       " <selenium.webdriver.remote.webelement.WebElement (session=\"0c506f0753b892f3010b052b6c08879d\", element=\"ee4ece6f-a675-4c3e-8326-7582e39ae808\")>,\n",
       " <selenium.webdriver.remote.webelement.WebElement (session=\"0c506f0753b892f3010b052b6c08879d\", element=\"498880fc-4b32-4f24-8347-effd419ebfab\")>,\n",
       " <selenium.webdriver.remote.webelement.WebElement (session=\"0c506f0753b892f3010b052b6c08879d\", element=\"2dbcdb00-58c8-4198-8af2-2a3f65d13f33\")>,\n",
       " <selenium.webdriver.remote.webelement.WebElement (session=\"0c506f0753b892f3010b052b6c08879d\", element=\"5c22b377-a352-4ea2-87c5-8dc597bd2a68\")>,\n",
       " <selenium.webdriver.remote.webelement.WebElement (session=\"0c506f0753b892f3010b052b6c08879d\", element=\"3d389e1b-cfcc-4917-a6c1-f25f1606817b\")>,\n",
       " <selenium.webdriver.remote.webelement.WebElement (session=\"0c506f0753b892f3010b052b6c08879d\", element=\"a883724a-13d7-45c9-8eaf-8e98218097f4\")>,\n",
       " <selenium.webdriver.remote.webelement.WebElement (session=\"0c506f0753b892f3010b052b6c08879d\", element=\"fadbf838-b112-4ef6-84db-aad6be14947d\")>,\n",
       " <selenium.webdriver.remote.webelement.WebElement (session=\"0c506f0753b892f3010b052b6c08879d\", element=\"7a9fd831-1084-4f40-af41-b2960c248961\")>,\n",
       " <selenium.webdriver.remote.webelement.WebElement (session=\"0c506f0753b892f3010b052b6c08879d\", element=\"cb47ce72-9b95-4dac-a479-533719463fe2\")>,\n",
       " <selenium.webdriver.remote.webelement.WebElement (session=\"0c506f0753b892f3010b052b6c08879d\", element=\"b8c7e738-58d0-4b70-8060-4ae4a90ac437\")>,\n",
       " <selenium.webdriver.remote.webelement.WebElement (session=\"0c506f0753b892f3010b052b6c08879d\", element=\"cfd5020c-d04d-486c-83ed-265ed4887fbe\")>,\n",
       " <selenium.webdriver.remote.webelement.WebElement (session=\"0c506f0753b892f3010b052b6c08879d\", element=\"cec188f1-ca90-43c0-81fe-dc9a6e8a3c4a\")>,\n",
       " <selenium.webdriver.remote.webelement.WebElement (session=\"0c506f0753b892f3010b052b6c08879d\", element=\"3ec1d57b-742e-439b-ba8c-e362520f26b0\")>,\n",
       " <selenium.webdriver.remote.webelement.WebElement (session=\"0c506f0753b892f3010b052b6c08879d\", element=\"2218f80c-ef1c-461d-a647-2e9b1f0eca4c\")>,\n",
       " <selenium.webdriver.remote.webelement.WebElement (session=\"0c506f0753b892f3010b052b6c08879d\", element=\"30637656-feee-45ce-83ea-2fbe334457d7\")>,\n",
       " <selenium.webdriver.remote.webelement.WebElement (session=\"0c506f0753b892f3010b052b6c08879d\", element=\"3fc329ac-a1c8-4195-8281-82867347452f\")>,\n",
       " <selenium.webdriver.remote.webelement.WebElement (session=\"0c506f0753b892f3010b052b6c08879d\", element=\"41bbe1c8-a97c-421f-9b33-f7577e6d3603\")>,\n",
       " <selenium.webdriver.remote.webelement.WebElement (session=\"0c506f0753b892f3010b052b6c08879d\", element=\"b77ae5be-8ed6-46af-9d3e-8c1ba293d5ea\")>,\n",
       " <selenium.webdriver.remote.webelement.WebElement (session=\"0c506f0753b892f3010b052b6c08879d\", element=\"ef93adc6-df7a-4380-b8e4-15d1318745d7\")>,\n",
       " <selenium.webdriver.remote.webelement.WebElement (session=\"0c506f0753b892f3010b052b6c08879d\", element=\"175734ed-da4e-4c60-8355-b126d9c2c5dc\")>,\n",
       " <selenium.webdriver.remote.webelement.WebElement (session=\"0c506f0753b892f3010b052b6c08879d\", element=\"e6f2818e-8da3-420a-9ad4-c8b3d39b0709\")>,\n",
       " <selenium.webdriver.remote.webelement.WebElement (session=\"0c506f0753b892f3010b052b6c08879d\", element=\"523186c3-c67e-4237-af8f-46ae8055ee58\")>,\n",
       " <selenium.webdriver.remote.webelement.WebElement (session=\"0c506f0753b892f3010b052b6c08879d\", element=\"eff10ea6-602e-47aa-8467-1268b0b06ebd\")>,\n",
       " <selenium.webdriver.remote.webelement.WebElement (session=\"0c506f0753b892f3010b052b6c08879d\", element=\"386ae03e-1f7f-45da-a033-37854a157714\")>,\n",
       " <selenium.webdriver.remote.webelement.WebElement (session=\"0c506f0753b892f3010b052b6c08879d\", element=\"ebae4b92-43a2-4631-9deb-e6e3f54bb685\")>,\n",
       " <selenium.webdriver.remote.webelement.WebElement (session=\"0c506f0753b892f3010b052b6c08879d\", element=\"479e0a7d-d427-4ad0-815e-6ea599968fd5\")>,\n",
       " <selenium.webdriver.remote.webelement.WebElement (session=\"0c506f0753b892f3010b052b6c08879d\", element=\"d674e332-8c84-4b89-9999-86a7f91e6a8a\")>,\n",
       " <selenium.webdriver.remote.webelement.WebElement (session=\"0c506f0753b892f3010b052b6c08879d\", element=\"788629e3-41de-49ad-86a0-b2cbc6cd6e6b\")>,\n",
       " <selenium.webdriver.remote.webelement.WebElement (session=\"0c506f0753b892f3010b052b6c08879d\", element=\"7a3d98eb-86a9-4d7c-8453-3ae5a7c51b76\")>,\n",
       " <selenium.webdriver.remote.webelement.WebElement (session=\"0c506f0753b892f3010b052b6c08879d\", element=\"7c76acac-f2b8-4fc8-ba6e-2d1d82997609\")>]"
      ]
     },
     "execution_count": 101,
     "metadata": {},
     "output_type": "execute_result"
    }
   ],
   "source": [
    "product_des=driver4.find_elements_by_xpath('//a[@class=\"IRpwTa\"]')\n",
    "product_des"
   ]
  },
  {
   "cell_type": "code",
   "execution_count": 102,
   "id": "84d74893",
   "metadata": {},
   "outputs": [
    {
     "data": {
      "text/plain": [
       "['UV Protection Spectacle Sunglasses (Free Size)',\n",
       " 'Gradient, Toughened Glass Lens, UV Protection Retro Squ...',\n",
       " 'Gradient, UV Protection Wayfarer Sunglasses (Free Size)',\n",
       " 'UV Protection Round Sunglasses (54)',\n",
       " 'UV Protection Wayfarer Sunglasses (50)',\n",
       " 'UV Protection, Polarized Wayfarer Sunglasses (Free Size...',\n",
       " 'UV Protection Rectangular Sunglasses (Free Size)',\n",
       " 'by Lenskart UV Protection Aviator Sunglasses (53)',\n",
       " 'UV Protection Aviator Sunglasses (54)',\n",
       " 'UV Protection, Polarized, Mirrored Round Sunglasses (Fr...',\n",
       " 'UV Protection, Polarized, Mirrored Rectangular Sunglass...',\n",
       " 'Polarized, Riding Glasses, Night Vision Sports, Wrap-ar...',\n",
       " 'UV Protection Rectangular Sunglasses (Free Size)',\n",
       " 'UV Protection Round Sunglasses (54)',\n",
       " 'Polarized, Night Vision, Riding Glasses Sports, Wrap-ar...',\n",
       " 'by Lenskart Polarized, UV Protection Wayfarer Sunglasse...',\n",
       " 'Riding Glasses, UV Protection Oval Sunglasses (48)',\n",
       " 'UV Protection Retro Square Sunglasses (Free Size)',\n",
       " 'UV Protection, Gradient Rectangular Sunglasses (Free Si...',\n",
       " 'UV Protection, Riding Glasses Rectangular Sunglasses (F...',\n",
       " 'UV Protection Round Sunglasses (53)',\n",
       " 'UV Protection Round Sunglasses (54)',\n",
       " 'UV Protection, Mirrored Retro Square Sunglasses (53)',\n",
       " 'UV Protection, Gradient Retro Square Sunglasses (Free S...',\n",
       " 'UV Protection Round Sunglasses (50)',\n",
       " 'Gradient, UV Protection Wayfarer Sunglasses (Free Size)',\n",
       " 'UV Protection, Polarized, Mirrored Retro Square Sunglas...',\n",
       " 'by Lenskart Polarized, UV Protection Round Sunglasses (...',\n",
       " 'UV Protection Retro Square Sunglasses (53)',\n",
       " 'UV Protection, Riding Glasses Rectangular, Wayfarer, Ov...',\n",
       " 'UV Protection Aviator Sunglasses (54)',\n",
       " 'by Lenskart Polarized, UV Protection Wayfarer Sunglasse...',\n",
       " 'UV Protection Rectangular Sunglasses (Free Size)',\n",
       " 'UV Protection Wayfarer Sunglasses (53)',\n",
       " 'UV Protection Aviator Sunglasses (Free Size)',\n",
       " 'UV Protection, Polarized Rectangular Sunglasses (Free S...',\n",
       " 'Riding Glasses, Night Vision Wrap-around Sunglasses (Fr...',\n",
       " 'Polarized Round Sunglasses (48)',\n",
       " 'UV Protection, Mirrored Retro Square Sunglasses (53)',\n",
       " 'UV Protection, Gradient Butterfly Sunglasses (60)']"
      ]
     },
     "execution_count": 102,
     "metadata": {},
     "output_type": "execute_result"
    }
   ],
   "source": [
    "description=[]\n",
    "for i in product_des:\n",
    "    description.append(i.text)\n",
    "    \n",
    "description"
   ]
  },
  {
   "cell_type": "code",
   "execution_count": 103,
   "id": "24010697",
   "metadata": {},
   "outputs": [
    {
     "data": {
      "text/plain": [
       "[<selenium.webdriver.remote.webelement.WebElement (session=\"0c506f0753b892f3010b052b6c08879d\", element=\"40e7aae1-590e-4a25-966b-c24a2956ab26\")>,\n",
       " <selenium.webdriver.remote.webelement.WebElement (session=\"0c506f0753b892f3010b052b6c08879d\", element=\"be30d013-9884-4f5d-a5be-69f71b977001\")>,\n",
       " <selenium.webdriver.remote.webelement.WebElement (session=\"0c506f0753b892f3010b052b6c08879d\", element=\"a033cd11-d043-4f03-9294-acc132921604\")>,\n",
       " <selenium.webdriver.remote.webelement.WebElement (session=\"0c506f0753b892f3010b052b6c08879d\", element=\"3e86a840-2f72-4148-8364-496fcd6878dd\")>,\n",
       " <selenium.webdriver.remote.webelement.WebElement (session=\"0c506f0753b892f3010b052b6c08879d\", element=\"65b2ff35-c7f1-4e46-8043-afcf7b8d7112\")>,\n",
       " <selenium.webdriver.remote.webelement.WebElement (session=\"0c506f0753b892f3010b052b6c08879d\", element=\"89963004-0fa5-4b3d-91da-7347c8135820\")>,\n",
       " <selenium.webdriver.remote.webelement.WebElement (session=\"0c506f0753b892f3010b052b6c08879d\", element=\"9cf7a097-1df8-4be6-a071-c9a16364b8c4\")>,\n",
       " <selenium.webdriver.remote.webelement.WebElement (session=\"0c506f0753b892f3010b052b6c08879d\", element=\"065763dc-d9f8-46ea-9d6b-ba7d3a8b4d24\")>,\n",
       " <selenium.webdriver.remote.webelement.WebElement (session=\"0c506f0753b892f3010b052b6c08879d\", element=\"d854e68e-29ed-4cff-8878-67bf2cbf3e9c\")>,\n",
       " <selenium.webdriver.remote.webelement.WebElement (session=\"0c506f0753b892f3010b052b6c08879d\", element=\"cb0de0fa-77ad-45ef-ae3e-8c7cd43c1dd5\")>,\n",
       " <selenium.webdriver.remote.webelement.WebElement (session=\"0c506f0753b892f3010b052b6c08879d\", element=\"afa9a4ea-c737-49b8-bb60-8afecca34e1a\")>,\n",
       " <selenium.webdriver.remote.webelement.WebElement (session=\"0c506f0753b892f3010b052b6c08879d\", element=\"4dfb2a60-92fa-453f-9fab-3ea0e57b6cb6\")>,\n",
       " <selenium.webdriver.remote.webelement.WebElement (session=\"0c506f0753b892f3010b052b6c08879d\", element=\"ae0b7a34-9735-43bb-a543-195a79f2dbdb\")>,\n",
       " <selenium.webdriver.remote.webelement.WebElement (session=\"0c506f0753b892f3010b052b6c08879d\", element=\"4b287c5a-1edd-4d43-838d-7fec20dca7d2\")>,\n",
       " <selenium.webdriver.remote.webelement.WebElement (session=\"0c506f0753b892f3010b052b6c08879d\", element=\"88b4c516-bc68-4881-a7a6-980a8c0ea300\")>,\n",
       " <selenium.webdriver.remote.webelement.WebElement (session=\"0c506f0753b892f3010b052b6c08879d\", element=\"a37370b7-9423-4855-9c08-17d729f620ab\")>,\n",
       " <selenium.webdriver.remote.webelement.WebElement (session=\"0c506f0753b892f3010b052b6c08879d\", element=\"c4663747-e49b-4f1c-b587-fe3ef461bf3f\")>,\n",
       " <selenium.webdriver.remote.webelement.WebElement (session=\"0c506f0753b892f3010b052b6c08879d\", element=\"d45f51e4-f377-487b-8db1-6e433b2b062d\")>,\n",
       " <selenium.webdriver.remote.webelement.WebElement (session=\"0c506f0753b892f3010b052b6c08879d\", element=\"08dbfa29-c2a6-4fc4-9c74-685d5464b3f1\")>,\n",
       " <selenium.webdriver.remote.webelement.WebElement (session=\"0c506f0753b892f3010b052b6c08879d\", element=\"5e4db313-d572-4e0f-be2a-dcc20aa9151b\")>,\n",
       " <selenium.webdriver.remote.webelement.WebElement (session=\"0c506f0753b892f3010b052b6c08879d\", element=\"d8209693-b3ff-471d-a12c-dcab1a08517d\")>,\n",
       " <selenium.webdriver.remote.webelement.WebElement (session=\"0c506f0753b892f3010b052b6c08879d\", element=\"a051d813-9a34-4629-ae9b-c417ae0b481b\")>,\n",
       " <selenium.webdriver.remote.webelement.WebElement (session=\"0c506f0753b892f3010b052b6c08879d\", element=\"39ba3e33-8abc-4d61-b7e1-8a5c2e9f03b3\")>,\n",
       " <selenium.webdriver.remote.webelement.WebElement (session=\"0c506f0753b892f3010b052b6c08879d\", element=\"4374574d-6cc1-4928-b799-e14c431497b9\")>,\n",
       " <selenium.webdriver.remote.webelement.WebElement (session=\"0c506f0753b892f3010b052b6c08879d\", element=\"1b2eccc8-6bd8-4706-bb26-3460dffccfab\")>,\n",
       " <selenium.webdriver.remote.webelement.WebElement (session=\"0c506f0753b892f3010b052b6c08879d\", element=\"61024fca-fb18-4b1e-8a43-cec168906c53\")>,\n",
       " <selenium.webdriver.remote.webelement.WebElement (session=\"0c506f0753b892f3010b052b6c08879d\", element=\"bfdc9954-8a61-46ff-8e09-589d750f4bf2\")>,\n",
       " <selenium.webdriver.remote.webelement.WebElement (session=\"0c506f0753b892f3010b052b6c08879d\", element=\"5c2ae0ed-b31c-42b8-bd6a-a981388ebcb8\")>,\n",
       " <selenium.webdriver.remote.webelement.WebElement (session=\"0c506f0753b892f3010b052b6c08879d\", element=\"61f08d6c-127b-4bbc-9baa-e63a93c60ebf\")>,\n",
       " <selenium.webdriver.remote.webelement.WebElement (session=\"0c506f0753b892f3010b052b6c08879d\", element=\"803265b2-718c-46cf-a74d-2a10af7c3ae4\")>,\n",
       " <selenium.webdriver.remote.webelement.WebElement (session=\"0c506f0753b892f3010b052b6c08879d\", element=\"7a8caba7-22af-4edd-8d84-403e3a7a763b\")>,\n",
       " <selenium.webdriver.remote.webelement.WebElement (session=\"0c506f0753b892f3010b052b6c08879d\", element=\"ea145fda-fab5-49c0-8d9b-d87ef4cdd867\")>,\n",
       " <selenium.webdriver.remote.webelement.WebElement (session=\"0c506f0753b892f3010b052b6c08879d\", element=\"a190419b-c59a-4c32-a556-6a80cb8dda3f\")>,\n",
       " <selenium.webdriver.remote.webelement.WebElement (session=\"0c506f0753b892f3010b052b6c08879d\", element=\"9c23252c-1fa3-44dd-9bba-04b975f99058\")>,\n",
       " <selenium.webdriver.remote.webelement.WebElement (session=\"0c506f0753b892f3010b052b6c08879d\", element=\"0117505d-3539-49be-9105-1cb3b2fb8d5f\")>,\n",
       " <selenium.webdriver.remote.webelement.WebElement (session=\"0c506f0753b892f3010b052b6c08879d\", element=\"37ed0581-7870-4ae9-ae6b-c3638ea64373\")>,\n",
       " <selenium.webdriver.remote.webelement.WebElement (session=\"0c506f0753b892f3010b052b6c08879d\", element=\"844a0bd8-ec34-4695-a6ab-f75f3fe6de53\")>,\n",
       " <selenium.webdriver.remote.webelement.WebElement (session=\"0c506f0753b892f3010b052b6c08879d\", element=\"19ab8483-f185-45c0-b5bd-765c61904beb\")>,\n",
       " <selenium.webdriver.remote.webelement.WebElement (session=\"0c506f0753b892f3010b052b6c08879d\", element=\"3be0c059-d747-4b14-bc6e-a0ff8e2366b5\")>,\n",
       " <selenium.webdriver.remote.webelement.WebElement (session=\"0c506f0753b892f3010b052b6c08879d\", element=\"b824f308-e136-4f1c-9b4c-4a551092b1dd\")>]"
      ]
     },
     "execution_count": 103,
     "metadata": {},
     "output_type": "execute_result"
    }
   ],
   "source": [
    "price=driver4.find_elements_by_xpath('//div[@class=\"_30jeq3\"]')\n",
    "price"
   ]
  },
  {
   "cell_type": "code",
   "execution_count": 104,
   "id": "f64e9862",
   "metadata": {},
   "outputs": [
    {
     "data": {
      "text/plain": [
       "['₹449',\n",
       " '₹664',\n",
       " '₹489',\n",
       " '₹248',\n",
       " '₹188',\n",
       " '₹243',\n",
       " '₹234',\n",
       " '₹999',\n",
       " '₹229',\n",
       " '₹271',\n",
       " '₹181',\n",
       " '₹499',\n",
       " '₹639',\n",
       " '₹178',\n",
       " '₹499',\n",
       " '₹1,533',\n",
       " '₹146',\n",
       " '₹309',\n",
       " '₹399',\n",
       " '₹449',\n",
       " '₹189',\n",
       " '₹265',\n",
       " '₹299',\n",
       " '₹349',\n",
       " '₹230',\n",
       " '₹626',\n",
       " '₹235',\n",
       " '₹1,415',\n",
       " '₹269',\n",
       " '₹144',\n",
       " '₹200',\n",
       " '₹1,533',\n",
       " '₹199',\n",
       " '₹167',\n",
       " '₹175',\n",
       " '₹173',\n",
       " '₹276',\n",
       " '₹165',\n",
       " '₹299',\n",
       " '₹664']"
      ]
     },
     "execution_count": 104,
     "metadata": {},
     "output_type": "execute_result"
    }
   ],
   "source": [
    "price_tag=[]\n",
    "for i in price:\n",
    "    price_tag.append(i.text)\n",
    "    \n",
    "price_tag"
   ]
  },
  {
   "cell_type": "code",
   "execution_count": 105,
   "id": "bd047ddb",
   "metadata": {},
   "outputs": [],
   "source": [
    "next_page=driver4.find_element_by_class_name(\"ge-49M\")\n",
    "next_page.click()"
   ]
  },
  {
   "cell_type": "code",
   "execution_count": 107,
   "id": "7a2a5623",
   "metadata": {},
   "outputs": [
    {
     "data": {
      "text/plain": [
       "[<selenium.webdriver.remote.webelement.WebElement (session=\"0c506f0753b892f3010b052b6c08879d\", element=\"359ef8d5-3475-4d37-967e-5339a3ade6b5\")>,\n",
       " <selenium.webdriver.remote.webelement.WebElement (session=\"0c506f0753b892f3010b052b6c08879d\", element=\"c57e6eb4-03b8-420b-8c16-71bf558be8d1\")>,\n",
       " <selenium.webdriver.remote.webelement.WebElement (session=\"0c506f0753b892f3010b052b6c08879d\", element=\"396f7e5c-50b0-4011-a834-f605c2ee17c2\")>,\n",
       " <selenium.webdriver.remote.webelement.WebElement (session=\"0c506f0753b892f3010b052b6c08879d\", element=\"7df53525-63ca-405c-856e-f6ff32cd9b07\")>,\n",
       " <selenium.webdriver.remote.webelement.WebElement (session=\"0c506f0753b892f3010b052b6c08879d\", element=\"2ac2b4e9-a2c3-4fc4-ac75-5f30f1a3001a\")>,\n",
       " <selenium.webdriver.remote.webelement.WebElement (session=\"0c506f0753b892f3010b052b6c08879d\", element=\"61dc389e-8766-40a3-b91f-b73cd4df5f82\")>,\n",
       " <selenium.webdriver.remote.webelement.WebElement (session=\"0c506f0753b892f3010b052b6c08879d\", element=\"b4fdfe5e-971d-4203-9416-1a3ceea14a91\")>,\n",
       " <selenium.webdriver.remote.webelement.WebElement (session=\"0c506f0753b892f3010b052b6c08879d\", element=\"845e4725-6989-4837-923f-de63c0c66712\")>,\n",
       " <selenium.webdriver.remote.webelement.WebElement (session=\"0c506f0753b892f3010b052b6c08879d\", element=\"8394ce5b-b5ad-4d8d-ba26-7b1544dd5d57\")>,\n",
       " <selenium.webdriver.remote.webelement.WebElement (session=\"0c506f0753b892f3010b052b6c08879d\", element=\"8b5a6407-26dc-4182-bd8d-9a17e88ee305\")>,\n",
       " <selenium.webdriver.remote.webelement.WebElement (session=\"0c506f0753b892f3010b052b6c08879d\", element=\"494032d3-211d-4757-8763-c68b85db88ec\")>,\n",
       " <selenium.webdriver.remote.webelement.WebElement (session=\"0c506f0753b892f3010b052b6c08879d\", element=\"a7e92443-90c8-4562-97c1-2468a24dea1d\")>,\n",
       " <selenium.webdriver.remote.webelement.WebElement (session=\"0c506f0753b892f3010b052b6c08879d\", element=\"a81a2903-189c-4f16-82fa-f771a1c9e44f\")>,\n",
       " <selenium.webdriver.remote.webelement.WebElement (session=\"0c506f0753b892f3010b052b6c08879d\", element=\"6296d34f-ecab-48ff-a244-ccbb457d7ad3\")>,\n",
       " <selenium.webdriver.remote.webelement.WebElement (session=\"0c506f0753b892f3010b052b6c08879d\", element=\"0ceb0dcf-6322-4470-8a1c-93e5ad7bec3b\")>,\n",
       " <selenium.webdriver.remote.webelement.WebElement (session=\"0c506f0753b892f3010b052b6c08879d\", element=\"d096a63d-1fdc-437d-8f60-9a0ecf68198a\")>,\n",
       " <selenium.webdriver.remote.webelement.WebElement (session=\"0c506f0753b892f3010b052b6c08879d\", element=\"b6ef8571-8f90-4622-b037-fcbd867ead97\")>,\n",
       " <selenium.webdriver.remote.webelement.WebElement (session=\"0c506f0753b892f3010b052b6c08879d\", element=\"eb7139ea-37e1-4204-a2a9-55a110539bf0\")>,\n",
       " <selenium.webdriver.remote.webelement.WebElement (session=\"0c506f0753b892f3010b052b6c08879d\", element=\"6d29ae90-dc7e-429a-b55b-f10fdc081565\")>,\n",
       " <selenium.webdriver.remote.webelement.WebElement (session=\"0c506f0753b892f3010b052b6c08879d\", element=\"35bba97e-3ffb-464f-a3be-da671eabe357\")>,\n",
       " <selenium.webdriver.remote.webelement.WebElement (session=\"0c506f0753b892f3010b052b6c08879d\", element=\"246fc554-feec-48b0-851b-aa5a31c2c334\")>,\n",
       " <selenium.webdriver.remote.webelement.WebElement (session=\"0c506f0753b892f3010b052b6c08879d\", element=\"59a8b24a-5ca8-4eb4-a21a-34a7aa847837\")>,\n",
       " <selenium.webdriver.remote.webelement.WebElement (session=\"0c506f0753b892f3010b052b6c08879d\", element=\"1f90dccb-00c4-470c-ae2e-d96aad056465\")>,\n",
       " <selenium.webdriver.remote.webelement.WebElement (session=\"0c506f0753b892f3010b052b6c08879d\", element=\"06465325-b6f0-4c68-887f-b46cd91bbf07\")>,\n",
       " <selenium.webdriver.remote.webelement.WebElement (session=\"0c506f0753b892f3010b052b6c08879d\", element=\"133456dd-3d5a-4d09-ade4-82946c75e5ff\")>,\n",
       " <selenium.webdriver.remote.webelement.WebElement (session=\"0c506f0753b892f3010b052b6c08879d\", element=\"d2c06cee-40b1-45cb-9a49-8bff1333eaec\")>,\n",
       " <selenium.webdriver.remote.webelement.WebElement (session=\"0c506f0753b892f3010b052b6c08879d\", element=\"3933af23-93fa-422c-b393-b75ffbefc775\")>,\n",
       " <selenium.webdriver.remote.webelement.WebElement (session=\"0c506f0753b892f3010b052b6c08879d\", element=\"56d2dddd-8645-46fa-bb18-f7750b131524\")>,\n",
       " <selenium.webdriver.remote.webelement.WebElement (session=\"0c506f0753b892f3010b052b6c08879d\", element=\"225c27e6-37f3-40bd-a8bf-c136798418ab\")>,\n",
       " <selenium.webdriver.remote.webelement.WebElement (session=\"0c506f0753b892f3010b052b6c08879d\", element=\"4d569552-a000-46bc-a752-f4b70e2ff652\")>,\n",
       " <selenium.webdriver.remote.webelement.WebElement (session=\"0c506f0753b892f3010b052b6c08879d\", element=\"7c093064-fcd3-482c-a194-b1d1ac2d22c1\")>,\n",
       " <selenium.webdriver.remote.webelement.WebElement (session=\"0c506f0753b892f3010b052b6c08879d\", element=\"908ddd35-0915-4871-858d-f61409ad0f7c\")>,\n",
       " <selenium.webdriver.remote.webelement.WebElement (session=\"0c506f0753b892f3010b052b6c08879d\", element=\"31aeed76-328d-467e-ad2d-5c9817f0d711\")>,\n",
       " <selenium.webdriver.remote.webelement.WebElement (session=\"0c506f0753b892f3010b052b6c08879d\", element=\"6f8db432-feaa-4c11-ac65-143372ef329e\")>,\n",
       " <selenium.webdriver.remote.webelement.WebElement (session=\"0c506f0753b892f3010b052b6c08879d\", element=\"75e40a3c-ce1c-4301-8b0a-7e83864a2929\")>,\n",
       " <selenium.webdriver.remote.webelement.WebElement (session=\"0c506f0753b892f3010b052b6c08879d\", element=\"80cf3cf5-8cef-45f9-bc54-3d9d517bf722\")>,\n",
       " <selenium.webdriver.remote.webelement.WebElement (session=\"0c506f0753b892f3010b052b6c08879d\", element=\"f272ba0b-eddd-4ca5-a761-2956d1cc6a40\")>,\n",
       " <selenium.webdriver.remote.webelement.WebElement (session=\"0c506f0753b892f3010b052b6c08879d\", element=\"c4151401-7393-43e9-b545-023812eb9878\")>,\n",
       " <selenium.webdriver.remote.webelement.WebElement (session=\"0c506f0753b892f3010b052b6c08879d\", element=\"45d176c0-c82a-4681-9472-cfdb734cd39c\")>,\n",
       " <selenium.webdriver.remote.webelement.WebElement (session=\"0c506f0753b892f3010b052b6c08879d\", element=\"54ffc59f-298c-46d5-bf79-8fb602170b14\")>]"
      ]
     },
     "execution_count": 107,
     "metadata": {},
     "output_type": "execute_result"
    }
   ],
   "source": [
    "page2_srch=driver4.find_elements_by_xpath('//div[@class=\"_2WkVRV\"]')\n",
    "page2_srch"
   ]
  },
  {
   "cell_type": "code",
   "execution_count": 108,
   "id": "34148297",
   "metadata": {},
   "outputs": [
    {
     "data": {
      "text/plain": [
       "['ROZZETTA CRAFT',\n",
       " 'Singco India',\n",
       " 'Fastrack',\n",
       " 'Elligator',\n",
       " 'SRPM',\n",
       " 'New Specs',\n",
       " 'SUNBEE',\n",
       " 'VILLAIN',\n",
       " 'SUNBEE',\n",
       " 'PIRASO',\n",
       " 'SHAAH COLLECTIONS',\n",
       " 'VINCENT CHASE',\n",
       " 'Fastrack',\n",
       " 'kingsunglasses',\n",
       " 'ROZZETTA CRAFT',\n",
       " 'ROZZETTA CRAFT',\n",
       " 'Johaena',\n",
       " 'PHENOMENAL',\n",
       " 'ROZZETTA CRAFT',\n",
       " 'ROZZETTA CRAFT',\n",
       " 'Elligator',\n",
       " 'Elligator',\n",
       " 'PHENOMENAL',\n",
       " 'VINCENT CHASE',\n",
       " 'Elligator',\n",
       " 'PHENOMENAL',\n",
       " 'SUNBEE',\n",
       " 'ROYAL SON',\n",
       " 'Fastrack',\n",
       " 'PIRASO',\n",
       " 'maxa',\n",
       " 'elegante',\n",
       " 'New Specs',\n",
       " 'Rich Club',\n",
       " 'Lee Topper',\n",
       " 'ZOSTAL',\n",
       " 'Lee Topper',\n",
       " 'Fastrack',\n",
       " 'agera',\n",
       " 'VINCENT CHASE']"
      ]
     },
     "execution_count": 108,
     "metadata": {},
     "output_type": "execute_result"
    }
   ],
   "source": [
    "page2_brands=[]\n",
    "for i in page2_srch:\n",
    "    page2_brands.append(i.text)\n",
    "    \n",
    "page2_brands"
   ]
  },
  {
   "cell_type": "code",
   "execution_count": 111,
   "id": "ac71ce1c",
   "metadata": {},
   "outputs": [
    {
     "data": {
      "text/plain": [
       "[<selenium.webdriver.remote.webelement.WebElement (session=\"0c506f0753b892f3010b052b6c08879d\", element=\"65597edc-95e8-4859-9b06-c6572eac0c9c\")>,\n",
       " <selenium.webdriver.remote.webelement.WebElement (session=\"0c506f0753b892f3010b052b6c08879d\", element=\"df0ba8dd-b293-4d5a-93f0-ddcb8b47c5f8\")>,\n",
       " <selenium.webdriver.remote.webelement.WebElement (session=\"0c506f0753b892f3010b052b6c08879d\", element=\"8786cd2e-5333-4029-bd8c-c4ad448bb3f0\")>,\n",
       " <selenium.webdriver.remote.webelement.WebElement (session=\"0c506f0753b892f3010b052b6c08879d\", element=\"dd84179a-5bf5-412b-a806-3c053f91c746\")>,\n",
       " <selenium.webdriver.remote.webelement.WebElement (session=\"0c506f0753b892f3010b052b6c08879d\", element=\"1cf03653-df40-4e4c-8c72-ddef51f465aa\")>,\n",
       " <selenium.webdriver.remote.webelement.WebElement (session=\"0c506f0753b892f3010b052b6c08879d\", element=\"ac03b702-17bb-4920-b59c-59da48168ae2\")>,\n",
       " <selenium.webdriver.remote.webelement.WebElement (session=\"0c506f0753b892f3010b052b6c08879d\", element=\"965c1574-9b2e-4e70-ac30-b06b9c584717\")>,\n",
       " <selenium.webdriver.remote.webelement.WebElement (session=\"0c506f0753b892f3010b052b6c08879d\", element=\"acbb39a2-0a08-4a7b-a269-359831fa4387\")>,\n",
       " <selenium.webdriver.remote.webelement.WebElement (session=\"0c506f0753b892f3010b052b6c08879d\", element=\"69fc2481-208b-4030-995f-84e7e6e0a21f\")>,\n",
       " <selenium.webdriver.remote.webelement.WebElement (session=\"0c506f0753b892f3010b052b6c08879d\", element=\"ee4ece6f-a675-4c3e-8326-7582e39ae808\")>,\n",
       " <selenium.webdriver.remote.webelement.WebElement (session=\"0c506f0753b892f3010b052b6c08879d\", element=\"dea22feb-9dd0-4750-a330-fecf17c7b887\")>,\n",
       " <selenium.webdriver.remote.webelement.WebElement (session=\"0c506f0753b892f3010b052b6c08879d\", element=\"2dbcdb00-58c8-4198-8af2-2a3f65d13f33\")>,\n",
       " <selenium.webdriver.remote.webelement.WebElement (session=\"0c506f0753b892f3010b052b6c08879d\", element=\"5c22b377-a352-4ea2-87c5-8dc597bd2a68\")>,\n",
       " <selenium.webdriver.remote.webelement.WebElement (session=\"0c506f0753b892f3010b052b6c08879d\", element=\"3d389e1b-cfcc-4917-a6c1-f25f1606817b\")>,\n",
       " <selenium.webdriver.remote.webelement.WebElement (session=\"0c506f0753b892f3010b052b6c08879d\", element=\"eaa4a8dd-3e7d-486c-9821-c1807dec14e0\")>,\n",
       " <selenium.webdriver.remote.webelement.WebElement (session=\"0c506f0753b892f3010b052b6c08879d\", element=\"fadbf838-b112-4ef6-84db-aad6be14947d\")>,\n",
       " <selenium.webdriver.remote.webelement.WebElement (session=\"0c506f0753b892f3010b052b6c08879d\", element=\"7a9fd831-1084-4f40-af41-b2960c248961\")>,\n",
       " <selenium.webdriver.remote.webelement.WebElement (session=\"0c506f0753b892f3010b052b6c08879d\", element=\"cb47ce72-9b95-4dac-a479-533719463fe2\")>,\n",
       " <selenium.webdriver.remote.webelement.WebElement (session=\"0c506f0753b892f3010b052b6c08879d\", element=\"0f25ceca-8197-4818-af82-54716a40e8bb\")>,\n",
       " <selenium.webdriver.remote.webelement.WebElement (session=\"0c506f0753b892f3010b052b6c08879d\", element=\"60131ff3-9c89-4e28-b89e-85cb37d9e34a\")>,\n",
       " <selenium.webdriver.remote.webelement.WebElement (session=\"0c506f0753b892f3010b052b6c08879d\", element=\"3a405c52-0e69-4eb4-9733-80c869498dc3\")>,\n",
       " <selenium.webdriver.remote.webelement.WebElement (session=\"0c506f0753b892f3010b052b6c08879d\", element=\"3ec1d57b-742e-439b-ba8c-e362520f26b0\")>,\n",
       " <selenium.webdriver.remote.webelement.WebElement (session=\"0c506f0753b892f3010b052b6c08879d\", element=\"b8e0998e-7d68-4558-a16f-9cf428553ca1\")>,\n",
       " <selenium.webdriver.remote.webelement.WebElement (session=\"0c506f0753b892f3010b052b6c08879d\", element=\"30637656-feee-45ce-83ea-2fbe334457d7\")>,\n",
       " <selenium.webdriver.remote.webelement.WebElement (session=\"0c506f0753b892f3010b052b6c08879d\", element=\"26bb7fe5-ef73-49cf-8203-ffda9d62b5df\")>,\n",
       " <selenium.webdriver.remote.webelement.WebElement (session=\"0c506f0753b892f3010b052b6c08879d\", element=\"41bbe1c8-a97c-421f-9b33-f7577e6d3603\")>,\n",
       " <selenium.webdriver.remote.webelement.WebElement (session=\"0c506f0753b892f3010b052b6c08879d\", element=\"0151f096-a14a-4097-8605-4c81b69b7fc4\")>,\n",
       " <selenium.webdriver.remote.webelement.WebElement (session=\"0c506f0753b892f3010b052b6c08879d\", element=\"ab6d9609-c543-4ff5-9df2-d08e29e76aea\")>,\n",
       " <selenium.webdriver.remote.webelement.WebElement (session=\"0c506f0753b892f3010b052b6c08879d\", element=\"18f2768c-3306-443f-856e-622227a27063\")>,\n",
       " <selenium.webdriver.remote.webelement.WebElement (session=\"0c506f0753b892f3010b052b6c08879d\", element=\"51ad98e5-7b33-4c46-88ca-56f74895eab1\")>,\n",
       " <selenium.webdriver.remote.webelement.WebElement (session=\"0c506f0753b892f3010b052b6c08879d\", element=\"fce3e484-c6ee-493d-a2a0-aac67bf91f56\")>,\n",
       " <selenium.webdriver.remote.webelement.WebElement (session=\"0c506f0753b892f3010b052b6c08879d\", element=\"b5b97678-ad64-4687-81d0-4fdcf7593aaa\")>,\n",
       " <selenium.webdriver.remote.webelement.WebElement (session=\"0c506f0753b892f3010b052b6c08879d\", element=\"1e9bfc46-d115-4c25-b5a0-97f7f3444766\")>,\n",
       " <selenium.webdriver.remote.webelement.WebElement (session=\"0c506f0753b892f3010b052b6c08879d\", element=\"573ee80f-6eae-4bfe-a7d3-5fcc33239c7b\")>,\n",
       " <selenium.webdriver.remote.webelement.WebElement (session=\"0c506f0753b892f3010b052b6c08879d\", element=\"479e0a7d-d427-4ad0-815e-6ea599968fd5\")>,\n",
       " <selenium.webdriver.remote.webelement.WebElement (session=\"0c506f0753b892f3010b052b6c08879d\", element=\"d674e332-8c84-4b89-9999-86a7f91e6a8a\")>,\n",
       " <selenium.webdriver.remote.webelement.WebElement (session=\"0c506f0753b892f3010b052b6c08879d\", element=\"6d7913fc-5ff6-4067-8d75-d5ae961eb59b\")>,\n",
       " <selenium.webdriver.remote.webelement.WebElement (session=\"0c506f0753b892f3010b052b6c08879d\", element=\"cb19d399-9096-41ef-975b-361c49928a72\")>,\n",
       " <selenium.webdriver.remote.webelement.WebElement (session=\"0c506f0753b892f3010b052b6c08879d\", element=\"4437d3fe-ead5-4715-ab9f-d931858df266\")>]"
      ]
     },
     "execution_count": 111,
     "metadata": {},
     "output_type": "execute_result"
    }
   ],
   "source": [
    "product2_des=driver4.find_elements_by_xpath('//a[@class=\"IRpwTa\"]')\n",
    "product2_des"
   ]
  },
  {
   "cell_type": "code",
   "execution_count": 112,
   "id": "c12a45bc",
   "metadata": {},
   "outputs": [
    {
     "data": {
      "text/plain": [
       "['UV Protection Spectacle Sunglasses (Free Size)',\n",
       " 'Gradient, Toughened Glass Lens, UV Protection Retro Squ...',\n",
       " 'Gradient, UV Protection Wayfarer Sunglasses (Free Size)',\n",
       " 'UV Protection Round Sunglasses (54)',\n",
       " 'UV Protection Wayfarer Sunglasses (50)',\n",
       " 'UV Protection Rectangular Sunglasses (Free Size)',\n",
       " 'UV Protection, Polarized Wayfarer Sunglasses (Free Size...',\n",
       " 'UV Protection, Polarized, Mirrored Round Sunglasses (Fr...',\n",
       " 'UV Protection Aviator Sunglasses (54)',\n",
       " 'UV Protection, Polarized, Mirrored Rectangular Sunglass...',\n",
       " 'by Lenskart UV Protection Aviator Sunglasses (Free Size...',\n",
       " 'UV Protection Rectangular Sunglasses (Free Size)',\n",
       " 'UV Protection Round Sunglasses (54)',\n",
       " 'Polarized, Night Vision, Riding Glasses Sports, Wrap-ar...',\n",
       " 'UV Protection, Riding Glasses Rectangular Sunglasses (F...',\n",
       " 'Riding Glasses, UV Protection Oval Sunglasses (48)',\n",
       " 'UV Protection Retro Square Sunglasses (Free Size)',\n",
       " 'UV Protection, Gradient Rectangular Sunglasses (Free Si...',\n",
       " 'UV Protection, Gradient Retro Square Sunglasses (Free S...',\n",
       " 'UV Protection Round Sunglasses (54)',\n",
       " 'UV Protection Round Sunglasses (53)',\n",
       " 'UV Protection, Mirrored Retro Square Sunglasses (53)',\n",
       " 'by Lenskart Polarized, UV Protection Wayfarer Sunglasse...',\n",
       " 'UV Protection Round Sunglasses (50)',\n",
       " 'UV Protection Retro Square Sunglasses (53)',\n",
       " 'UV Protection, Polarized, Mirrored Retro Square Sunglas...',\n",
       " 'UV Protection Wayfarer Sunglasses (54)',\n",
       " 'Gradient, UV Protection Wayfarer Sunglasses (Free Size)',\n",
       " 'UV Protection Aviator Sunglasses (54)',\n",
       " 'UV Protection, Riding Glasses Rectangular, Wayfarer, Ov...',\n",
       " 'Polarized, Riding Glasses, Night Vision Sports, Wrap-ar...',\n",
       " 'UV Protection Aviator Sunglasses (Free Size)',\n",
       " 'Polarized Round Sunglasses (48)',\n",
       " 'UV Protection Rectangular Sunglasses (Free Size)',\n",
       " 'UV Protection, Polarized Rectangular Sunglasses (Free S...',\n",
       " 'Riding Glasses, Night Vision Wrap-around Sunglasses (Fr...',\n",
       " 'UV Protection Wayfarer Sunglasses (Free Size)',\n",
       " 'Gradient Aviator Sunglasses (55)',\n",
       " 'by Lenskart Polarized, UV Protection Round Sunglasses (...']"
      ]
     },
     "execution_count": 112,
     "metadata": {},
     "output_type": "execute_result"
    }
   ],
   "source": [
    "description2=[]\n",
    "for i in product2_des:\n",
    "    description2.append(i.text)\n",
    "    \n",
    "description2"
   ]
  },
  {
   "cell_type": "code",
   "execution_count": 113,
   "id": "d7c15cf3",
   "metadata": {},
   "outputs": [
    {
     "data": {
      "text/plain": [
       "[<selenium.webdriver.remote.webelement.WebElement (session=\"0c506f0753b892f3010b052b6c08879d\", element=\"40e7aae1-590e-4a25-966b-c24a2956ab26\")>,\n",
       " <selenium.webdriver.remote.webelement.WebElement (session=\"0c506f0753b892f3010b052b6c08879d\", element=\"be30d013-9884-4f5d-a5be-69f71b977001\")>,\n",
       " <selenium.webdriver.remote.webelement.WebElement (session=\"0c506f0753b892f3010b052b6c08879d\", element=\"a033cd11-d043-4f03-9294-acc132921604\")>,\n",
       " <selenium.webdriver.remote.webelement.WebElement (session=\"0c506f0753b892f3010b052b6c08879d\", element=\"3e86a840-2f72-4148-8364-496fcd6878dd\")>,\n",
       " <selenium.webdriver.remote.webelement.WebElement (session=\"0c506f0753b892f3010b052b6c08879d\", element=\"65b2ff35-c7f1-4e46-8043-afcf7b8d7112\")>,\n",
       " <selenium.webdriver.remote.webelement.WebElement (session=\"0c506f0753b892f3010b052b6c08879d\", element=\"bdeef019-97a1-41be-bb0f-83d40eb51f86\")>,\n",
       " <selenium.webdriver.remote.webelement.WebElement (session=\"0c506f0753b892f3010b052b6c08879d\", element=\"63922a95-0de0-4457-b191-9826085d81eb\")>,\n",
       " <selenium.webdriver.remote.webelement.WebElement (session=\"0c506f0753b892f3010b052b6c08879d\", element=\"c273d065-cec3-4a23-939b-3883b9e9da5d\")>,\n",
       " <selenium.webdriver.remote.webelement.WebElement (session=\"0c506f0753b892f3010b052b6c08879d\", element=\"6b2bc6a2-c47e-417e-a7e9-6f33ca73ad87\")>,\n",
       " <selenium.webdriver.remote.webelement.WebElement (session=\"0c506f0753b892f3010b052b6c08879d\", element=\"1c8d0b3a-7d20-4950-9e2e-0a2b24d31a0a\")>,\n",
       " <selenium.webdriver.remote.webelement.WebElement (session=\"0c506f0753b892f3010b052b6c08879d\", element=\"afa9a4ea-c737-49b8-bb60-8afecca34e1a\")>,\n",
       " <selenium.webdriver.remote.webelement.WebElement (session=\"0c506f0753b892f3010b052b6c08879d\", element=\"c51cce19-7b87-47fe-9536-d1a2f39e1e71\")>,\n",
       " <selenium.webdriver.remote.webelement.WebElement (session=\"0c506f0753b892f3010b052b6c08879d\", element=\"ae0b7a34-9735-43bb-a543-195a79f2dbdb\")>,\n",
       " <selenium.webdriver.remote.webelement.WebElement (session=\"0c506f0753b892f3010b052b6c08879d\", element=\"4b287c5a-1edd-4d43-838d-7fec20dca7d2\")>,\n",
       " <selenium.webdriver.remote.webelement.WebElement (session=\"0c506f0753b892f3010b052b6c08879d\", element=\"88b4c516-bc68-4881-a7a6-980a8c0ea300\")>,\n",
       " <selenium.webdriver.remote.webelement.WebElement (session=\"0c506f0753b892f3010b052b6c08879d\", element=\"a9007c2a-dabd-48d7-9f82-80e59cdac186\")>,\n",
       " <selenium.webdriver.remote.webelement.WebElement (session=\"0c506f0753b892f3010b052b6c08879d\", element=\"c4663747-e49b-4f1c-b587-fe3ef461bf3f\")>,\n",
       " <selenium.webdriver.remote.webelement.WebElement (session=\"0c506f0753b892f3010b052b6c08879d\", element=\"d45f51e4-f377-487b-8db1-6e433b2b062d\")>,\n",
       " <selenium.webdriver.remote.webelement.WebElement (session=\"0c506f0753b892f3010b052b6c08879d\", element=\"08dbfa29-c2a6-4fc4-9c74-685d5464b3f1\")>,\n",
       " <selenium.webdriver.remote.webelement.WebElement (session=\"0c506f0753b892f3010b052b6c08879d\", element=\"15e426de-7eb6-4118-a939-e8c3aa0ac328\")>,\n",
       " <selenium.webdriver.remote.webelement.WebElement (session=\"0c506f0753b892f3010b052b6c08879d\", element=\"e2c45c1d-37ac-4815-9397-206456bca5ca\")>,\n",
       " <selenium.webdriver.remote.webelement.WebElement (session=\"0c506f0753b892f3010b052b6c08879d\", element=\"f5d80d47-d149-406c-bf9f-be79380dafbf\")>,\n",
       " <selenium.webdriver.remote.webelement.WebElement (session=\"0c506f0753b892f3010b052b6c08879d\", element=\"39ba3e33-8abc-4d61-b7e1-8a5c2e9f03b3\")>,\n",
       " <selenium.webdriver.remote.webelement.WebElement (session=\"0c506f0753b892f3010b052b6c08879d\", element=\"28ef34fb-8fb9-4f4f-955a-2a402848144e\")>,\n",
       " <selenium.webdriver.remote.webelement.WebElement (session=\"0c506f0753b892f3010b052b6c08879d\", element=\"1b2eccc8-6bd8-4706-bb26-3460dffccfab\")>,\n",
       " <selenium.webdriver.remote.webelement.WebElement (session=\"0c506f0753b892f3010b052b6c08879d\", element=\"67893a3e-4e4f-4bc3-9626-207fd883e7d2\")>,\n",
       " <selenium.webdriver.remote.webelement.WebElement (session=\"0c506f0753b892f3010b052b6c08879d\", element=\"bfdc9954-8a61-46ff-8e09-589d750f4bf2\")>,\n",
       " <selenium.webdriver.remote.webelement.WebElement (session=\"0c506f0753b892f3010b052b6c08879d\", element=\"aa7fe7d6-ab6e-4ece-8176-8f80f1a43553\")>,\n",
       " <selenium.webdriver.remote.webelement.WebElement (session=\"0c506f0753b892f3010b052b6c08879d\", element=\"48ecdd6e-1eb1-426c-8ad5-fdf8f76ac7a2\")>,\n",
       " <selenium.webdriver.remote.webelement.WebElement (session=\"0c506f0753b892f3010b052b6c08879d\", element=\"3806823c-1581-460c-b955-2bdc07bfc14e\")>,\n",
       " <selenium.webdriver.remote.webelement.WebElement (session=\"0c506f0753b892f3010b052b6c08879d\", element=\"9c5f0045-f3cb-4c61-b113-51ba833c558c\")>,\n",
       " <selenium.webdriver.remote.webelement.WebElement (session=\"0c506f0753b892f3010b052b6c08879d\", element=\"79675dd2-a7b6-40be-b361-63b885e0ca1d\")>,\n",
       " <selenium.webdriver.remote.webelement.WebElement (session=\"0c506f0753b892f3010b052b6c08879d\", element=\"869df47e-963a-404d-8a25-6d584b490563\")>,\n",
       " <selenium.webdriver.remote.webelement.WebElement (session=\"0c506f0753b892f3010b052b6c08879d\", element=\"159d3d5f-b509-4d60-8900-254407870a3b\")>,\n",
       " <selenium.webdriver.remote.webelement.WebElement (session=\"0c506f0753b892f3010b052b6c08879d\", element=\"a2d7e1e6-d5cd-4103-bd17-e4c1ef8a35cf\")>,\n",
       " <selenium.webdriver.remote.webelement.WebElement (session=\"0c506f0753b892f3010b052b6c08879d\", element=\"37ed0581-7870-4ae9-ae6b-c3638ea64373\")>,\n",
       " <selenium.webdriver.remote.webelement.WebElement (session=\"0c506f0753b892f3010b052b6c08879d\", element=\"844a0bd8-ec34-4695-a6ab-f75f3fe6de53\")>,\n",
       " <selenium.webdriver.remote.webelement.WebElement (session=\"0c506f0753b892f3010b052b6c08879d\", element=\"b13748f1-414b-42b1-94de-9dd6e59615f8\")>,\n",
       " <selenium.webdriver.remote.webelement.WebElement (session=\"0c506f0753b892f3010b052b6c08879d\", element=\"b7e7b4d4-ebcb-4bdd-a0c9-83622f154517\")>,\n",
       " <selenium.webdriver.remote.webelement.WebElement (session=\"0c506f0753b892f3010b052b6c08879d\", element=\"02881e60-af5f-4ea0-b6c0-98ac42ccf571\")>]"
      ]
     },
     "execution_count": 113,
     "metadata": {},
     "output_type": "execute_result"
    }
   ],
   "source": [
    "price2=driver4.find_elements_by_xpath('//div[@class=\"_30jeq3\"]')\n",
    "price2"
   ]
  },
  {
   "cell_type": "code",
   "execution_count": 114,
   "id": "3a68d51a",
   "metadata": {},
   "outputs": [
    {
     "data": {
      "text/plain": [
       "['₹449',\n",
       " '₹664',\n",
       " '₹489',\n",
       " '₹248',\n",
       " '₹188',\n",
       " '₹234',\n",
       " '₹243',\n",
       " '₹1,099',\n",
       " '₹271',\n",
       " '₹229',\n",
       " '₹181',\n",
       " '₹999',\n",
       " '₹639',\n",
       " '₹178',\n",
       " '₹499',\n",
       " '₹449',\n",
       " '₹146',\n",
       " '₹309',\n",
       " '₹399',\n",
       " '₹349',\n",
       " '₹265',\n",
       " '₹189',\n",
       " '₹299',\n",
       " '₹1,533',\n",
       " '₹230',\n",
       " '₹269',\n",
       " '₹235',\n",
       " '₹799',\n",
       " '₹626',\n",
       " '₹200',\n",
       " '₹144',\n",
       " '₹499',\n",
       " '₹175',\n",
       " '₹165',\n",
       " '₹199',\n",
       " '₹173',\n",
       " '₹276',\n",
       " '₹639',\n",
       " '₹196',\n",
       " '₹1,415']"
      ]
     },
     "execution_count": 114,
     "metadata": {},
     "output_type": "execute_result"
    }
   ],
   "source": [
    "price2_tag=[]\n",
    "for i in price2:\n",
    "    price2_tag.append(i.text)\n",
    "    \n",
    "price2_tag"
   ]
  },
  {
   "cell_type": "code",
   "execution_count": 116,
   "id": "1534ccc6",
   "metadata": {},
   "outputs": [],
   "source": [
    "next_page=driver4.find_element_by_class_name(\"ge-49M\")\n",
    "next_page.click()"
   ]
  },
  {
   "cell_type": "code",
   "execution_count": 117,
   "id": "c1fc9160",
   "metadata": {},
   "outputs": [
    {
     "data": {
      "text/plain": [
       "[<selenium.webdriver.remote.webelement.WebElement (session=\"0c506f0753b892f3010b052b6c08879d\", element=\"359ef8d5-3475-4d37-967e-5339a3ade6b5\")>,\n",
       " <selenium.webdriver.remote.webelement.WebElement (session=\"0c506f0753b892f3010b052b6c08879d\", element=\"c57e6eb4-03b8-420b-8c16-71bf558be8d1\")>,\n",
       " <selenium.webdriver.remote.webelement.WebElement (session=\"0c506f0753b892f3010b052b6c08879d\", element=\"396f7e5c-50b0-4011-a834-f605c2ee17c2\")>,\n",
       " <selenium.webdriver.remote.webelement.WebElement (session=\"0c506f0753b892f3010b052b6c08879d\", element=\"7df53525-63ca-405c-856e-f6ff32cd9b07\")>,\n",
       " <selenium.webdriver.remote.webelement.WebElement (session=\"0c506f0753b892f3010b052b6c08879d\", element=\"2ac2b4e9-a2c3-4fc4-ac75-5f30f1a3001a\")>,\n",
       " <selenium.webdriver.remote.webelement.WebElement (session=\"0c506f0753b892f3010b052b6c08879d\", element=\"61dc389e-8766-40a3-b91f-b73cd4df5f82\")>,\n",
       " <selenium.webdriver.remote.webelement.WebElement (session=\"0c506f0753b892f3010b052b6c08879d\", element=\"b4fdfe5e-971d-4203-9416-1a3ceea14a91\")>,\n",
       " <selenium.webdriver.remote.webelement.WebElement (session=\"0c506f0753b892f3010b052b6c08879d\", element=\"845e4725-6989-4837-923f-de63c0c66712\")>,\n",
       " <selenium.webdriver.remote.webelement.WebElement (session=\"0c506f0753b892f3010b052b6c08879d\", element=\"8394ce5b-b5ad-4d8d-ba26-7b1544dd5d57\")>,\n",
       " <selenium.webdriver.remote.webelement.WebElement (session=\"0c506f0753b892f3010b052b6c08879d\", element=\"8b5a6407-26dc-4182-bd8d-9a17e88ee305\")>,\n",
       " <selenium.webdriver.remote.webelement.WebElement (session=\"0c506f0753b892f3010b052b6c08879d\", element=\"494032d3-211d-4757-8763-c68b85db88ec\")>,\n",
       " <selenium.webdriver.remote.webelement.WebElement (session=\"0c506f0753b892f3010b052b6c08879d\", element=\"a7e92443-90c8-4562-97c1-2468a24dea1d\")>,\n",
       " <selenium.webdriver.remote.webelement.WebElement (session=\"0c506f0753b892f3010b052b6c08879d\", element=\"a81a2903-189c-4f16-82fa-f771a1c9e44f\")>,\n",
       " <selenium.webdriver.remote.webelement.WebElement (session=\"0c506f0753b892f3010b052b6c08879d\", element=\"6296d34f-ecab-48ff-a244-ccbb457d7ad3\")>,\n",
       " <selenium.webdriver.remote.webelement.WebElement (session=\"0c506f0753b892f3010b052b6c08879d\", element=\"0ceb0dcf-6322-4470-8a1c-93e5ad7bec3b\")>,\n",
       " <selenium.webdriver.remote.webelement.WebElement (session=\"0c506f0753b892f3010b052b6c08879d\", element=\"d096a63d-1fdc-437d-8f60-9a0ecf68198a\")>,\n",
       " <selenium.webdriver.remote.webelement.WebElement (session=\"0c506f0753b892f3010b052b6c08879d\", element=\"b6ef8571-8f90-4622-b037-fcbd867ead97\")>,\n",
       " <selenium.webdriver.remote.webelement.WebElement (session=\"0c506f0753b892f3010b052b6c08879d\", element=\"eb7139ea-37e1-4204-a2a9-55a110539bf0\")>,\n",
       " <selenium.webdriver.remote.webelement.WebElement (session=\"0c506f0753b892f3010b052b6c08879d\", element=\"6d29ae90-dc7e-429a-b55b-f10fdc081565\")>,\n",
       " <selenium.webdriver.remote.webelement.WebElement (session=\"0c506f0753b892f3010b052b6c08879d\", element=\"35bba97e-3ffb-464f-a3be-da671eabe357\")>,\n",
       " <selenium.webdriver.remote.webelement.WebElement (session=\"0c506f0753b892f3010b052b6c08879d\", element=\"246fc554-feec-48b0-851b-aa5a31c2c334\")>,\n",
       " <selenium.webdriver.remote.webelement.WebElement (session=\"0c506f0753b892f3010b052b6c08879d\", element=\"59a8b24a-5ca8-4eb4-a21a-34a7aa847837\")>,\n",
       " <selenium.webdriver.remote.webelement.WebElement (session=\"0c506f0753b892f3010b052b6c08879d\", element=\"1f90dccb-00c4-470c-ae2e-d96aad056465\")>,\n",
       " <selenium.webdriver.remote.webelement.WebElement (session=\"0c506f0753b892f3010b052b6c08879d\", element=\"06465325-b6f0-4c68-887f-b46cd91bbf07\")>,\n",
       " <selenium.webdriver.remote.webelement.WebElement (session=\"0c506f0753b892f3010b052b6c08879d\", element=\"133456dd-3d5a-4d09-ade4-82946c75e5ff\")>,\n",
       " <selenium.webdriver.remote.webelement.WebElement (session=\"0c506f0753b892f3010b052b6c08879d\", element=\"d2c06cee-40b1-45cb-9a49-8bff1333eaec\")>,\n",
       " <selenium.webdriver.remote.webelement.WebElement (session=\"0c506f0753b892f3010b052b6c08879d\", element=\"3933af23-93fa-422c-b393-b75ffbefc775\")>,\n",
       " <selenium.webdriver.remote.webelement.WebElement (session=\"0c506f0753b892f3010b052b6c08879d\", element=\"56d2dddd-8645-46fa-bb18-f7750b131524\")>,\n",
       " <selenium.webdriver.remote.webelement.WebElement (session=\"0c506f0753b892f3010b052b6c08879d\", element=\"225c27e6-37f3-40bd-a8bf-c136798418ab\")>,\n",
       " <selenium.webdriver.remote.webelement.WebElement (session=\"0c506f0753b892f3010b052b6c08879d\", element=\"4d569552-a000-46bc-a752-f4b70e2ff652\")>,\n",
       " <selenium.webdriver.remote.webelement.WebElement (session=\"0c506f0753b892f3010b052b6c08879d\", element=\"7c093064-fcd3-482c-a194-b1d1ac2d22c1\")>,\n",
       " <selenium.webdriver.remote.webelement.WebElement (session=\"0c506f0753b892f3010b052b6c08879d\", element=\"908ddd35-0915-4871-858d-f61409ad0f7c\")>,\n",
       " <selenium.webdriver.remote.webelement.WebElement (session=\"0c506f0753b892f3010b052b6c08879d\", element=\"31aeed76-328d-467e-ad2d-5c9817f0d711\")>,\n",
       " <selenium.webdriver.remote.webelement.WebElement (session=\"0c506f0753b892f3010b052b6c08879d\", element=\"6f8db432-feaa-4c11-ac65-143372ef329e\")>,\n",
       " <selenium.webdriver.remote.webelement.WebElement (session=\"0c506f0753b892f3010b052b6c08879d\", element=\"75e40a3c-ce1c-4301-8b0a-7e83864a2929\")>,\n",
       " <selenium.webdriver.remote.webelement.WebElement (session=\"0c506f0753b892f3010b052b6c08879d\", element=\"80cf3cf5-8cef-45f9-bc54-3d9d517bf722\")>,\n",
       " <selenium.webdriver.remote.webelement.WebElement (session=\"0c506f0753b892f3010b052b6c08879d\", element=\"f272ba0b-eddd-4ca5-a761-2956d1cc6a40\")>,\n",
       " <selenium.webdriver.remote.webelement.WebElement (session=\"0c506f0753b892f3010b052b6c08879d\", element=\"c4151401-7393-43e9-b545-023812eb9878\")>,\n",
       " <selenium.webdriver.remote.webelement.WebElement (session=\"0c506f0753b892f3010b052b6c08879d\", element=\"45d176c0-c82a-4681-9472-cfdb734cd39c\")>,\n",
       " <selenium.webdriver.remote.webelement.WebElement (session=\"0c506f0753b892f3010b052b6c08879d\", element=\"54ffc59f-298c-46d5-bf79-8fb602170b14\")>]"
      ]
     },
     "execution_count": 117,
     "metadata": {},
     "output_type": "execute_result"
    }
   ],
   "source": [
    "page3_srch=driver4.find_elements_by_xpath('//div[@class=\"_2WkVRV\"]')\n",
    "page3_srch"
   ]
  },
  {
   "cell_type": "code",
   "execution_count": 125,
   "id": "de75a602",
   "metadata": {},
   "outputs": [
    {
     "data": {
      "text/plain": [
       "['ROZZETTA CRAFT',\n",
       " 'Singco India',\n",
       " 'Fastrack',\n",
       " 'Elligator',\n",
       " 'SRPM',\n",
       " 'New Specs',\n",
       " 'SUNBEE',\n",
       " 'VILLAIN',\n",
       " 'SUNBEE',\n",
       " 'PIRASO',\n",
       " 'SHAAH COLLECTIONS',\n",
       " 'VINCENT CHASE',\n",
       " 'Fastrack',\n",
       " 'kingsunglasses',\n",
       " 'ROZZETTA CRAFT',\n",
       " 'ROZZETTA CRAFT',\n",
       " 'Johaena',\n",
       " 'PHENOMENAL',\n",
       " 'ROZZETTA CRAFT',\n",
       " 'ROZZETTA CRAFT']"
      ]
     },
     "execution_count": 125,
     "metadata": {},
     "output_type": "execute_result"
    }
   ],
   "source": [
    "brands3=[]\n",
    "for i in page3_srch:\n",
    "    brands3.append(i.text)\n",
    "    brands3=brands3[0:20] #indexing just the first 20 products to get the total 100 sunglasses\n",
    "brands3"
   ]
  },
  {
   "cell_type": "code",
   "execution_count": 127,
   "id": "16da6173",
   "metadata": {},
   "outputs": [
    {
     "name": "stdout",
     "output_type": "stream",
     "text": [
      "100\n"
     ]
    }
   ],
   "source": [
    "print(len(brand_name)+len(page2_brands)+len(brands3)) # as we can see we have achieved first 100 results"
   ]
  },
  {
   "cell_type": "code",
   "execution_count": null,
   "id": "77aaf45d",
   "metadata": {},
   "outputs": [],
   "source": []
  },
  {
   "cell_type": "code",
   "execution_count": null,
   "id": "9de8a333",
   "metadata": {},
   "outputs": [],
   "source": []
  },
  {
   "cell_type": "markdown",
   "id": "743b8bd5",
   "metadata": {},
   "source": [
    "# 6. First 100 sneakers you find when you visit flipkart.com"
   ]
  },
  {
   "cell_type": "code",
   "execution_count": 132,
   "id": "de31c9fc",
   "metadata": {},
   "outputs": [],
   "source": [
    "driver5=webdriver.Chrome('chromedriver.exe')"
   ]
  },
  {
   "cell_type": "code",
   "execution_count": 133,
   "id": "7efa9a2e",
   "metadata": {},
   "outputs": [],
   "source": [
    "url5=\"https://www.flipkart.com/\"\n",
    "driver5.get(url5)"
   ]
  },
  {
   "cell_type": "code",
   "execution_count": 134,
   "id": "01722579",
   "metadata": {},
   "outputs": [],
   "source": [
    "srch_sneakers=driver5.find_element_by_class_name('_3704LK')"
   ]
  },
  {
   "cell_type": "code",
   "execution_count": 136,
   "id": "d06a4680",
   "metadata": {},
   "outputs": [
    {
     "data": {
      "text/plain": [
       "<selenium.webdriver.remote.webelement.WebElement (session=\"2714c2706debf8b6dfabea09b4bf90b3\", element=\"d68eb0de-d3b9-4ad1-8059-b7b46e020ede\")>"
      ]
     },
     "execution_count": 136,
     "metadata": {},
     "output_type": "execute_result"
    }
   ],
   "source": [
    "srch_sneakers"
   ]
  },
  {
   "cell_type": "code",
   "execution_count": 137,
   "id": "b87573e4",
   "metadata": {},
   "outputs": [],
   "source": [
    "srch_sneakers.send_keys('sneakers')"
   ]
  },
  {
   "cell_type": "code",
   "execution_count": 139,
   "id": "f60d9447",
   "metadata": {},
   "outputs": [],
   "source": [
    "srch_btn5=driver5.find_element_by_class_name(\"L0Z3Pu\")\n",
    "srch_btn5.click()"
   ]
  },
  {
   "cell_type": "code",
   "execution_count": 144,
   "id": "3dcddf71",
   "metadata": {},
   "outputs": [],
   "source": [
    "brand_tags5 = []\n",
    "description = []\n",
    "price5 = []\n",
    "discount5 = []\n",
    "\n",
    "for k in range(1,4):\n",
    "    \n",
    "    brand = driver5.find_elements_by_class_name('_2WkVRV')\n",
    "    \n",
    "\n",
    "    for i in brand:\n",
    "        brand_tags5.append(i.text)\n",
    "\n",
    "    desc = driver5.find_elements_by_class_name('IRpwTa')\n",
    "    \n",
    "\n",
    "    for i in desc:\n",
    "        description.append(i.text)\n",
    "\n",
    "    cost = driver5.find_elements_by_class_name(\"_30jeq3\")\n",
    "    \n",
    "\n",
    "    for i in cost:\n",
    "        price5.append(i.text)\n",
    "\n",
    "\n",
    "    dis = driver5.find_elements_by_class_name(\"_3Ay6Sb\")\n",
    "    \n",
    "\n",
    "    for i in dis:\n",
    "        discount5.append(i.text)\n",
    "    \n",
    "    \n",
    "        nxt_button=driver5.find_elements_by_xpath(\"//a[@class='_1LKTO3']\")              \n",
    "    try:\n",
    "\n",
    "        driver5.get(nxt_button[1].get_attribute('href'))\n",
    "        \n",
    "\n",
    "    except:\n",
    "\n",
    "        driver5.get(nxt_button[0].get_attribute('href'))\n"
   ]
  },
  {
   "cell_type": "code",
   "execution_count": 146,
   "id": "95af8b32",
   "metadata": {},
   "outputs": [],
   "source": [
    "brand_tags5 = brand_tags5[0:100]\n",
    "description = description[0:100]\n",
    "price5 = price5[0:100]\n",
    "discount5 = discount5[0:100]"
   ]
  },
  {
   "cell_type": "code",
   "execution_count": 148,
   "id": "1afe1a10",
   "metadata": {},
   "outputs": [
    {
     "data": {
      "text/html": [
       "<div>\n",
       "<style scoped>\n",
       "    .dataframe tbody tr th:only-of-type {\n",
       "        vertical-align: middle;\n",
       "    }\n",
       "\n",
       "    .dataframe tbody tr th {\n",
       "        vertical-align: top;\n",
       "    }\n",
       "\n",
       "    .dataframe thead th {\n",
       "        text-align: right;\n",
       "    }\n",
       "</style>\n",
       "<table border=\"1\" class=\"dataframe\">\n",
       "  <thead>\n",
       "    <tr style=\"text-align: right;\">\n",
       "      <th></th>\n",
       "      <th>Brands</th>\n",
       "      <th>Product_desc</th>\n",
       "      <th>Price</th>\n",
       "      <th>Discount</th>\n",
       "    </tr>\n",
       "  </thead>\n",
       "  <tbody>\n",
       "    <tr>\n",
       "      <th>0</th>\n",
       "      <td>aadi</td>\n",
       "      <td>Sneakers For Men</td>\n",
       "      <td>₹499</td>\n",
       "      <td>50% off</td>\n",
       "    </tr>\n",
       "    <tr>\n",
       "      <th>1</th>\n",
       "      <td>Echor</td>\n",
       "      <td>Men's Sneakers Fashion Lightweight Running Sho...</td>\n",
       "      <td>₹499</td>\n",
       "      <td>50% off</td>\n",
       "    </tr>\n",
       "    <tr>\n",
       "      <th>2</th>\n",
       "      <td>Elevarse</td>\n",
       "      <td>Sneakers For Men</td>\n",
       "      <td>₹349</td>\n",
       "      <td>65% off</td>\n",
       "    </tr>\n",
       "    <tr>\n",
       "      <th>3</th>\n",
       "      <td>BRUTON</td>\n",
       "      <td>Modern Trendy Sneakers Shoes Sneakers For Men</td>\n",
       "      <td>₹259</td>\n",
       "      <td>80% off</td>\n",
       "    </tr>\n",
       "    <tr>\n",
       "      <th>4</th>\n",
       "      <td>World Wear Footwear</td>\n",
       "      <td>5011-Latest Collection Stylish Casual Loafer S...</td>\n",
       "      <td>₹199</td>\n",
       "      <td>60% off</td>\n",
       "    </tr>\n",
       "    <tr>\n",
       "      <th>...</th>\n",
       "      <td>...</td>\n",
       "      <td>...</td>\n",
       "      <td>...</td>\n",
       "      <td>...</td>\n",
       "    </tr>\n",
       "    <tr>\n",
       "      <th>95</th>\n",
       "      <td>luxury fashion</td>\n",
       "      <td>Luxury Fashionable casual shoes Sneakers For Men</td>\n",
       "      <td>₹1,524</td>\n",
       "      <td>66% off</td>\n",
       "    </tr>\n",
       "    <tr>\n",
       "      <th>96</th>\n",
       "      <td>Ardeo</td>\n",
       "      <td>Sneakers For Men</td>\n",
       "      <td>₹499</td>\n",
       "      <td>50% off</td>\n",
       "    </tr>\n",
       "    <tr>\n",
       "      <th>97</th>\n",
       "      <td>PUMA</td>\n",
       "      <td>Rebound Future Evo Sneakers For Men</td>\n",
       "      <td>₹499</td>\n",
       "      <td>50% off</td>\n",
       "    </tr>\n",
       "    <tr>\n",
       "      <th>98</th>\n",
       "      <td>Airland</td>\n",
       "      <td>Sneakers Shoes For Men Black Sneakers For Men</td>\n",
       "      <td>₹499</td>\n",
       "      <td>66% off</td>\n",
       "    </tr>\n",
       "    <tr>\n",
       "      <th>99</th>\n",
       "      <td>PEHANOSA</td>\n",
       "      <td>Sneaker for men Sneakers For Men</td>\n",
       "      <td>₹499</td>\n",
       "      <td>15% off</td>\n",
       "    </tr>\n",
       "  </tbody>\n",
       "</table>\n",
       "<p>100 rows × 4 columns</p>\n",
       "</div>"
      ],
      "text/plain": [
       "                 Brands                                       Product_desc  \\\n",
       "0                  aadi                                   Sneakers For Men   \n",
       "1                 Echor  Men's Sneakers Fashion Lightweight Running Sho...   \n",
       "2              Elevarse                                   Sneakers For Men   \n",
       "3                BRUTON      Modern Trendy Sneakers Shoes Sneakers For Men   \n",
       "4   World Wear Footwear  5011-Latest Collection Stylish Casual Loafer S...   \n",
       "..                  ...                                                ...   \n",
       "95       luxury fashion   Luxury Fashionable casual shoes Sneakers For Men   \n",
       "96                Ardeo                                   Sneakers For Men   \n",
       "97                 PUMA                Rebound Future Evo Sneakers For Men   \n",
       "98              Airland      Sneakers Shoes For Men Black Sneakers For Men   \n",
       "99             PEHANOSA                   Sneaker for men Sneakers For Men   \n",
       "\n",
       "     Price Discount  \n",
       "0     ₹499  50% off  \n",
       "1     ₹499  50% off  \n",
       "2     ₹349  65% off  \n",
       "3     ₹259  80% off  \n",
       "4     ₹199  60% off  \n",
       "..     ...      ...  \n",
       "95  ₹1,524  66% off  \n",
       "96    ₹499  50% off  \n",
       "97    ₹499  50% off  \n",
       "98    ₹499  66% off  \n",
       "99    ₹499  15% off  \n",
       "\n",
       "[100 rows x 4 columns]"
      ]
     },
     "execution_count": 148,
     "metadata": {},
     "output_type": "execute_result"
    }
   ],
   "source": [
    "df5 = pd.DataFrame({})\n",
    "df5['Brands'] = brand_tags5\n",
    "df5['Product_desc'] = description\n",
    "df5['Price'] = price5\n",
    "df5['Discount'] = discount5\n",
    "\n",
    "\n",
    "df5"
   ]
  },
  {
   "cell_type": "code",
   "execution_count": null,
   "id": "89ff0152",
   "metadata": {},
   "outputs": [],
   "source": []
  },
  {
   "cell_type": "code",
   "execution_count": null,
   "id": "373998cd",
   "metadata": {},
   "outputs": [],
   "source": []
  },
  {
   "cell_type": "code",
   "execution_count": null,
   "id": "8b87fe4a",
   "metadata": {},
   "outputs": [],
   "source": []
  },
  {
   "cell_type": "markdown",
   "id": "286c4967",
   "metadata": {},
   "source": [
    "# 7. Myntra first 100 shoes scraping"
   ]
  },
  {
   "cell_type": "code",
   "execution_count": 149,
   "id": "2b39d4a2",
   "metadata": {},
   "outputs": [],
   "source": [
    "driver6=webdriver.Chrome('chromedriver.exe')"
   ]
  },
  {
   "cell_type": "code",
   "execution_count": 150,
   "id": "7fea8a04",
   "metadata": {},
   "outputs": [],
   "source": [
    "url6 = \"https://www.myntra.com/shoes\"\n",
    "\n",
    "driver6.get(url6)"
   ]
  },
  {
   "cell_type": "code",
   "execution_count": 151,
   "id": "414bb837",
   "metadata": {},
   "outputs": [],
   "source": [
    "driver6.find_element_by_xpath(\"/html/body/div[2]/div/div[1]/main/div[3]/div[1]/section/div/div[5]/ul/li[2]/label/div\").click()"
   ]
  },
  {
   "cell_type": "code",
   "execution_count": 153,
   "id": "92eb1d5c",
   "metadata": {},
   "outputs": [],
   "source": [
    "driver6.find_element_by_xpath(\"/html/body/div[2]/div/div[1]/main/div[3]/div[1]/section/div/div[6]/ul/li[1]/label/div\").click()"
   ]
  },
  {
   "cell_type": "code",
   "execution_count": 155,
   "id": "7ec018c9",
   "metadata": {},
   "outputs": [],
   "source": [
    "brand_name = []\n",
    "product_desc = []\n",
    "prices = []\n",
    "\n",
    "\n",
    "\n",
    "brands = driver6.find_elements_by_class_name('product-brand')\n",
    "    \n",
    "\n",
    "for i in brands:\n",
    "    brand_name.append(i.text)\n",
    "\n",
    "desc = driver6.find_elements_by_class_name('product-product')\n",
    "    \n",
    "for i in desc:\n",
    "    product_desc.append(i.text)\n",
    "\n",
    "cost = driver6.find_elements_by_class_name(\"product-price\")\n",
    "    \n",
    "\n",
    "for i in cost:\n",
    "    prices.append(i.text)"
   ]
  },
  {
   "cell_type": "code",
   "execution_count": 157,
   "id": "23c127b6",
   "metadata": {},
   "outputs": [
    {
     "name": "stdout",
     "output_type": "stream",
     "text": [
      "50 50 50\n"
     ]
    }
   ],
   "source": [
    "print(len(brand_name),len(product_desc),len(prices)) #these are the first 50 shoes "
   ]
  },
  {
   "cell_type": "code",
   "execution_count": 158,
   "id": "5f7b2810",
   "metadata": {},
   "outputs": [],
   "source": [
    "brand_name1 = []\n",
    "product_desc1 = []\n",
    "prices1 = []\n",
    "\n",
    "\n",
    "\n",
    "brands = driver6.find_elements_by_class_name('product-brand')\n",
    "    \n",
    "\n",
    "for i in brands:\n",
    "    brand_name1.append(i.text)\n",
    "\n",
    "desc = driver6.find_elements_by_class_name('product-product')\n",
    "    \n",
    "for i in desc:\n",
    "    product_desc1.append(i.text)\n",
    "\n",
    "cost = driver6.find_elements_by_class_name(\"product-price\")\n",
    "    \n",
    "\n",
    "for i in cost:\n",
    "    prices1.append(i.text)"
   ]
  },
  {
   "cell_type": "code",
   "execution_count": 159,
   "id": "ebb03398",
   "metadata": {},
   "outputs": [
    {
     "name": "stdout",
     "output_type": "stream",
     "text": [
      "50 50 50\n"
     ]
    }
   ],
   "source": [
    "print(len(brand_name1),len(product_desc1),len(prices1)) # these are the second 50 shoes "
   ]
  },
  {
   "cell_type": "code",
   "execution_count": 161,
   "id": "6f90fcbb",
   "metadata": {},
   "outputs": [
    {
     "data": {
      "text/html": [
       "<div>\n",
       "<style scoped>\n",
       "    .dataframe tbody tr th:only-of-type {\n",
       "        vertical-align: middle;\n",
       "    }\n",
       "\n",
       "    .dataframe tbody tr th {\n",
       "        vertical-align: top;\n",
       "    }\n",
       "\n",
       "    .dataframe thead th {\n",
       "        text-align: right;\n",
       "    }\n",
       "</style>\n",
       "<table border=\"1\" class=\"dataframe\">\n",
       "  <thead>\n",
       "    <tr style=\"text-align: right;\">\n",
       "      <th></th>\n",
       "      <th>Brands</th>\n",
       "      <th>Description</th>\n",
       "      <th>Prices</th>\n",
       "    </tr>\n",
       "  </thead>\n",
       "  <tbody>\n",
       "    <tr>\n",
       "      <th>0</th>\n",
       "      <td>Nike</td>\n",
       "      <td>Men AIR ZOOM PEGASUS 38</td>\n",
       "      <td>Rs. 10920Rs. 11495(5% OFF)</td>\n",
       "    </tr>\n",
       "    <tr>\n",
       "      <th>1</th>\n",
       "      <td>ALDO</td>\n",
       "      <td>Men Printed Sneakers</td>\n",
       "      <td>Rs. 9099Rs. 12999(30% OFF)</td>\n",
       "    </tr>\n",
       "    <tr>\n",
       "      <th>2</th>\n",
       "      <td>Nike</td>\n",
       "      <td>Men Blazer Court Skateboarding</td>\n",
       "      <td>Rs. 7495</td>\n",
       "    </tr>\n",
       "    <tr>\n",
       "      <th>3</th>\n",
       "      <td>Tommy Hilfiger</td>\n",
       "      <td>Men Leather Sneakers</td>\n",
       "      <td>Rs. 7999</td>\n",
       "    </tr>\n",
       "    <tr>\n",
       "      <th>4</th>\n",
       "      <td>Puma</td>\n",
       "      <td>Men Jamming 2.0 Running Shoes</td>\n",
       "      <td>Rs. 12999</td>\n",
       "    </tr>\n",
       "    <tr>\n",
       "      <th>...</th>\n",
       "      <td>...</td>\n",
       "      <td>...</td>\n",
       "      <td>...</td>\n",
       "    </tr>\n",
       "    <tr>\n",
       "      <th>95</th>\n",
       "      <td>Clarks</td>\n",
       "      <td>Men Solid Leather Formal Brogues</td>\n",
       "      <td>Rs. 7999</td>\n",
       "    </tr>\n",
       "    <tr>\n",
       "      <th>96</th>\n",
       "      <td>Clarks</td>\n",
       "      <td>Men Solid Leather Formal Loafers</td>\n",
       "      <td>Rs. 7999</td>\n",
       "    </tr>\n",
       "    <tr>\n",
       "      <th>97</th>\n",
       "      <td>Saint G</td>\n",
       "      <td>Leather Block Heeled Boots</td>\n",
       "      <td>Rs. 9265Rs. 10900(15% OFF)</td>\n",
       "    </tr>\n",
       "    <tr>\n",
       "      <th>98</th>\n",
       "      <td>Saint G</td>\n",
       "      <td>Embellished Leather Block Heeled Boots</td>\n",
       "      <td>Rs. 7869Rs. 12900(39% OFF)</td>\n",
       "    </tr>\n",
       "    <tr>\n",
       "      <th>99</th>\n",
       "      <td>Geox</td>\n",
       "      <td>Women Leather Loafers</td>\n",
       "      <td>Rs. 7999</td>\n",
       "    </tr>\n",
       "  </tbody>\n",
       "</table>\n",
       "<p>100 rows × 3 columns</p>\n",
       "</div>"
      ],
      "text/plain": [
       "            Brands                             Description  \\\n",
       "0             Nike                 Men AIR ZOOM PEGASUS 38   \n",
       "1             ALDO                    Men Printed Sneakers   \n",
       "2             Nike          Men Blazer Court Skateboarding   \n",
       "3   Tommy Hilfiger                    Men Leather Sneakers   \n",
       "4             Puma           Men Jamming 2.0 Running Shoes   \n",
       "..             ...                                     ...   \n",
       "95          Clarks        Men Solid Leather Formal Brogues   \n",
       "96          Clarks        Men Solid Leather Formal Loafers   \n",
       "97         Saint G              Leather Block Heeled Boots   \n",
       "98         Saint G  Embellished Leather Block Heeled Boots   \n",
       "99            Geox                   Women Leather Loafers   \n",
       "\n",
       "                        Prices  \n",
       "0   Rs. 10920Rs. 11495(5% OFF)  \n",
       "1   Rs. 9099Rs. 12999(30% OFF)  \n",
       "2                     Rs. 7495  \n",
       "3                     Rs. 7999  \n",
       "4                    Rs. 12999  \n",
       "..                         ...  \n",
       "95                    Rs. 7999  \n",
       "96                    Rs. 7999  \n",
       "97  Rs. 9265Rs. 10900(15% OFF)  \n",
       "98  Rs. 7869Rs. 12900(39% OFF)  \n",
       "99                    Rs. 7999  \n",
       "\n",
       "[100 rows x 3 columns]"
      ]
     },
     "execution_count": 161,
     "metadata": {},
     "output_type": "execute_result"
    }
   ],
   "source": [
    "#adding and merging both of them\n",
    "df6 = pd.DataFrame({})\n",
    "df6['Brands'] = brand_name+brand_name1\n",
    "df6['Description'] = product_desc+product_desc1\n",
    "df6['Prices'] = prices+prices1\n",
    "\n",
    "\n",
    "df6"
   ]
  },
  {
   "cell_type": "code",
   "execution_count": null,
   "id": "9be09c5e",
   "metadata": {},
   "outputs": [],
   "source": []
  },
  {
   "cell_type": "code",
   "execution_count": null,
   "id": "efdad582",
   "metadata": {},
   "outputs": [],
   "source": []
  },
  {
   "cell_type": "code",
   "execution_count": null,
   "id": "1ce5b812",
   "metadata": {},
   "outputs": [],
   "source": []
  },
  {
   "cell_type": "markdown",
   "id": "a5e8a2c7",
   "metadata": {},
   "source": [
    "# 8. Intelcore i7 and Intelcore i9 laptops on amazon"
   ]
  },
  {
   "cell_type": "code",
   "execution_count": 162,
   "id": "d370fb0f",
   "metadata": {},
   "outputs": [],
   "source": [
    "driver=webdriver.Chrome('chromedriver.exe')"
   ]
  },
  {
   "cell_type": "code",
   "execution_count": 163,
   "id": "57cfaa83",
   "metadata": {},
   "outputs": [],
   "source": [
    "url='https://www.amazon.in/'\n",
    "driver.get(url)"
   ]
  },
  {
   "cell_type": "code",
   "execution_count": 164,
   "id": "4d71249b",
   "metadata": {},
   "outputs": [
    {
     "data": {
      "text/plain": [
       "<selenium.webdriver.remote.webelement.WebElement (session=\"47ee79bd3c1a372b267d7f3fd8ddb34a\", element=\"4f1624f9-1010-4fa9-911a-abeca31fd0eb\")>"
      ]
     },
     "execution_count": 164,
     "metadata": {},
     "output_type": "execute_result"
    }
   ],
   "source": [
    "srch_laptop=driver.find_element_by_id('twotabsearchtextbox')\n",
    "srch_laptop"
   ]
  },
  {
   "cell_type": "code",
   "execution_count": 165,
   "id": "023b0a0a",
   "metadata": {},
   "outputs": [],
   "source": [
    "srch_laptop.send_keys(\"Laptop\")"
   ]
  },
  {
   "cell_type": "code",
   "execution_count": 166,
   "id": "35bc8cfb",
   "metadata": {},
   "outputs": [],
   "source": [
    "search_btn=driver.find_element_by_id(\"nav-search-submit-button\")\n",
    "search_btn.click()"
   ]
  },
  {
   "cell_type": "code",
   "execution_count": 170,
   "id": "f27b10ae",
   "metadata": {},
   "outputs": [],
   "source": [
    "core_i7=driver.find_element_by_xpath(\"/html/body/div[1]/div[2]/div[1]/div[2]/div/div[3]/span/div[1]/div/div/div[1]/ul/li[1]/span/a/div/label/i\")\n",
    "core_i7.click()"
   ]
  },
  {
   "cell_type": "code",
   "execution_count": 172,
   "id": "68e4c979",
   "metadata": {},
   "outputs": [],
   "source": [
    "core_i9=driver.find_element_by_xpath(\"/html/body/div[1]/div[2]/div[1]/div[2]/div/div[3]/span/div[1]/div/div/div[6]/ul[3]/li[11]/span/a/div/label/i\")\n",
    "core_i9.click()"
   ]
  },
  {
   "cell_type": "code",
   "execution_count": 173,
   "id": "09e716ad",
   "metadata": {},
   "outputs": [
    {
     "data": {
      "text/plain": [
       "[<selenium.webdriver.remote.webelement.WebElement (session=\"47ee79bd3c1a372b267d7f3fd8ddb34a\", element=\"1a907e46-fb6a-48bc-aa9d-adc224d76eb9\")>,\n",
       " <selenium.webdriver.remote.webelement.WebElement (session=\"47ee79bd3c1a372b267d7f3fd8ddb34a\", element=\"0607d61a-9dcf-4552-8e87-956848eaea28\")>,\n",
       " <selenium.webdriver.remote.webelement.WebElement (session=\"47ee79bd3c1a372b267d7f3fd8ddb34a\", element=\"6a847154-863f-4fc6-a2f7-03bac2906182\")>,\n",
       " <selenium.webdriver.remote.webelement.WebElement (session=\"47ee79bd3c1a372b267d7f3fd8ddb34a\", element=\"6e52f340-85cb-4cb4-9ae1-0f53f3b5e1c0\")>,\n",
       " <selenium.webdriver.remote.webelement.WebElement (session=\"47ee79bd3c1a372b267d7f3fd8ddb34a\", element=\"af8101b4-4f44-4b11-9999-3bf842198ccd\")>,\n",
       " <selenium.webdriver.remote.webelement.WebElement (session=\"47ee79bd3c1a372b267d7f3fd8ddb34a\", element=\"c63e8e28-66b4-418d-8f40-5efec74fe178\")>,\n",
       " <selenium.webdriver.remote.webelement.WebElement (session=\"47ee79bd3c1a372b267d7f3fd8ddb34a\", element=\"7c4c47f5-7523-473e-a92a-593d6377060d\")>,\n",
       " <selenium.webdriver.remote.webelement.WebElement (session=\"47ee79bd3c1a372b267d7f3fd8ddb34a\", element=\"9f5c9aa8-25aa-4363-be17-f34d1ac441ca\")>,\n",
       " <selenium.webdriver.remote.webelement.WebElement (session=\"47ee79bd3c1a372b267d7f3fd8ddb34a\", element=\"cce3fdbe-9c55-456d-a0eb-ef522eaeb1d9\")>,\n",
       " <selenium.webdriver.remote.webelement.WebElement (session=\"47ee79bd3c1a372b267d7f3fd8ddb34a\", element=\"21404c0f-2d50-40d5-a99a-feb0d3448418\")>,\n",
       " <selenium.webdriver.remote.webelement.WebElement (session=\"47ee79bd3c1a372b267d7f3fd8ddb34a\", element=\"6ca182bb-8aaf-4bdb-a456-ae0b43dcb78e\")>,\n",
       " <selenium.webdriver.remote.webelement.WebElement (session=\"47ee79bd3c1a372b267d7f3fd8ddb34a\", element=\"162f09e3-420e-4210-9635-c64baa7431a9\")>,\n",
       " <selenium.webdriver.remote.webelement.WebElement (session=\"47ee79bd3c1a372b267d7f3fd8ddb34a\", element=\"4be1c769-deab-45dc-b823-5e6c546af10d\")>,\n",
       " <selenium.webdriver.remote.webelement.WebElement (session=\"47ee79bd3c1a372b267d7f3fd8ddb34a\", element=\"e6098f4c-df1d-4a48-936d-68a394356f99\")>,\n",
       " <selenium.webdriver.remote.webelement.WebElement (session=\"47ee79bd3c1a372b267d7f3fd8ddb34a\", element=\"ebe90338-1b7b-4b0a-8e6b-7774f2e4911b\")>,\n",
       " <selenium.webdriver.remote.webelement.WebElement (session=\"47ee79bd3c1a372b267d7f3fd8ddb34a\", element=\"d1d35855-f649-4f17-8efe-e739bcb9d9ad\")>,\n",
       " <selenium.webdriver.remote.webelement.WebElement (session=\"47ee79bd3c1a372b267d7f3fd8ddb34a\", element=\"ed23edac-4aae-4e57-8532-aace2a25c3c4\")>,\n",
       " <selenium.webdriver.remote.webelement.WebElement (session=\"47ee79bd3c1a372b267d7f3fd8ddb34a\", element=\"92260d03-b145-42e7-b672-286cf815fe7d\")>,\n",
       " <selenium.webdriver.remote.webelement.WebElement (session=\"47ee79bd3c1a372b267d7f3fd8ddb34a\", element=\"26dc061f-8494-43c6-b6ac-e1571198420a\")>,\n",
       " <selenium.webdriver.remote.webelement.WebElement (session=\"47ee79bd3c1a372b267d7f3fd8ddb34a\", element=\"39e7d5fa-9ee8-4811-81ce-50fe877f7adb\")>,\n",
       " <selenium.webdriver.remote.webelement.WebElement (session=\"47ee79bd3c1a372b267d7f3fd8ddb34a\", element=\"c49eaa64-fef7-4f98-9753-c2d1d42b700b\")>,\n",
       " <selenium.webdriver.remote.webelement.WebElement (session=\"47ee79bd3c1a372b267d7f3fd8ddb34a\", element=\"e489c9d2-c2ac-4d36-8a04-637b1a85d4d6\")>,\n",
       " <selenium.webdriver.remote.webelement.WebElement (session=\"47ee79bd3c1a372b267d7f3fd8ddb34a\", element=\"48ddbccf-0f45-4d6d-a55c-e8fa3ba534a5\")>,\n",
       " <selenium.webdriver.remote.webelement.WebElement (session=\"47ee79bd3c1a372b267d7f3fd8ddb34a\", element=\"a59cd4a2-a1fa-49a9-bf35-a469f2f50cc2\")>]"
      ]
     },
     "execution_count": 173,
     "metadata": {},
     "output_type": "execute_result"
    }
   ],
   "source": [
    "laptop_name=driver.find_elements_by_xpath('//a[@class=\"a-link-normal s-underline-text s-underline-link-text s-link-style a-text-normal\"]')\n",
    "laptop_name"
   ]
  },
  {
   "cell_type": "code",
   "execution_count": 174,
   "id": "85739267",
   "metadata": {},
   "outputs": [
    {
     "data": {
      "text/plain": [
       "[<selenium.webdriver.remote.webelement.WebElement (session=\"47ee79bd3c1a372b267d7f3fd8ddb34a\", element=\"7ee96f42-faf0-4c18-aaae-01156494f694\")>,\n",
       " <selenium.webdriver.remote.webelement.WebElement (session=\"47ee79bd3c1a372b267d7f3fd8ddb34a\", element=\"8d00f66a-3442-4eb1-87ab-5d0a18e9e7d6\")>,\n",
       " <selenium.webdriver.remote.webelement.WebElement (session=\"47ee79bd3c1a372b267d7f3fd8ddb34a\", element=\"2db2020f-6d72-434e-880a-4ad62af30a0a\")>,\n",
       " <selenium.webdriver.remote.webelement.WebElement (session=\"47ee79bd3c1a372b267d7f3fd8ddb34a\", element=\"d3a841e8-4990-4e77-9b1e-42b5b3af352b\")>,\n",
       " <selenium.webdriver.remote.webelement.WebElement (session=\"47ee79bd3c1a372b267d7f3fd8ddb34a\", element=\"407fd8b7-008b-4676-9482-0283c7b36a6b\")>,\n",
       " <selenium.webdriver.remote.webelement.WebElement (session=\"47ee79bd3c1a372b267d7f3fd8ddb34a\", element=\"46cbae6f-1b72-4885-b446-01758b6b9baf\")>,\n",
       " <selenium.webdriver.remote.webelement.WebElement (session=\"47ee79bd3c1a372b267d7f3fd8ddb34a\", element=\"30c37fc5-6fda-4e10-969e-06f56eccc77a\")>,\n",
       " <selenium.webdriver.remote.webelement.WebElement (session=\"47ee79bd3c1a372b267d7f3fd8ddb34a\", element=\"4a89af1a-9db4-40dd-bf4c-6dd02c86e7a4\")>,\n",
       " <selenium.webdriver.remote.webelement.WebElement (session=\"47ee79bd3c1a372b267d7f3fd8ddb34a\", element=\"64954034-8e49-48d9-9944-d7a7e038cd3d\")>,\n",
       " <selenium.webdriver.remote.webelement.WebElement (session=\"47ee79bd3c1a372b267d7f3fd8ddb34a\", element=\"4f4d1ade-0dc9-4d3f-9f54-71c2d5276fde\")>,\n",
       " <selenium.webdriver.remote.webelement.WebElement (session=\"47ee79bd3c1a372b267d7f3fd8ddb34a\", element=\"4b3656ce-9eca-4e7b-bf76-63fd8ddf8f04\")>,\n",
       " <selenium.webdriver.remote.webelement.WebElement (session=\"47ee79bd3c1a372b267d7f3fd8ddb34a\", element=\"b90ebf1b-a851-4264-bf1f-ebbcdde13765\")>,\n",
       " <selenium.webdriver.remote.webelement.WebElement (session=\"47ee79bd3c1a372b267d7f3fd8ddb34a\", element=\"45fbaa76-ea8a-4acf-8369-a75bc672783f\")>,\n",
       " <selenium.webdriver.remote.webelement.WebElement (session=\"47ee79bd3c1a372b267d7f3fd8ddb34a\", element=\"9e5d5868-ecb0-48e0-8516-4d3c01614555\")>,\n",
       " <selenium.webdriver.remote.webelement.WebElement (session=\"47ee79bd3c1a372b267d7f3fd8ddb34a\", element=\"f58a2668-ab86-409f-90b9-54f2c78676eb\")>,\n",
       " <selenium.webdriver.remote.webelement.WebElement (session=\"47ee79bd3c1a372b267d7f3fd8ddb34a\", element=\"2fd95246-7bc2-4021-b3f2-6041e9ce5002\")>,\n",
       " <selenium.webdriver.remote.webelement.WebElement (session=\"47ee79bd3c1a372b267d7f3fd8ddb34a\", element=\"3d7f3a7c-b5c3-48c0-b4dd-434994fbe69f\")>,\n",
       " <selenium.webdriver.remote.webelement.WebElement (session=\"47ee79bd3c1a372b267d7f3fd8ddb34a\", element=\"64358575-ac88-4072-aa23-e1f9147a0876\")>,\n",
       " <selenium.webdriver.remote.webelement.WebElement (session=\"47ee79bd3c1a372b267d7f3fd8ddb34a\", element=\"b1d29d2d-1fff-4fd1-ad9d-563b350ab17d\")>,\n",
       " <selenium.webdriver.remote.webelement.WebElement (session=\"47ee79bd3c1a372b267d7f3fd8ddb34a\", element=\"2f33e756-878b-4aa3-89e1-65ee4c4ac7d3\")>,\n",
       " <selenium.webdriver.remote.webelement.WebElement (session=\"47ee79bd3c1a372b267d7f3fd8ddb34a\", element=\"f20fafc9-d597-4f00-a9b2-b9fe964a937b\")>,\n",
       " <selenium.webdriver.remote.webelement.WebElement (session=\"47ee79bd3c1a372b267d7f3fd8ddb34a\", element=\"b0a51a70-71a6-458a-95cc-8756c71bab96\")>,\n",
       " <selenium.webdriver.remote.webelement.WebElement (session=\"47ee79bd3c1a372b267d7f3fd8ddb34a\", element=\"7864022d-928c-4237-8cbb-a39ea2f6b1ff\")>,\n",
       " <selenium.webdriver.remote.webelement.WebElement (session=\"47ee79bd3c1a372b267d7f3fd8ddb34a\", element=\"8a4d85da-758a-4927-9b8e-67e02556716f\")>]"
      ]
     },
     "execution_count": 174,
     "metadata": {},
     "output_type": "execute_result"
    }
   ],
   "source": [
    "laptop_price=driver.find_elements_by_xpath('//span[@class=\"a-price-whole\"]')\n",
    "laptop_price"
   ]
  },
  {
   "cell_type": "code",
   "execution_count": 201,
   "id": "2208d7cf",
   "metadata": {},
   "outputs": [
    {
     "data": {
      "text/plain": [
       "[<selenium.webdriver.remote.webelement.WebElement (session=\"47ee79bd3c1a372b267d7f3fd8ddb34a\", element=\"5739374e-78c2-4c9c-aad8-5fe61e2f50af\")>,\n",
       " <selenium.webdriver.remote.webelement.WebElement (session=\"47ee79bd3c1a372b267d7f3fd8ddb34a\", element=\"2ea3b14c-1cdb-459f-9b69-3f3e094abf6e\")>,\n",
       " <selenium.webdriver.remote.webelement.WebElement (session=\"47ee79bd3c1a372b267d7f3fd8ddb34a\", element=\"acf65058-d6a5-4726-abf3-8df9d7030afc\")>,\n",
       " <selenium.webdriver.remote.webelement.WebElement (session=\"47ee79bd3c1a372b267d7f3fd8ddb34a\", element=\"7c1ce502-b26d-44b5-baf1-d5eae08b3712\")>,\n",
       " <selenium.webdriver.remote.webelement.WebElement (session=\"47ee79bd3c1a372b267d7f3fd8ddb34a\", element=\"7dc97985-6c97-4d25-b4e7-ed9ede16170d\")>,\n",
       " <selenium.webdriver.remote.webelement.WebElement (session=\"47ee79bd3c1a372b267d7f3fd8ddb34a\", element=\"4fa89592-dd32-45ea-9b69-40c384b3b214\")>,\n",
       " <selenium.webdriver.remote.webelement.WebElement (session=\"47ee79bd3c1a372b267d7f3fd8ddb34a\", element=\"c7a33db3-889a-4ce7-94c6-e1f66f662fbb\")>,\n",
       " <selenium.webdriver.remote.webelement.WebElement (session=\"47ee79bd3c1a372b267d7f3fd8ddb34a\", element=\"b8adc321-d90d-46bb-af2c-081bf03a100c\")>,\n",
       " <selenium.webdriver.remote.webelement.WebElement (session=\"47ee79bd3c1a372b267d7f3fd8ddb34a\", element=\"561973a7-40d1-48ac-88a4-f484017a3b59\")>,\n",
       " <selenium.webdriver.remote.webelement.WebElement (session=\"47ee79bd3c1a372b267d7f3fd8ddb34a\", element=\"015a5e31-2752-4679-ae79-0be385eae49d\")>,\n",
       " <selenium.webdriver.remote.webelement.WebElement (session=\"47ee79bd3c1a372b267d7f3fd8ddb34a\", element=\"775953a1-0819-4f51-84e5-69f66b5c8a97\")>,\n",
       " <selenium.webdriver.remote.webelement.WebElement (session=\"47ee79bd3c1a372b267d7f3fd8ddb34a\", element=\"44fbe408-6b4f-4e5f-b93c-3b0de907895b\")>,\n",
       " <selenium.webdriver.remote.webelement.WebElement (session=\"47ee79bd3c1a372b267d7f3fd8ddb34a\", element=\"7d022d2d-737a-4382-863e-4ac5550d9679\")>,\n",
       " <selenium.webdriver.remote.webelement.WebElement (session=\"47ee79bd3c1a372b267d7f3fd8ddb34a\", element=\"29258f0c-870e-466c-94fd-7c007abe48a9\")>,\n",
       " <selenium.webdriver.remote.webelement.WebElement (session=\"47ee79bd3c1a372b267d7f3fd8ddb34a\", element=\"473ee3a8-aefe-46ad-ac01-20cd69e98393\")>,\n",
       " <selenium.webdriver.remote.webelement.WebElement (session=\"47ee79bd3c1a372b267d7f3fd8ddb34a\", element=\"05b87aa2-2620-4397-8d3c-6ba414102048\")>]"
      ]
     },
     "execution_count": 201,
     "metadata": {},
     "output_type": "execute_result"
    }
   ],
   "source": [
    "ratings=driver.find_elements_by_xpath('//a[@class=\"a-popover-trigger a-declarative\"]')\n",
    "ratings"
   ]
  },
  {
   "cell_type": "code",
   "execution_count": 178,
   "id": "26831070",
   "metadata": {},
   "outputs": [
    {
     "data": {
      "text/plain": [
       "['ASUS VivoBook 14 (2021), 14-inch (35.56 cms) FHD, Intel Core i7-1065G7 10th Gen, Thin and Light Laptop (16GB/512GB SSD/Integrated Graphics/Office 2021/Windows 11/Silver/1.6 Kg), X415JA-EK701WS',\n",
       " 'HP Pavilion x360 11th Gen Intel Core i7 14 inches FHD, IPS, Convertible Laptop (16 GB RAM/512GB SSD, B&O/Win 11 Home/Backlit keyboard/FPR/ Alexa-Built in/MS Office/Natural Silver/1.52 Kg) -14-dy1013TU',\n",
       " 'ASUS TUF Gaming F15 (2021), 15.6\" (39.62 cms) FHD 144Hz, Intel Core i7-11600H 11th Gen, 4GB RTX 3050 Graphics, Gaming Laptop (16GB/512GB SSD/Windows 10/Office 2019/Gray/2.3 Kg), FX566HCB-HN299TS',\n",
       " 'ASUS TUF Gaming F15 (2021) 15.6-inch (39.62 cms) FHD 144Hz, Intel Core i7-11800H 11th Gen, RTX 3050 Ti 4GB Graphics, Gaming Laptop (16GB/1TB SSD/Windows 10/Gray/2.3 Kg), FX566HEB-HN248T',\n",
       " 'Lenovo ThinkBook 13s Intel 11th Gen Core i7 13.3\"(33.78 cm) WQXGA IPS 300 nits 100% sRGB Dolby Vision Thin and Light Laptop (16GB/512GB SSD/Windows 10/MS Office/FPR/Mineral Grey/1.26 Kg), 20V9A05FIH',\n",
       " 'LG Gram Intel Evo 11th Gen Core i7 17 inches Ultra-Light Laptop (16 GB RAM, 512 GB SSD, New Windows 11 Home Preload, Iris Xe Graphics, USC -C x 2 (with Power), 1.35 kg, 17Z90P-G.AH85A2, Black)',\n",
       " 'Fujitsu UH-X 11th Gen Intel i7 Core 13.3” (33.78cm) FHD IPS 400Nits Thin & Light Laptop (16GB/512GB SSD/Windows 11/Office 2021/Iris Xe Graphics/Backlit Kb/ Fingerprint Reader/Black/878gms), 4ZR1F38024',\n",
       " 'ASUS TUF Gaming F15 (2021), 15.6-inch (39.62 cms) FHD 144Hz, Intel Core i9-11900H 11th Gen, RTX 3060 6GB Graphics Gaming Laptop (16GB RAM/1TB SSD/Office 2019/Windows 10/Gray/2.3 kg), FX566HM-HN097TS',\n",
       " 'Acer Swift 5 Intel i7 11th Gen 14 inches Ultra Thin and Light Intel EVO Business Laptop (16GB RAM/1TB SSD/ W10 Home/ Full HD IPS Display with Touchscreen, Mist Green, 1.05 kg) SF514-55TA',\n",
       " 'ASUS TUF Gaming F15 (2021), 15.6-inch (39.62 cms) FHD 240Hz/3ms, Intel Core i9-11900H 11th Gen, RTX 3060 6GB Graphics Gaming Laptop (16GB/1TB SSD/Office 2019/Windows 10/Black/2.3 kg), FX506HM-AZ099TS']"
      ]
     },
     "execution_count": 178,
     "metadata": {},
     "output_type": "execute_result"
    }
   ],
   "source": [
    "laptops=[]\n",
    "for i in laptop_name:\n",
    "    laptops.append(i.text)\n",
    "    laptops=laptops[0:10]    \n",
    "\n",
    "laptops   "
   ]
  },
  {
   "cell_type": "code",
   "execution_count": 179,
   "id": "f45539eb",
   "metadata": {},
   "outputs": [
    {
     "data": {
      "text/plain": [
       "['59,990',\n",
       " '86,990',\n",
       " '83,990',\n",
       " '96,990',\n",
       " '84,990',\n",
       " '99,999',\n",
       " '92,490',\n",
       " '1,39,990',\n",
       " '93,999',\n",
       " '1,43,990']"
      ]
     },
     "execution_count": 179,
     "metadata": {},
     "output_type": "execute_result"
    }
   ],
   "source": [
    "laptop_prices=[]\n",
    "for i in laptop_price:\n",
    "    laptop_prices.append(i.text)\n",
    "    laptop_prices=laptop_prices[0:10] \n",
    "    \n",
    "    \n",
    "laptop_prices"
   ]
  },
  {
   "cell_type": "code",
   "execution_count": 202,
   "id": "dbc7df52",
   "metadata": {},
   "outputs": [
    {
     "data": {
      "text/plain": [
       "['', '', '', '', '', '', '', '', '', '']"
      ]
     },
     "execution_count": 202,
     "metadata": {},
     "output_type": "execute_result"
    }
   ],
   "source": [
    "Ratings=[]\n",
    "for i in ratings:\n",
    "    Ratings.append(i.text)\n",
    "    Ratings=Ratings[0:10]    \n",
    "Ratings"
   ]
  },
  {
   "cell_type": "code",
   "execution_count": 205,
   "id": "e4a4e25a",
   "metadata": {},
   "outputs": [
    {
     "data": {
      "text/html": [
       "<div>\n",
       "<style scoped>\n",
       "    .dataframe tbody tr th:only-of-type {\n",
       "        vertical-align: middle;\n",
       "    }\n",
       "\n",
       "    .dataframe tbody tr th {\n",
       "        vertical-align: top;\n",
       "    }\n",
       "\n",
       "    .dataframe thead th {\n",
       "        text-align: right;\n",
       "    }\n",
       "</style>\n",
       "<table border=\"1\" class=\"dataframe\">\n",
       "  <thead>\n",
       "    <tr style=\"text-align: right;\">\n",
       "      <th></th>\n",
       "      <th>Titles</th>\n",
       "      <th>Price</th>\n",
       "      <th>Ratings</th>\n",
       "    </tr>\n",
       "  </thead>\n",
       "  <tbody>\n",
       "    <tr>\n",
       "      <th>0</th>\n",
       "      <td>ASUS VivoBook 14 (2021), 14-inch (35.56 cms) F...</td>\n",
       "      <td>59,990</td>\n",
       "      <td></td>\n",
       "    </tr>\n",
       "    <tr>\n",
       "      <th>1</th>\n",
       "      <td>HP Pavilion x360 11th Gen Intel Core i7 14 inc...</td>\n",
       "      <td>86,990</td>\n",
       "      <td></td>\n",
       "    </tr>\n",
       "    <tr>\n",
       "      <th>2</th>\n",
       "      <td>ASUS TUF Gaming F15 (2021), 15.6\" (39.62 cms) ...</td>\n",
       "      <td>83,990</td>\n",
       "      <td></td>\n",
       "    </tr>\n",
       "    <tr>\n",
       "      <th>3</th>\n",
       "      <td>ASUS TUF Gaming F15 (2021) 15.6-inch (39.62 cm...</td>\n",
       "      <td>96,990</td>\n",
       "      <td></td>\n",
       "    </tr>\n",
       "    <tr>\n",
       "      <th>4</th>\n",
       "      <td>Lenovo ThinkBook 13s Intel 11th Gen Core i7 13...</td>\n",
       "      <td>84,990</td>\n",
       "      <td></td>\n",
       "    </tr>\n",
       "    <tr>\n",
       "      <th>5</th>\n",
       "      <td>LG Gram Intel Evo 11th Gen Core i7 17 inches U...</td>\n",
       "      <td>99,999</td>\n",
       "      <td></td>\n",
       "    </tr>\n",
       "    <tr>\n",
       "      <th>6</th>\n",
       "      <td>Fujitsu UH-X 11th Gen Intel i7 Core 13.3” (33....</td>\n",
       "      <td>92,490</td>\n",
       "      <td></td>\n",
       "    </tr>\n",
       "    <tr>\n",
       "      <th>7</th>\n",
       "      <td>ASUS TUF Gaming F15 (2021), 15.6-inch (39.62 c...</td>\n",
       "      <td>1,39,990</td>\n",
       "      <td></td>\n",
       "    </tr>\n",
       "    <tr>\n",
       "      <th>8</th>\n",
       "      <td>Acer Swift 5 Intel i7 11th Gen 14 inches Ultra...</td>\n",
       "      <td>93,999</td>\n",
       "      <td></td>\n",
       "    </tr>\n",
       "    <tr>\n",
       "      <th>9</th>\n",
       "      <td>ASUS TUF Gaming F15 (2021), 15.6-inch (39.62 c...</td>\n",
       "      <td>1,43,990</td>\n",
       "      <td></td>\n",
       "    </tr>\n",
       "  </tbody>\n",
       "</table>\n",
       "</div>"
      ],
      "text/plain": [
       "                                              Titles     Price Ratings\n",
       "0  ASUS VivoBook 14 (2021), 14-inch (35.56 cms) F...    59,990        \n",
       "1  HP Pavilion x360 11th Gen Intel Core i7 14 inc...    86,990        \n",
       "2  ASUS TUF Gaming F15 (2021), 15.6\" (39.62 cms) ...    83,990        \n",
       "3  ASUS TUF Gaming F15 (2021) 15.6-inch (39.62 cm...    96,990        \n",
       "4  Lenovo ThinkBook 13s Intel 11th Gen Core i7 13...    84,990        \n",
       "5  LG Gram Intel Evo 11th Gen Core i7 17 inches U...    99,999        \n",
       "6  Fujitsu UH-X 11th Gen Intel i7 Core 13.3” (33....    92,490        \n",
       "7  ASUS TUF Gaming F15 (2021), 15.6-inch (39.62 c...  1,39,990        \n",
       "8  Acer Swift 5 Intel i7 11th Gen 14 inches Ultra...    93,999        \n",
       "9  ASUS TUF Gaming F15 (2021), 15.6-inch (39.62 c...  1,43,990        "
      ]
     },
     "execution_count": 205,
     "metadata": {},
     "output_type": "execute_result"
    }
   ],
   "source": [
    "df = pd.DataFrame({})\n",
    "df['Titles'] = laptops \n",
    "df['Price'] = laptop_prices\n",
    "df['Ratings'] = Ratings\n",
    "\n",
    "\n",
    "df"
   ]
  },
  {
   "cell_type": "code",
   "execution_count": null,
   "id": "3073e812",
   "metadata": {},
   "outputs": [],
   "source": []
  },
  {
   "cell_type": "code",
   "execution_count": null,
   "id": "456a3144",
   "metadata": {},
   "outputs": [],
   "source": []
  },
  {
   "cell_type": "markdown",
   "id": "7ce14809",
   "metadata": {},
   "source": [
    "# 9. First 10 job results for Data Scientist Designation in Noida"
   ]
  },
  {
   "cell_type": "code",
   "execution_count": 206,
   "id": "6f10cf7f",
   "metadata": {},
   "outputs": [],
   "source": [
    "driver=webdriver.Chrome('chromedriver.exe')"
   ]
  },
  {
   "cell_type": "code",
   "execution_count": 207,
   "id": "cc9df5bf",
   "metadata": {},
   "outputs": [],
   "source": [
    "url='https://www.ambitionbox.com/'\n",
    "driver.get(url)"
   ]
  },
  {
   "cell_type": "code",
   "execution_count": 208,
   "id": "b4c4ff98",
   "metadata": {},
   "outputs": [],
   "source": [
    "jobs_icon=driver.find_element_by_xpath(\"/html/body/div[1]/nav/nav/a[6]\")\n",
    "jobs_icon.click()"
   ]
  },
  {
   "cell_type": "code",
   "execution_count": 209,
   "id": "127c2aab",
   "metadata": {},
   "outputs": [
    {
     "data": {
      "text/plain": [
       "<selenium.webdriver.remote.webelement.WebElement (session=\"5c0c9ca764f8534fa9815c4515a8e72e\", element=\"9fbd08c9-94eb-423c-b56f-c571e96cbff2\")>"
      ]
     },
     "execution_count": 209,
     "metadata": {},
     "output_type": "execute_result"
    }
   ],
   "source": [
    "job_srch=driver.find_element_by_xpath(\"/html/body/div[1]/div/div/div[2]/div[1]/div/div/div/div/span/input\")\n",
    "job_srch"
   ]
  },
  {
   "cell_type": "code",
   "execution_count": 210,
   "id": "42c99487",
   "metadata": {},
   "outputs": [],
   "source": [
    "job_srch.send_keys('Data Scientist')"
   ]
  },
  {
   "cell_type": "code",
   "execution_count": 211,
   "id": "96c49e76",
   "metadata": {},
   "outputs": [],
   "source": [
    "srch_btn=driver.find_element_by_xpath(\"/html/body/div/div/div/div[2]/div[1]/div/div/div/button/span\")\n",
    "srch_btn.click()"
   ]
  },
  {
   "cell_type": "code",
   "execution_count": 224,
   "id": "b0fbcdfc",
   "metadata": {},
   "outputs": [],
   "source": [
    "job_loca=driver.find_element_by_xpath(\"/html/body/div/div/div/div[2]/div[2]/div[1]/div/div/div/div[2]/div[1]/p\")\n",
    "job_loca.click()"
   ]
  },
  {
   "cell_type": "code",
   "execution_count": 225,
   "id": "e9c77f94",
   "metadata": {},
   "outputs": [
    {
     "data": {
      "text/plain": [
       "<selenium.webdriver.remote.webelement.WebElement (session=\"5c0c9ca764f8534fa9815c4515a8e72e\", element=\"d8ab630a-dc78-4daf-853e-5d0d4d28f7a8\")>"
      ]
     },
     "execution_count": 225,
     "metadata": {},
     "output_type": "execute_result"
    }
   ],
   "source": [
    "noida=driver.find_element_by_xpath(\"/html/body/div/div/div/div[2]/div[2]/div[1]/div/div/div/div[2]/div[2]/div/div[3]/div[1]/div[5]/div/label\")\n",
    "noida"
   ]
  },
  {
   "cell_type": "code",
   "execution_count": 226,
   "id": "d57e05cf",
   "metadata": {},
   "outputs": [
    {
     "data": {
      "text/plain": [
       "[<selenium.webdriver.remote.webelement.WebElement (session=\"5c0c9ca764f8534fa9815c4515a8e72e\", element=\"45b3861b-fe3a-4d1e-9d76-b8989fb8a914\")>,\n",
       " <selenium.webdriver.remote.webelement.WebElement (session=\"5c0c9ca764f8534fa9815c4515a8e72e\", element=\"d002ff35-d186-4d36-8989-db0e0eb6ee84\")>,\n",
       " <selenium.webdriver.remote.webelement.WebElement (session=\"5c0c9ca764f8534fa9815c4515a8e72e\", element=\"8817ffe9-b132-4922-bc8a-242f60be0700\")>,\n",
       " <selenium.webdriver.remote.webelement.WebElement (session=\"5c0c9ca764f8534fa9815c4515a8e72e\", element=\"b96f9a06-6417-455a-8348-842830fa10a3\")>,\n",
       " <selenium.webdriver.remote.webelement.WebElement (session=\"5c0c9ca764f8534fa9815c4515a8e72e\", element=\"5c5ea689-fb56-4fd4-b9a4-3b339a1f30c9\")>,\n",
       " <selenium.webdriver.remote.webelement.WebElement (session=\"5c0c9ca764f8534fa9815c4515a8e72e\", element=\"1346193d-ef37-459d-95a1-4244036da922\")>,\n",
       " <selenium.webdriver.remote.webelement.WebElement (session=\"5c0c9ca764f8534fa9815c4515a8e72e\", element=\"351e6ff4-6ae9-4ebd-a7b7-6f6da850b68f\")>,\n",
       " <selenium.webdriver.remote.webelement.WebElement (session=\"5c0c9ca764f8534fa9815c4515a8e72e\", element=\"f4c6ad06-6532-4152-9f64-d32d1f6db965\")>,\n",
       " <selenium.webdriver.remote.webelement.WebElement (session=\"5c0c9ca764f8534fa9815c4515a8e72e\", element=\"d61a1bbb-0ca6-446c-8bb7-b02cdd079c53\")>,\n",
       " <selenium.webdriver.remote.webelement.WebElement (session=\"5c0c9ca764f8534fa9815c4515a8e72e\", element=\"747cea43-51a7-489e-b194-29dd54b8120e\")>]"
      ]
     },
     "execution_count": 226,
     "metadata": {},
     "output_type": "execute_result"
    }
   ],
   "source": [
    "company_names=driver.find_elements_by_xpath('//p[@class=\"company body-medium\"]')\n",
    "company_names"
   ]
  },
  {
   "cell_type": "code",
   "execution_count": 227,
   "id": "e912566b",
   "metadata": {},
   "outputs": [
    {
     "data": {
      "text/plain": [
       "10"
      ]
     },
     "execution_count": 227,
     "metadata": {},
     "output_type": "execute_result"
    }
   ],
   "source": [
    "len(company_names)"
   ]
  },
  {
   "cell_type": "code",
   "execution_count": 228,
   "id": "7a66a34d",
   "metadata": {},
   "outputs": [
    {
     "data": {
      "text/plain": [
       "['Intel Technology India Pvt Ltd',\n",
       " 'Nokia Solutions and Networks India (P)Ltd.',\n",
       " 'RELIANCE RETAIL LIMITED',\n",
       " 'Walmart Labs',\n",
       " 'Walmart Labs',\n",
       " 'Ericsson India Global Services Pvt. Ltd.',\n",
       " 'IBM India Pvt. Limited',\n",
       " 'GlaxoSmithKline Pharmaceuticals Limited',\n",
       " 'IBM India Pvt. Limited',\n",
       " 'IBM India Pvt. Limited']"
      ]
     },
     "execution_count": 228,
     "metadata": {},
     "output_type": "execute_result"
    }
   ],
   "source": [
    "company_list=[]\n",
    "for i in company_names:\n",
    "    company_list.append(i.text)\n",
    "    \n",
    "company_list "
   ]
  },
  {
   "cell_type": "code",
   "execution_count": 229,
   "id": "1d374b57",
   "metadata": {},
   "outputs": [
    {
     "data": {
      "text/plain": [
       "[<selenium.webdriver.remote.webelement.WebElement (session=\"5c0c9ca764f8534fa9815c4515a8e72e\", element=\"09821ae7-acba-49fa-9499-1d6a9262aa50\")>,\n",
       " <selenium.webdriver.remote.webelement.WebElement (session=\"5c0c9ca764f8534fa9815c4515a8e72e\", element=\"07da45ad-5078-4aff-8bcf-d0201c62f860\")>,\n",
       " <selenium.webdriver.remote.webelement.WebElement (session=\"5c0c9ca764f8534fa9815c4515a8e72e\", element=\"618a974c-139b-49b3-9503-6eaf393c815a\")>,\n",
       " <selenium.webdriver.remote.webelement.WebElement (session=\"5c0c9ca764f8534fa9815c4515a8e72e\", element=\"bea49de6-8add-46d9-a480-ba43e5db20be\")>,\n",
       " <selenium.webdriver.remote.webelement.WebElement (session=\"5c0c9ca764f8534fa9815c4515a8e72e\", element=\"1a36b045-9079-45e2-9220-b25da1c9400c\")>,\n",
       " <selenium.webdriver.remote.webelement.WebElement (session=\"5c0c9ca764f8534fa9815c4515a8e72e\", element=\"f60df55e-52aa-4240-a840-1a57d9e55cf0\")>,\n",
       " <selenium.webdriver.remote.webelement.WebElement (session=\"5c0c9ca764f8534fa9815c4515a8e72e\", element=\"a5bc8ae1-7935-4a79-8d21-7787bc86ac7e\")>,\n",
       " <selenium.webdriver.remote.webelement.WebElement (session=\"5c0c9ca764f8534fa9815c4515a8e72e\", element=\"870ec51b-6ee0-4da8-9615-cff0f9440216\")>,\n",
       " <selenium.webdriver.remote.webelement.WebElement (session=\"5c0c9ca764f8534fa9815c4515a8e72e\", element=\"8af0612d-2091-4217-80dc-bb2f14e9adc6\")>,\n",
       " <selenium.webdriver.remote.webelement.WebElement (session=\"5c0c9ca764f8534fa9815c4515a8e72e\", element=\"fcdc2894-a28e-482a-860d-fa69aa2e035f\")>,\n",
       " <selenium.webdriver.remote.webelement.WebElement (session=\"5c0c9ca764f8534fa9815c4515a8e72e\", element=\"d1ad9d3f-8c5f-48ef-9704-26fedcd60a24\")>,\n",
       " <selenium.webdriver.remote.webelement.WebElement (session=\"5c0c9ca764f8534fa9815c4515a8e72e\", element=\"6e0a4487-3a4f-47a2-90d3-f905f9c3858b\")>,\n",
       " <selenium.webdriver.remote.webelement.WebElement (session=\"5c0c9ca764f8534fa9815c4515a8e72e\", element=\"94d7ad4d-2a82-4424-9aa7-912b4853936e\")>,\n",
       " <selenium.webdriver.remote.webelement.WebElement (session=\"5c0c9ca764f8534fa9815c4515a8e72e\", element=\"de6cacda-6e3f-40a7-b8b1-0ba1225a9684\")>,\n",
       " <selenium.webdriver.remote.webelement.WebElement (session=\"5c0c9ca764f8534fa9815c4515a8e72e\", element=\"f06860e9-30f7-42a9-a59f-cb8bbb11015a\")>,\n",
       " <selenium.webdriver.remote.webelement.WebElement (session=\"5c0c9ca764f8534fa9815c4515a8e72e\", element=\"0eb19ffe-ef1b-4a52-82e4-29e54bc7a1fb\")>,\n",
       " <selenium.webdriver.remote.webelement.WebElement (session=\"5c0c9ca764f8534fa9815c4515a8e72e\", element=\"fe0be5fd-d801-4359-ae68-4504c87cb040\")>,\n",
       " <selenium.webdriver.remote.webelement.WebElement (session=\"5c0c9ca764f8534fa9815c4515a8e72e\", element=\"335d64c3-9423-4af8-8303-ef1936a2e839\")>,\n",
       " <selenium.webdriver.remote.webelement.WebElement (session=\"5c0c9ca764f8534fa9815c4515a8e72e\", element=\"b8245597-0530-4009-8dc0-892c916abc1f\")>,\n",
       " <selenium.webdriver.remote.webelement.WebElement (session=\"5c0c9ca764f8534fa9815c4515a8e72e\", element=\"60cefe49-8754-4617-8841-b955def956b2\")>]"
      ]
     },
     "execution_count": 229,
     "metadata": {},
     "output_type": "execute_result"
    }
   ],
   "source": [
    "days=driver.find_elements_by_xpath('//span[@class=\"body-small-l\"]')\n",
    "days"
   ]
  },
  {
   "cell_type": "code",
   "execution_count": 230,
   "id": "23726326",
   "metadata": {},
   "outputs": [
    {
     "data": {
      "text/plain": [
       "['1d ago',\n",
       " 'via naukri.com',\n",
       " '1d ago',\n",
       " 'via naukri.com',\n",
       " '2d ago',\n",
       " 'via naukri.com',\n",
       " '2d ago',\n",
       " 'via naukri.com',\n",
       " '2d ago',\n",
       " 'via naukri.com']"
      ]
     },
     "execution_count": 230,
     "metadata": {},
     "output_type": "execute_result"
    }
   ],
   "source": [
    "last_posted=[]\n",
    "for i in days:\n",
    "    last_posted.append(i.text)\n",
    "    last_posted=last_posted[0:10]\n",
    "    \n",
    "last_posted"
   ]
  },
  {
   "cell_type": "code",
   "execution_count": 231,
   "id": "659f64c7",
   "metadata": {},
   "outputs": [
    {
     "data": {
      "text/plain": [
       "[<selenium.webdriver.remote.webelement.WebElement (session=\"5c0c9ca764f8534fa9815c4515a8e72e\", element=\"6a6b24bc-ab6d-405b-876e-99f45394b051\")>,\n",
       " <selenium.webdriver.remote.webelement.WebElement (session=\"5c0c9ca764f8534fa9815c4515a8e72e\", element=\"d77c851f-0176-43b7-bf45-4d8cb0817608\")>,\n",
       " <selenium.webdriver.remote.webelement.WebElement (session=\"5c0c9ca764f8534fa9815c4515a8e72e\", element=\"1ff33e25-0353-481c-99ad-e305be9eabdb\")>,\n",
       " <selenium.webdriver.remote.webelement.WebElement (session=\"5c0c9ca764f8534fa9815c4515a8e72e\", element=\"f45fbdde-2bc6-48a6-ba5f-bfd701d1ecec\")>,\n",
       " <selenium.webdriver.remote.webelement.WebElement (session=\"5c0c9ca764f8534fa9815c4515a8e72e\", element=\"75dc39cf-aacc-48e0-9091-1c7957b37c77\")>,\n",
       " <selenium.webdriver.remote.webelement.WebElement (session=\"5c0c9ca764f8534fa9815c4515a8e72e\", element=\"4a2fa9a1-b275-4bd1-b1b2-c3cee9f617e5\")>,\n",
       " <selenium.webdriver.remote.webelement.WebElement (session=\"5c0c9ca764f8534fa9815c4515a8e72e\", element=\"acbac4c5-5246-4f5c-aa5d-0286311fb69c\")>,\n",
       " <selenium.webdriver.remote.webelement.WebElement (session=\"5c0c9ca764f8534fa9815c4515a8e72e\", element=\"a01ec762-a8f7-49b3-bb7d-1b4eee32be86\")>,\n",
       " <selenium.webdriver.remote.webelement.WebElement (session=\"5c0c9ca764f8534fa9815c4515a8e72e\", element=\"1bbe0078-ea37-496a-90c1-1092d45a05f1\")>,\n",
       " <selenium.webdriver.remote.webelement.WebElement (session=\"5c0c9ca764f8534fa9815c4515a8e72e\", element=\"78715a30-c757-4ce8-a6dd-e4c52b82bf6c\")>]"
      ]
     },
     "execution_count": 231,
     "metadata": {},
     "output_type": "execute_result"
    }
   ],
   "source": [
    "ratings=driver.find_elements_by_xpath('//span[@class=\"body-small\"]')\n",
    "ratings"
   ]
  },
  {
   "cell_type": "code",
   "execution_count": 232,
   "id": "8106684f",
   "metadata": {},
   "outputs": [
    {
     "data": {
      "text/plain": [
       "['4.3', '4.3', '4.0', '4.1', '4.1', '4.2', '4.1', '4.3', '4.1', '4.1']"
      ]
     },
     "execution_count": 232,
     "metadata": {},
     "output_type": "execute_result"
    }
   ],
   "source": [
    "rating_list=[]\n",
    "for i in ratings:\n",
    "    rating_list.append(i.text)\n",
    "    \n",
    "    \n",
    "rating_list"
   ]
  },
  {
   "cell_type": "code",
   "execution_count": 233,
   "id": "e2a4863f",
   "metadata": {},
   "outputs": [
    {
     "data": {
      "text/html": [
       "<div>\n",
       "<style scoped>\n",
       "    .dataframe tbody tr th:only-of-type {\n",
       "        vertical-align: middle;\n",
       "    }\n",
       "\n",
       "    .dataframe tbody tr th {\n",
       "        vertical-align: top;\n",
       "    }\n",
       "\n",
       "    .dataframe thead th {\n",
       "        text-align: right;\n",
       "    }\n",
       "</style>\n",
       "<table border=\"1\" class=\"dataframe\">\n",
       "  <thead>\n",
       "    <tr style=\"text-align: right;\">\n",
       "      <th></th>\n",
       "      <th>Comapny</th>\n",
       "      <th>Last Posted</th>\n",
       "      <th>Ratings</th>\n",
       "    </tr>\n",
       "  </thead>\n",
       "  <tbody>\n",
       "    <tr>\n",
       "      <th>0</th>\n",
       "      <td>Intel Technology India Pvt Ltd</td>\n",
       "      <td>1d ago</td>\n",
       "      <td>4.3</td>\n",
       "    </tr>\n",
       "    <tr>\n",
       "      <th>1</th>\n",
       "      <td>Nokia Solutions and Networks India (P)Ltd.</td>\n",
       "      <td>via naukri.com</td>\n",
       "      <td>4.3</td>\n",
       "    </tr>\n",
       "    <tr>\n",
       "      <th>2</th>\n",
       "      <td>RELIANCE RETAIL LIMITED</td>\n",
       "      <td>1d ago</td>\n",
       "      <td>4.0</td>\n",
       "    </tr>\n",
       "    <tr>\n",
       "      <th>3</th>\n",
       "      <td>Walmart Labs</td>\n",
       "      <td>via naukri.com</td>\n",
       "      <td>4.1</td>\n",
       "    </tr>\n",
       "    <tr>\n",
       "      <th>4</th>\n",
       "      <td>Walmart Labs</td>\n",
       "      <td>2d ago</td>\n",
       "      <td>4.1</td>\n",
       "    </tr>\n",
       "    <tr>\n",
       "      <th>5</th>\n",
       "      <td>Ericsson India Global Services Pvt. Ltd.</td>\n",
       "      <td>via naukri.com</td>\n",
       "      <td>4.2</td>\n",
       "    </tr>\n",
       "    <tr>\n",
       "      <th>6</th>\n",
       "      <td>IBM India Pvt. Limited</td>\n",
       "      <td>2d ago</td>\n",
       "      <td>4.1</td>\n",
       "    </tr>\n",
       "    <tr>\n",
       "      <th>7</th>\n",
       "      <td>GlaxoSmithKline Pharmaceuticals Limited</td>\n",
       "      <td>via naukri.com</td>\n",
       "      <td>4.3</td>\n",
       "    </tr>\n",
       "    <tr>\n",
       "      <th>8</th>\n",
       "      <td>IBM India Pvt. Limited</td>\n",
       "      <td>2d ago</td>\n",
       "      <td>4.1</td>\n",
       "    </tr>\n",
       "    <tr>\n",
       "      <th>9</th>\n",
       "      <td>IBM India Pvt. Limited</td>\n",
       "      <td>via naukri.com</td>\n",
       "      <td>4.1</td>\n",
       "    </tr>\n",
       "  </tbody>\n",
       "</table>\n",
       "</div>"
      ],
      "text/plain": [
       "                                      Comapny     Last Posted Ratings\n",
       "0              Intel Technology India Pvt Ltd          1d ago     4.3\n",
       "1  Nokia Solutions and Networks India (P)Ltd.  via naukri.com     4.3\n",
       "2                     RELIANCE RETAIL LIMITED          1d ago     4.0\n",
       "3                                Walmart Labs  via naukri.com     4.1\n",
       "4                                Walmart Labs          2d ago     4.1\n",
       "5    Ericsson India Global Services Pvt. Ltd.  via naukri.com     4.2\n",
       "6                      IBM India Pvt. Limited          2d ago     4.1\n",
       "7     GlaxoSmithKline Pharmaceuticals Limited  via naukri.com     4.3\n",
       "8                      IBM India Pvt. Limited          2d ago     4.1\n",
       "9                      IBM India Pvt. Limited  via naukri.com     4.1"
      ]
     },
     "execution_count": 233,
     "metadata": {},
     "output_type": "execute_result"
    }
   ],
   "source": [
    "df = pd.DataFrame({})\n",
    "df['Comapny'] = company_list \n",
    "df['Last Posted'] = last_posted\n",
    "df['Ratings'] = rating_list\n",
    "\n",
    "\n",
    "df"
   ]
  },
  {
   "cell_type": "code",
   "execution_count": null,
   "id": "602ae277",
   "metadata": {},
   "outputs": [],
   "source": []
  },
  {
   "cell_type": "code",
   "execution_count": null,
   "id": "4e52d8c1",
   "metadata": {},
   "outputs": [],
   "source": []
  },
  {
   "cell_type": "markdown",
   "id": "1b131bdd",
   "metadata": {},
   "source": [
    "# 10. Scrape the salary data for Data Scientist designation"
   ]
  },
  {
   "cell_type": "code",
   "execution_count": 2,
   "id": "db8eb8dd",
   "metadata": {},
   "outputs": [],
   "source": [
    "driver8=webdriver.Chrome('chromedriver.exe')"
   ]
  },
  {
   "cell_type": "code",
   "execution_count": 3,
   "id": "fa8a349a",
   "metadata": {},
   "outputs": [],
   "source": [
    "url =\"https://www.ambitionbox.com/\"\n",
    "\n",
    "driver8.get(url)\n"
   ]
  },
  {
   "cell_type": "code",
   "execution_count": 4,
   "id": "c333c7df",
   "metadata": {},
   "outputs": [],
   "source": [
    "salary_header=driver8.find_element_by_xpath(\"/html/body/div[1]/nav/nav/a[4]\")\n",
    "salary_header.click()"
   ]
  },
  {
   "cell_type": "code",
   "execution_count": 5,
   "id": "16aaba48",
   "metadata": {},
   "outputs": [
    {
     "data": {
      "text/plain": [
       "<selenium.webdriver.remote.webelement.WebElement (session=\"90d97928e1eabf0a2f4d0130cb137881\", element=\"f2e7f17b-59c8-4447-ac2d-f56b68992a2e\")>"
      ]
     },
     "execution_count": 5,
     "metadata": {},
     "output_type": "execute_result"
    }
   ],
   "source": [
    "job_search=driver8.find_element_by_xpath(\"/html/body/div/div/div/main/section[1]/div[2]/div[1]/span/input\")\n",
    "job_search"
   ]
  },
  {
   "cell_type": "code",
   "execution_count": 6,
   "id": "2b53a016",
   "metadata": {},
   "outputs": [],
   "source": [
    "job_search.send_keys('Data Scientist')"
   ]
  },
  {
   "cell_type": "code",
   "execution_count": 7,
   "id": "49eefdda",
   "metadata": {},
   "outputs": [],
   "source": [
    "srch_btn=driver8.find_element_by_xpath(\"/html/body/div/div/div/div[2]/div/div/div/button/span\")\n"
   ]
  },
  {
   "cell_type": "code",
   "execution_count": 8,
   "id": "8572bb02",
   "metadata": {},
   "outputs": [],
   "source": [
    "srch_btn.click()"
   ]
  },
  {
   "cell_type": "code",
   "execution_count": 11,
   "id": "be9da300",
   "metadata": {},
   "outputs": [],
   "source": [
    "Company_names=driver8.find_elements_by_xpath('//div[@class=\"name\"]')\n"
   ]
  },
  {
   "cell_type": "code",
   "execution_count": 12,
   "id": "d557dc13",
   "metadata": {},
   "outputs": [
    {
     "data": {
      "text/plain": [
       "[<selenium.webdriver.remote.webelement.WebElement (session=\"90d97928e1eabf0a2f4d0130cb137881\", element=\"0736ae18-32a3-49a4-ae8d-018cea57b521\")>,\n",
       " <selenium.webdriver.remote.webelement.WebElement (session=\"90d97928e1eabf0a2f4d0130cb137881\", element=\"9a72ef3d-1835-4517-9457-2a9ae7182fb0\")>,\n",
       " <selenium.webdriver.remote.webelement.WebElement (session=\"90d97928e1eabf0a2f4d0130cb137881\", element=\"bd14939e-f93f-40db-8704-a22d8bc19501\")>,\n",
       " <selenium.webdriver.remote.webelement.WebElement (session=\"90d97928e1eabf0a2f4d0130cb137881\", element=\"34c108d0-d709-403a-92a8-b2b12c441fd7\")>,\n",
       " <selenium.webdriver.remote.webelement.WebElement (session=\"90d97928e1eabf0a2f4d0130cb137881\", element=\"09360d75-add1-4603-b497-d60d0b545a89\")>,\n",
       " <selenium.webdriver.remote.webelement.WebElement (session=\"90d97928e1eabf0a2f4d0130cb137881\", element=\"c94bbcd4-47da-42f9-9497-a9d796aa30bc\")>,\n",
       " <selenium.webdriver.remote.webelement.WebElement (session=\"90d97928e1eabf0a2f4d0130cb137881\", element=\"fb9a0fac-dcd0-4afb-9f56-ed2fe9eb539e\")>,\n",
       " <selenium.webdriver.remote.webelement.WebElement (session=\"90d97928e1eabf0a2f4d0130cb137881\", element=\"b6dddfb0-e02a-4902-b029-75c54dd054f5\")>,\n",
       " <selenium.webdriver.remote.webelement.WebElement (session=\"90d97928e1eabf0a2f4d0130cb137881\", element=\"eaf4c0bf-78cb-4e4d-bb09-230621f80888\")>,\n",
       " <selenium.webdriver.remote.webelement.WebElement (session=\"90d97928e1eabf0a2f4d0130cb137881\", element=\"78fa00e6-5d27-40b8-818b-e78f9c6e8d0d\")>]"
      ]
     },
     "execution_count": 12,
     "metadata": {},
     "output_type": "execute_result"
    }
   ],
   "source": [
    "Company_names"
   ]
  },
  {
   "cell_type": "code",
   "execution_count": 13,
   "id": "a0997101",
   "metadata": {},
   "outputs": [
    {
     "data": {
      "text/plain": [
       "10"
      ]
     },
     "execution_count": 13,
     "metadata": {},
     "output_type": "execute_result"
    }
   ],
   "source": [
    "len(Company_names)"
   ]
  },
  {
   "cell_type": "code",
   "execution_count": 14,
   "id": "4c1b3ebc",
   "metadata": {},
   "outputs": [],
   "source": [
    "Expirence=driver8.find_elements_by_xpath('//div[@class=\"salaries sbold-list-header\"]')"
   ]
  },
  {
   "cell_type": "code",
   "execution_count": 15,
   "id": "283be701",
   "metadata": {},
   "outputs": [
    {
     "data": {
      "text/plain": [
       "10"
      ]
     },
     "execution_count": 15,
     "metadata": {},
     "output_type": "execute_result"
    }
   ],
   "source": [
    "len(Expirence)"
   ]
  },
  {
   "cell_type": "code",
   "execution_count": 23,
   "id": "05a7f923",
   "metadata": {},
   "outputs": [
    {
     "data": {
      "text/plain": [
       "[<selenium.webdriver.remote.webelement.WebElement (session=\"90d97928e1eabf0a2f4d0130cb137881\", element=\"957b9f16-e722-4b88-a1ef-efa892a867cb\")>,\n",
       " <selenium.webdriver.remote.webelement.WebElement (session=\"90d97928e1eabf0a2f4d0130cb137881\", element=\"43969515-3ddc-42f5-9feb-8e7ccedf9f81\")>,\n",
       " <selenium.webdriver.remote.webelement.WebElement (session=\"90d97928e1eabf0a2f4d0130cb137881\", element=\"f704b598-d8d2-4657-9c0b-f20f1b4fcafb\")>,\n",
       " <selenium.webdriver.remote.webelement.WebElement (session=\"90d97928e1eabf0a2f4d0130cb137881\", element=\"23f4ae8c-c428-4d10-b674-ada18b1c644e\")>,\n",
       " <selenium.webdriver.remote.webelement.WebElement (session=\"90d97928e1eabf0a2f4d0130cb137881\", element=\"2313c9ae-69b3-4e01-af92-080e028704b6\")>,\n",
       " <selenium.webdriver.remote.webelement.WebElement (session=\"90d97928e1eabf0a2f4d0130cb137881\", element=\"1a9a078b-3046-4f58-9ab0-46cfaa90d6e6\")>,\n",
       " <selenium.webdriver.remote.webelement.WebElement (session=\"90d97928e1eabf0a2f4d0130cb137881\", element=\"de09a807-8423-4aa4-bd4d-64ffc6de34a7\")>,\n",
       " <selenium.webdriver.remote.webelement.WebElement (session=\"90d97928e1eabf0a2f4d0130cb137881\", element=\"1f8f5916-da9d-4ad4-a8ab-352f05203fae\")>,\n",
       " <selenium.webdriver.remote.webelement.WebElement (session=\"90d97928e1eabf0a2f4d0130cb137881\", element=\"afd052dc-5c14-4af4-afbf-89e6789564b5\")>,\n",
       " <selenium.webdriver.remote.webelement.WebElement (session=\"90d97928e1eabf0a2f4d0130cb137881\", element=\"6549619c-5c96-42b9-a859-b28a233bc284\")>]"
      ]
     },
     "execution_count": 23,
     "metadata": {},
     "output_type": "execute_result"
    }
   ],
   "source": [
    "Salary=driver8.find_elements_by_xpath('//div[@class=\"result-col salary-range\"]')\n",
    "Salary"
   ]
  },
  {
   "cell_type": "code",
   "execution_count": null,
   "id": "c4121a36",
   "metadata": {},
   "outputs": [],
   "source": []
  },
  {
   "cell_type": "code",
   "execution_count": 17,
   "id": "906c7845",
   "metadata": {},
   "outputs": [
    {
     "data": {
      "text/plain": [
       "10"
      ]
     },
     "execution_count": 17,
     "metadata": {},
     "output_type": "execute_result"
    }
   ],
   "source": [
    "len(Salary)"
   ]
  },
  {
   "cell_type": "code",
   "execution_count": 24,
   "id": "922f094a",
   "metadata": {},
   "outputs": [
    {
     "data": {
      "text/plain": [
       "['₹ 23.3L₹ 14.0L₹ 32.0L',\n",
       " '₹ 23.1L₹ 13.0L₹ 45.0L',\n",
       " '₹ 22.1L₹ 16.0L₹ 30.0L',\n",
       " '₹ 20.9L₹ 7.5L₹ 30.0L',\n",
       " '₹ 20.0L₹ 12.0L₹ 28.4L',\n",
       " '₹ 19.3L₹ 8.0L₹ 41.5L',\n",
       " '₹ 19.0L₹ 12.0L₹ 25.8L',\n",
       " '₹ 18.4L₹ 12.0L₹ 30.0L',\n",
       " '₹ 18.0L₹ 10.0L₹ 32.0L',\n",
       " '₹ 17.3L₹ 11.0L₹ 23.0L']"
      ]
     },
     "execution_count": 24,
     "metadata": {},
     "output_type": "execute_result"
    }
   ],
   "source": [
    "Salaries=[]\n",
    "for i in Salary:\n",
    "    Salaries.append(i.text.replace('\\n',''))\n",
    "    \n",
    "Salaries    "
   ]
  },
  {
   "cell_type": "code",
   "execution_count": 25,
   "id": "f91561a8",
   "metadata": {},
   "outputs": [
    {
     "data": {
      "text/plain": [
       "['Software Engineer . 4 yrs exp',\n",
       " 'Software Engineer . 1-4 yrs exp',\n",
       " 'Software Engineer . 2 yrs exp',\n",
       " 'Software Engineer . 1-4 yrs exp',\n",
       " 'Software Engineer . 1-2 yrs exp',\n",
       " 'Software Engineer . 1-4 yrs exp',\n",
       " 'Software Engineer . 2-4 yrs exp',\n",
       " 'Software Engineer . 1-2 yrs exp',\n",
       " 'Software Engineer . 1-4 yrs exp',\n",
       " 'Software Engineer . 3 yrs exp']"
      ]
     },
     "execution_count": 25,
     "metadata": {},
     "output_type": "execute_result"
    }
   ],
   "source": [
    "Exp_required=[]\n",
    "for i in Expirence:\n",
    "    Exp_required.append(i.text.replace('\\n',''))\n",
    "    \n",
    "Exp_required    "
   ]
  },
  {
   "cell_type": "code",
   "execution_count": 27,
   "id": "3f4e2ddd",
   "metadata": {},
   "outputs": [
    {
     "data": {
      "text/plain": [
       "['Tekionbased on 10 salaries',\n",
       " 'Microsoft Corporationbased on 227 salaries',\n",
       " 'Goldman Sachsbased on 12 salaries',\n",
       " 'Flipkartbased on 53 salaries',\n",
       " 'PayPalbased on 22 salaries',\n",
       " 'Amazonbased on 89 salaries',\n",
       " 'Servicenow Software Development Indiabased on 41 salaries',\n",
       " 'Arcesiumbased on 48 salaries',\n",
       " 'Walmartbased on 82 salaries',\n",
       " 'ServiceNowbased on 18 salaries']"
      ]
     },
     "execution_count": 27,
     "metadata": {},
     "output_type": "execute_result"
    }
   ],
   "source": [
    "Companies=[]\n",
    "for i in Company_names:\n",
    "    Companies.append(i.text.replace('\\n',''))\n",
    "    \n",
    "Companies   "
   ]
  },
  {
   "cell_type": "code",
   "execution_count": 29,
   "id": "a0f144da",
   "metadata": {},
   "outputs": [
    {
     "data": {
      "text/html": [
       "<div>\n",
       "<style scoped>\n",
       "    .dataframe tbody tr th:only-of-type {\n",
       "        vertical-align: middle;\n",
       "    }\n",
       "\n",
       "    .dataframe tbody tr th {\n",
       "        vertical-align: top;\n",
       "    }\n",
       "\n",
       "    .dataframe thead th {\n",
       "        text-align: right;\n",
       "    }\n",
       "</style>\n",
       "<table border=\"1\" class=\"dataframe\">\n",
       "  <thead>\n",
       "    <tr style=\"text-align: right;\">\n",
       "      <th></th>\n",
       "      <th>Comapny Name</th>\n",
       "      <th>Expirence</th>\n",
       "      <th>Average Salary</th>\n",
       "    </tr>\n",
       "  </thead>\n",
       "  <tbody>\n",
       "    <tr>\n",
       "      <th>0</th>\n",
       "      <td>Tekionbased on 10 salaries</td>\n",
       "      <td>Software Engineer . 4 yrs exp</td>\n",
       "      <td>₹ 23.3L₹ 14.0L₹ 32.0L</td>\n",
       "    </tr>\n",
       "    <tr>\n",
       "      <th>1</th>\n",
       "      <td>Microsoft Corporationbased on 227 salaries</td>\n",
       "      <td>Software Engineer . 1-4 yrs exp</td>\n",
       "      <td>₹ 23.1L₹ 13.0L₹ 45.0L</td>\n",
       "    </tr>\n",
       "    <tr>\n",
       "      <th>2</th>\n",
       "      <td>Goldman Sachsbased on 12 salaries</td>\n",
       "      <td>Software Engineer . 2 yrs exp</td>\n",
       "      <td>₹ 22.1L₹ 16.0L₹ 30.0L</td>\n",
       "    </tr>\n",
       "    <tr>\n",
       "      <th>3</th>\n",
       "      <td>Flipkartbased on 53 salaries</td>\n",
       "      <td>Software Engineer . 1-4 yrs exp</td>\n",
       "      <td>₹ 20.9L₹ 7.5L₹ 30.0L</td>\n",
       "    </tr>\n",
       "    <tr>\n",
       "      <th>4</th>\n",
       "      <td>PayPalbased on 22 salaries</td>\n",
       "      <td>Software Engineer . 1-2 yrs exp</td>\n",
       "      <td>₹ 20.0L₹ 12.0L₹ 28.4L</td>\n",
       "    </tr>\n",
       "    <tr>\n",
       "      <th>5</th>\n",
       "      <td>Amazonbased on 89 salaries</td>\n",
       "      <td>Software Engineer . 1-4 yrs exp</td>\n",
       "      <td>₹ 19.3L₹ 8.0L₹ 41.5L</td>\n",
       "    </tr>\n",
       "    <tr>\n",
       "      <th>6</th>\n",
       "      <td>Servicenow Software Development Indiabased on ...</td>\n",
       "      <td>Software Engineer . 2-4 yrs exp</td>\n",
       "      <td>₹ 19.0L₹ 12.0L₹ 25.8L</td>\n",
       "    </tr>\n",
       "    <tr>\n",
       "      <th>7</th>\n",
       "      <td>Arcesiumbased on 48 salaries</td>\n",
       "      <td>Software Engineer . 1-2 yrs exp</td>\n",
       "      <td>₹ 18.4L₹ 12.0L₹ 30.0L</td>\n",
       "    </tr>\n",
       "    <tr>\n",
       "      <th>8</th>\n",
       "      <td>Walmartbased on 82 salaries</td>\n",
       "      <td>Software Engineer . 1-4 yrs exp</td>\n",
       "      <td>₹ 18.0L₹ 10.0L₹ 32.0L</td>\n",
       "    </tr>\n",
       "    <tr>\n",
       "      <th>9</th>\n",
       "      <td>ServiceNowbased on 18 salaries</td>\n",
       "      <td>Software Engineer . 3 yrs exp</td>\n",
       "      <td>₹ 17.3L₹ 11.0L₹ 23.0L</td>\n",
       "    </tr>\n",
       "  </tbody>\n",
       "</table>\n",
       "</div>"
      ],
      "text/plain": [
       "                                        Comapny Name  \\\n",
       "0                         Tekionbased on 10 salaries   \n",
       "1         Microsoft Corporationbased on 227 salaries   \n",
       "2                  Goldman Sachsbased on 12 salaries   \n",
       "3                       Flipkartbased on 53 salaries   \n",
       "4                         PayPalbased on 22 salaries   \n",
       "5                         Amazonbased on 89 salaries   \n",
       "6  Servicenow Software Development Indiabased on ...   \n",
       "7                       Arcesiumbased on 48 salaries   \n",
       "8                        Walmartbased on 82 salaries   \n",
       "9                     ServiceNowbased on 18 salaries   \n",
       "\n",
       "                         Expirence         Average Salary  \n",
       "0    Software Engineer . 4 yrs exp  ₹ 23.3L₹ 14.0L₹ 32.0L  \n",
       "1  Software Engineer . 1-4 yrs exp  ₹ 23.1L₹ 13.0L₹ 45.0L  \n",
       "2    Software Engineer . 2 yrs exp  ₹ 22.1L₹ 16.0L₹ 30.0L  \n",
       "3  Software Engineer . 1-4 yrs exp   ₹ 20.9L₹ 7.5L₹ 30.0L  \n",
       "4  Software Engineer . 1-2 yrs exp  ₹ 20.0L₹ 12.0L₹ 28.4L  \n",
       "5  Software Engineer . 1-4 yrs exp   ₹ 19.3L₹ 8.0L₹ 41.5L  \n",
       "6  Software Engineer . 2-4 yrs exp  ₹ 19.0L₹ 12.0L₹ 25.8L  \n",
       "7  Software Engineer . 1-2 yrs exp  ₹ 18.4L₹ 12.0L₹ 30.0L  \n",
       "8  Software Engineer . 1-4 yrs exp  ₹ 18.0L₹ 10.0L₹ 32.0L  \n",
       "9    Software Engineer . 3 yrs exp  ₹ 17.3L₹ 11.0L₹ 23.0L  "
      ]
     },
     "execution_count": 29,
     "metadata": {},
     "output_type": "execute_result"
    }
   ],
   "source": [
    "df8 = pd.DataFrame({})\n",
    "df8['Comapny Name'] = Companies\n",
    "df8['Expirence'] = Exp_required\n",
    "df8['Average Salary'] = Salaries\n",
    "\n",
    "\n",
    "\n",
    "df8"
   ]
  },
  {
   "cell_type": "code",
   "execution_count": null,
   "id": "a27ff411",
   "metadata": {},
   "outputs": [],
   "source": []
  },
  {
   "cell_type": "code",
   "execution_count": null,
   "id": "00d0a56f",
   "metadata": {},
   "outputs": [],
   "source": []
  },
  {
   "cell_type": "markdown",
   "id": "e874c7e0",
   "metadata": {},
   "source": [
    "## Scraping first 100 reviews of iphone 11  "
   ]
  },
  {
   "cell_type": "markdown",
   "id": "07688730",
   "metadata": {},
   "source": [
    "# 5. Theres an error while opening the site \" ttps://www.flipkart.com/apple-iphone-11-black-64-gb-includes- earpods-power\u0002adapter/p/itm0f37c2240b217?pid=MOBFKCTSVZAXUHGR&lid=LSTMOBFKC\n",
    "TSVZAXUHGREPBFGI&marketplace. "
   ]
  },
  {
   "cell_type": "markdown",
   "id": "272280ab",
   "metadata": {},
   "source": [
    "# ** This url isnt working in automated tested chrome **"
   ]
  },
  {
   "cell_type": "code",
   "execution_count": 30,
   "id": "4a39330f",
   "metadata": {},
   "outputs": [],
   "source": [
    "driver10=webdriver.Chrome('chromedriver.exe')"
   ]
  },
  {
   "cell_type": "code",
   "execution_count": 31,
   "id": "ae803e2b",
   "metadata": {},
   "outputs": [],
   "source": [
    "url ='https://www.flipkart.com/apple-iphone-11-black-64-gb/p/itm0f37c2240b217'\n",
    "\n",
    "driver10.get(url)"
   ]
  },
  {
   "cell_type": "code",
   "execution_count": 42,
   "id": "3a5296a7",
   "metadata": {},
   "outputs": [],
   "source": [
    "rtngs=driver10.find_element_by_xpath(\"/html/body/div[1]/div/div[3]/div[1]/div[2]/div[3]/div/div[2]/div/div/span[1]/div\")"
   ]
  },
  {
   "cell_type": "code",
   "execution_count": 43,
   "id": "09917719",
   "metadata": {},
   "outputs": [
    {
     "data": {
      "text/plain": [
       "<selenium.webdriver.remote.webelement.WebElement (session=\"fce043fbaa1501ac87e2ff89ed58684e\", element=\"1dd15311-6b46-4796-9958-62cfbc66c05c\")>"
      ]
     },
     "execution_count": 43,
     "metadata": {},
     "output_type": "execute_result"
    }
   ],
   "source": [
    "rtngs"
   ]
  },
  {
   "cell_type": "code",
   "execution_count": 64,
   "id": "ce95cc35",
   "metadata": {},
   "outputs": [],
   "source": [
    "rtngs.click()"
   ]
  },
  {
   "cell_type": "code",
   "execution_count": 51,
   "id": "46c459e4",
   "metadata": {},
   "outputs": [],
   "source": [
    "reviews=driver10.find_element_by_xpath(\"/html/body/div[1]/div/div[3]/div[1]/div[2]/div[3]/div/div[2]/div/div/span[2]/span/span[3]\")"
   ]
  },
  {
   "cell_type": "code",
   "execution_count": 52,
   "id": "447a9514",
   "metadata": {},
   "outputs": [
    {
     "data": {
      "text/plain": [
       "<selenium.webdriver.remote.webelement.WebElement (session=\"fce043fbaa1501ac87e2ff89ed58684e\", element=\"917d8296-890a-485c-89fb-92e4619d98ea\")>"
      ]
     },
     "execution_count": 52,
     "metadata": {},
     "output_type": "execute_result"
    }
   ],
   "source": [
    "reviews"
   ]
  },
  {
   "cell_type": "code",
   "execution_count": 53,
   "id": "e7ba62a0",
   "metadata": {},
   "outputs": [],
   "source": [
    "reviews.click()"
   ]
  },
  {
   "cell_type": "code",
   "execution_count": 73,
   "id": "d13a18b4",
   "metadata": {},
   "outputs": [],
   "source": [
    "ratingss=driver10.find_elements_by_xpath('/html/body/div[1]/div/div[3]/div[1]/div[2]/div[9]/div/div/div[5]/div/div[2]/div[1]/div')"
   ]
  },
  {
   "cell_type": "code",
   "execution_count": 74,
   "id": "be74cc16",
   "metadata": {},
   "outputs": [
    {
     "data": {
      "text/plain": [
       "[<selenium.webdriver.remote.webelement.WebElement (session=\"fce043fbaa1501ac87e2ff89ed58684e\", element=\"bb4914e3-73fe-4599-b17c-d41f7e264fc2\")>]"
      ]
     },
     "execution_count": 74,
     "metadata": {},
     "output_type": "execute_result"
    }
   ],
   "source": [
    "ratingss"
   ]
  },
  {
   "cell_type": "code",
   "execution_count": 72,
   "id": "35b824bd",
   "metadata": {},
   "outputs": [
    {
     "data": {
      "text/plain": [
       "['5']"
      ]
     },
     "execution_count": 72,
     "metadata": {},
     "output_type": "execute_result"
    }
   ],
   "source": [
    "rtngs_list=[]\n",
    "for i in ratingss:\n",
    "    rtngs_list.append(i.text)\n",
    "    \n",
    "rtngs_list "
   ]
  },
  {
   "cell_type": "code",
   "execution_count": 55,
   "id": "ca000344",
   "metadata": {},
   "outputs": [
    {
     "ename": "TypeError",
     "evalue": "'WebElement' object is not iterable",
     "output_type": "error",
     "traceback": [
      "\u001b[1;31m---------------------------------------------------------------------------\u001b[0m",
      "\u001b[1;31mTypeError\u001b[0m                                 Traceback (most recent call last)",
      "\u001b[1;32m<ipython-input-55-942b0288485a>\u001b[0m in \u001b[0;36m<module>\u001b[1;34m\u001b[0m\n\u001b[0;32m      1\u001b[0m \u001b[0mreviews_list\u001b[0m\u001b[1;33m=\u001b[0m\u001b[1;33m[\u001b[0m\u001b[1;33m]\u001b[0m\u001b[1;33m\u001b[0m\u001b[1;33m\u001b[0m\u001b[0m\n\u001b[1;32m----> 2\u001b[1;33m \u001b[1;32mfor\u001b[0m \u001b[0mi\u001b[0m \u001b[1;32min\u001b[0m \u001b[0mreviews\u001b[0m\u001b[1;33m:\u001b[0m\u001b[1;33m\u001b[0m\u001b[1;33m\u001b[0m\u001b[0m\n\u001b[0m\u001b[0;32m      3\u001b[0m     \u001b[0mreviews_list\u001b[0m\u001b[1;33m.\u001b[0m\u001b[0mappend\u001b[0m\u001b[1;33m(\u001b[0m\u001b[0mi\u001b[0m\u001b[1;33m.\u001b[0m\u001b[0mtext\u001b[0m\u001b[1;33m)\u001b[0m\u001b[1;33m\u001b[0m\u001b[1;33m\u001b[0m\u001b[0m\n\u001b[0;32m      4\u001b[0m \u001b[1;33m\u001b[0m\u001b[0m\n\u001b[0;32m      5\u001b[0m \u001b[0mreviews_list\u001b[0m\u001b[1;33m\u001b[0m\u001b[1;33m\u001b[0m\u001b[0m\n",
      "\u001b[1;31mTypeError\u001b[0m: 'WebElement' object is not iterable"
     ]
    }
   ],
   "source": [
    "reviews_list=[]\n",
    "for i in reviews:\n",
    "    reviews_list.append(i.text)\n",
    "    \n",
    "reviews_list "
   ]
  },
  {
   "cell_type": "code",
   "execution_count": null,
   "id": "13709f39",
   "metadata": {},
   "outputs": [],
   "source": []
  }
 ],
 "metadata": {
  "kernelspec": {
   "display_name": "Python 3",
   "language": "python",
   "name": "python3"
  },
  "language_info": {
   "codemirror_mode": {
    "name": "ipython",
    "version": 3
   },
   "file_extension": ".py",
   "mimetype": "text/x-python",
   "name": "python",
   "nbconvert_exporter": "python",
   "pygments_lexer": "ipython3",
   "version": "3.8.8"
  }
 },
 "nbformat": 4,
 "nbformat_minor": 5
}
