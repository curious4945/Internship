{
 "cells": [
  {
   "cell_type": "code",
   "execution_count": 1,
   "id": "d764b375",
   "metadata": {},
   "outputs": [],
   "source": [
    "import selenium\n",
    "from selenium import webdriver\n",
    "import time\n",
    "from selenium.common.exceptions import NoSuchElementException\n",
    "import warnings\n",
    "warnings.filterwarnings('ignore')"
   ]
  },
  {
   "cell_type": "markdown",
   "id": "88ace846",
   "metadata": {},
   "source": [
    "## Guitar on amazon"
   ]
  },
  {
   "cell_type": "code",
   "execution_count": 2,
   "id": "607cea4e",
   "metadata": {},
   "outputs": [
    {
     "ename": "WebDriverException",
     "evalue": "Message: unknown error: net::ERR_INTERNET_DISCONNECTED\n  (Session info: chrome=99.0.4844.51)\nStacktrace:\nBacktrace:\n\tOrdinal0 [0x00CD7AC3+2587331]\n\tOrdinal0 [0x00C6ADD1+2141649]\n\tOrdinal0 [0x00B63BB8+1063864]\n\tOrdinal0 [0x00B60661+1050209]\n\tOrdinal0 [0x00B55F2D+1007405]\n\tOrdinal0 [0x00B56B9E+1010590]\n\tOrdinal0 [0x00B5618E+1008014]\n\tOrdinal0 [0x00B55780+1005440]\n\tOrdinal0 [0x00B548B7+1001655]\n\tOrdinal0 [0x00B54B76+1002358]\n\tOrdinal0 [0x00B652AA+1069738]\n\tOrdinal0 [0x00BB8FBD+1413053]\n\tOrdinal0 [0x00BA868C+1345164]\n\tOrdinal0 [0x00BB8A0A+1411594]\n\tOrdinal0 [0x00BA84A6+1344678]\n\tOrdinal0 [0x00B853F6+1201142]\n\tOrdinal0 [0x00B862E6+1204966]\n\tGetHandleVerifier [0x00E7DF22+1680738]\n\tGetHandleVerifier [0x00F30DBC+2413564]\n\tGetHandleVerifier [0x00D6D151+563089]\n\tGetHandleVerifier [0x00D6BF13+558419]\n\tOrdinal0 [0x00C7081E+2164766]\n\tOrdinal0 [0x00C75508+2184456]\n\tOrdinal0 [0x00C75650+2184784]\n\tOrdinal0 [0x00C7F5BC+2225596]\n\tBaseThreadInitThunk [0x7707FA29+25]\n\tRtlGetAppContainerNamedObjectPath [0x77AD7A9E+286]\n\tRtlGetAppContainerNamedObjectPath [0x77AD7A6E+238]\n",
     "output_type": "error",
     "traceback": [
      "\u001b[1;31m---------------------------------------------------------------------------\u001b[0m",
      "\u001b[1;31mWebDriverException\u001b[0m                        Traceback (most recent call last)",
      "\u001b[1;32m<ipython-input-2-8a848f2a314f>\u001b[0m in \u001b[0;36m<module>\u001b[1;34m\u001b[0m\n\u001b[0;32m      1\u001b[0m \u001b[0mdriver\u001b[0m\u001b[1;33m=\u001b[0m\u001b[0mwebdriver\u001b[0m\u001b[1;33m.\u001b[0m\u001b[0mChrome\u001b[0m\u001b[1;33m(\u001b[0m\u001b[1;34mr\"chromedriver.exe\"\u001b[0m\u001b[1;33m)\u001b[0m\u001b[1;33m\u001b[0m\u001b[1;33m\u001b[0m\u001b[0m\n\u001b[1;32m----> 2\u001b[1;33m \u001b[0mdriver\u001b[0m\u001b[1;33m.\u001b[0m\u001b[0mget\u001b[0m\u001b[1;33m(\u001b[0m\u001b[1;34m\"https://www.amazon.in/\"\u001b[0m\u001b[1;33m)\u001b[0m\u001b[1;33m\u001b[0m\u001b[1;33m\u001b[0m\u001b[0m\n\u001b[0m\u001b[0;32m      3\u001b[0m \u001b[0mtime\u001b[0m\u001b[1;33m.\u001b[0m\u001b[0msleep\u001b[0m\u001b[1;33m(\u001b[0m\u001b[1;36m5\u001b[0m\u001b[1;33m)\u001b[0m\u001b[1;33m\u001b[0m\u001b[1;33m\u001b[0m\u001b[0m\n",
      "\u001b[1;32m~\\anaconda3\\lib\\site-packages\\selenium\\webdriver\\remote\\webdriver.py\u001b[0m in \u001b[0;36mget\u001b[1;34m(self, url)\u001b[0m\n\u001b[0;32m    434\u001b[0m         \u001b[0mLoads\u001b[0m \u001b[0ma\u001b[0m \u001b[0mweb\u001b[0m \u001b[0mpage\u001b[0m \u001b[1;32min\u001b[0m \u001b[0mthe\u001b[0m \u001b[0mcurrent\u001b[0m \u001b[0mbrowser\u001b[0m \u001b[0msession\u001b[0m\u001b[1;33m.\u001b[0m\u001b[1;33m\u001b[0m\u001b[1;33m\u001b[0m\u001b[0m\n\u001b[0;32m    435\u001b[0m         \"\"\"\n\u001b[1;32m--> 436\u001b[1;33m         \u001b[0mself\u001b[0m\u001b[1;33m.\u001b[0m\u001b[0mexecute\u001b[0m\u001b[1;33m(\u001b[0m\u001b[0mCommand\u001b[0m\u001b[1;33m.\u001b[0m\u001b[0mGET\u001b[0m\u001b[1;33m,\u001b[0m \u001b[1;33m{\u001b[0m\u001b[1;34m'url'\u001b[0m\u001b[1;33m:\u001b[0m \u001b[0murl\u001b[0m\u001b[1;33m}\u001b[0m\u001b[1;33m)\u001b[0m\u001b[1;33m\u001b[0m\u001b[1;33m\u001b[0m\u001b[0m\n\u001b[0m\u001b[0;32m    437\u001b[0m \u001b[1;33m\u001b[0m\u001b[0m\n\u001b[0;32m    438\u001b[0m     \u001b[1;33m@\u001b[0m\u001b[0mproperty\u001b[0m\u001b[1;33m\u001b[0m\u001b[1;33m\u001b[0m\u001b[0m\n",
      "\u001b[1;32m~\\anaconda3\\lib\\site-packages\\selenium\\webdriver\\remote\\webdriver.py\u001b[0m in \u001b[0;36mexecute\u001b[1;34m(self, driver_command, params)\u001b[0m\n\u001b[0;32m    422\u001b[0m         \u001b[0mresponse\u001b[0m \u001b[1;33m=\u001b[0m \u001b[0mself\u001b[0m\u001b[1;33m.\u001b[0m\u001b[0mcommand_executor\u001b[0m\u001b[1;33m.\u001b[0m\u001b[0mexecute\u001b[0m\u001b[1;33m(\u001b[0m\u001b[0mdriver_command\u001b[0m\u001b[1;33m,\u001b[0m \u001b[0mparams\u001b[0m\u001b[1;33m)\u001b[0m\u001b[1;33m\u001b[0m\u001b[1;33m\u001b[0m\u001b[0m\n\u001b[0;32m    423\u001b[0m         \u001b[1;32mif\u001b[0m \u001b[0mresponse\u001b[0m\u001b[1;33m:\u001b[0m\u001b[1;33m\u001b[0m\u001b[1;33m\u001b[0m\u001b[0m\n\u001b[1;32m--> 424\u001b[1;33m             \u001b[0mself\u001b[0m\u001b[1;33m.\u001b[0m\u001b[0merror_handler\u001b[0m\u001b[1;33m.\u001b[0m\u001b[0mcheck_response\u001b[0m\u001b[1;33m(\u001b[0m\u001b[0mresponse\u001b[0m\u001b[1;33m)\u001b[0m\u001b[1;33m\u001b[0m\u001b[1;33m\u001b[0m\u001b[0m\n\u001b[0m\u001b[0;32m    425\u001b[0m             response['value'] = self._unwrap_value(\n\u001b[0;32m    426\u001b[0m                 response.get('value', None))\n",
      "\u001b[1;32m~\\anaconda3\\lib\\site-packages\\selenium\\webdriver\\remote\\errorhandler.py\u001b[0m in \u001b[0;36mcheck_response\u001b[1;34m(self, response)\u001b[0m\n\u001b[0;32m    245\u001b[0m                 \u001b[0malert_text\u001b[0m \u001b[1;33m=\u001b[0m \u001b[0mvalue\u001b[0m\u001b[1;33m[\u001b[0m\u001b[1;34m'alert'\u001b[0m\u001b[1;33m]\u001b[0m\u001b[1;33m.\u001b[0m\u001b[0mget\u001b[0m\u001b[1;33m(\u001b[0m\u001b[1;34m'text'\u001b[0m\u001b[1;33m)\u001b[0m\u001b[1;33m\u001b[0m\u001b[1;33m\u001b[0m\u001b[0m\n\u001b[0;32m    246\u001b[0m             \u001b[1;32mraise\u001b[0m \u001b[0mexception_class\u001b[0m\u001b[1;33m(\u001b[0m\u001b[0mmessage\u001b[0m\u001b[1;33m,\u001b[0m \u001b[0mscreen\u001b[0m\u001b[1;33m,\u001b[0m \u001b[0mstacktrace\u001b[0m\u001b[1;33m,\u001b[0m \u001b[0malert_text\u001b[0m\u001b[1;33m)\u001b[0m  \u001b[1;31m# type: ignore[call-arg]  # mypy is not smart enough here\u001b[0m\u001b[1;33m\u001b[0m\u001b[1;33m\u001b[0m\u001b[0m\n\u001b[1;32m--> 247\u001b[1;33m         \u001b[1;32mraise\u001b[0m \u001b[0mexception_class\u001b[0m\u001b[1;33m(\u001b[0m\u001b[0mmessage\u001b[0m\u001b[1;33m,\u001b[0m \u001b[0mscreen\u001b[0m\u001b[1;33m,\u001b[0m \u001b[0mstacktrace\u001b[0m\u001b[1;33m)\u001b[0m\u001b[1;33m\u001b[0m\u001b[1;33m\u001b[0m\u001b[0m\n\u001b[0m\u001b[0;32m    248\u001b[0m \u001b[1;33m\u001b[0m\u001b[0m\n\u001b[0;32m    249\u001b[0m     \u001b[1;32mdef\u001b[0m \u001b[0m_value_or_default\u001b[0m\u001b[1;33m(\u001b[0m\u001b[0mself\u001b[0m\u001b[1;33m,\u001b[0m \u001b[0mobj\u001b[0m\u001b[1;33m:\u001b[0m \u001b[0mMapping\u001b[0m\u001b[1;33m[\u001b[0m\u001b[0m_KT\u001b[0m\u001b[1;33m,\u001b[0m \u001b[0m_VT\u001b[0m\u001b[1;33m]\u001b[0m\u001b[1;33m,\u001b[0m \u001b[0mkey\u001b[0m\u001b[1;33m:\u001b[0m \u001b[0m_KT\u001b[0m\u001b[1;33m,\u001b[0m \u001b[0mdefault\u001b[0m\u001b[1;33m:\u001b[0m \u001b[0m_VT\u001b[0m\u001b[1;33m)\u001b[0m \u001b[1;33m->\u001b[0m \u001b[0m_VT\u001b[0m\u001b[1;33m:\u001b[0m\u001b[1;33m\u001b[0m\u001b[1;33m\u001b[0m\u001b[0m\n",
      "\u001b[1;31mWebDriverException\u001b[0m: Message: unknown error: net::ERR_INTERNET_DISCONNECTED\n  (Session info: chrome=99.0.4844.51)\nStacktrace:\nBacktrace:\n\tOrdinal0 [0x00CD7AC3+2587331]\n\tOrdinal0 [0x00C6ADD1+2141649]\n\tOrdinal0 [0x00B63BB8+1063864]\n\tOrdinal0 [0x00B60661+1050209]\n\tOrdinal0 [0x00B55F2D+1007405]\n\tOrdinal0 [0x00B56B9E+1010590]\n\tOrdinal0 [0x00B5618E+1008014]\n\tOrdinal0 [0x00B55780+1005440]\n\tOrdinal0 [0x00B548B7+1001655]\n\tOrdinal0 [0x00B54B76+1002358]\n\tOrdinal0 [0x00B652AA+1069738]\n\tOrdinal0 [0x00BB8FBD+1413053]\n\tOrdinal0 [0x00BA868C+1345164]\n\tOrdinal0 [0x00BB8A0A+1411594]\n\tOrdinal0 [0x00BA84A6+1344678]\n\tOrdinal0 [0x00B853F6+1201142]\n\tOrdinal0 [0x00B862E6+1204966]\n\tGetHandleVerifier [0x00E7DF22+1680738]\n\tGetHandleVerifier [0x00F30DBC+2413564]\n\tGetHandleVerifier [0x00D6D151+563089]\n\tGetHandleVerifier [0x00D6BF13+558419]\n\tOrdinal0 [0x00C7081E+2164766]\n\tOrdinal0 [0x00C75508+2184456]\n\tOrdinal0 [0x00C75650+2184784]\n\tOrdinal0 [0x00C7F5BC+2225596]\n\tBaseThreadInitThunk [0x7707FA29+25]\n\tRtlGetAppContainerNamedObjectPath [0x77AD7A9E+286]\n\tRtlGetAppContainerNamedObjectPath [0x77AD7A6E+238]\n"
     ]
    }
   ],
   "source": [
    "driver=webdriver.Chrome(r\"chromedriver.exe\")\n",
    "driver.get(\"https://www.amazon.in/\")\n",
    "time.sleep(5)                 "
   ]
  },
  {
   "cell_type": "code",
   "execution_count": 3,
   "id": "a336babf",
   "metadata": {},
   "outputs": [
    {
     "name": "stdout",
     "output_type": "stream",
     "text": [
      "Enter an Item to search: guitar\n"
     ]
    }
   ],
   "source": [
    "item = input(\"Enter an Item to search: \")"
   ]
  },
  {
   "cell_type": "code",
   "execution_count": 4,
   "id": "ddff7a93",
   "metadata": {},
   "outputs": [],
   "source": [
    "search = driver.find_element_by_xpath('/html/body/div[1]/header/div/div[1]/div[2]/div/form/div[2]/div[1]/input')\n",
    "search.send_keys(item)"
   ]
  },
  {
   "cell_type": "code",
   "execution_count": 5,
   "id": "599e6036",
   "metadata": {},
   "outputs": [],
   "source": [
    "search = driver.find_element_by_xpath('/html/body/div[1]/header/div/div[1]/div[2]/div/form/div[3]/div/span/input')\n"
   ]
  },
  {
   "cell_type": "code",
   "execution_count": 6,
   "id": "ad718e09",
   "metadata": {},
   "outputs": [],
   "source": [
    "search.click()"
   ]
  },
  {
   "cell_type": "code",
   "execution_count": null,
   "id": "b253b4bf",
   "metadata": {},
   "outputs": [],
   "source": []
  },
  {
   "cell_type": "code",
   "execution_count": 3,
   "id": "af0b2c97",
   "metadata": {},
   "outputs": [],
   "source": [
    "import selenium\n",
    "from selenium import webdriver\n",
    "import time\n",
    "from selenium.common.exceptions import NoSuchElementException"
   ]
  },
  {
   "cell_type": "code",
   "execution_count": 4,
   "id": "0dc76f1b",
   "metadata": {},
   "outputs": [],
   "source": [
    "driver=webdriver.Chrome(r\"chromedriver.exe\")\n",
    "driver.get(\"https://www.amazon.in/\")\n",
    "        "
   ]
  },
  {
   "cell_type": "code",
   "execution_count": 5,
   "id": "09cd5119",
   "metadata": {},
   "outputs": [],
   "source": [
    "#creating the empty lists\n",
    "Title=[]\n",
    "Ratings=[]\n",
    "price=[]\n",
    "Rated=[]\n",
    "Delivery=[]\n",
    "images=[]\n",
    "brands=[]"
   ]
  },
  {
   "cell_type": "code",
   "execution_count": 6,
   "id": "c1015a4d",
   "metadata": {},
   "outputs": [],
   "source": [
    "#locating the search bar\n",
    "search_bar = driver.find_element_by_id(\"twotabsearchtextbox\")    # Locating searc_bar by id\n",
    "search_bar.clear()                                               # clearing search_bar\n",
    "search_bar.send_keys(\"guitar\")                                   # sending user input to search bar\n",
    "search_button = driver.find_element_by_xpath('//span[@id=\"nav-search-submit-text\"]')       # Locating search_button by xpath\n",
    "search_button.click()    "
   ]
  },
  {
   "cell_type": "code",
   "execution_count": 7,
   "id": "0102a042",
   "metadata": {},
   "outputs": [],
   "source": [
    "prices=driver.find_elements_by_xpath(\"//span[@class='a-price-whole']\")\n",
    "for i in prices:\n",
    "    price.append(i.text)\n",
    "titles=driver.find_elements_by_xpath(\"//h2[@class='a-size-mini a-spacing-none a-color-base s-line-clamp-4']\")\n",
    "for i in titles:\n",
    "    Title.append(i.text)"
   ]
  },
  {
   "cell_type": "code",
   "execution_count": 8,
   "id": "aa023cd6",
   "metadata": {},
   "outputs": [
    {
     "data": {
      "text/plain": [
       "[]"
      ]
     },
     "execution_count": 8,
     "metadata": {},
     "output_type": "execute_result"
    }
   ],
   "source": [
    "price"
   ]
  },
  {
   "cell_type": "code",
   "execution_count": 9,
   "id": "0499cd5a",
   "metadata": {},
   "outputs": [
    {
     "data": {
      "text/plain": [
       "[]"
      ]
     },
     "execution_count": 9,
     "metadata": {},
     "output_type": "execute_result"
    }
   ],
   "source": [
    "Title"
   ]
  },
  {
   "cell_type": "code",
   "execution_count": 10,
   "id": "2be5af10",
   "metadata": {},
   "outputs": [],
   "source": [
    "urls=driver.find_elements_by_xpath(\"//a[@class='a-link-normal a-text-normal']\")\n",
    "UR=[]\n",
    "for i in urls:\n",
    "    UR.append(i.get_attribute('href'))\n",
    "for url in UR:\n",
    "    driver.get(url)\n",
    "    try:\n",
    "        deliveries=driver.find_element_by_xpath(\"//div[@class='a-section a-spacing-mini']\")\n",
    "        Delivery.append(deliveries.text)\n",
    "        rate=driver.find_element_by_xpath(\"//span[@id='acrCustomerReviewText']\")\n",
    "        rate.click()\n",
    "        rating=driver.find_element_by_xpath(\"//span[@class='a-size-medium a-color-base']\")\n",
    "        Ratings.append(rating.text)\n",
    "        rates=driver.find_element_by_xpath(\"//span[@class='a-size-base a-color-secondary']\")\n",
    "        Rated.append(rates.text)\n",
    "    except NoSuchElementException   as e:\n",
    "        Ratings.append(\"NO rating\")#appending the No rating if no rating is there\n",
    "        Rated.append(\"No rating\")\n",
    "        brands.append(\"No rating\")\n",
    "        Delivery.append(\"No rating\")\n",
    "    \n",
    "    "
   ]
  },
  {
   "cell_type": "code",
   "execution_count": 11,
   "id": "e072c9eb",
   "metadata": {},
   "outputs": [],
   "source": [
    "url=\"https://www.amazon.in/s?k=guitar&ref=nb_sb_noss\"\n",
    "driver.get(url)\n",
    "urls=driver.find_elements_by_xpath(\"//img[@class='s-image']\")\n",
    "images=[]\n",
    "for i in urls:\n",
    "    images.append(i.get_attribute('src'))\n",
    "for url in images:\n",
    "    driver.get(url)\n",
    "    "
   ]
  },
  {
   "cell_type": "code",
   "execution_count": 12,
   "id": "ef8cd5e6",
   "metadata": {},
   "outputs": [
    {
     "data": {
      "text/plain": [
       "[]"
      ]
     },
     "execution_count": 12,
     "metadata": {},
     "output_type": "execute_result"
    }
   ],
   "source": [
    "Ratings"
   ]
  },
  {
   "cell_type": "code",
   "execution_count": 13,
   "id": "fb3e7059",
   "metadata": {},
   "outputs": [
    {
     "data": {
      "text/plain": [
       "[]"
      ]
     },
     "execution_count": 13,
     "metadata": {},
     "output_type": "execute_result"
    }
   ],
   "source": [
    "Rated"
   ]
  },
  {
   "cell_type": "code",
   "execution_count": 14,
   "id": "d663a999",
   "metadata": {},
   "outputs": [
    {
     "data": {
      "text/plain": [
       "[]"
      ]
     },
     "execution_count": 14,
     "metadata": {},
     "output_type": "execute_result"
    }
   ],
   "source": [
    "Delivery"
   ]
  },
  {
   "cell_type": "code",
   "execution_count": 15,
   "id": "254539e4",
   "metadata": {},
   "outputs": [
    {
     "name": "stdout",
     "output_type": "stream",
     "text": [
      "0\n",
      "0\n",
      "0\n",
      "0\n",
      "0\n",
      "0\n"
     ]
    }
   ],
   "source": [
    "#checking the length of each list\n",
    "print(len(Title))\n",
    "print(len(price))\n",
    "print(len(Ratings))\n",
    "print(len(Delivery))\n",
    "print(len(Rated))\n",
    "print(len(images))"
   ]
  },
  {
   "cell_type": "markdown",
   "id": "9da4e070",
   "metadata": {},
   "source": [
    "## Filpkart .com "
   ]
  },
  {
   "cell_type": "code",
   "execution_count": null,
   "id": "e0f0ff40",
   "metadata": {},
   "outputs": [],
   "source": []
  },
  {
   "cell_type": "code",
   "execution_count": 7,
   "id": "5f956f97",
   "metadata": {},
   "outputs": [],
   "source": [
    "import pandas as pd\n",
    "import selenium\n",
    "from selenium import webdriver\n",
    "from selenium.common.exceptions import StaleElementReferenceException, NoSuchElementException"
   ]
  },
  {
   "cell_type": "code",
   "execution_count": 10,
   "id": "5f7233a5",
   "metadata": {},
   "outputs": [],
   "source": [
    "driver = webdriver.Chrome(r'chromedriver.exe')\n",
    "\n",
    "url = \"https://www.flipkart.com/\"\n",
    "\n",
    "driver.get(url)\n",
    "\n",
    "driver.maximize_window() # to maximise the chrome windo"
   ]
  },
  {
   "cell_type": "code",
   "execution_count": 11,
   "id": "a74d22e9",
   "metadata": {},
   "outputs": [],
   "source": [
    "\n",
    "search_glass = driver.find_element_by_class_name('_3704LK')\n",
    "search_glass.send_keys(\"Vivo Mobile Phone\")\n",
    "#clicking submit button using selenium deriver\n",
    "button_1 = driver.find_element_by_xpath('/html/body/div[2]/div/div/button')\n",
    "button_1.click()\n",
    "driver.implicitly_wait(3)\n",
    "click_button = driver.find_element_by_class_name(\"L0Z3Pu\")\n"
   ]
  },
  {
   "cell_type": "code",
   "execution_count": 14,
   "id": "011bb065",
   "metadata": {},
   "outputs": [],
   "source": [
    "click_button.click()"
   ]
  },
  {
   "cell_type": "code",
   "execution_count": 15,
   "id": "821540ff",
   "metadata": {},
   "outputs": [],
   "source": [
    "Brand =[]\n",
    "br = driver.find_elements_by_xpath(\"//div[@class='_4rR01T']\")\n",
    "for i in br:\n",
    "    try:\n",
    "        Brand.append(i.text)#appending the ratings in Ratings list\n",
    "\n",
    "        \n",
    "\n",
    "    except:\n",
    "        Brand.append(\"_\")"
   ]
  },
  {
   "cell_type": "code",
   "execution_count": 16,
   "id": "eb9ab135",
   "metadata": {},
   "outputs": [
    {
     "data": {
      "text/plain": [
       "24"
      ]
     },
     "execution_count": 16,
     "metadata": {},
     "output_type": "execute_result"
    }
   ],
   "source": [
    "len(Brand)"
   ]
  },
  {
   "cell_type": "code",
   "execution_count": 17,
   "id": "48232ecf",
   "metadata": {},
   "outputs": [
    {
     "data": {
      "text/plain": [
       "['vivo T1 5G (Rainbow Fantasy, 128 GB)',\n",
       " 'vivo T1 5G (Starlight Black, 128 GB)',\n",
       " 'vivo T1 5G (Starlight Black, 128 GB)',\n",
       " 'vivo T1 5G (Rainbow Fantasy, 128 GB)',\n",
       " 'vivo T1 5G (Starlight Black, 128 GB)',\n",
       " 'vivo T1 5G (Rainbow Fantasy, 128 GB)',\n",
       " 'vivo Y15s (Mystic Blue, 32 GB)',\n",
       " 'vivo Y20G 2021 (Obsidian Black, 64 GB)',\n",
       " 'vivo V23 5G (Sunshine Gold, 128 GB)',\n",
       " 'vivo Y21T (Pearl White, 128 GB)',\n",
       " 'vivo Y21T (Midnight Blue, 128 GB)',\n",
       " 'vivo Y53s (Fantastic Rainbow, 128 GB)',\n",
       " 'vivo Y15s (Wave Green, 32 GB)',\n",
       " 'vivo Y21 (Midnight Blue, 64 GB)',\n",
       " 'vivo V23 5G (Stardust Black, 256 GB)',\n",
       " 'vivo Y33T (Mirror Black, 128 GB)',\n",
       " 'vivo Y33T (Mid day dream, 128 GB)',\n",
       " 'vivo Y21 (Diamond Glow, 64 GB)',\n",
       " 'vivo V23 Pro 5G (Stardust Black, 256 GB)',\n",
       " 'vivo V23 5G (Stardust Black, 128 GB)',\n",
       " 'vivo V23 5G (Sunshine Gold, 256 GB)',\n",
       " 'vivo Y33s (Mirror Black, 128 GB)',\n",
       " 'vivo Y33s (Midday Dream, 128 GB)',\n",
       " 'vivo Y1s (Olive Black, 32 GB)']"
      ]
     },
     "execution_count": 17,
     "metadata": {},
     "output_type": "execute_result"
    }
   ],
   "source": [
    "Brand"
   ]
  },
  {
   "cell_type": "code",
   "execution_count": 18,
   "id": "037f0659",
   "metadata": {},
   "outputs": [],
   "source": [
    "ratings=[]\n",
    "rating=driver.find_elements_by_class_name('_1lRcqv')#scraping description by class name = '_2mylT6'\n",
    "for i in rating:\n",
    "    try:\n",
    "        ratings.append(i.text)#appending the ratings in Ratings list\n",
    "\n",
    "        \n",
    "\n",
    "    except:\n",
    "        ratings.append(\"_\")"
   ]
  },
  {
   "cell_type": "code",
   "execution_count": 19,
   "id": "a476bacb",
   "metadata": {},
   "outputs": [
    {
     "data": {
      "text/plain": [
       "22"
      ]
     },
     "execution_count": 19,
     "metadata": {},
     "output_type": "execute_result"
    }
   ],
   "source": [
    "len(ratings)"
   ]
  },
  {
   "cell_type": "code",
   "execution_count": 20,
   "id": "5a7b020b",
   "metadata": {},
   "outputs": [
    {
     "data": {
      "text/plain": [
       "['4.4',\n",
       " '4.4',\n",
       " '4.4',\n",
       " '4.4',\n",
       " '4.3',\n",
       " '4.3',\n",
       " '4.3',\n",
       " '4.4',\n",
       " '4.4',\n",
       " '4.4',\n",
       " '4.2',\n",
       " '4.3',\n",
       " '4.4',\n",
       " '4.3',\n",
       " '4.3',\n",
       " '4.3',\n",
       " '4.1',\n",
       " '4.4',\n",
       " '4.4',\n",
       " '4.3',\n",
       " '4.3',\n",
       " '4.3']"
      ]
     },
     "execution_count": 20,
     "metadata": {},
     "output_type": "execute_result"
    }
   ],
   "source": [
    "ratings"
   ]
  },
  {
   "cell_type": "code",
   "execution_count": 21,
   "id": "67884a03",
   "metadata": {},
   "outputs": [],
   "source": [
    "ram=[]\n",
    "RM=driver.find_elements_by_xpath(\"//ul[@class='_1xgFaf']/li[1]\")\n",
    "for i in RM:\n",
    "    try:\n",
    "        ram.append(i.text)#appending the ratings in Ratings list\n",
    "\n",
    "        \n",
    "\n",
    "    except:\n",
    "        ram.append(\"_\")#appending the No rating if no rating is there"
   ]
  },
  {
   "cell_type": "code",
   "execution_count": 22,
   "id": "d0e2039f",
   "metadata": {},
   "outputs": [
    {
     "data": {
      "text/plain": [
       "24"
      ]
     },
     "execution_count": 22,
     "metadata": {},
     "output_type": "execute_result"
    }
   ],
   "source": [
    "len(ram)"
   ]
  },
  {
   "cell_type": "code",
   "execution_count": 23,
   "id": "c371228d",
   "metadata": {},
   "outputs": [
    {
     "data": {
      "text/plain": [
       "['4 GB RAM | 128 GB ROM | Expandable Upto 1 TB',\n",
       " '4 GB RAM | 128 GB ROM | Expandable Upto 1 TB',\n",
       " '6 GB RAM | 128 GB ROM | Expandable Upto 1 TB',\n",
       " '6 GB RAM | 128 GB ROM | Expandable Upto 1 TB',\n",
       " '8 GB RAM | 128 GB ROM | Expandable Upto 1 TB',\n",
       " '8 GB RAM | 128 GB ROM | Expandable Upto 1 TB',\n",
       " '3 GB RAM | 32 GB ROM | Expandable Upto 1 TB',\n",
       " '4 GB RAM | 64 GB ROM | Expandable Upto 256 GB',\n",
       " '8 GB RAM | 128 GB ROM | Expandable Upto 12 GB',\n",
       " '4 GB RAM | 128 GB ROM | Expandable Upto 1 TB',\n",
       " '4 GB RAM | 128 GB ROM | Expandable Upto 1 TB',\n",
       " '8 GB RAM | 128 GB ROM | Expandable Upto 1 TB',\n",
       " '3 GB RAM | 32 GB ROM | Expandable Upto 1 TB',\n",
       " '4 GB RAM | 64 GB ROM | Expandable Upto 1 TB',\n",
       " '12 GB RAM | 256 GB ROM',\n",
       " '8 GB RAM | 128 GB ROM | Expandable Upto 1 TB',\n",
       " '8 GB RAM | 128 GB ROM | Expandable Upto 1 TB',\n",
       " '4 GB RAM | 64 GB ROM | Expandable Upto 1 TB',\n",
       " '12 GB RAM | 256 GB ROM',\n",
       " '8 GB RAM | 128 GB ROM',\n",
       " '12 GB RAM | 256 GB ROM',\n",
       " '8 GB RAM | 128 GB ROM | Expandable Upto 1 TB',\n",
       " '8 GB RAM | 128 GB ROM | Expandable Upto 1 TB',\n",
       " '3 GB RAM | 32 GB ROM | Expandable Upto 256 GB']"
      ]
     },
     "execution_count": 23,
     "metadata": {},
     "output_type": "execute_result"
    }
   ],
   "source": [
    "ram"
   ]
  },
  {
   "cell_type": "code",
   "execution_count": 24,
   "id": "675d815e",
   "metadata": {},
   "outputs": [],
   "source": [
    "Display_Size=[]\n",
    "DS=driver.find_elements_by_xpath(\"//ul[@class='_1xgFaf']/li[2]\")\n",
    "for i in DS:\n",
    "    try:\n",
    "        Display_Size.append(i.text)#appending the ratings in Ratings list\n",
    "\n",
    "        \n",
    "\n",
    "    except:\n",
    "        Display_Size.append(\"_\")#appending the No rating if no rating is there"
   ]
  },
  {
   "cell_type": "code",
   "execution_count": 25,
   "id": "9cb5817e",
   "metadata": {},
   "outputs": [
    {
     "data": {
      "text/plain": [
       "['16.71 cm (6.58 inch) Full HD+ Display',\n",
       " '16.71 cm (6.58 inch) Full HD+ Display',\n",
       " '16.71 cm (6.58 inch) Full HD+ Display',\n",
       " '16.71 cm (6.58 inch) Full HD+ Display',\n",
       " '16.71 cm (6.58 inch) Full HD+ Display',\n",
       " '16.71 cm (6.58 inch) Full HD+ Display',\n",
       " '16.54 cm (6.51 inch) HD+ Display',\n",
       " '16.54 cm (6.51 inch) HD+ Display',\n",
       " '16.36 cm (6.44 inch) Full HD+ Display',\n",
       " '16.71 cm (6.58 inch) Full HD+ Display',\n",
       " '16.71 cm (6.58 inch) Full HD+ Display',\n",
       " '16.71 cm (6.58 inch) Full HD+ Display',\n",
       " '16.54 cm (6.51 inch) HD+ Display',\n",
       " '16.54 cm (6.51 inch) HD+ Display',\n",
       " '16.36 cm (6.44 inch) Full HD+ Display',\n",
       " '16.71 cm (6.58 inch) Full HD+ Display',\n",
       " '16.71 cm (6.58 inch) Full HD+ Display',\n",
       " '16.54 cm (6.51 inch) HD+ Display',\n",
       " '16.66 cm (6.56 inch) Full HD+ Display',\n",
       " '16.36 cm (6.44 inch) Full HD+ Display',\n",
       " '16.36 cm (6.44 inch) Full HD+ Display',\n",
       " '16.71 cm (6.58 inch) Full HD+ Display',\n",
       " '16.71 cm (6.58 inch) Full HD+ Display',\n",
       " '15.8 cm (6.22 inch) HD+ Display']"
      ]
     },
     "execution_count": 25,
     "metadata": {},
     "output_type": "execute_result"
    }
   ],
   "source": [
    "Display_Size"
   ]
  },
  {
   "cell_type": "code",
   "execution_count": 26,
   "id": "2cf5c80b",
   "metadata": {},
   "outputs": [],
   "source": [
    "Camera=[]\n",
    "cm=driver.find_elements_by_xpath(\"//ul[@class='_1xgFaf']/li[3]\")\n",
    "for i in cm:\n",
    "    try:\n",
    "        Camera.append(i.text)#appending the ratings in Ratings list\n",
    "\n",
    "        \n",
    "\n",
    "    except:\n",
    "        Camera.append(\"_\")#appending the No rating if no rating is there"
   ]
  },
  {
   "cell_type": "code",
   "execution_count": 27,
   "id": "c72ba69a",
   "metadata": {},
   "outputs": [
    {
     "data": {
      "text/plain": [
       "24"
      ]
     },
     "execution_count": 27,
     "metadata": {},
     "output_type": "execute_result"
    }
   ],
   "source": [
    "len(Camera)"
   ]
  },
  {
   "cell_type": "code",
   "execution_count": 28,
   "id": "105d1436",
   "metadata": {},
   "outputs": [
    {
     "data": {
      "text/plain": [
       "['50MP + 2MP + 2MP | 16MP Front Camera',\n",
       " '50MP + 2MP + 2MP | 16MP Front Camera',\n",
       " '50MP + 2MP + 2MP | 16MP Front Camera',\n",
       " '50MP + 2MP + 2MP | 16MP Front Camera',\n",
       " '50MP + 2MP + 2MP | 16MP Front Camera',\n",
       " '50MP + 2MP + 2MP | 16MP Front Camera',\n",
       " '13MP + 2MP | 8MP Front Camera',\n",
       " '13MP + 2MP + 2MP | 8MP Front Camera',\n",
       " '64MP + 8MP + 2MP | 50MP + 8MP Dual Front Camera',\n",
       " '50MP + 2MP + 2MP | 8MP Front Camera',\n",
       " '50MP + 2MP + 2MP | 8MP Front Camera',\n",
       " '64MP + 2MP + 2MP | 16MP Front Camera',\n",
       " '13MP + 2MP | 8MP Front Camera',\n",
       " '13MP + 2MP | 8MP Front Camera',\n",
       " '64MP + 8MP + 2MP | 50MP + 8MP Dual Front Camera',\n",
       " '50MP + 2MP + 2MP | 16MP Front Camera',\n",
       " '50MP + 2MP + 2MP | 16MP Front Camera',\n",
       " '13MP + 2MP | 8MP Front Camera',\n",
       " '108MP + 8MP + 2MP | 50MP + 8MP Dual Front Camera',\n",
       " '64MP + 8MP + 2MP | 50MP + 8MP Dual Front Camera',\n",
       " '64MP + 8MP + 2MP | 50MP + 8MP Dual Front Camera',\n",
       " '50MP + 2MP + 2MP | 16MP Front Camera',\n",
       " '50MP + 2MP + 2MP | 16MP Front Camera',\n",
       " '13MP Rear Camera | 5MP Front Camera']"
      ]
     },
     "execution_count": 28,
     "metadata": {},
     "output_type": "execute_result"
    }
   ],
   "source": [
    "Camera\n"
   ]
  },
  {
   "cell_type": "code",
   "execution_count": 29,
   "id": "f9203682",
   "metadata": {},
   "outputs": [],
   "source": [
    "Battery=[]\n",
    "bt=driver.find_elements_by_xpath(\"//ul[@class='_1xgFaf']/li[4]\")\n",
    "for i in bt:\n",
    "    try:\n",
    "        Battery.append(i.text)#appending the ratings in Ratings list\n",
    "\n",
    "        \n",
    "\n",
    "    except:\n",
    "        Battery.append(\"_\")#appending the No rating if no rating is there"
   ]
  },
  {
   "cell_type": "code",
   "execution_count": 30,
   "id": "787c4a01",
   "metadata": {},
   "outputs": [
    {
     "data": {
      "text/plain": [
       "24"
      ]
     },
     "execution_count": 30,
     "metadata": {},
     "output_type": "execute_result"
    }
   ],
   "source": [
    "len(Battery)"
   ]
  },
  {
   "cell_type": "code",
   "execution_count": 31,
   "id": "6da469ba",
   "metadata": {},
   "outputs": [
    {
     "data": {
      "text/plain": [
       "['5000 mAh Lithium Battery',\n",
       " '5000 mAh Lithium Battery',\n",
       " '5000 mAh Lithium Battery',\n",
       " '5000 mAh Lithium Battery',\n",
       " '5000 mAh Lithium Battery',\n",
       " '5000 mAh Lithium Battery',\n",
       " '5000 mAh Lithium Battery Battery',\n",
       " '5000 mAh Li-ion Battery',\n",
       " '4200 mAh Lithium Battery',\n",
       " '5000 mAh Lithium Battery',\n",
       " '5000 mAh Lithium Battery',\n",
       " '5000 mAh Battery',\n",
       " '5000 mAh Lithium Battery Battery',\n",
       " '5000 mAh Lithium Battery',\n",
       " '4200 mAh Lithium Battery',\n",
       " '5000 mAh Lithium Battery',\n",
       " '5000 mAh Lithium Battery',\n",
       " '5000 mAh Lithium Battery',\n",
       " '4300 mAh Lithium Battery',\n",
       " '4200 mAh Lithium Battery',\n",
       " '4200 mAh Lithium Battery',\n",
       " '5000 mAh Lithium Battery',\n",
       " '5000 mAh Lithium Battery',\n",
       " '4030 mAh Battery']"
      ]
     },
     "execution_count": 31,
     "metadata": {},
     "output_type": "execute_result"
    }
   ],
   "source": [
    "Battery"
   ]
  },
  {
   "cell_type": "code",
   "execution_count": 32,
   "id": "aa3873cf",
   "metadata": {},
   "outputs": [],
   "source": [
    "Warranty=[]\n",
    "wy=driver.find_elements_by_xpath(\"//ul[@class='_1xgFaf']/li[5]\")\n",
    "for i in wy:\n",
    "    try:\n",
    "        Warranty.append(i.text)#appending the ratings in Ratings list\n",
    "\n",
    "        \n",
    "\n",
    "    except:\n",
    "        Warranty.append(\"_\")#appending the No rating if no rating is there"
   ]
  },
  {
   "cell_type": "code",
   "execution_count": 33,
   "id": "73da51dc",
   "metadata": {},
   "outputs": [
    {
     "data": {
      "text/plain": [
       "24"
      ]
     },
     "execution_count": 33,
     "metadata": {},
     "output_type": "execute_result"
    }
   ],
   "source": [
    "len(Warranty)"
   ]
  },
  {
   "cell_type": "code",
   "execution_count": 34,
   "id": "d4ccf2df",
   "metadata": {},
   "outputs": [
    {
     "data": {
      "text/plain": [
       "['Qualcomm Snapdragon 695 Processor',\n",
       " 'Qualcomm Snapdragon 695 Processor',\n",
       " 'Qualcomm Snapdragon 695 Processor',\n",
       " 'Qualcomm Snapdragon 695 Processor',\n",
       " 'Qualcomm Snapdragon 695 Processor',\n",
       " 'Qualcomm Snapdragon 695 Processor',\n",
       " 'Mediatek Helio P35 Processor',\n",
       " 'MediaTek Helio P35 Processor',\n",
       " 'Mediatek Dimensity 920 Processor',\n",
       " 'Qualcomm Snapdragon 680 Processor',\n",
       " 'Qualcomm Snapdragon 680 Processor',\n",
       " 'MediaTek Helio G80 Processor',\n",
       " 'Mediatek Helio P35 Processor',\n",
       " 'Mediatek Helio P35 Processor',\n",
       " 'Mediatek Dimensity 920 Processor',\n",
       " 'Qualcomm Snapdragon 680 Processor',\n",
       " 'Qualcomm Snapdragon 680 Processor',\n",
       " 'Mediatek Helio P35 Processor',\n",
       " 'Mediatek Dimensity 1200 Processor',\n",
       " 'Mediatek Dimensity 920 Processor',\n",
       " 'Mediatek Dimensity 920 Processor',\n",
       " 'MediaTek Helio G80 Processor',\n",
       " 'MediaTek Helio G80 Processor',\n",
       " 'MediaTek Helio P35 Processor']"
      ]
     },
     "execution_count": 34,
     "metadata": {},
     "output_type": "execute_result"
    }
   ],
   "source": [
    "Warranty"
   ]
  },
  {
   "cell_type": "code",
   "execution_count": 35,
   "id": "a49ce533",
   "metadata": {},
   "outputs": [],
   "source": [
    "Prices=[]\n",
    "pr=driver.find_elements_by_xpath(\"//div[@class='_30jeq3 _1_WHN1']\")\n",
    "for i in pr:\n",
    "    try:\n",
    "        Prices.append(i.text)#appending the ratings in Ratings list\n",
    "\n",
    "        \n",
    "\n",
    "    except:\n",
    "        Prices.append(\"_\")#appending the No rating if no rating is there"
   ]
  },
  {
   "cell_type": "code",
   "execution_count": 36,
   "id": "31b37e7b",
   "metadata": {},
   "outputs": [
    {
     "data": {
      "text/plain": [
       "24"
      ]
     },
     "execution_count": 36,
     "metadata": {},
     "output_type": "execute_result"
    }
   ],
   "source": [
    "len(Prices)"
   ]
  },
  {
   "cell_type": "code",
   "execution_count": 37,
   "id": "11751576",
   "metadata": {},
   "outputs": [
    {
     "data": {
      "text/plain": [
       "['₹15,990',\n",
       " '₹15,990',\n",
       " '₹16,990',\n",
       " '₹16,990',\n",
       " '₹19,990',\n",
       " '₹19,990',\n",
       " '₹10,990',\n",
       " '₹13,990',\n",
       " '₹29,990',\n",
       " '₹16,490',\n",
       " '₹16,490',\n",
       " '₹17,738',\n",
       " '₹10,990',\n",
       " '₹13,990',\n",
       " '₹34,990',\n",
       " '₹18,990',\n",
       " '₹18,990',\n",
       " '₹13,990',\n",
       " '₹43,990',\n",
       " '₹29,990',\n",
       " '₹34,990',\n",
       " '₹18,395',\n",
       " '₹18,040',\n",
       " '₹10,989']"
      ]
     },
     "execution_count": 37,
     "metadata": {},
     "output_type": "execute_result"
    }
   ],
   "source": [
    "Prices\n"
   ]
  },
  {
   "cell_type": "code",
   "execution_count": 38,
   "id": "d4cc0a62",
   "metadata": {},
   "outputs": [
    {
     "data": {
      "text/html": [
       "<div>\n",
       "<style scoped>\n",
       "    .dataframe tbody tr th:only-of-type {\n",
       "        vertical-align: middle;\n",
       "    }\n",
       "\n",
       "    .dataframe tbody tr th {\n",
       "        vertical-align: top;\n",
       "    }\n",
       "\n",
       "    .dataframe thead th {\n",
       "        text-align: right;\n",
       "    }\n",
       "</style>\n",
       "<table border=\"1\" class=\"dataframe\">\n",
       "  <thead>\n",
       "    <tr style=\"text-align: right;\">\n",
       "      <th></th>\n",
       "      <th>Brand</th>\n",
       "      <th>Ratings</th>\n",
       "      <th>Display</th>\n",
       "      <th>Camera</th>\n",
       "      <th>Price</th>\n",
       "      <th>Ram</th>\n",
       "      <th>Battery</th>\n",
       "      <th>Warranty</th>\n",
       "    </tr>\n",
       "  </thead>\n",
       "  <tbody>\n",
       "    <tr>\n",
       "      <th>0</th>\n",
       "      <td>vivo T1 5G (Rainbow Fantasy, 128 GB)</td>\n",
       "      <td>4.4</td>\n",
       "      <td>16.71 cm (6.58 inch) Full HD+ Display</td>\n",
       "      <td>50MP + 2MP + 2MP | 16MP Front Camera</td>\n",
       "      <td>₹15,990</td>\n",
       "      <td>4 GB RAM | 128 GB ROM | Expandable Upto 1 TB</td>\n",
       "      <td>5000 mAh Lithium Battery</td>\n",
       "      <td>Qualcomm Snapdragon 695 Processor</td>\n",
       "    </tr>\n",
       "    <tr>\n",
       "      <th>1</th>\n",
       "      <td>vivo T1 5G (Starlight Black, 128 GB)</td>\n",
       "      <td>4.4</td>\n",
       "      <td>16.71 cm (6.58 inch) Full HD+ Display</td>\n",
       "      <td>50MP + 2MP + 2MP | 16MP Front Camera</td>\n",
       "      <td>₹15,990</td>\n",
       "      <td>4 GB RAM | 128 GB ROM | Expandable Upto 1 TB</td>\n",
       "      <td>5000 mAh Lithium Battery</td>\n",
       "      <td>Qualcomm Snapdragon 695 Processor</td>\n",
       "    </tr>\n",
       "    <tr>\n",
       "      <th>2</th>\n",
       "      <td>vivo T1 5G (Starlight Black, 128 GB)</td>\n",
       "      <td>4.4</td>\n",
       "      <td>16.71 cm (6.58 inch) Full HD+ Display</td>\n",
       "      <td>50MP + 2MP + 2MP | 16MP Front Camera</td>\n",
       "      <td>₹16,990</td>\n",
       "      <td>6 GB RAM | 128 GB ROM | Expandable Upto 1 TB</td>\n",
       "      <td>5000 mAh Lithium Battery</td>\n",
       "      <td>Qualcomm Snapdragon 695 Processor</td>\n",
       "    </tr>\n",
       "    <tr>\n",
       "      <th>3</th>\n",
       "      <td>vivo T1 5G (Rainbow Fantasy, 128 GB)</td>\n",
       "      <td>4.4</td>\n",
       "      <td>16.71 cm (6.58 inch) Full HD+ Display</td>\n",
       "      <td>50MP + 2MP + 2MP | 16MP Front Camera</td>\n",
       "      <td>₹16,990</td>\n",
       "      <td>6 GB RAM | 128 GB ROM | Expandable Upto 1 TB</td>\n",
       "      <td>5000 mAh Lithium Battery</td>\n",
       "      <td>Qualcomm Snapdragon 695 Processor</td>\n",
       "    </tr>\n",
       "    <tr>\n",
       "      <th>4</th>\n",
       "      <td>vivo T1 5G (Starlight Black, 128 GB)</td>\n",
       "      <td>4.3</td>\n",
       "      <td>16.71 cm (6.58 inch) Full HD+ Display</td>\n",
       "      <td>50MP + 2MP + 2MP | 16MP Front Camera</td>\n",
       "      <td>₹19,990</td>\n",
       "      <td>8 GB RAM | 128 GB ROM | Expandable Upto 1 TB</td>\n",
       "      <td>5000 mAh Lithium Battery</td>\n",
       "      <td>Qualcomm Snapdragon 695 Processor</td>\n",
       "    </tr>\n",
       "    <tr>\n",
       "      <th>5</th>\n",
       "      <td>vivo T1 5G (Rainbow Fantasy, 128 GB)</td>\n",
       "      <td>4.3</td>\n",
       "      <td>16.71 cm (6.58 inch) Full HD+ Display</td>\n",
       "      <td>50MP + 2MP + 2MP | 16MP Front Camera</td>\n",
       "      <td>₹19,990</td>\n",
       "      <td>8 GB RAM | 128 GB ROM | Expandable Upto 1 TB</td>\n",
       "      <td>5000 mAh Lithium Battery</td>\n",
       "      <td>Qualcomm Snapdragon 695 Processor</td>\n",
       "    </tr>\n",
       "    <tr>\n",
       "      <th>6</th>\n",
       "      <td>vivo Y15s (Mystic Blue, 32 GB)</td>\n",
       "      <td>4.3</td>\n",
       "      <td>16.54 cm (6.51 inch) HD+ Display</td>\n",
       "      <td>13MP + 2MP | 8MP Front Camera</td>\n",
       "      <td>₹10,990</td>\n",
       "      <td>3 GB RAM | 32 GB ROM | Expandable Upto 1 TB</td>\n",
       "      <td>5000 mAh Lithium Battery Battery</td>\n",
       "      <td>Mediatek Helio P35 Processor</td>\n",
       "    </tr>\n",
       "    <tr>\n",
       "      <th>7</th>\n",
       "      <td>vivo Y20G 2021 (Obsidian Black, 64 GB)</td>\n",
       "      <td>4.4</td>\n",
       "      <td>16.54 cm (6.51 inch) HD+ Display</td>\n",
       "      <td>13MP + 2MP + 2MP | 8MP Front Camera</td>\n",
       "      <td>₹13,990</td>\n",
       "      <td>4 GB RAM | 64 GB ROM | Expandable Upto 256 GB</td>\n",
       "      <td>5000 mAh Li-ion Battery</td>\n",
       "      <td>MediaTek Helio P35 Processor</td>\n",
       "    </tr>\n",
       "    <tr>\n",
       "      <th>8</th>\n",
       "      <td>vivo V23 5G (Sunshine Gold, 128 GB)</td>\n",
       "      <td>4.4</td>\n",
       "      <td>16.36 cm (6.44 inch) Full HD+ Display</td>\n",
       "      <td>64MP + 8MP + 2MP | 50MP + 8MP Dual Front Camera</td>\n",
       "      <td>₹29,990</td>\n",
       "      <td>8 GB RAM | 128 GB ROM | Expandable Upto 12 GB</td>\n",
       "      <td>4200 mAh Lithium Battery</td>\n",
       "      <td>Mediatek Dimensity 920 Processor</td>\n",
       "    </tr>\n",
       "    <tr>\n",
       "      <th>9</th>\n",
       "      <td>vivo Y21T (Pearl White, 128 GB)</td>\n",
       "      <td>4.4</td>\n",
       "      <td>16.71 cm (6.58 inch) Full HD+ Display</td>\n",
       "      <td>50MP + 2MP + 2MP | 8MP Front Camera</td>\n",
       "      <td>₹16,490</td>\n",
       "      <td>4 GB RAM | 128 GB ROM | Expandable Upto 1 TB</td>\n",
       "      <td>5000 mAh Lithium Battery</td>\n",
       "      <td>Qualcomm Snapdragon 680 Processor</td>\n",
       "    </tr>\n",
       "    <tr>\n",
       "      <th>10</th>\n",
       "      <td>vivo Y21T (Midnight Blue, 128 GB)</td>\n",
       "      <td>4.2</td>\n",
       "      <td>16.71 cm (6.58 inch) Full HD+ Display</td>\n",
       "      <td>50MP + 2MP + 2MP | 8MP Front Camera</td>\n",
       "      <td>₹16,490</td>\n",
       "      <td>4 GB RAM | 128 GB ROM | Expandable Upto 1 TB</td>\n",
       "      <td>5000 mAh Lithium Battery</td>\n",
       "      <td>Qualcomm Snapdragon 680 Processor</td>\n",
       "    </tr>\n",
       "    <tr>\n",
       "      <th>11</th>\n",
       "      <td>vivo Y53s (Fantastic Rainbow, 128 GB)</td>\n",
       "      <td>4.3</td>\n",
       "      <td>16.71 cm (6.58 inch) Full HD+ Display</td>\n",
       "      <td>64MP + 2MP + 2MP | 16MP Front Camera</td>\n",
       "      <td>₹17,738</td>\n",
       "      <td>8 GB RAM | 128 GB ROM | Expandable Upto 1 TB</td>\n",
       "      <td>5000 mAh Battery</td>\n",
       "      <td>MediaTek Helio G80 Processor</td>\n",
       "    </tr>\n",
       "    <tr>\n",
       "      <th>12</th>\n",
       "      <td>vivo Y15s (Wave Green, 32 GB)</td>\n",
       "      <td>4.4</td>\n",
       "      <td>16.54 cm (6.51 inch) HD+ Display</td>\n",
       "      <td>13MP + 2MP | 8MP Front Camera</td>\n",
       "      <td>₹10,990</td>\n",
       "      <td>3 GB RAM | 32 GB ROM | Expandable Upto 1 TB</td>\n",
       "      <td>5000 mAh Lithium Battery Battery</td>\n",
       "      <td>Mediatek Helio P35 Processor</td>\n",
       "    </tr>\n",
       "    <tr>\n",
       "      <th>13</th>\n",
       "      <td>vivo Y21 (Midnight Blue, 64 GB)</td>\n",
       "      <td>4.3</td>\n",
       "      <td>16.54 cm (6.51 inch) HD+ Display</td>\n",
       "      <td>13MP + 2MP | 8MP Front Camera</td>\n",
       "      <td>₹13,990</td>\n",
       "      <td>4 GB RAM | 64 GB ROM | Expandable Upto 1 TB</td>\n",
       "      <td>5000 mAh Lithium Battery</td>\n",
       "      <td>Mediatek Helio P35 Processor</td>\n",
       "    </tr>\n",
       "    <tr>\n",
       "      <th>14</th>\n",
       "      <td>vivo V23 5G (Stardust Black, 256 GB)</td>\n",
       "      <td>4.3</td>\n",
       "      <td>16.36 cm (6.44 inch) Full HD+ Display</td>\n",
       "      <td>64MP + 8MP + 2MP | 50MP + 8MP Dual Front Camera</td>\n",
       "      <td>₹34,990</td>\n",
       "      <td>12 GB RAM | 256 GB ROM</td>\n",
       "      <td>4200 mAh Lithium Battery</td>\n",
       "      <td>Mediatek Dimensity 920 Processor</td>\n",
       "    </tr>\n",
       "    <tr>\n",
       "      <th>15</th>\n",
       "      <td>vivo Y33T (Mirror Black, 128 GB)</td>\n",
       "      <td>4.3</td>\n",
       "      <td>16.71 cm (6.58 inch) Full HD+ Display</td>\n",
       "      <td>50MP + 2MP + 2MP | 16MP Front Camera</td>\n",
       "      <td>₹18,990</td>\n",
       "      <td>8 GB RAM | 128 GB ROM | Expandable Upto 1 TB</td>\n",
       "      <td>5000 mAh Lithium Battery</td>\n",
       "      <td>Qualcomm Snapdragon 680 Processor</td>\n",
       "    </tr>\n",
       "    <tr>\n",
       "      <th>16</th>\n",
       "      <td>vivo Y33T (Mid day dream, 128 GB)</td>\n",
       "      <td>4.1</td>\n",
       "      <td>16.71 cm (6.58 inch) Full HD+ Display</td>\n",
       "      <td>50MP + 2MP + 2MP | 16MP Front Camera</td>\n",
       "      <td>₹18,990</td>\n",
       "      <td>8 GB RAM | 128 GB ROM | Expandable Upto 1 TB</td>\n",
       "      <td>5000 mAh Lithium Battery</td>\n",
       "      <td>Qualcomm Snapdragon 680 Processor</td>\n",
       "    </tr>\n",
       "    <tr>\n",
       "      <th>17</th>\n",
       "      <td>vivo Y21 (Diamond Glow, 64 GB)</td>\n",
       "      <td>4.4</td>\n",
       "      <td>16.54 cm (6.51 inch) HD+ Display</td>\n",
       "      <td>13MP + 2MP | 8MP Front Camera</td>\n",
       "      <td>₹13,990</td>\n",
       "      <td>4 GB RAM | 64 GB ROM | Expandable Upto 1 TB</td>\n",
       "      <td>5000 mAh Lithium Battery</td>\n",
       "      <td>Mediatek Helio P35 Processor</td>\n",
       "    </tr>\n",
       "    <tr>\n",
       "      <th>18</th>\n",
       "      <td>vivo V23 Pro 5G (Stardust Black, 256 GB)</td>\n",
       "      <td>4.4</td>\n",
       "      <td>16.66 cm (6.56 inch) Full HD+ Display</td>\n",
       "      <td>108MP + 8MP + 2MP | 50MP + 8MP Dual Front Camera</td>\n",
       "      <td>₹43,990</td>\n",
       "      <td>12 GB RAM | 256 GB ROM</td>\n",
       "      <td>4300 mAh Lithium Battery</td>\n",
       "      <td>Mediatek Dimensity 1200 Processor</td>\n",
       "    </tr>\n",
       "    <tr>\n",
       "      <th>19</th>\n",
       "      <td>vivo V23 5G (Stardust Black, 128 GB)</td>\n",
       "      <td>4.3</td>\n",
       "      <td>16.36 cm (6.44 inch) Full HD+ Display</td>\n",
       "      <td>64MP + 8MP + 2MP | 50MP + 8MP Dual Front Camera</td>\n",
       "      <td>₹29,990</td>\n",
       "      <td>8 GB RAM | 128 GB ROM</td>\n",
       "      <td>4200 mAh Lithium Battery</td>\n",
       "      <td>Mediatek Dimensity 920 Processor</td>\n",
       "    </tr>\n",
       "    <tr>\n",
       "      <th>20</th>\n",
       "      <td>vivo V23 5G (Sunshine Gold, 256 GB)</td>\n",
       "      <td>4.3</td>\n",
       "      <td>16.36 cm (6.44 inch) Full HD+ Display</td>\n",
       "      <td>64MP + 8MP + 2MP | 50MP + 8MP Dual Front Camera</td>\n",
       "      <td>₹34,990</td>\n",
       "      <td>12 GB RAM | 256 GB ROM</td>\n",
       "      <td>4200 mAh Lithium Battery</td>\n",
       "      <td>Mediatek Dimensity 920 Processor</td>\n",
       "    </tr>\n",
       "    <tr>\n",
       "      <th>21</th>\n",
       "      <td>vivo Y33s (Mirror Black, 128 GB)</td>\n",
       "      <td>4.3</td>\n",
       "      <td>16.71 cm (6.58 inch) Full HD+ Display</td>\n",
       "      <td>50MP + 2MP + 2MP | 16MP Front Camera</td>\n",
       "      <td>₹18,395</td>\n",
       "      <td>8 GB RAM | 128 GB ROM | Expandable Upto 1 TB</td>\n",
       "      <td>5000 mAh Lithium Battery</td>\n",
       "      <td>MediaTek Helio G80 Processor</td>\n",
       "    </tr>\n",
       "  </tbody>\n",
       "</table>\n",
       "</div>"
      ],
      "text/plain": [
       "                                       Brand Ratings  \\\n",
       "0       vivo T1 5G (Rainbow Fantasy, 128 GB)     4.4   \n",
       "1       vivo T1 5G (Starlight Black, 128 GB)     4.4   \n",
       "2       vivo T1 5G (Starlight Black, 128 GB)     4.4   \n",
       "3       vivo T1 5G (Rainbow Fantasy, 128 GB)     4.4   \n",
       "4       vivo T1 5G (Starlight Black, 128 GB)     4.3   \n",
       "5       vivo T1 5G (Rainbow Fantasy, 128 GB)     4.3   \n",
       "6             vivo Y15s (Mystic Blue, 32 GB)     4.3   \n",
       "7     vivo Y20G 2021 (Obsidian Black, 64 GB)     4.4   \n",
       "8        vivo V23 5G (Sunshine Gold, 128 GB)     4.4   \n",
       "9            vivo Y21T (Pearl White, 128 GB)     4.4   \n",
       "10         vivo Y21T (Midnight Blue, 128 GB)     4.2   \n",
       "11     vivo Y53s (Fantastic Rainbow, 128 GB)     4.3   \n",
       "12             vivo Y15s (Wave Green, 32 GB)     4.4   \n",
       "13           vivo Y21 (Midnight Blue, 64 GB)     4.3   \n",
       "14      vivo V23 5G (Stardust Black, 256 GB)     4.3   \n",
       "15          vivo Y33T (Mirror Black, 128 GB)     4.3   \n",
       "16         vivo Y33T (Mid day dream, 128 GB)     4.1   \n",
       "17            vivo Y21 (Diamond Glow, 64 GB)     4.4   \n",
       "18  vivo V23 Pro 5G (Stardust Black, 256 GB)     4.4   \n",
       "19      vivo V23 5G (Stardust Black, 128 GB)     4.3   \n",
       "20       vivo V23 5G (Sunshine Gold, 256 GB)     4.3   \n",
       "21          vivo Y33s (Mirror Black, 128 GB)     4.3   \n",
       "\n",
       "                                  Display  \\\n",
       "0   16.71 cm (6.58 inch) Full HD+ Display   \n",
       "1   16.71 cm (6.58 inch) Full HD+ Display   \n",
       "2   16.71 cm (6.58 inch) Full HD+ Display   \n",
       "3   16.71 cm (6.58 inch) Full HD+ Display   \n",
       "4   16.71 cm (6.58 inch) Full HD+ Display   \n",
       "5   16.71 cm (6.58 inch) Full HD+ Display   \n",
       "6        16.54 cm (6.51 inch) HD+ Display   \n",
       "7        16.54 cm (6.51 inch) HD+ Display   \n",
       "8   16.36 cm (6.44 inch) Full HD+ Display   \n",
       "9   16.71 cm (6.58 inch) Full HD+ Display   \n",
       "10  16.71 cm (6.58 inch) Full HD+ Display   \n",
       "11  16.71 cm (6.58 inch) Full HD+ Display   \n",
       "12       16.54 cm (6.51 inch) HD+ Display   \n",
       "13       16.54 cm (6.51 inch) HD+ Display   \n",
       "14  16.36 cm (6.44 inch) Full HD+ Display   \n",
       "15  16.71 cm (6.58 inch) Full HD+ Display   \n",
       "16  16.71 cm (6.58 inch) Full HD+ Display   \n",
       "17       16.54 cm (6.51 inch) HD+ Display   \n",
       "18  16.66 cm (6.56 inch) Full HD+ Display   \n",
       "19  16.36 cm (6.44 inch) Full HD+ Display   \n",
       "20  16.36 cm (6.44 inch) Full HD+ Display   \n",
       "21  16.71 cm (6.58 inch) Full HD+ Display   \n",
       "\n",
       "                                              Camera    Price  \\\n",
       "0               50MP + 2MP + 2MP | 16MP Front Camera  ₹15,990   \n",
       "1               50MP + 2MP + 2MP | 16MP Front Camera  ₹15,990   \n",
       "2               50MP + 2MP + 2MP | 16MP Front Camera  ₹16,990   \n",
       "3               50MP + 2MP + 2MP | 16MP Front Camera  ₹16,990   \n",
       "4               50MP + 2MP + 2MP | 16MP Front Camera  ₹19,990   \n",
       "5               50MP + 2MP + 2MP | 16MP Front Camera  ₹19,990   \n",
       "6                      13MP + 2MP | 8MP Front Camera  ₹10,990   \n",
       "7                13MP + 2MP + 2MP | 8MP Front Camera  ₹13,990   \n",
       "8    64MP + 8MP + 2MP | 50MP + 8MP Dual Front Camera  ₹29,990   \n",
       "9                50MP + 2MP + 2MP | 8MP Front Camera  ₹16,490   \n",
       "10               50MP + 2MP + 2MP | 8MP Front Camera  ₹16,490   \n",
       "11              64MP + 2MP + 2MP | 16MP Front Camera  ₹17,738   \n",
       "12                     13MP + 2MP | 8MP Front Camera  ₹10,990   \n",
       "13                     13MP + 2MP | 8MP Front Camera  ₹13,990   \n",
       "14   64MP + 8MP + 2MP | 50MP + 8MP Dual Front Camera  ₹34,990   \n",
       "15              50MP + 2MP + 2MP | 16MP Front Camera  ₹18,990   \n",
       "16              50MP + 2MP + 2MP | 16MP Front Camera  ₹18,990   \n",
       "17                     13MP + 2MP | 8MP Front Camera  ₹13,990   \n",
       "18  108MP + 8MP + 2MP | 50MP + 8MP Dual Front Camera  ₹43,990   \n",
       "19   64MP + 8MP + 2MP | 50MP + 8MP Dual Front Camera  ₹29,990   \n",
       "20   64MP + 8MP + 2MP | 50MP + 8MP Dual Front Camera  ₹34,990   \n",
       "21              50MP + 2MP + 2MP | 16MP Front Camera  ₹18,395   \n",
       "\n",
       "                                              Ram  \\\n",
       "0    4 GB RAM | 128 GB ROM | Expandable Upto 1 TB   \n",
       "1    4 GB RAM | 128 GB ROM | Expandable Upto 1 TB   \n",
       "2    6 GB RAM | 128 GB ROM | Expandable Upto 1 TB   \n",
       "3    6 GB RAM | 128 GB ROM | Expandable Upto 1 TB   \n",
       "4    8 GB RAM | 128 GB ROM | Expandable Upto 1 TB   \n",
       "5    8 GB RAM | 128 GB ROM | Expandable Upto 1 TB   \n",
       "6     3 GB RAM | 32 GB ROM | Expandable Upto 1 TB   \n",
       "7   4 GB RAM | 64 GB ROM | Expandable Upto 256 GB   \n",
       "8   8 GB RAM | 128 GB ROM | Expandable Upto 12 GB   \n",
       "9    4 GB RAM | 128 GB ROM | Expandable Upto 1 TB   \n",
       "10   4 GB RAM | 128 GB ROM | Expandable Upto 1 TB   \n",
       "11   8 GB RAM | 128 GB ROM | Expandable Upto 1 TB   \n",
       "12    3 GB RAM | 32 GB ROM | Expandable Upto 1 TB   \n",
       "13    4 GB RAM | 64 GB ROM | Expandable Upto 1 TB   \n",
       "14                         12 GB RAM | 256 GB ROM   \n",
       "15   8 GB RAM | 128 GB ROM | Expandable Upto 1 TB   \n",
       "16   8 GB RAM | 128 GB ROM | Expandable Upto 1 TB   \n",
       "17    4 GB RAM | 64 GB ROM | Expandable Upto 1 TB   \n",
       "18                         12 GB RAM | 256 GB ROM   \n",
       "19                          8 GB RAM | 128 GB ROM   \n",
       "20                         12 GB RAM | 256 GB ROM   \n",
       "21   8 GB RAM | 128 GB ROM | Expandable Upto 1 TB   \n",
       "\n",
       "                             Battery                           Warranty  \n",
       "0           5000 mAh Lithium Battery  Qualcomm Snapdragon 695 Processor  \n",
       "1           5000 mAh Lithium Battery  Qualcomm Snapdragon 695 Processor  \n",
       "2           5000 mAh Lithium Battery  Qualcomm Snapdragon 695 Processor  \n",
       "3           5000 mAh Lithium Battery  Qualcomm Snapdragon 695 Processor  \n",
       "4           5000 mAh Lithium Battery  Qualcomm Snapdragon 695 Processor  \n",
       "5           5000 mAh Lithium Battery  Qualcomm Snapdragon 695 Processor  \n",
       "6   5000 mAh Lithium Battery Battery       Mediatek Helio P35 Processor  \n",
       "7            5000 mAh Li-ion Battery       MediaTek Helio P35 Processor  \n",
       "8           4200 mAh Lithium Battery   Mediatek Dimensity 920 Processor  \n",
       "9           5000 mAh Lithium Battery  Qualcomm Snapdragon 680 Processor  \n",
       "10          5000 mAh Lithium Battery  Qualcomm Snapdragon 680 Processor  \n",
       "11                  5000 mAh Battery       MediaTek Helio G80 Processor  \n",
       "12  5000 mAh Lithium Battery Battery       Mediatek Helio P35 Processor  \n",
       "13          5000 mAh Lithium Battery       Mediatek Helio P35 Processor  \n",
       "14          4200 mAh Lithium Battery   Mediatek Dimensity 920 Processor  \n",
       "15          5000 mAh Lithium Battery  Qualcomm Snapdragon 680 Processor  \n",
       "16          5000 mAh Lithium Battery  Qualcomm Snapdragon 680 Processor  \n",
       "17          5000 mAh Lithium Battery       Mediatek Helio P35 Processor  \n",
       "18          4300 mAh Lithium Battery  Mediatek Dimensity 1200 Processor  \n",
       "19          4200 mAh Lithium Battery   Mediatek Dimensity 920 Processor  \n",
       "20          4200 mAh Lithium Battery   Mediatek Dimensity 920 Processor  \n",
       "21          5000 mAh Lithium Battery       MediaTek Helio G80 Processor  "
      ]
     },
     "execution_count": 38,
     "metadata": {},
     "output_type": "execute_result"
    }
   ],
   "source": [
    "flipkart=pd.DataFrame({}) #using dataframe and indexing it to 22 \n",
    "flipkart['Brand']=Brand[0:22]\n",
    "flipkart['Ratings']=ratings[0:22]\n",
    "flipkart['Display']=Display_Size[0:22]\n",
    "flipkart['Camera']=Camera[0:22]\n",
    "flipkart['Price']=Prices[0:22]\n",
    "flipkart['Ram']=ram[0:22]\n",
    "flipkart['Battery']=Battery[0:22]\n",
    "flipkart['Warranty']=Warranty[0:22]\n",
    "flipkart"
   ]
  },
  {
   "cell_type": "code",
   "execution_count": null,
   "id": "064aee67",
   "metadata": {},
   "outputs": [],
   "source": []
  },
  {
   "cell_type": "code",
   "execution_count": null,
   "id": "9662fd0d",
   "metadata": {},
   "outputs": [],
   "source": []
  },
  {
   "cell_type": "markdown",
   "id": "369f1cda",
   "metadata": {},
   "source": [
    "## Geospatial coordinates"
   ]
  },
  {
   "cell_type": "code",
   "execution_count": 41,
   "id": "d2154ca3",
   "metadata": {},
   "outputs": [],
   "source": [
    "driver=webdriver.Chrome(r\"chromedriver.exe\")\n",
    "driver.get(\"https://maps.google.com/\")"
   ]
  },
  {
   "cell_type": "code",
   "execution_count": 42,
   "id": "853f3098",
   "metadata": {},
   "outputs": [
    {
     "name": "stdout",
     "output_type": "stream",
     "text": [
      "Enter your Search:Gulbarga\n"
     ]
    }
   ],
   "source": [
    "search_coordinates = driver.find_element_by_id(\"searchboxinput\")\n",
    "search_coordinates.send_keys(input(\"Enter your Search:\"))"
   ]
  },
  {
   "cell_type": "code",
   "execution_count": 43,
   "id": "c23f63bf",
   "metadata": {},
   "outputs": [],
   "source": [
    "search_btn = driver.find_element_by_id (\"searchbox-searchbutton\")\n",
    "search_btn.click()"
   ]
  },
  {
   "cell_type": "code",
   "execution_count": 44,
   "id": "17edfca2",
   "metadata": {},
   "outputs": [
    {
     "data": {
      "text/plain": [
       "'https://www.google.com/maps/place/Kalaburagi,+Karnataka/@17.3389567,76.7001944,11z/data=!3m1!4b1!4m5!3m4!1s0x3bc8c7455b824e57:0x44cbe3366957ed9f!8m2!3d17.329731!4d76.8342957'"
      ]
     },
     "execution_count": 44,
     "metadata": {},
     "output_type": "execute_result"
    }
   ],
   "source": [
    "maps = driver.current_url\n",
    "maps"
   ]
  },
  {
   "cell_type": "code",
   "execution_count": 45,
   "id": "07a9c2d1",
   "metadata": {},
   "outputs": [],
   "source": [
    "maps =maps.split(sep=\"/\")"
   ]
  },
  {
   "cell_type": "code",
   "execution_count": 46,
   "id": "2f064318",
   "metadata": {},
   "outputs": [
    {
     "data": {
      "text/plain": [
       "['https:',\n",
       " '',\n",
       " 'www.google.com',\n",
       " 'maps',\n",
       " 'place',\n",
       " 'Kalaburagi,+Karnataka',\n",
       " '@17.3389567,76.7001944,11z',\n",
       " 'data=!3m1!4b1!4m5!3m4!1s0x3bc8c7455b824e57:0x44cbe3366957ed9f!8m2!3d17.329731!4d76.8342957']"
      ]
     },
     "execution_count": 46,
     "metadata": {},
     "output_type": "execute_result"
    }
   ],
   "source": [
    "maps"
   ]
  },
  {
   "cell_type": "code",
   "execution_count": 48,
   "id": "d5d18fe0",
   "metadata": {},
   "outputs": [
    {
     "data": {
      "text/plain": [
       "'@17.3389567,76.7001944,11z'"
      ]
     },
     "execution_count": 48,
     "metadata": {},
     "output_type": "execute_result"
    }
   ],
   "source": [
    "maps[6]"
   ]
  },
  {
   "cell_type": "code",
   "execution_count": null,
   "id": "8142e768",
   "metadata": {},
   "outputs": [],
   "source": []
  },
  {
   "cell_type": "code",
   "execution_count": null,
   "id": "847a6533",
   "metadata": {},
   "outputs": [],
   "source": []
  },
  {
   "cell_type": "markdown",
   "id": "54d9a92e",
   "metadata": {},
   "source": [
    "## Forbes list"
   ]
  },
  {
   "cell_type": "code",
   "execution_count": 49,
   "id": "817bb6f4",
   "metadata": {},
   "outputs": [],
   "source": [
    "import selenium # importing selenium\n",
    "from selenium import webdriver#importing webdriver\n",
    "from selenium.common.exceptions import StaleElementReferenceException, NoSuchElementException #importing exception \n",
    "from selenium.webdriver.common.keys import Keys"
   ]
  },
  {
   "cell_type": "code",
   "execution_count": 50,
   "id": "acf1df55",
   "metadata": {},
   "outputs": [],
   "source": [
    "driver =   webdriver.Chrome(r'chromedriver.exe')\n",
    "driver.get(\"https://www.forbes.com/real-time-billionaires/#6f1445f93d78\")"
   ]
  },
  {
   "cell_type": "code",
   "execution_count": 52,
   "id": "de28dec8",
   "metadata": {},
   "outputs": [
    {
     "data": {
      "text/plain": [
       "25"
      ]
     },
     "execution_count": 52,
     "metadata": {},
     "output_type": "execute_result"
    }
   ],
   "source": [
    "Rank = driver.find_elements_by_xpath(\"//td[@class='rank']\")\n",
    "len(Rank)"
   ]
  },
  {
   "cell_type": "code",
   "execution_count": 53,
   "id": "a4ff9694",
   "metadata": {},
   "outputs": [],
   "source": [
    "Ranks = []\n",
    "for i in Rank:\n",
    "    Ranks.append(i.text)"
   ]
  },
  {
   "cell_type": "code",
   "execution_count": 55,
   "id": "e7731df2",
   "metadata": {},
   "outputs": [
    {
     "data": {
      "text/plain": [
       "25"
      ]
     },
     "execution_count": 55,
     "metadata": {},
     "output_type": "execute_result"
    }
   ],
   "source": [
    "Name = driver.find_elements_by_xpath(\"//td[@class='name']\")\n",
    "len(Name)"
   ]
  },
  {
   "cell_type": "code",
   "execution_count": 56,
   "id": "f999d37c",
   "metadata": {},
   "outputs": [],
   "source": [
    "Names = []\n",
    "for i in Name:\n",
    "    Names.append(i.text)"
   ]
  },
  {
   "cell_type": "code",
   "execution_count": 58,
   "id": "37b14af6",
   "metadata": {},
   "outputs": [
    {
     "data": {
      "text/plain": [
       "25"
      ]
     },
     "execution_count": 58,
     "metadata": {},
     "output_type": "execute_result"
    }
   ],
   "source": [
    "networth = driver.find_elements_by_xpath(\"//td[@class='Net Worth']\")\n",
    "len(networth)"
   ]
  },
  {
   "cell_type": "code",
   "execution_count": 60,
   "id": "cef52fd7",
   "metadata": {},
   "outputs": [],
   "source": [
    "Net_worth = []\n",
    "for i in networth:\n",
    "    Net_worth.append(i.text)"
   ]
  },
  {
   "cell_type": "code",
   "execution_count": 62,
   "id": "32668d7c",
   "metadata": {},
   "outputs": [
    {
     "data": {
      "text/plain": [
       "25"
      ]
     },
     "execution_count": 62,
     "metadata": {},
     "output_type": "execute_result"
    }
   ],
   "source": [
    "Age = driver.find_elements_by_xpath(\"//td[@class='age']\")\n",
    "len(Age)"
   ]
  },
  {
   "cell_type": "code",
   "execution_count": 63,
   "id": "8571cb62",
   "metadata": {},
   "outputs": [],
   "source": [
    "Billionaire_age  = []\n",
    "for i in Age:\n",
    "    Billionaire_age.append(i.text)"
   ]
  },
  {
   "cell_type": "code",
   "execution_count": 68,
   "id": "6bd37cd3",
   "metadata": {},
   "outputs": [
    {
     "data": {
      "text/plain": [
       "25"
      ]
     },
     "execution_count": 68,
     "metadata": {},
     "output_type": "execute_result"
    }
   ],
   "source": [
    "Source = driver.find_elements_by_xpath(\"//td[@class='source']\")\n",
    "len(Source)"
   ]
  },
  {
   "cell_type": "code",
   "execution_count": 69,
   "id": "92c58994",
   "metadata": {},
   "outputs": [],
   "source": [
    "Source_of_Billionaire = []\n",
    "for i in Source:\n",
    "    Source_of_Billionaire.append(i.text)"
   ]
  },
  {
   "cell_type": "code",
   "execution_count": 65,
   "id": "5b1dc3a6",
   "metadata": {},
   "outputs": [
    {
     "data": {
      "text/plain": [
       "25"
      ]
     },
     "execution_count": 65,
     "metadata": {},
     "output_type": "execute_result"
    }
   ],
   "source": [
    "Country = driver.find_elements_by_xpath(\"//td[@class='Country/Territory']\")\n",
    "len(Country)"
   ]
  },
  {
   "cell_type": "code",
   "execution_count": 66,
   "id": "34074b07",
   "metadata": {},
   "outputs": [],
   "source": [
    "Citizenship = []\n",
    "for i in Country:\n",
    "    Citizenship.append(i.text)"
   ]
  },
  {
   "cell_type": "code",
   "execution_count": 70,
   "id": "d7057d55",
   "metadata": {},
   "outputs": [],
   "source": [
    "Billionare=pd.DataFrame({})\n",
    "Billionare['Rank']= Ranks\n",
    "Billionare['Name']= Names\n",
    "Billionare['Networth']= Net_worth\n",
    "Billionare['Age']= Billionaire_age\n",
    "Billionare['Source']= Source_of_Billionaire\n",
    "Billionare['Country']= Citizenship"
   ]
  },
  {
   "cell_type": "code",
   "execution_count": 72,
   "id": "a8214495",
   "metadata": {},
   "outputs": [
    {
     "data": {
      "text/html": [
       "<div>\n",
       "<style scoped>\n",
       "    .dataframe tbody tr th:only-of-type {\n",
       "        vertical-align: middle;\n",
       "    }\n",
       "\n",
       "    .dataframe tbody tr th {\n",
       "        vertical-align: top;\n",
       "    }\n",
       "\n",
       "    .dataframe thead th {\n",
       "        text-align: right;\n",
       "    }\n",
       "</style>\n",
       "<table border=\"1\" class=\"dataframe\">\n",
       "  <thead>\n",
       "    <tr style=\"text-align: right;\">\n",
       "      <th></th>\n",
       "      <th>Rank</th>\n",
       "      <th>Name</th>\n",
       "      <th>Networth</th>\n",
       "      <th>Age</th>\n",
       "      <th>Source</th>\n",
       "      <th>Country</th>\n",
       "    </tr>\n",
       "  </thead>\n",
       "  <tbody>\n",
       "    <tr>\n",
       "      <th>0</th>\n",
       "      <td>1</td>\n",
       "      <td>Elon Musk</td>\n",
       "      <td>$226.4 B</td>\n",
       "      <td>50</td>\n",
       "      <td>Tesla, SpaceX</td>\n",
       "      <td>United States</td>\n",
       "    </tr>\n",
       "    <tr>\n",
       "      <th>1</th>\n",
       "      <td>2</td>\n",
       "      <td>Jeff Bezos</td>\n",
       "      <td>$162.4 B</td>\n",
       "      <td>58</td>\n",
       "      <td>Amazon</td>\n",
       "      <td>United States</td>\n",
       "    </tr>\n",
       "    <tr>\n",
       "      <th>2</th>\n",
       "      <td>3</td>\n",
       "      <td>Bernard Arnault &amp; family</td>\n",
       "      <td>$145.0 B</td>\n",
       "      <td>73</td>\n",
       "      <td>LVMH</td>\n",
       "      <td>France</td>\n",
       "    </tr>\n",
       "    <tr>\n",
       "      <th>3</th>\n",
       "      <td>4</td>\n",
       "      <td>Bill Gates</td>\n",
       "      <td>$127.7 B</td>\n",
       "      <td>66</td>\n",
       "      <td>Microsoft</td>\n",
       "      <td>United States</td>\n",
       "    </tr>\n",
       "    <tr>\n",
       "      <th>4</th>\n",
       "      <td>5</td>\n",
       "      <td>Warren Buffett</td>\n",
       "      <td>$116.4 B</td>\n",
       "      <td>91</td>\n",
       "      <td>Berkshire Hathaway</td>\n",
       "      <td>United States</td>\n",
       "    </tr>\n",
       "  </tbody>\n",
       "</table>\n",
       "</div>"
      ],
      "text/plain": [
       "  Rank                      Name  Networth Age              Source  \\\n",
       "0    1                 Elon Musk  $226.4 B  50       Tesla, SpaceX   \n",
       "1    2                Jeff Bezos  $162.4 B  58              Amazon   \n",
       "2    3  Bernard Arnault & family  $145.0 B  73                LVMH   \n",
       "3    4                Bill Gates  $127.7 B  66           Microsoft   \n",
       "4    5            Warren Buffett  $116.4 B  91  Berkshire Hathaway   \n",
       "\n",
       "         Country  \n",
       "0  United States  \n",
       "1  United States  \n",
       "2         France  \n",
       "3  United States  \n",
       "4  United States  "
      ]
     },
     "execution_count": 72,
     "metadata": {},
     "output_type": "execute_result"
    }
   ],
   "source": [
    "Billionare.head()"
   ]
  },
  {
   "cell_type": "code",
   "execution_count": 74,
   "id": "0472b501",
   "metadata": {},
   "outputs": [
    {
     "data": {
      "text/plain": [
       "(25, 6)"
      ]
     },
     "execution_count": 74,
     "metadata": {},
     "output_type": "execute_result"
    }
   ],
   "source": [
    "Billionare.shape"
   ]
  },
  {
   "cell_type": "code",
   "execution_count": null,
   "id": "6579f5e9",
   "metadata": {},
   "outputs": [],
   "source": []
  },
  {
   "cell_type": "code",
   "execution_count": null,
   "id": "96cb7f3c",
   "metadata": {},
   "outputs": [],
   "source": []
  },
  {
   "cell_type": "markdown",
   "id": "61f1d3db",
   "metadata": {},
   "source": [
    "## Hostelworld.com London"
   ]
  },
  {
   "cell_type": "code",
   "execution_count": 75,
   "id": "3621e365",
   "metadata": {},
   "outputs": [],
   "source": [
    "import selenium # importing selenium\n",
    "from selenium import webdriver#importing webdriver\n",
    "from selenium.common.exceptions import StaleElementReferenceException, NoSuchElementException #importing exception \n",
    "import time"
   ]
  },
  {
   "cell_type": "code",
   "execution_count": 76,
   "id": "79f33d6c",
   "metadata": {},
   "outputs": [],
   "source": [
    "driver.get(\"https://www.hostelworld.com/s?q=London,%20England&country=England&city=London&type=city&id=3&from=2021-07-23&to=2021-07-26&guests=2&page=1\")\n"
   ]
  },
  {
   "cell_type": "code",
   "execution_count": 77,
   "id": "60c8151e",
   "metadata": {},
   "outputs": [],
   "source": [
    "name = driver.find_elements_by_xpath(\"//h2[@class='title title-6']/a\")\n",
    "hotel_name = []\n",
    "for i in name:\n",
    "    hotel_name.append(i.text)\n"
   ]
  },
  {
   "cell_type": "code",
   "execution_count": 79,
   "id": "a2e77807",
   "metadata": {},
   "outputs": [],
   "source": [
    "distance = driver.find_elements_by_class_name('description')"
   ]
  },
  {
   "cell_type": "code",
   "execution_count": 80,
   "id": "521227b5",
   "metadata": {},
   "outputs": [],
   "source": [
    "distance_from_city = []\n",
    "for i in distance:\n",
    "    distance_from_city.append(i.text)\n",
    "    "
   ]
  },
  {
   "cell_type": "code",
   "execution_count": 82,
   "id": "ad23ec7a",
   "metadata": {},
   "outputs": [],
   "source": [
    "rat = driver.find_elements_by_xpath(\"//div[@class='score orange big']\")"
   ]
  },
  {
   "cell_type": "code",
   "execution_count": 83,
   "id": "7a2b0e40",
   "metadata": {},
   "outputs": [],
   "source": [
    "ratings = []\n",
    "for i  in rat:\n",
    "    try:\n",
    "        ratings.append(i.text)\n",
    "    except NoSuchElementException as E:\n",
    "        ratings.append(\"__\")"
   ]
  },
  {
   "cell_type": "code",
   "execution_count": 85,
   "id": "abd4c444",
   "metadata": {},
   "outputs": [],
   "source": [
    "total_rates = driver.find_elements_by_xpath(\"//div[@class='reviews']\")"
   ]
  },
  {
   "cell_type": "code",
   "execution_count": 86,
   "id": "f8523d51",
   "metadata": {},
   "outputs": [],
   "source": [
    "total_rating =[]\n",
    "for i in total_rates:\n",
    "    total_rating.append(i.text)\n",
    "    "
   ]
  },
  {
   "cell_type": "code",
   "execution_count": 88,
   "id": "bd2be5fe",
   "metadata": {},
   "outputs": [],
   "source": [
    "over_all = driver.find_elements_by_xpath(\"//div[@class='keyword']\")"
   ]
  },
  {
   "cell_type": "code",
   "execution_count": 89,
   "id": "fd41d51c",
   "metadata": {},
   "outputs": [],
   "source": [
    "over_all_review =[]\n",
    "for i in over_all:\n",
    "    over_all_review.append(i.text)\n",
    "    "
   ]
  },
  {
   "cell_type": "code",
   "execution_count": 91,
   "id": "b086021b",
   "metadata": {},
   "outputs": [],
   "source": [
    "prt_prc =driver.find_elements_by_xpath(\"//div[@class='price title-5']\")\n",
    "\n",
    "privates_price =[]\n",
    "for i in prt_prc:\n",
    "    privates_price.append(i.text)\n",
    "    "
   ]
  },
  {
   "cell_type": "code",
   "execution_count": 92,
   "id": "de7d3b91",
   "metadata": {},
   "outputs": [],
   "source": [
    "privates_price = privates_price[0::2]"
   ]
  },
  {
   "cell_type": "code",
   "execution_count": 93,
   "id": "22c59f29",
   "metadata": {},
   "outputs": [],
   "source": [
    "dp =driver.find_elements_by_xpath(\"//div[@class='price title-5']\")\n",
    "\n",
    "dorms_price =[]\n",
    "for i in dp:\n",
    "    dorms_price.append(i.text)\n",
    "    "
   ]
  },
  {
   "cell_type": "code",
   "execution_count": 94,
   "id": "0dc6008b",
   "metadata": {},
   "outputs": [],
   "source": [
    "dorms_price = dorms_price[1::2]"
   ]
  },
  {
   "cell_type": "code",
   "execution_count": 95,
   "id": "5cc92260",
   "metadata": {},
   "outputs": [],
   "source": [
    "desc =driver.find_elements_by_xpath(\"//div[@class='rating-factors prop-card-tablet rating-factors small']\")\n",
    "\n",
    "description =[]\n",
    "for i in desc:\n",
    "    description.append(i.text)\n",
    "    "
   ]
  },
  {
   "cell_type": "code",
   "execution_count": 96,
   "id": "37a89992",
   "metadata": {},
   "outputs": [],
   "source": [
    "fas =driver.find_elements_by_xpath(\"//div[@class='facilities-label facilities']\")\n",
    "\n",
    "facilities =[]\n",
    "for i in fas:\n",
    "    facilities.append(i.text)\n",
    "    "
   ]
  },
  {
   "cell_type": "code",
   "execution_count": 97,
   "id": "99719010",
   "metadata": {},
   "outputs": [],
   "source": [
    "hotel_details=pd.DataFrame({})\n",
    "hotel_details['Hostel_Name']= hotel_name[0:20]\n",
    "hotel_details['Type and Distance']= distance_from_city[0:20]\n",
    "hotel_details['Ratings']= ratings[0:20]\n",
    "hotel_details['Total_reviews']= total_rating[0:20]\n",
    "hotel_details['Overall_reviews']= over_all_review[0:20]\n",
    "hotel_details['Private Prices']= privates_price[0:20]\n",
    "hotel_details['Dorms Prices']= dorms_price[0:20]\n",
    "hotel_details['Description']= description[0:20]\n",
    "hotel_details['Facilities']= facilities[0:20]"
   ]
  },
  {
   "cell_type": "code",
   "execution_count": 98,
   "id": "5a21af3e",
   "metadata": {},
   "outputs": [
    {
     "data": {
      "text/html": [
       "<div>\n",
       "<style scoped>\n",
       "    .dataframe tbody tr th:only-of-type {\n",
       "        vertical-align: middle;\n",
       "    }\n",
       "\n",
       "    .dataframe tbody tr th {\n",
       "        vertical-align: top;\n",
       "    }\n",
       "\n",
       "    .dataframe thead th {\n",
       "        text-align: right;\n",
       "    }\n",
       "</style>\n",
       "<table border=\"1\" class=\"dataframe\">\n",
       "  <thead>\n",
       "    <tr style=\"text-align: right;\">\n",
       "      <th></th>\n",
       "      <th>Hostel_Name</th>\n",
       "      <th>Type and Distance</th>\n",
       "      <th>Ratings</th>\n",
       "      <th>Total_reviews</th>\n",
       "      <th>Overall_reviews</th>\n",
       "      <th>Private Prices</th>\n",
       "      <th>Dorms Prices</th>\n",
       "      <th>Description</th>\n",
       "      <th>Facilities</th>\n",
       "    </tr>\n",
       "  </thead>\n",
       "  <tbody>\n",
       "  </tbody>\n",
       "</table>\n",
       "</div>"
      ],
      "text/plain": [
       "Empty DataFrame\n",
       "Columns: [Hostel_Name, Type and Distance, Ratings, Total_reviews, Overall_reviews, Private Prices, Dorms Prices, Description, Facilities]\n",
       "Index: []"
      ]
     },
     "execution_count": 98,
     "metadata": {},
     "output_type": "execute_result"
    }
   ],
   "source": [
    "hotel_details"
   ]
  },
  {
   "cell_type": "code",
   "execution_count": null,
   "id": "6c1e702f",
   "metadata": {},
   "outputs": [],
   "source": []
  },
  {
   "cell_type": "code",
   "execution_count": null,
   "id": "6d1338c2",
   "metadata": {},
   "outputs": [],
   "source": []
  },
  {
   "cell_type": "markdown",
   "id": "9cc42364",
   "metadata": {},
   "source": [
    "## Gaming laptops from digit.in"
   ]
  },
  {
   "cell_type": "code",
   "execution_count": 99,
   "id": "2bc71a9c",
   "metadata": {},
   "outputs": [],
   "source": [
    "import selenium # importing selenium\n",
    "from selenium import webdriver#importing webdriver\n",
    "from selenium.common.exceptions import StaleElementReferenceException, NoSuchElementException #importing exception "
   ]
  },
  {
   "cell_type": "code",
   "execution_count": 100,
   "id": "2f7b4b6b",
   "metadata": {},
   "outputs": [],
   "source": [
    "browser =  webdriver.Chrome(r'chromedriver.exe')\n",
    "browser.get(\"https://www.digit.in/top-products/best-gaming-laptops-40.html\")"
   ]
  },
  {
   "cell_type": "code",
   "execution_count": 101,
   "id": "bf6538fa",
   "metadata": {},
   "outputs": [
    {
     "data": {
      "text/plain": [
       "[<selenium.webdriver.remote.webelement.WebElement (session=\"ab9b3c56a422768dfc603b35ae9d828b\", element=\"b8841d40-e4d3-4223-b7f3-55f44b8b6f91\")>,\n",
       " <selenium.webdriver.remote.webelement.WebElement (session=\"ab9b3c56a422768dfc603b35ae9d828b\", element=\"d6a14557-ccae-4e76-ad38-9cea3b1def4f\")>,\n",
       " <selenium.webdriver.remote.webelement.WebElement (session=\"ab9b3c56a422768dfc603b35ae9d828b\", element=\"ff6c3f76-b24b-4b20-92be-448e84843710\")>,\n",
       " <selenium.webdriver.remote.webelement.WebElement (session=\"ab9b3c56a422768dfc603b35ae9d828b\", element=\"fead5a89-d8f8-42e2-8552-e145282a5bcc\")>,\n",
       " <selenium.webdriver.remote.webelement.WebElement (session=\"ab9b3c56a422768dfc603b35ae9d828b\", element=\"fb0a5ddf-3d78-4ae9-8055-c09a0d027219\")>,\n",
       " <selenium.webdriver.remote.webelement.WebElement (session=\"ab9b3c56a422768dfc603b35ae9d828b\", element=\"c4f0696b-a182-42cc-b7be-f551d4ad5ba5\")>,\n",
       " <selenium.webdriver.remote.webelement.WebElement (session=\"ab9b3c56a422768dfc603b35ae9d828b\", element=\"30942701-2b31-4e4c-aa38-e84c0707ee63\")>,\n",
       " <selenium.webdriver.remote.webelement.WebElement (session=\"ab9b3c56a422768dfc603b35ae9d828b\", element=\"a3ce9d46-301c-4192-935c-136b84f7dda3\")>,\n",
       " <selenium.webdriver.remote.webelement.WebElement (session=\"ab9b3c56a422768dfc603b35ae9d828b\", element=\"d5a6d7db-1e92-4295-977f-3cf5237f93b7\")>,\n",
       " <selenium.webdriver.remote.webelement.WebElement (session=\"ab9b3c56a422768dfc603b35ae9d828b\", element=\"d82aa882-26eb-45aa-b783-a0c20e19ab39\")>]"
      ]
     },
     "execution_count": 101,
     "metadata": {},
     "output_type": "execute_result"
    }
   ],
   "source": [
    "title_tags = browser.find_elements_by_xpath(\"//div[@class='TopNumbeHeading active sticky-footer']\")\n",
    "title_tags"
   ]
  },
  {
   "cell_type": "code",
   "execution_count": 105,
   "id": "5c067af7",
   "metadata": {},
   "outputs": [
    {
     "data": {
      "text/plain": [
       "['1.\\nHP VICTUS 16',\n",
       " '2.\\nHP OMEN 15',\n",
       " '3.\\nACER NITRO 5',\n",
       " '4.\\nMSI STEALTH 15M',\n",
       " '5.\\nASUS ROG STRIX SCAR 15',\n",
       " '6.\\nASUS ROG STRIX SCAR 15',\n",
       " '7.\\nASUS ZEPHYRUS G14',\n",
       " '8.\\nLENOVO LEGION 5I',\n",
       " '9.\\nASUS ROG ZEPHYRUS DUO 15',\n",
       " '10.\\nACER ASPIRE 7 GAMING LAPTOP']"
      ]
     },
     "execution_count": 105,
     "metadata": {},
     "output_type": "execute_result"
    }
   ],
   "source": [
    "titles=[]\n",
    "for i in title_tags:\n",
    "    title=i.text\n",
    "    titles.append(title)\n",
    "titles"
   ]
  },
  {
   "cell_type": "code",
   "execution_count": 113,
   "id": "5d538751",
   "metadata": {},
   "outputs": [
    {
     "data": {
      "text/plain": [
       "[<selenium.webdriver.remote.webelement.WebElement (session=\"ab9b3c56a422768dfc603b35ae9d828b\", element=\"7502fea6-53f5-453d-af7f-e0b917677d74\")>,\n",
       " <selenium.webdriver.remote.webelement.WebElement (session=\"ab9b3c56a422768dfc603b35ae9d828b\", element=\"6643aad7-8a4c-49b6-86d2-0287f72f0188\")>,\n",
       " <selenium.webdriver.remote.webelement.WebElement (session=\"ab9b3c56a422768dfc603b35ae9d828b\", element=\"58dce6da-7135-408e-a083-38a98aa30863\")>,\n",
       " <selenium.webdriver.remote.webelement.WebElement (session=\"ab9b3c56a422768dfc603b35ae9d828b\", element=\"c2be94e3-76bd-471e-b7f4-1dd89969ccdb\")>,\n",
       " <selenium.webdriver.remote.webelement.WebElement (session=\"ab9b3c56a422768dfc603b35ae9d828b\", element=\"f452b38b-2f98-4bc0-86ee-fa362daf2c0d\")>,\n",
       " <selenium.webdriver.remote.webelement.WebElement (session=\"ab9b3c56a422768dfc603b35ae9d828b\", element=\"c8915c5d-9c76-44ad-a6f2-970220580427\")>,\n",
       " <selenium.webdriver.remote.webelement.WebElement (session=\"ab9b3c56a422768dfc603b35ae9d828b\", element=\"c16b5e0d-ab3d-492a-b2b0-2837a03daa56\")>,\n",
       " <selenium.webdriver.remote.webelement.WebElement (session=\"ab9b3c56a422768dfc603b35ae9d828b\", element=\"601f0088-6ba6-4e0c-b564-78172476f3b9\")>,\n",
       " <selenium.webdriver.remote.webelement.WebElement (session=\"ab9b3c56a422768dfc603b35ae9d828b\", element=\"c72151cd-6a73-4897-a469-af10bfdc8e4d\")>,\n",
       " <selenium.webdriver.remote.webelement.WebElement (session=\"ab9b3c56a422768dfc603b35ae9d828b\", element=\"ecac0815-4a95-425b-a583-757bb2286f6b\")>]"
      ]
     },
     "execution_count": 113,
     "metadata": {},
     "output_type": "execute_result"
    }
   ],
   "source": [
    "windows_tags = browser.find_elements_by_xpath(\"//div[@class='product-detail']\")\n",
    "windows_tags"
   ]
  },
  {
   "cell_type": "code",
   "execution_count": 107,
   "id": "da7e3f97",
   "metadata": {},
   "outputs": [
    {
     "data": {
      "text/plain": [
       "['OS\\nWINDOWS 10\\nDISPLAY\\n16.1\" (1920 X 1200)\\nPROCESSOR\\n5TH GEN AMD RYZEN 7 5800H | 3.2GHZ\\nMEMORY\\n512 GB SSD/16 GBGB DDR4\\nFULL SPECS OTHER HP LAPTOPS',\n",
       " 'OS\\nWINDOWS 10 HOME\\nDISPLAY\\n15.6\" (1920 X 1080)\\nPROCESSOR\\nAMD RYZEN 7 OCTA CORE-5800H | 4.4 GHZ\\nMEMORY\\n1 TB SSD/16 GBGB DDR4\\nFULL SPECS OTHER HP LAPTOPS',\n",
       " 'OS\\nWINDOWS 10\\nDISPLAY\\n15.6\" (1920 X 1080)\\nPROCESSOR\\nAMD RYZEN 9 OCTA CORE | 2.4 GHZ\\nMEMORY\\n1 TB HDD/16 GBGB DDR4\\nFULL SPECS OTHER ACER LAPTOPS',\n",
       " 'OS\\nWINDOWS 10\\nDISPLAY\\n15.6\" (1920 X 1080)\\nPROCESSOR\\nINTEL CORE I7 11TH GEN - 11375H | NA\\nMEMORY\\n1 TB SSD/16 GBGB DDR4\\nFULL SPECS OTHER MSI LAPTOPS',\n",
       " 'OS\\nWINDOWS 10\\nDISPLAY\\n15.6\" (2560 X 1440)\\nPROCESSOR\\nAMD RYZEN 9 OCTA CORE - 5900HX | 3.3 GHZ\\nMEMORY\\n2 TB SSD/32 GBGB DDR4\\nFULL SPECS OTHER ASUS LAPTOPS',\n",
       " 'OS\\nWINDOWS 10 HOME\\nDISPLAY\\n15.6\" (1920 X 1080)\\nPROCESSOR\\nAMD RYZEN™ 9 5900HX | 3.3 GHZ\\nMEMORY\\n1 TB SSD/16 GBGB DDR4\\nREAD REVIEW FULL SPECS OTHER ASUS LAPTOPS',\n",
       " 'OS\\nWINDOWS 10 HOME\\nDISPLAY\\n14\" (1920 X 1080)\\nPROCESSOR\\nAMD 3RD GEN RYZEN 9 | 3.3 GHZ\\nMEMORY\\n1 TB SSD/16 GBGB DDR4\\nREAD REVIEW FULL SPECS OTHER ASUS LAPTOPS',\n",
       " 'OS\\nWINDOWS 10 PRO\\nDISPLAY\\n15.6\" (1920 X 1080)\\nPROCESSOR\\n10TH GEN INTEL® CORE™ I5-10300H | 2.50 GHZ\\nMEMORY\\n1 TB SSD/16 GBGB DDR4\\nFULL SPECS OTHER LENOVO LAPTOPS',\n",
       " 'OS\\nWINDOWS 10\\nDISPLAY\\n15.6\" (3840 X 1100)\\nPROCESSOR\\nINTEL CORE I7 10TH GEN 10875H | NA\\nMEMORY\\n512 GB SSD/4 GBGB DDR4\\nFULL SPECS OTHER ASUS LAPTOPS',\n",
       " 'OS\\nWINDOWS 10 HOME\\nDISPLAY\\n15.6\" (1920 X 1080)\\nPROCESSOR\\nAMD RYZEN™ 5-5500U HEXA-CORE | NA\\nMEMORY\\n512 GB SSD/8 GBGB DDR4\\nREAD REVIEW FULL SPECS OTHER ACER LAPTOPS']"
      ]
     },
     "execution_count": 107,
     "metadata": {},
     "output_type": "execute_result"
    }
   ],
   "source": [
    "productdetail=[]\n",
    "for i in windows_tags:\n",
    "    wind=i.text\n",
    "    productdetail.append(wind)\n",
    "productdetail"
   ]
  },
  {
   "cell_type": "code",
   "execution_count": 108,
   "id": "78fccdc2",
   "metadata": {},
   "outputs": [
    {
     "data": {
      "text/plain": [
       "['https://static.digit.in/product/thumb_192922_product_td_300.jpeg',\n",
       " 'https://www.digit.in/images/digit_topten_icon.png',\n",
       " 'https://www.digit.in/images/digit_topten_icon.png',\n",
       " 'https://www.digit.in/images/digit_topten_icon.png',\n",
       " 'https://www.digit.in/images/digit_topten_icon.png',\n",
       " 'https://www.digit.in/images/digit_topten_icon.png',\n",
       " 'https://www.digit.in/images/digit_topten_icon.png',\n",
       " 'https://www.digit.in/images/digit_topten_icon.png',\n",
       " 'https://www.digit.in/images/digit_topten_icon.png',\n",
       " 'https://www.digit.in/images/digit_topten_icon.png']"
      ]
     },
     "execution_count": 108,
     "metadata": {},
     "output_type": "execute_result"
    }
   ],
   "source": [
    "urls=browser.find_elements_by_xpath(\"//div[@class='product-ickon']/img\")\n",
    "URL=[]\n",
    "for i in urls:\n",
    "    URL.append(i.get_attribute('src'))\n",
    "URL"
   ]
  },
  {
   "cell_type": "code",
   "execution_count": 109,
   "id": "9b5e9871",
   "metadata": {},
   "outputs": [
    {
     "data": {
      "text/html": [
       "<div>\n",
       "<style scoped>\n",
       "    .dataframe tbody tr th:only-of-type {\n",
       "        vertical-align: middle;\n",
       "    }\n",
       "\n",
       "    .dataframe tbody tr th {\n",
       "        vertical-align: top;\n",
       "    }\n",
       "\n",
       "    .dataframe thead th {\n",
       "        text-align: right;\n",
       "    }\n",
       "</style>\n",
       "<table border=\"1\" class=\"dataframe\">\n",
       "  <thead>\n",
       "    <tr style=\"text-align: right;\">\n",
       "      <th></th>\n",
       "      <th>titles</th>\n",
       "      <th>productdetail</th>\n",
       "      <th>imageurl</th>\n",
       "    </tr>\n",
       "  </thead>\n",
       "  <tbody>\n",
       "    <tr>\n",
       "      <th>0</th>\n",
       "      <td>1.\\nHP VICTUS 16</td>\n",
       "      <td>OS\\nWINDOWS 10\\nDISPLAY\\n16.1\" (1920 X 1200)\\n...</td>\n",
       "      <td>https://static.digit.in/product/thumb_192922_p...</td>\n",
       "    </tr>\n",
       "    <tr>\n",
       "      <th>1</th>\n",
       "      <td>2.\\nHP OMEN 15</td>\n",
       "      <td>OS\\nWINDOWS 10 HOME\\nDISPLAY\\n15.6\" (1920 X 10...</td>\n",
       "      <td>https://www.digit.in/images/digit_topten_icon.png</td>\n",
       "    </tr>\n",
       "    <tr>\n",
       "      <th>2</th>\n",
       "      <td>3.\\nACER NITRO 5</td>\n",
       "      <td>OS\\nWINDOWS 10\\nDISPLAY\\n15.6\" (1920 X 1080)\\n...</td>\n",
       "      <td>https://www.digit.in/images/digit_topten_icon.png</td>\n",
       "    </tr>\n",
       "    <tr>\n",
       "      <th>3</th>\n",
       "      <td>4.\\nMSI STEALTH 15M</td>\n",
       "      <td>OS\\nWINDOWS 10\\nDISPLAY\\n15.6\" (1920 X 1080)\\n...</td>\n",
       "      <td>https://www.digit.in/images/digit_topten_icon.png</td>\n",
       "    </tr>\n",
       "    <tr>\n",
       "      <th>4</th>\n",
       "      <td>5.\\nASUS ROG STRIX SCAR 15</td>\n",
       "      <td>OS\\nWINDOWS 10\\nDISPLAY\\n15.6\" (2560 X 1440)\\n...</td>\n",
       "      <td>https://www.digit.in/images/digit_topten_icon.png</td>\n",
       "    </tr>\n",
       "    <tr>\n",
       "      <th>5</th>\n",
       "      <td>6.\\nASUS ROG STRIX SCAR 15</td>\n",
       "      <td>OS\\nWINDOWS 10 HOME\\nDISPLAY\\n15.6\" (1920 X 10...</td>\n",
       "      <td>https://www.digit.in/images/digit_topten_icon.png</td>\n",
       "    </tr>\n",
       "    <tr>\n",
       "      <th>6</th>\n",
       "      <td>7.\\nASUS ZEPHYRUS G14</td>\n",
       "      <td>OS\\nWINDOWS 10 HOME\\nDISPLAY\\n14\" (1920 X 1080...</td>\n",
       "      <td>https://www.digit.in/images/digit_topten_icon.png</td>\n",
       "    </tr>\n",
       "    <tr>\n",
       "      <th>7</th>\n",
       "      <td>8.\\nLENOVO LEGION 5I</td>\n",
       "      <td>OS\\nWINDOWS 10 PRO\\nDISPLAY\\n15.6\" (1920 X 108...</td>\n",
       "      <td>https://www.digit.in/images/digit_topten_icon.png</td>\n",
       "    </tr>\n",
       "    <tr>\n",
       "      <th>8</th>\n",
       "      <td>9.\\nASUS ROG ZEPHYRUS DUO 15</td>\n",
       "      <td>OS\\nWINDOWS 10\\nDISPLAY\\n15.6\" (3840 X 1100)\\n...</td>\n",
       "      <td>https://www.digit.in/images/digit_topten_icon.png</td>\n",
       "    </tr>\n",
       "    <tr>\n",
       "      <th>9</th>\n",
       "      <td>10.\\nACER ASPIRE 7 GAMING LAPTOP</td>\n",
       "      <td>OS\\nWINDOWS 10 HOME\\nDISPLAY\\n15.6\" (1920 X 10...</td>\n",
       "      <td>https://www.digit.in/images/digit_topten_icon.png</td>\n",
       "    </tr>\n",
       "  </tbody>\n",
       "</table>\n",
       "</div>"
      ],
      "text/plain": [
       "                             titles  \\\n",
       "0                  1.\\nHP VICTUS 16   \n",
       "1                    2.\\nHP OMEN 15   \n",
       "2                  3.\\nACER NITRO 5   \n",
       "3               4.\\nMSI STEALTH 15M   \n",
       "4        5.\\nASUS ROG STRIX SCAR 15   \n",
       "5        6.\\nASUS ROG STRIX SCAR 15   \n",
       "6             7.\\nASUS ZEPHYRUS G14   \n",
       "7              8.\\nLENOVO LEGION 5I   \n",
       "8      9.\\nASUS ROG ZEPHYRUS DUO 15   \n",
       "9  10.\\nACER ASPIRE 7 GAMING LAPTOP   \n",
       "\n",
       "                                       productdetail  \\\n",
       "0  OS\\nWINDOWS 10\\nDISPLAY\\n16.1\" (1920 X 1200)\\n...   \n",
       "1  OS\\nWINDOWS 10 HOME\\nDISPLAY\\n15.6\" (1920 X 10...   \n",
       "2  OS\\nWINDOWS 10\\nDISPLAY\\n15.6\" (1920 X 1080)\\n...   \n",
       "3  OS\\nWINDOWS 10\\nDISPLAY\\n15.6\" (1920 X 1080)\\n...   \n",
       "4  OS\\nWINDOWS 10\\nDISPLAY\\n15.6\" (2560 X 1440)\\n...   \n",
       "5  OS\\nWINDOWS 10 HOME\\nDISPLAY\\n15.6\" (1920 X 10...   \n",
       "6  OS\\nWINDOWS 10 HOME\\nDISPLAY\\n14\" (1920 X 1080...   \n",
       "7  OS\\nWINDOWS 10 PRO\\nDISPLAY\\n15.6\" (1920 X 108...   \n",
       "8  OS\\nWINDOWS 10\\nDISPLAY\\n15.6\" (3840 X 1100)\\n...   \n",
       "9  OS\\nWINDOWS 10 HOME\\nDISPLAY\\n15.6\" (1920 X 10...   \n",
       "\n",
       "                                            imageurl  \n",
       "0  https://static.digit.in/product/thumb_192922_p...  \n",
       "1  https://www.digit.in/images/digit_topten_icon.png  \n",
       "2  https://www.digit.in/images/digit_topten_icon.png  \n",
       "3  https://www.digit.in/images/digit_topten_icon.png  \n",
       "4  https://www.digit.in/images/digit_topten_icon.png  \n",
       "5  https://www.digit.in/images/digit_topten_icon.png  \n",
       "6  https://www.digit.in/images/digit_topten_icon.png  \n",
       "7  https://www.digit.in/images/digit_topten_icon.png  \n",
       "8  https://www.digit.in/images/digit_topten_icon.png  \n",
       "9  https://www.digit.in/images/digit_topten_icon.png  "
      ]
     },
     "execution_count": 109,
     "metadata": {},
     "output_type": "execute_result"
    }
   ],
   "source": [
    "digit=pd.DataFrame({})\n",
    "digit['titles']=titles\n",
    "digit['productdetail']=productdetail\n",
    "digit['imageurl']=URL\n",
    "digit\n"
   ]
  },
  {
   "cell_type": "code",
   "execution_count": null,
   "id": "8106971b",
   "metadata": {},
   "outputs": [],
   "source": []
  },
  {
   "cell_type": "markdown",
   "id": "17726656",
   "metadata": {},
   "source": [
    "## Google images for fruits,cars,Machine learning and cakes"
   ]
  },
  {
   "cell_type": "code",
   "execution_count": 5,
   "id": "4a1d216d",
   "metadata": {},
   "outputs": [],
   "source": [
    "import pandas as pd\n",
    "import selenium\n",
    "from selenium import webdriver\n",
    "from selenium.common.exceptions import StaleElementReferenceException, NoSuchElementException\n",
    "import requests\n"
   ]
  },
  {
   "cell_type": "code",
   "execution_count": 6,
   "id": "4d6aeb1a",
   "metadata": {},
   "outputs": [],
   "source": [
    "driver =   webdriver.Chrome(r'chromedriver.exe')\n",
    "driver.get(\"https://images.google.com/\")"
   ]
  },
  {
   "cell_type": "code",
   "execution_count": 9,
   "id": "408fbf4d",
   "metadata": {},
   "outputs": [
    {
     "name": "stdout",
     "output_type": "stream",
     "text": [
      "Enter your Search:fruits,cars,machinelearning,guitars,cakes\n"
     ]
    }
   ],
   "source": [
    "search_bar = driver.find_element_by_xpath('//input[@class=\"gLFyf gsfi\"]')    # Locating searc_bar by id\n",
    "search_bar.clear()                                               # clearing search_bar\n",
    "search_bar.send_keys(input(\"Enter your Search:\"))                                   # sending user input to search ba\n",
    "search_button = driver.find_element_by_xpath('//span[@class=\"z1asCe MZy1Rb\"]')       # Locating search_button by xpath\n",
    "search_button.click()"
   ]
  },
  {
   "cell_type": "code",
   "execution_count": 10,
   "id": "7633cb53",
   "metadata": {},
   "outputs": [],
   "source": [
    "driver.execute_script(\"window.scrollBy(0,80000)\" \"\")\n",
    "driver.execute_script(\"window.scrollBy(0,80000)\" \"\")\n",
    "driver.execute_script(\"window.scrollBy(0,80000)\" \"\")\n",
    "driver.execute_script(\"window.scrollBy(0,80000)\" \"\")\n",
    "driver.execute_script(\"window.scrollBy(0,80000)\" \"\")\n",
    "driver.execute_script(\"window.scrollBy(0,80000)\" \"\")\n",
    "driver.execute_script(\"window.scrollBy(0,80000)\" \"\")\n",
    "   "
   ]
  },
  {
   "cell_type": "code",
   "execution_count": 11,
   "id": "79f2f750",
   "metadata": {},
   "outputs": [],
   "source": [
    "urls=driver.find_elements_by_xpath(\"//img[@class='rg_i Q4LuWd']\")\n",
    "images=[]\n",
    "for i in urls:\n",
    "    images.append(i.get_attribute('src'))"
   ]
  },
  {
   "cell_type": "code",
   "execution_count": 12,
   "id": "bf10ae73",
   "metadata": {},
   "outputs": [
    {
     "data": {
      "text/plain": [
       "23"
      ]
     },
     "execution_count": 12,
     "metadata": {},
     "output_type": "execute_result"
    }
   ],
   "source": [
    "len(images)"
   ]
  },
  {
   "cell_type": "code",
   "execution_count": 14,
   "id": "3f975860",
   "metadata": {},
   "outputs": [],
   "source": [
    "urls=driver.find_elements_by_xpath(\"//a[@class='VFACy kGQAp sMi44c lNHeqe WGvvNb']\")\n",
    "headers=[]\n",
    "for i in urls:\n",
    "    headers.append(i.get_attribute('href'))"
   ]
  },
  {
   "cell_type": "code",
   "execution_count": 16,
   "id": "aff4c1bb",
   "metadata": {},
   "outputs": [
    {
     "data": {
      "text/plain": [
       "23"
      ]
     },
     "execution_count": 16,
     "metadata": {},
     "output_type": "execute_result"
    }
   ],
   "source": [
    "len(headers)"
   ]
  },
  {
   "cell_type": "code",
   "execution_count": 22,
   "id": "e72471e3",
   "metadata": {},
   "outputs": [],
   "source": [
    "google=pd.DataFrame({})\n",
    "google['Headers']=headers[0:10]\n",
    "google['images']=images[0:10]"
   ]
  },
  {
   "cell_type": "code",
   "execution_count": 23,
   "id": "d1117485",
   "metadata": {},
   "outputs": [
    {
     "data": {
      "text/html": [
       "<div>\n",
       "<style scoped>\n",
       "    .dataframe tbody tr th:only-of-type {\n",
       "        vertical-align: middle;\n",
       "    }\n",
       "\n",
       "    .dataframe tbody tr th {\n",
       "        vertical-align: top;\n",
       "    }\n",
       "\n",
       "    .dataframe thead th {\n",
       "        text-align: right;\n",
       "    }\n",
       "</style>\n",
       "<table border=\"1\" class=\"dataframe\">\n",
       "  <thead>\n",
       "    <tr style=\"text-align: right;\">\n",
       "      <th></th>\n",
       "      <th>Headers</th>\n",
       "      <th>images</th>\n",
       "    </tr>\n",
       "  </thead>\n",
       "  <tbody>\n",
       "    <tr>\n",
       "      <th>0</th>\n",
       "      <td>https://www.pinterest.com/cakesdecor/guitar-ca...</td>\n",
       "      <td>data:image/jpeg;base64,/9j/4AAQSkZJRgABAQAAAQA...</td>\n",
       "    </tr>\n",
       "    <tr>\n",
       "      <th>1</th>\n",
       "      <td>https://www.indiamart.com/proddetail/guitar-ca...</td>\n",
       "      <td>data:image/jpeg;base64,/9j/4AAQSkZJRgABAQAAAQA...</td>\n",
       "    </tr>\n",
       "    <tr>\n",
       "      <th>2</th>\n",
       "      <td>https://www.pinterest.com/cakesdecor/guitar-ca...</td>\n",
       "      <td>data:image/jpeg;base64,/9j/4AAQSkZJRgABAQAAAQA...</td>\n",
       "    </tr>\n",
       "    <tr>\n",
       "      <th>3</th>\n",
       "      <td>https://www.pinterest.com/cakesdecor/guitar-ca...</td>\n",
       "      <td>data:image/jpeg;base64,/9j/4AAQSkZJRgABAQAAAQA...</td>\n",
       "    </tr>\n",
       "    <tr>\n",
       "      <th>4</th>\n",
       "      <td>https://www.pinterest.com/cakesdecor/guitar-ca...</td>\n",
       "      <td>data:image/jpeg;base64,/9j/4AAQSkZJRgABAQAAAQA...</td>\n",
       "    </tr>\n",
       "    <tr>\n",
       "      <th>5</th>\n",
       "      <td>https://www.pinterest.com/pin/76842737364434424/</td>\n",
       "      <td>data:image/jpeg;base64,/9j/4AAQSkZJRgABAQAAAQA...</td>\n",
       "    </tr>\n",
       "    <tr>\n",
       "      <th>6</th>\n",
       "      <td>https://www.pinterest.com/cakesdecor/guitar-ca...</td>\n",
       "      <td>data:image/jpeg;base64,/9j/4AAQSkZJRgABAQAAAQA...</td>\n",
       "    </tr>\n",
       "    <tr>\n",
       "      <th>7</th>\n",
       "      <td>https://www.youtube.com/watch?v=ZknC4ngYKlg</td>\n",
       "      <td>data:image/jpeg;base64,/9j/4AAQSkZJRgABAQAAAQA...</td>\n",
       "    </tr>\n",
       "    <tr>\n",
       "      <th>8</th>\n",
       "      <td>https://www.pinterest.com/pin/427349452121651569/</td>\n",
       "      <td>https://encrypted-tbn0.gstatic.com/images?q=tb...</td>\n",
       "    </tr>\n",
       "    <tr>\n",
       "      <th>9</th>\n",
       "      <td>https://www.pinterest.com/cakesdecor/guitar-ca...</td>\n",
       "      <td>data:image/jpeg;base64,/9j/4AAQSkZJRgABAQAAAQA...</td>\n",
       "    </tr>\n",
       "  </tbody>\n",
       "</table>\n",
       "</div>"
      ],
      "text/plain": [
       "                                             Headers  \\\n",
       "0  https://www.pinterest.com/cakesdecor/guitar-ca...   \n",
       "1  https://www.indiamart.com/proddetail/guitar-ca...   \n",
       "2  https://www.pinterest.com/cakesdecor/guitar-ca...   \n",
       "3  https://www.pinterest.com/cakesdecor/guitar-ca...   \n",
       "4  https://www.pinterest.com/cakesdecor/guitar-ca...   \n",
       "5   https://www.pinterest.com/pin/76842737364434424/   \n",
       "6  https://www.pinterest.com/cakesdecor/guitar-ca...   \n",
       "7        https://www.youtube.com/watch?v=ZknC4ngYKlg   \n",
       "8  https://www.pinterest.com/pin/427349452121651569/   \n",
       "9  https://www.pinterest.com/cakesdecor/guitar-ca...   \n",
       "\n",
       "                                              images  \n",
       "0  data:image/jpeg;base64,/9j/4AAQSkZJRgABAQAAAQA...  \n",
       "1  data:image/jpeg;base64,/9j/4AAQSkZJRgABAQAAAQA...  \n",
       "2  data:image/jpeg;base64,/9j/4AAQSkZJRgABAQAAAQA...  \n",
       "3  data:image/jpeg;base64,/9j/4AAQSkZJRgABAQAAAQA...  \n",
       "4  data:image/jpeg;base64,/9j/4AAQSkZJRgABAQAAAQA...  \n",
       "5  data:image/jpeg;base64,/9j/4AAQSkZJRgABAQAAAQA...  \n",
       "6  data:image/jpeg;base64,/9j/4AAQSkZJRgABAQAAAQA...  \n",
       "7  data:image/jpeg;base64,/9j/4AAQSkZJRgABAQAAAQA...  \n",
       "8  https://encrypted-tbn0.gstatic.com/images?q=tb...  \n",
       "9  data:image/jpeg;base64,/9j/4AAQSkZJRgABAQAAAQA...  "
      ]
     },
     "execution_count": 23,
     "metadata": {},
     "output_type": "execute_result"
    }
   ],
   "source": [
    "google"
   ]
  },
  {
   "cell_type": "code",
   "execution_count": null,
   "id": "f3d4dc50",
   "metadata": {},
   "outputs": [],
   "source": []
  },
  {
   "cell_type": "markdown",
   "id": "6e331121",
   "metadata": {},
   "source": [
    "## Trak.in"
   ]
  },
  {
   "cell_type": "code",
   "execution_count": 24,
   "id": "b70eb566",
   "metadata": {},
   "outputs": [],
   "source": [
    "driver =   webdriver.Chrome(r'chromedriver.exe')\n",
    "driver.get(\"https://www.trak.in\")"
   ]
  },
  {
   "cell_type": "code",
   "execution_count": 25,
   "id": "63c65d12",
   "metadata": {},
   "outputs": [],
   "source": [
    "fd = driver.find_element_by_xpath('/html/body/div[1]/header/div[2]/div/div/div/div/nav/ul/li[9]/a')\n",
    "fd.click() # clicking on 'Funding Deals'"
   ]
  },
  {
   "cell_type": "code",
   "execution_count": 28,
   "id": "eb238b8d",
   "metadata": {},
   "outputs": [
    {
     "data": {
      "text/plain": [
       "'https://trak.in/#google_vignette'"
      ]
     },
     "execution_count": 28,
     "metadata": {},
     "output_type": "execute_result"
    }
   ],
   "source": [
    "driver.current_url"
   ]
  },
  {
   "cell_type": "code",
   "execution_count": 29,
   "id": "d0d4a8d4",
   "metadata": {},
   "outputs": [],
   "source": [
    "date = []\n",
    "name = []\n",
    "subvrt = []\n",
    "indstry = []\n",
    "city = []\n",
    "invname = []\n",
    "invtyp = []\n",
    "amt = []"
   ]
  },
  {
   "cell_type": "code",
   "execution_count": 34,
   "id": "365ff493",
   "metadata": {},
   "outputs": [],
   "source": [
    "for i in range(48,51):  \n",
    "    \n",
    "    try:\n",
    "        date_tag = driver.find_elements_by_xpath(f\"//*[@id='tablepress-{i}']/tbody/tr/td[2]\")\n",
    "        for i in date_tag:\n",
    "            date.append(i.text)\n",
    "    except NoSuchElementException:\n",
    "        date.append('-')\n",
    "for i in range(48,51):\n",
    " \n",
    "    try:\n",
    "        name_tag = driver.find_elements_by_xpath(f\"//*[@id='tablepress-{i}']/tbody/tr/td[3]/a\")\n",
    "        for j in name_tag:\n",
    "            name.append(j.text)\n",
    "    except NoSuchElementException:\n",
    "        name.append('-')\n",
    "        \n",
    "for i in range(48,51):\n",
    "    \n",
    "    try:\n",
    "        indstry_tag = driver.find_elements_by_xpath(f\"//*[@id='tablepress-{i}']/tbody/tr/td[4]\")\n",
    "        for p in indstry_tag:\n",
    "            indstry.append(p.text)\n",
    "    except NoSuchElementException:\n",
    "        indstry.append('-')    \n",
    "        \n",
    "for i in range(48,51):\n",
    "    \n",
    "    \n",
    "    try:\n",
    "        subvrt_tag = driver.find_elements_by_xpath(f\"//*[@id='tablepress-{i}']/tbody/tr/td[5]\")\n",
    "        for k in subvrt_tag:\n",
    "            subvrt.append(k.text)\n",
    "    except NoSuchElementException:\n",
    "        subvrt.append('-')\n",
    "        \n",
    "for i in range(48,51):\n",
    "\n",
    "    \n",
    "    try:\n",
    "        city_tag = driver.find_elements_by_xpath(f\"//*[@id='tablepress-{i}']/tbody/tr/td[6]\")\n",
    "        for l in city_tag:\n",
    "            city.append(l.text)\n",
    "    except NoSuchElementException:\n",
    "        city.append('-')\n",
    "        \n",
    "for i in range(48,51):\n",
    "    \n",
    "    try:\n",
    "        invname_tag = driver.find_elements_by_xpath(f\"//*[@id='tablepress-{i}']/tbody/tr/td[7]\")\n",
    "        for m in invname_tag:\n",
    "            invname.append(m.text)\n",
    "    except NoSuchElementException:\n",
    "        invname.append('-')\n",
    "        \n",
    "for i in range(48,51):        \n",
    "    \n",
    "    try:\n",
    "        invtyp_tag  = driver.find_elements_by_xpath(f\"//*[@id='tablepress-{i}']/tbody/tr/td[8]\")\n",
    "        for n in invtyp_tag:\n",
    "            invtyp.append(n.text)\n",
    "    except NoSuchElementException:\n",
    "        invtyp.append('-')\n",
    "        \n",
    "for i in range(48,51): \n",
    "    \n",
    "    try:\n",
    "        amt_tag = driver.find_elements_by_xpath(f\"//*[@id='tablepress-{i}']/tbody/tr/td[9]\")\n",
    "        for o in amt_tag:\n",
    "            amt.append(o.text)\n",
    "    except NoSuchElementException:\n",
    "        amt.append('-')    "
   ]
  },
  {
   "cell_type": "code",
   "execution_count": 35,
   "id": "2799e65a",
   "metadata": {},
   "outputs": [],
   "source": [
    "for i in range(0,len(invtyp)): #replacing misssing values with '-'\n",
    "    if invtyp[i]==\"\":\n",
    "        invtyp[i] = \"-\""
   ]
  },
  {
   "cell_type": "code",
   "execution_count": 36,
   "id": "afe85cd7",
   "metadata": {},
   "outputs": [
    {
     "data": {
      "text/html": [
       "<div>\n",
       "<style scoped>\n",
       "    .dataframe tbody tr th:only-of-type {\n",
       "        vertical-align: middle;\n",
       "    }\n",
       "\n",
       "    .dataframe tbody tr th {\n",
       "        vertical-align: top;\n",
       "    }\n",
       "\n",
       "    .dataframe thead th {\n",
       "        text-align: right;\n",
       "    }\n",
       "</style>\n",
       "<table border=\"1\" class=\"dataframe\">\n",
       "  <thead>\n",
       "    <tr style=\"text-align: right;\">\n",
       "      <th></th>\n",
       "      <th>Date</th>\n",
       "      <th>Startup Name</th>\n",
       "      <th>Industry/Vertical</th>\n",
       "      <th>Sub-Vertical</th>\n",
       "      <th>City/Location</th>\n",
       "      <th>Investor's Name</th>\n",
       "      <th>Investment Type</th>\n",
       "      <th>Amount(in USD)</th>\n",
       "    </tr>\n",
       "  </thead>\n",
       "  <tbody>\n",
       "    <tr>\n",
       "      <th>0</th>\n",
       "      <td>15/07/2020</td>\n",
       "      <td>Flipkart</td>\n",
       "      <td>E-commerce</td>\n",
       "      <td>E-commerce</td>\n",
       "      <td>Bangalore</td>\n",
       "      <td>Walmart Inc</td>\n",
       "      <td>M&amp;A</td>\n",
       "      <td>1,200,000,000</td>\n",
       "    </tr>\n",
       "    <tr>\n",
       "      <th>1</th>\n",
       "      <td>16/07/2020</td>\n",
       "      <td>Vedantu</td>\n",
       "      <td>EduTech</td>\n",
       "      <td>Online Tutoring</td>\n",
       "      <td>Bangalore</td>\n",
       "      <td>Coatue Management</td>\n",
       "      <td>Series D</td>\n",
       "      <td>100,000,000</td>\n",
       "    </tr>\n",
       "    <tr>\n",
       "      <th>2</th>\n",
       "      <td>16/07/2020</td>\n",
       "      <td>Crio</td>\n",
       "      <td>EduTech</td>\n",
       "      <td>Learning Platform for Developers</td>\n",
       "      <td>Bangalore</td>\n",
       "      <td>021 Capital</td>\n",
       "      <td>pre-Series A</td>\n",
       "      <td>934,160</td>\n",
       "    </tr>\n",
       "    <tr>\n",
       "      <th>3</th>\n",
       "      <td>14/07/2020</td>\n",
       "      <td>goDutch</td>\n",
       "      <td>FinTech</td>\n",
       "      <td>Group Payments</td>\n",
       "      <td>Mumbai</td>\n",
       "      <td>Matrix India,Y Combinator, Global Founders Cap...</td>\n",
       "      <td>Seed</td>\n",
       "      <td>1,700,000</td>\n",
       "    </tr>\n",
       "    <tr>\n",
       "      <th>4</th>\n",
       "      <td>13/07/2020</td>\n",
       "      <td>Mystifly</td>\n",
       "      <td>Airfare Marketplace</td>\n",
       "      <td>Ticketing, Airline Retailing, and Post-Ticketi...</td>\n",
       "      <td>Singapore and Bangalore</td>\n",
       "      <td>Recruit Co. Ltd.</td>\n",
       "      <td>pre-Series B</td>\n",
       "      <td>3,300,000</td>\n",
       "    </tr>\n",
       "    <tr>\n",
       "      <th>5</th>\n",
       "      <td>09/07/2020</td>\n",
       "      <td>JetSynthesys</td>\n",
       "      <td>Gaming and Entertainment</td>\n",
       "      <td>Gaming and Entertainment</td>\n",
       "      <td>Pune</td>\n",
       "      <td>Adar Poonawalla and Kris Gopalakrishnan.</td>\n",
       "      <td>Venture-Series Unknown</td>\n",
       "      <td>400,000</td>\n",
       "    </tr>\n",
       "    <tr>\n",
       "      <th>6</th>\n",
       "      <td>10/07/2020</td>\n",
       "      <td>gigIndia</td>\n",
       "      <td>Marketplace</td>\n",
       "      <td>Crowd Sourcing, Freelance</td>\n",
       "      <td>Pune</td>\n",
       "      <td>Incubate Fund India and Beyond Next Ventures</td>\n",
       "      <td>pre-Series A</td>\n",
       "      <td>974,200</td>\n",
       "    </tr>\n",
       "    <tr>\n",
       "      <th>7</th>\n",
       "      <td>15/07/2020</td>\n",
       "      <td>PumPumPum</td>\n",
       "      <td>Automotive Rental</td>\n",
       "      <td>Used Car-leasing platform</td>\n",
       "      <td>Gurgaon</td>\n",
       "      <td>Early Adapters Syndicate</td>\n",
       "      <td>Seed</td>\n",
       "      <td>292,800</td>\n",
       "    </tr>\n",
       "    <tr>\n",
       "      <th>8</th>\n",
       "      <td>14/07/2020</td>\n",
       "      <td>FLYX</td>\n",
       "      <td>OTT Player</td>\n",
       "      <td>Streaming Social Network</td>\n",
       "      <td>New York and Delhi</td>\n",
       "      <td>Raj Mishra, founder of AIT Global Inc</td>\n",
       "      <td>pre-Seed</td>\n",
       "      <td>200,000</td>\n",
       "    </tr>\n",
       "    <tr>\n",
       "      <th>9</th>\n",
       "      <td>13/07/2020</td>\n",
       "      <td>Open Appliances Pvt. Ltd.</td>\n",
       "      <td>Information Technology</td>\n",
       "      <td>Internet-of-Things Security Solutions</td>\n",
       "      <td>Bangalore</td>\n",
       "      <td>Unicorn India Ventures</td>\n",
       "      <td>Venture-Series Unknown</td>\n",
       "      <td>500,000</td>\n",
       "    </tr>\n",
       "    <tr>\n",
       "      <th>10</th>\n",
       "      <td>15/08/2020</td>\n",
       "      <td>Practo</td>\n",
       "      <td>HealthTech</td>\n",
       "      <td>Health care and Wellness</td>\n",
       "      <td>Bangalore</td>\n",
       "      <td>A1A Company</td>\n",
       "      <td>Series F</td>\n",
       "      <td>32,000,000</td>\n",
       "    </tr>\n",
       "    <tr>\n",
       "      <th>11</th>\n",
       "      <td>13/08/2020</td>\n",
       "      <td>Medlife</td>\n",
       "      <td>E-commerce</td>\n",
       "      <td>Online Pharmacy</td>\n",
       "      <td>Bangalore</td>\n",
       "      <td>Prasid Uno Family Trust and SC Credit Fund</td>\n",
       "      <td>-</td>\n",
       "      <td>23,000,000</td>\n",
       "    </tr>\n",
       "    <tr>\n",
       "      <th>12</th>\n",
       "      <td>13/08/2020</td>\n",
       "      <td>HungerBox</td>\n",
       "      <td>FoodTech</td>\n",
       "      <td>Online Food Delivery Service</td>\n",
       "      <td>Bangalore</td>\n",
       "      <td>One97, Sabre Partners Trust, Pratithi Investme...</td>\n",
       "      <td>Series D1</td>\n",
       "      <td>1,560,000</td>\n",
       "    </tr>\n",
       "    <tr>\n",
       "      <th>13</th>\n",
       "      <td>04/08/2020</td>\n",
       "      <td>Dunzo</td>\n",
       "      <td>Hyper-local Logistics</td>\n",
       "      <td>Online Delivery Services</td>\n",
       "      <td>Bangalore</td>\n",
       "      <td>Existing Backers</td>\n",
       "      <td>In Progress</td>\n",
       "      <td>30,000,000</td>\n",
       "    </tr>\n",
       "    <tr>\n",
       "      <th>14</th>\n",
       "      <td>11/08/2020</td>\n",
       "      <td>Terra.do</td>\n",
       "      <td>EduTech</td>\n",
       "      <td>Online Climate School, E-learning</td>\n",
       "      <td>Stanford, California,</td>\n",
       "      <td>Stanford Angels and Entrepreneurs (India), BEE...</td>\n",
       "      <td>Seed</td>\n",
       "      <td>1,400,000</td>\n",
       "    </tr>\n",
       "    <tr>\n",
       "      <th>15</th>\n",
       "      <td>12/08/2020</td>\n",
       "      <td>Classplus</td>\n",
       "      <td>EduTech</td>\n",
       "      <td>E-learning, Online Tutoring</td>\n",
       "      <td>Noida</td>\n",
       "      <td>Falcon Edge</td>\n",
       "      <td>In Progress</td>\n",
       "      <td>upto 15,000,000</td>\n",
       "    </tr>\n",
       "    <tr>\n",
       "      <th>16</th>\n",
       "      <td>14/08/2020</td>\n",
       "      <td>Niyo</td>\n",
       "      <td>FinTech</td>\n",
       "      <td>Financial Services</td>\n",
       "      <td>Bangalore</td>\n",
       "      <td>Niyo Solutions Inc.</td>\n",
       "      <td>-</td>\n",
       "      <td>6,000,000</td>\n",
       "    </tr>\n",
       "    <tr>\n",
       "      <th>17</th>\n",
       "      <td>10/08/2020</td>\n",
       "      <td>ZestMoney</td>\n",
       "      <td>FinTech</td>\n",
       "      <td>Financial Services</td>\n",
       "      <td>Bangalore</td>\n",
       "      <td>Primrose Hills Ventures</td>\n",
       "      <td>-</td>\n",
       "      <td>10,670,000</td>\n",
       "    </tr>\n",
       "    <tr>\n",
       "      <th>18</th>\n",
       "      <td>07/08/2020</td>\n",
       "      <td>FreshToHome</td>\n",
       "      <td>E-commerce</td>\n",
       "      <td>Food Delivery</td>\n",
       "      <td>Bangalore</td>\n",
       "      <td>Ascent Capital</td>\n",
       "      <td>Venture</td>\n",
       "      <td>16,200,000</td>\n",
       "    </tr>\n",
       "    <tr>\n",
       "      <th>19</th>\n",
       "      <td>13/08/2020</td>\n",
       "      <td>Eduvanz</td>\n",
       "      <td>FinTech</td>\n",
       "      <td>Financial Services</td>\n",
       "      <td>Mumbai</td>\n",
       "      <td>Sequoia India, Unitus</td>\n",
       "      <td>Series A</td>\n",
       "      <td>5,000,000</td>\n",
       "    </tr>\n",
       "    <tr>\n",
       "      <th>20</th>\n",
       "      <td>08/09/2020</td>\n",
       "      <td>Byju’s</td>\n",
       "      <td>EduTech</td>\n",
       "      <td>Online Tutoring</td>\n",
       "      <td>Bangalore</td>\n",
       "      <td>Silver Lake, Tiger Global, General Atlantic an...</td>\n",
       "      <td>Private Equity</td>\n",
       "      <td>500,000,000</td>\n",
       "    </tr>\n",
       "    <tr>\n",
       "      <th>21</th>\n",
       "      <td>12/09/2020</td>\n",
       "      <td>mCaffeine</td>\n",
       "      <td>Personal Care</td>\n",
       "      <td>Skincare &amp; Haircare</td>\n",
       "      <td>Mumbai</td>\n",
       "      <td>Amicus Capital Private Equity I LLP, Amicus Ca...</td>\n",
       "      <td>Series B</td>\n",
       "      <td>3,000,000</td>\n",
       "    </tr>\n",
       "    <tr>\n",
       "      <th>22</th>\n",
       "      <td>09/09/2020</td>\n",
       "      <td>Qshala</td>\n",
       "      <td>EduTech</td>\n",
       "      <td>Online Curiosity Platform for Kids</td>\n",
       "      <td>Bangalore</td>\n",
       "      <td>Rainmatter Capital</td>\n",
       "      <td>Angel</td>\n",
       "      <td>370,000</td>\n",
       "    </tr>\n",
       "    <tr>\n",
       "      <th>23</th>\n",
       "      <td>02/09/2020</td>\n",
       "      <td>Winzo</td>\n",
       "      <td>Online Gaming</td>\n",
       "      <td>Online Gaming</td>\n",
       "      <td>New Delhi</td>\n",
       "      <td>Kalaari Capital Partners, IndigoEdge Managemen...</td>\n",
       "      <td>Series B</td>\n",
       "      <td>15,500,000</td>\n",
       "    </tr>\n",
       "    <tr>\n",
       "      <th>24</th>\n",
       "      <td>09/09/2020</td>\n",
       "      <td>Hippo Video</td>\n",
       "      <td>Video Customer Experience(CX) Platform</td>\n",
       "      <td>Video Customer Experience(CX) Platform</td>\n",
       "      <td>Newark, Delaware, United States of Amercia</td>\n",
       "      <td>Alpha Wave Incubation, Exfinity Venture Partne...</td>\n",
       "      <td>Series A</td>\n",
       "      <td>4,500,000</td>\n",
       "    </tr>\n",
       "    <tr>\n",
       "      <th>25</th>\n",
       "      <td>07/09/2020</td>\n",
       "      <td>Melorra</td>\n",
       "      <td>E-commerce</td>\n",
       "      <td>Online Jewelry Store</td>\n",
       "      <td>Bangalore</td>\n",
       "      <td>Shadow Holdings, Lightbox.</td>\n",
       "      <td>Debt Financing</td>\n",
       "      <td>upto 8,900,000</td>\n",
       "    </tr>\n",
       "    <tr>\n",
       "      <th>26</th>\n",
       "      <td>07/09/2020</td>\n",
       "      <td>1mg</td>\n",
       "      <td>E-commerce</td>\n",
       "      <td>Online Pharmacy</td>\n",
       "      <td>Gurgaon</td>\n",
       "      <td>Gaja Capital, Tata Capital, Partners Group</td>\n",
       "      <td>In Progress</td>\n",
       "      <td>100,000,000</td>\n",
       "    </tr>\n",
       "    <tr>\n",
       "      <th>27</th>\n",
       "      <td>31/08/2020</td>\n",
       "      <td>mfine</td>\n",
       "      <td>HealthTech</td>\n",
       "      <td>On-Demand Healthcare Services</td>\n",
       "      <td>Bangalore</td>\n",
       "      <td>Caretech Pte Inc</td>\n",
       "      <td>Series B</td>\n",
       "      <td>5,400,000</td>\n",
       "    </tr>\n",
       "    <tr>\n",
       "      <th>28</th>\n",
       "      <td>31/08/2020</td>\n",
       "      <td>Apna</td>\n",
       "      <td>Human Resources</td>\n",
       "      <td>Recruitment Platform</td>\n",
       "      <td>Bangalore</td>\n",
       "      <td>Lightspeed India and Sequoia Capital India</td>\n",
       "      <td>Series A</td>\n",
       "      <td>8,000,000</td>\n",
       "    </tr>\n",
       "    <tr>\n",
       "      <th>29</th>\n",
       "      <td>03/09/2020</td>\n",
       "      <td>Railofy</td>\n",
       "      <td>Transportation</td>\n",
       "      <td>WL &amp; RAC protection platform</td>\n",
       "      <td>Mumbai</td>\n",
       "      <td>Chiratae Ventures</td>\n",
       "      <td>Seed</td>\n",
       "      <td>950,000</td>\n",
       "    </tr>\n",
       "  </tbody>\n",
       "</table>\n",
       "</div>"
      ],
      "text/plain": [
       "          Date               Startup Name  \\\n",
       "0   15/07/2020                   Flipkart   \n",
       "1   16/07/2020                    Vedantu   \n",
       "2   16/07/2020                       Crio   \n",
       "3   14/07/2020                    goDutch   \n",
       "4   13/07/2020                   Mystifly   \n",
       "5   09/07/2020               JetSynthesys   \n",
       "6   10/07/2020                   gigIndia   \n",
       "7   15/07/2020                  PumPumPum   \n",
       "8   14/07/2020                       FLYX   \n",
       "9   13/07/2020  Open Appliances Pvt. Ltd.   \n",
       "10  15/08/2020                     Practo   \n",
       "11  13/08/2020                    Medlife   \n",
       "12  13/08/2020                  HungerBox   \n",
       "13  04/08/2020                      Dunzo   \n",
       "14  11/08/2020                   Terra.do   \n",
       "15  12/08/2020                  Classplus   \n",
       "16  14/08/2020                       Niyo   \n",
       "17  10/08/2020                  ZestMoney   \n",
       "18  07/08/2020                FreshToHome   \n",
       "19  13/08/2020                    Eduvanz   \n",
       "20  08/09/2020                     Byju’s   \n",
       "21  12/09/2020                  mCaffeine   \n",
       "22  09/09/2020                     Qshala   \n",
       "23  02/09/2020                      Winzo   \n",
       "24  09/09/2020                Hippo Video   \n",
       "25  07/09/2020                    Melorra   \n",
       "26  07/09/2020                        1mg   \n",
       "27  31/08/2020                      mfine   \n",
       "28  31/08/2020                       Apna   \n",
       "29  03/09/2020                    Railofy   \n",
       "\n",
       "                         Industry/Vertical  \\\n",
       "0                               E-commerce   \n",
       "1                                  EduTech   \n",
       "2                                  EduTech   \n",
       "3                                  FinTech   \n",
       "4                      Airfare Marketplace   \n",
       "5                 Gaming and Entertainment   \n",
       "6                              Marketplace   \n",
       "7                        Automotive Rental   \n",
       "8                               OTT Player   \n",
       "9                   Information Technology   \n",
       "10                              HealthTech   \n",
       "11                              E-commerce   \n",
       "12                                FoodTech   \n",
       "13                   Hyper-local Logistics   \n",
       "14                                 EduTech   \n",
       "15                                 EduTech   \n",
       "16                                 FinTech   \n",
       "17                                 FinTech   \n",
       "18                              E-commerce   \n",
       "19                                 FinTech   \n",
       "20                                 EduTech   \n",
       "21                           Personal Care   \n",
       "22                                 EduTech   \n",
       "23                           Online Gaming   \n",
       "24  Video Customer Experience(CX) Platform   \n",
       "25                              E-commerce   \n",
       "26                              E-commerce   \n",
       "27                              HealthTech   \n",
       "28                         Human Resources   \n",
       "29                          Transportation   \n",
       "\n",
       "                                         Sub-Vertical  \\\n",
       "0                                          E-commerce   \n",
       "1                                     Online Tutoring   \n",
       "2                    Learning Platform for Developers   \n",
       "3                                      Group Payments   \n",
       "4   Ticketing, Airline Retailing, and Post-Ticketi...   \n",
       "5                            Gaming and Entertainment   \n",
       "6                           Crowd Sourcing, Freelance   \n",
       "7                           Used Car-leasing platform   \n",
       "8                            Streaming Social Network   \n",
       "9               Internet-of-Things Security Solutions   \n",
       "10                           Health care and Wellness   \n",
       "11                                    Online Pharmacy   \n",
       "12                       Online Food Delivery Service   \n",
       "13                           Online Delivery Services   \n",
       "14                  Online Climate School, E-learning   \n",
       "15                        E-learning, Online Tutoring   \n",
       "16                                 Financial Services   \n",
       "17                                 Financial Services   \n",
       "18                                      Food Delivery   \n",
       "19                                 Financial Services   \n",
       "20                                    Online Tutoring   \n",
       "21                                Skincare & Haircare   \n",
       "22                 Online Curiosity Platform for Kids   \n",
       "23                                      Online Gaming   \n",
       "24             Video Customer Experience(CX) Platform   \n",
       "25                               Online Jewelry Store   \n",
       "26                                    Online Pharmacy   \n",
       "27                      On-Demand Healthcare Services   \n",
       "28                               Recruitment Platform   \n",
       "29                       WL & RAC protection platform   \n",
       "\n",
       "                                 City/Location  \\\n",
       "0                                    Bangalore   \n",
       "1                                    Bangalore   \n",
       "2                                    Bangalore   \n",
       "3                                       Mumbai   \n",
       "4                      Singapore and Bangalore   \n",
       "5                                         Pune   \n",
       "6                                         Pune   \n",
       "7                                      Gurgaon   \n",
       "8                           New York and Delhi   \n",
       "9                                    Bangalore   \n",
       "10                                   Bangalore   \n",
       "11                                   Bangalore   \n",
       "12                                   Bangalore   \n",
       "13                                   Bangalore   \n",
       "14                       Stanford, California,   \n",
       "15                                       Noida   \n",
       "16                                   Bangalore   \n",
       "17                                   Bangalore   \n",
       "18                                   Bangalore   \n",
       "19                                      Mumbai   \n",
       "20                                   Bangalore   \n",
       "21                                      Mumbai   \n",
       "22                                   Bangalore   \n",
       "23                                   New Delhi   \n",
       "24  Newark, Delaware, United States of Amercia   \n",
       "25                                   Bangalore   \n",
       "26                                     Gurgaon   \n",
       "27                                   Bangalore   \n",
       "28                                   Bangalore   \n",
       "29                                      Mumbai   \n",
       "\n",
       "                                      Investor's Name         Investment Type  \\\n",
       "0                                         Walmart Inc                     M&A   \n",
       "1                                   Coatue Management                Series D   \n",
       "2                                         021 Capital            pre-Series A   \n",
       "3   Matrix India,Y Combinator, Global Founders Cap...                    Seed   \n",
       "4                                    Recruit Co. Ltd.            pre-Series B   \n",
       "5            Adar Poonawalla and Kris Gopalakrishnan.  Venture-Series Unknown   \n",
       "6        Incubate Fund India and Beyond Next Ventures            pre-Series A   \n",
       "7                            Early Adapters Syndicate                    Seed   \n",
       "8               Raj Mishra, founder of AIT Global Inc                pre-Seed   \n",
       "9                              Unicorn India Ventures  Venture-Series Unknown   \n",
       "10                                        A1A Company                Series F   \n",
       "11         Prasid Uno Family Trust and SC Credit Fund                       -   \n",
       "12  One97, Sabre Partners Trust, Pratithi Investme...               Series D1   \n",
       "13                                   Existing Backers             In Progress   \n",
       "14  Stanford Angels and Entrepreneurs (India), BEE...                    Seed   \n",
       "15                                        Falcon Edge             In Progress   \n",
       "16                                Niyo Solutions Inc.                       -   \n",
       "17                            Primrose Hills Ventures                       -   \n",
       "18                                     Ascent Capital                 Venture   \n",
       "19                              Sequoia India, Unitus                Series A   \n",
       "20  Silver Lake, Tiger Global, General Atlantic an...          Private Equity   \n",
       "21  Amicus Capital Private Equity I LLP, Amicus Ca...                Series B   \n",
       "22                                 Rainmatter Capital                   Angel   \n",
       "23  Kalaari Capital Partners, IndigoEdge Managemen...                Series B   \n",
       "24  Alpha Wave Incubation, Exfinity Venture Partne...                Series A   \n",
       "25                         Shadow Holdings, Lightbox.          Debt Financing   \n",
       "26         Gaja Capital, Tata Capital, Partners Group             In Progress   \n",
       "27                                   Caretech Pte Inc                Series B   \n",
       "28         Lightspeed India and Sequoia Capital India                Series A   \n",
       "29                                  Chiratae Ventures                    Seed   \n",
       "\n",
       "     Amount(in USD)  \n",
       "0     1,200,000,000  \n",
       "1       100,000,000  \n",
       "2           934,160  \n",
       "3         1,700,000  \n",
       "4         3,300,000  \n",
       "5           400,000  \n",
       "6           974,200  \n",
       "7           292,800  \n",
       "8           200,000  \n",
       "9           500,000  \n",
       "10       32,000,000  \n",
       "11       23,000,000  \n",
       "12        1,560,000  \n",
       "13       30,000,000  \n",
       "14        1,400,000  \n",
       "15  upto 15,000,000  \n",
       "16        6,000,000  \n",
       "17       10,670,000  \n",
       "18       16,200,000  \n",
       "19        5,000,000  \n",
       "20      500,000,000  \n",
       "21        3,000,000  \n",
       "22          370,000  \n",
       "23       15,500,000  \n",
       "24        4,500,000  \n",
       "25   upto 8,900,000  \n",
       "26      100,000,000  \n",
       "27        5,400,000  \n",
       "28        8,000,000  \n",
       "29          950,000  "
      ]
     },
     "execution_count": 36,
     "metadata": {},
     "output_type": "execute_result"
    }
   ],
   "source": [
    "Startup = {'Date':date,'Startup Name':name,'Industry/Vertical':indstry,'Sub-Vertical':subvrt,'City/Location':city ,\"Investor's Name\":invname,'Investment Type':invtyp,'Amount(in USD)':amt}\n",
    "\n",
    "Startupdf  = pd.DataFrame(Startup)\n",
    "Startupdf"
   ]
  },
  {
   "cell_type": "code",
   "execution_count": null,
   "id": "935dd94f",
   "metadata": {},
   "outputs": [],
   "source": []
  },
  {
   "cell_type": "code",
   "execution_count": null,
   "id": "87680ae4",
   "metadata": {},
   "outputs": [],
   "source": []
  },
  {
   "cell_type": "code",
   "execution_count": null,
   "id": "86765659",
   "metadata": {},
   "outputs": [],
   "source": []
  },
  {
   "cell_type": "code",
   "execution_count": 40,
   "id": "4412c240",
   "metadata": {},
   "outputs": [
    {
     "name": "stdout",
     "output_type": "stream",
     "text": [
      "Enter Youtube video URL:https://www.youtube.com/watch?v=aWzlQ2N6qqg\n"
     ]
    }
   ],
   "source": [
    "url = input('Enter Youtube video URL:')"
   ]
  },
  {
   "cell_type": "code",
   "execution_count": 41,
   "id": "51b4905f",
   "metadata": {},
   "outputs": [],
   "source": [
    "driver = webdriver.Chrome(r'chromedriver.exe')\n",
    "driver.get(url)"
   ]
  },
  {
   "cell_type": "code",
   "execution_count": 43,
   "id": "5c5239c9",
   "metadata": {},
   "outputs": [],
   "source": [
    "i=0\n",
    "while(i<500):\n",
    "    driver.execute_script(\"window.scrollBy(0,500)\") # scroll down to get more comments\n",
    "    i+=1\n",
    "while(i<1000):\n",
    "    driver.execute_script(\"window.scrollBy(0,5000)\") # scroll down to get more comments\n",
    "    i+=1"
   ]
  },
  {
   "cell_type": "code",
   "execution_count": 44,
   "id": "1599e122",
   "metadata": {},
   "outputs": [],
   "source": [
    "cmt = []\n",
    "upvt = []\n",
    "cmttime = []"
   ]
  },
  {
   "cell_type": "code",
   "execution_count": 45,
   "id": "15249202",
   "metadata": {},
   "outputs": [],
   "source": [
    "cmt_tag = driver.find_elements_by_xpath(\"//*[@id='content-text']\")\n",
    "for i in cmt_tag:\n",
    "    cmt.append(i.text.replace(\"\\n\",''))\n",
    "\n",
    "upvt_tag = driver.find_elements_by_xpath(\"//*[@id='vote-count-middle']\")\n",
    "for j in upvt_tag:\n",
    "    try: \n",
    "        upvt.append(j.text)\n",
    "    except:\n",
    "        upvt.append('-')\n",
    "cmttime_tag = driver.find_elements_by_xpath(\"//*[@id='header-author']/yt-formatted-string/a\")\n",
    "for k in cmttime_tag:\n",
    "    try: \n",
    "        cmttime.append(k.text)\n",
    "    except:\n",
    "        cmttime.append('-')"
   ]
  },
  {
   "cell_type": "code",
   "execution_count": 46,
   "id": "c6166443",
   "metadata": {},
   "outputs": [
    {
     "data": {
      "text/plain": [
       "520"
      ]
     },
     "execution_count": 46,
     "metadata": {},
     "output_type": "execute_result"
    }
   ],
   "source": [
    "len(upvt)"
   ]
  },
  {
   "cell_type": "code",
   "execution_count": 47,
   "id": "d4d723b8",
   "metadata": {},
   "outputs": [
    {
     "data": {
      "text/plain": [
       "520"
      ]
     },
     "execution_count": 47,
     "metadata": {},
     "output_type": "execute_result"
    }
   ],
   "source": [
    "len(cmt)"
   ]
  },
  {
   "cell_type": "code",
   "execution_count": 48,
   "id": "c4f434a1",
   "metadata": {},
   "outputs": [
    {
     "data": {
      "text/plain": [
       "520"
      ]
     },
     "execution_count": 48,
     "metadata": {},
     "output_type": "execute_result"
    }
   ],
   "source": [
    "len(cmttime)"
   ]
  },
  {
   "cell_type": "code",
   "execution_count": 49,
   "id": "cbcf0a91",
   "metadata": {},
   "outputs": [],
   "source": [
    "for i in range(0,len(upvt)):\n",
    "    if upvt[i] == '': \n",
    "        upvt[i] = '-' # replacing empty string with '-'"
   ]
  },
  {
   "cell_type": "code",
   "execution_count": 50,
   "id": "10b7782d",
   "metadata": {},
   "outputs": [],
   "source": [
    "Youtube = {'Comment':cmt,'Commented':cmttime,'Number of upvotes':upvt}\n",
    "YoutubeDF = pd.DataFrame(Youtube)"
   ]
  },
  {
   "cell_type": "code",
   "execution_count": 51,
   "id": "8d3be997",
   "metadata": {},
   "outputs": [
    {
     "data": {
      "text/html": [
       "<div>\n",
       "<style scoped>\n",
       "    .dataframe tbody tr th:only-of-type {\n",
       "        vertical-align: middle;\n",
       "    }\n",
       "\n",
       "    .dataframe tbody tr th {\n",
       "        vertical-align: top;\n",
       "    }\n",
       "\n",
       "    .dataframe thead th {\n",
       "        text-align: right;\n",
       "    }\n",
       "</style>\n",
       "<table border=\"1\" class=\"dataframe\">\n",
       "  <thead>\n",
       "    <tr style=\"text-align: right;\">\n",
       "      <th></th>\n",
       "      <th>Comment</th>\n",
       "      <th>Commented</th>\n",
       "      <th>Number of upvotes</th>\n",
       "    </tr>\n",
       "  </thead>\n",
       "  <tbody>\n",
       "    <tr>\n",
       "      <th>0</th>\n",
       "      <td>That first trailer really held back. This trai...</td>\n",
       "      <td>3 weeks ago</td>\n",
       "      <td>40K</td>\n",
       "    </tr>\n",
       "    <tr>\n",
       "      <th>1</th>\n",
       "      <td>\"We should tell him the truth\" gave me the shi...</td>\n",
       "      <td>2 weeks ago</td>\n",
       "      <td>3.9K</td>\n",
       "    </tr>\n",
       "    <tr>\n",
       "      <th>2</th>\n",
       "      <td>I actually can’t wait for this looks insane 🔥🚀</td>\n",
       "      <td>13 days ago</td>\n",
       "      <td>1.8K</td>\n",
       "    </tr>\n",
       "    <tr>\n",
       "      <th>3</th>\n",
       "      <td>Only someone like Elizabeth Olsen can deliver ...</td>\n",
       "      <td>9 days ago (edited)</td>\n",
       "      <td>1.4K</td>\n",
       "    </tr>\n",
       "    <tr>\n",
       "      <th>4</th>\n",
       "      <td>Honestly though, hats off to Marvel for keepin...</td>\n",
       "      <td>10 days ago</td>\n",
       "      <td>1.9K</td>\n",
       "    </tr>\n",
       "    <tr>\n",
       "      <th>...</th>\n",
       "      <td>...</td>\n",
       "      <td>...</td>\n",
       "      <td>...</td>\n",
       "    </tr>\n",
       "    <tr>\n",
       "      <th>515</th>\n",
       "      <td>i am waiting for this from years why is it tak...</td>\n",
       "      <td>1 day ago</td>\n",
       "      <td>-</td>\n",
       "    </tr>\n",
       "    <tr>\n",
       "      <th>516</th>\n",
       "      <td>@Vailskibum94 Yes. I'm more of a fan of DC but...</td>\n",
       "      <td>3 days ago</td>\n",
       "      <td>-</td>\n",
       "    </tr>\n",
       "    <tr>\n",
       "      <th>517</th>\n",
       "      <td>Fun fact: Benedict Cumberbatchs’ mother, her f...</td>\n",
       "      <td>9 days ago</td>\n",
       "      <td>2</td>\n",
       "    </tr>\n",
       "    <tr>\n",
       "      <th>518</th>\n",
       "      <td>Sam Raimi is finally back ! Also I can't wait ...</td>\n",
       "      <td>3 weeks ago</td>\n",
       "      <td>661</td>\n",
       "    </tr>\n",
       "    <tr>\n",
       "      <th>519</th>\n",
       "      <td>They're teasing Stranges enemy Nightmare. He h...</td>\n",
       "      <td>2 weeks ago</td>\n",
       "      <td>1</td>\n",
       "    </tr>\n",
       "  </tbody>\n",
       "</table>\n",
       "<p>520 rows × 3 columns</p>\n",
       "</div>"
      ],
      "text/plain": [
       "                                               Comment            Commented  \\\n",
       "0    That first trailer really held back. This trai...          3 weeks ago   \n",
       "1    \"We should tell him the truth\" gave me the shi...          2 weeks ago   \n",
       "2       I actually can’t wait for this looks insane 🔥🚀          13 days ago   \n",
       "3    Only someone like Elizabeth Olsen can deliver ...  9 days ago (edited)   \n",
       "4    Honestly though, hats off to Marvel for keepin...          10 days ago   \n",
       "..                                                 ...                  ...   \n",
       "515  i am waiting for this from years why is it tak...            1 day ago   \n",
       "516  @Vailskibum94 Yes. I'm more of a fan of DC but...           3 days ago   \n",
       "517  Fun fact: Benedict Cumberbatchs’ mother, her f...           9 days ago   \n",
       "518  Sam Raimi is finally back ! Also I can't wait ...          3 weeks ago   \n",
       "519  They're teasing Stranges enemy Nightmare. He h...          2 weeks ago   \n",
       "\n",
       "    Number of upvotes  \n",
       "0                 40K  \n",
       "1                3.9K  \n",
       "2                1.8K  \n",
       "3                1.4K  \n",
       "4                1.9K  \n",
       "..                ...  \n",
       "515                 -  \n",
       "516                 -  \n",
       "517                 2  \n",
       "518               661  \n",
       "519                 1  \n",
       "\n",
       "[520 rows x 3 columns]"
      ]
     },
     "execution_count": 51,
     "metadata": {},
     "output_type": "execute_result"
    }
   ],
   "source": [
    "YoutubeDF"
   ]
  },
  {
   "cell_type": "code",
   "execution_count": null,
   "id": "48abee66",
   "metadata": {},
   "outputs": [],
   "source": []
  }
 ],
 "metadata": {
  "kernelspec": {
   "display_name": "Python 3",
   "language": "python",
   "name": "python3"
  },
  "language_info": {
   "codemirror_mode": {
    "name": "ipython",
    "version": 3
   },
   "file_extension": ".py",
   "mimetype": "text/x-python",
   "name": "python",
   "nbconvert_exporter": "python",
   "pygments_lexer": "ipython3",
   "version": "3.8.8"
  }
 },
 "nbformat": 4,
 "nbformat_minor": 5
}
