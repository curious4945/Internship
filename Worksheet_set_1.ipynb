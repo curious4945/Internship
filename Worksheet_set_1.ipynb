{
 "cells": [
  {
   "cell_type": "markdown",
   "id": "06400aa6",
   "metadata": {},
   "source": [
    "# Assignment -1"
   ]
  },
  {
   "cell_type": "markdown",
   "id": "d68ad7e1",
   "metadata": {},
   "source": [
    "# #11. Write a python program to find the factorial of a number."
   ]
  },
  {
   "cell_type": "code",
   "execution_count": 13,
   "id": "ebe3b733",
   "metadata": {},
   "outputs": [
    {
     "name": "stdout",
     "output_type": "stream",
     "text": [
      "Factorial of 7 is 5040\n"
     ]
    }
   ],
   "source": [
    "#Python program to find factorial of a given number.\n",
    "def factorial(n):\n",
    "     \n",
    "    # single line to find factorial\n",
    "    return 1 if (n==1 or n==0) else n * factorial(n - 1);\n",
    " \n",
    "\n",
    "num = 7;\n",
    "print(\"Factorial of\",num,\"is\",\n",
    "factorial(num))"
   ]
  },
  {
   "cell_type": "markdown",
   "id": "e95d65a5",
   "metadata": {},
   "source": [
    "# #12. Write a python program to find whether a number is prime or composite."
   ]
  },
  {
   "cell_type": "code",
   "execution_count": 14,
   "id": "4545adbd",
   "metadata": {},
   "outputs": [
    {
     "name": "stdout",
     "output_type": "stream",
     "text": [
      "Enter any number: 4545\n",
      "4545 is a composite number\n"
     ]
    }
   ],
   "source": [
    "#python program to find whether a number is prime or composite.\n",
    "n=int(input(\"Enter any number: \"))\n",
    "if (n==0 or n==1):\n",
    "    print(n,'Number is neither prime or composite')\n",
    "elif n>1:\n",
    "    for i in range (2,n):\n",
    "        if(n%i==0):\n",
    "            print(n,'is a composite number')\n",
    "            break\n",
    "else:\n",
    "    print(n,'is a prime number')\n"
   ]
  },
  {
   "cell_type": "code",
   "execution_count": 12,
   "id": "a814195c",
   "metadata": {},
   "outputs": [
    {
     "name": "stdout",
     "output_type": "stream",
     "text": [
      "Hypotenuse = 9.433981132056603\n",
      "Adjacent = 7.483314773547883\n",
      "Opposite = 4.123105625617661\n",
      "Here is the answer!\n"
     ]
    }
   ],
   "source": [
    "#Python program to get the third side of right-angled triangle.\n",
    "def pythagoras(opposite_side,adjacent_side,hypotenuse):\n",
    "        if opposite_side == str(\"x\"):\n",
    "            return (\"Opposite = \" + str(((hypotenuse**2) - (adjacent_side**2))**0.5))\n",
    "        elif adjacent_side == str(\"x\"):\n",
    "            return (\"Adjacent = \" + str(((hypotenuse**2) - (opposite_side**2))**0.5))\n",
    "        elif hypotenuse == str(\"x\"):\n",
    "            return (\"Hypotenuse = \" + str(((opposite_side**2) + (adjacent_side**2))**0.5))\n",
    "        else:\n",
    "            return \"Here is the answer!\"\n",
    "    \n",
    "print(pythagoras(5,8,'x'))\n",
    "print(pythagoras(5,'x',9))\n",
    "print(pythagoras('x',8,9))\n",
    "print(pythagoras(5,8,9)) # change the numbers and get the answer for all the 3 sides of a right angled triangle."
   ]
  },
  {
   "cell_type": "markdown",
   "id": "027ea4ee",
   "metadata": {},
   "source": [
    "# #13. Write a python program to check whether a given string is palindrome or not."
   ]
  },
  {
   "cell_type": "code",
   "execution_count": 16,
   "id": "c935fe74",
   "metadata": {},
   "outputs": [
    {
     "name": "stdout",
     "output_type": "stream",
     "text": [
      "Yes\n"
     ]
    }
   ],
   "source": [
    "# python program to check if the string is a paindrome r not?\n",
    "#for example:radar,madam,level,refer,etc\n",
    " \n",
    "\n",
    "x = \"madam\"\n",
    "\n",
    "w = \"\"\n",
    "for i in x:\n",
    "    w = i + w\n",
    "\n",
    "if (x == w):\n",
    "    print(\"Yes\")\n",
    "else:\n",
    "    print(\"No\")\n",
    "   "
   ]
  },
  {
   "cell_type": "markdown",
   "id": "8f94c972",
   "metadata": {},
   "source": [
    "# #14. Write a Python program to get the third side of right-angled triangle from two given sides."
   ]
  },
  {
   "cell_type": "markdown",
   "id": "f85272d0",
   "metadata": {},
   "source": [
    "# #15. Write a python program to print the frequency of each of the characters present in a given string."
   ]
  },
  {
   "cell_type": "code",
   "execution_count": 17,
   "id": "1880af44",
   "metadata": {},
   "outputs": [
    {
     "name": "stdout",
     "output_type": "stream",
     "text": [
      "Given String:  Manifestation\n",
      "Frequency of each character :\n",
      "  {'t': 2, 'i': 2, 's': 1, 'M': 1, 'f': 1, 'a': 2, 'n': 2, 'e': 1, 'o': 1}\n"
     ]
    }
   ],
   "source": [
    "#python program to print the frequency of each characters in the given string!\n",
    "strA = \"Manifestation\"    # Replace the words for desired results\n",
    "print(\"Given String: \",strA)\n",
    "\n",
    "res = {}\n",
    "\n",
    "res={n: strA.count(n) for n in set(strA)}\n",
    "\n",
    "# Result\n",
    "print(\"Frequency of each character :\\n \",res)"
   ]
  },
  {
   "cell_type": "code",
   "execution_count": null,
   "id": "7bf178ab",
   "metadata": {},
   "outputs": [],
   "source": []
  }
 ],
 "metadata": {
  "kernelspec": {
   "display_name": "Python 3",
   "language": "python",
   "name": "python3"
  },
  "language_info": {
   "codemirror_mode": {
    "name": "ipython",
    "version": 3
   },
   "file_extension": ".py",
   "mimetype": "text/x-python",
   "name": "python",
   "nbconvert_exporter": "python",
   "pygments_lexer": "ipython3",
   "version": "3.8.8"
  }
 },
 "nbformat": 4,
 "nbformat_minor": 5
}
